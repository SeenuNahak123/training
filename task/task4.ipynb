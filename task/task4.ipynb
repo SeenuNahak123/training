{
 "cells": [
  {
   "cell_type": "code",
   "execution_count": 9,
   "metadata": {},
   "outputs": [
    {
     "name": "stdout",
     "output_type": "stream",
     "text": [
      "YOUR GUESS IS WRONG\n"
     ]
    }
   ],
   "source": [
    "import random\n",
    "\n",
    "b=random.randint(1,10)\n",
    "\n",
    "while True:\n",
    "        '''Provide a num b/w 1-10 or 'exit' to exit the game:'''\n",
    "        a=input(\"Provide a num b/w 1-10 or 'exit' to exit the game:\")\n",
    "        if a=='exit':\n",
    "             break\n",
    "        elif not a.isdigit():\n",
    "            print(\"YOU ENTERED AN INVALID NUMBER\")\n",
    "        else:\n",
    "            if int(a)==b:\n",
    "                 print(\"YOUR GUESS IS CORRECT\")\n",
    "                 break\n",
    "            else:\n",
    "                 print(\"YOUR GUESS IS WRONG\")\n"
   ]
  },
  {
   "cell_type": "code",
   "execution_count": 14,
   "metadata": {},
   "outputs": [
    {
     "name": "stdout",
     "output_type": "stream",
     "text": [
      "15\n",
      "3.0\n",
      "5\n",
      "1\n"
     ]
    }
   ],
   "source": [
    "# Write a Python function that does the following:\n",
    "# • Accept a variable number of arguments.\n",
    "# • Return the following:\n",
    "# o Sum of all the numbers\n",
    "# o Average\n",
    "# o Maximum value\n",
    "# o Minimum value\n",
    "from functools import reduce\n",
    "def func(*args):\n",
    "    sum=reduce(lambda x,y:x+y,*args)\n",
    "    print(sum)\n",
    "    print(sum/len(*args))\n",
    "    print(max(*args))\n",
    "    print(min(*args))\n",
    "a=list(map(int,input().split()))\n",
    "func(a)\n"
   ]
  },
  {
   "cell_type": "code",
   "execution_count": 34,
   "metadata": {},
   "outputs": [],
   "source": [
    "# You are working for MNC Bank Ltd. There is a master file (dataCustomerAccountBalanceFIle.csv) containing \n",
    "# customer id and current balance in their accounts. We need to calculate basic interest at a rate of 4% per \n",
    "# annum. However, no interest is calculated if the current balance is less than 100.00. These cases must be \n",
    "# reported.\n",
    "# Write a Python program:\n",
    "# • Calculate interest for each account. Extend the above BankAccount class that will have a method \n",
    "# calculateInterest() to calculate interest and return the amount. If the current balance is less than \n",
    "# 100.00, then, interest is not calculated.\n",
    "# • Where interest is calculated, the customer id and the interest amount should be written to an output \n",
    "# file named InterestAmount.csv\n",
    "# • Where interest is not calculated, the customer id and the current balance amount should be written \n",
    "# to a DefaultCustomerFile.csv\n",
    "import csv\n",
    "\n",
    "with open(\"CustomerAccountBalanceFile.csv\",'r') as r,open('InterestAmount.csv','w',newline=\"\") as w1 , open('DefaultCustomerFile.csv','w',newline=\"\") as w2:\n",
    "    data=csv.reader(r)\n",
    "    b=list(data)\n",
    "    w_1=csv.writer(w1)\n",
    "    w_2=csv.writer(w2)\n",
    "    header=b[0]\n",
    "    w_1.writerow(header)\n",
    "    w_2.writerow(header)\n",
    "    class BankAccount:\n",
    "        def __init__(self,account_number,balance=0):\n",
    "            self.account_number=account_number\n",
    "            self.balance=balance\n",
    "        \n",
    "        def withdraw(self,a):\n",
    "            try:\n",
    "                if self.balance<a:\n",
    "                    raise ValueError\n",
    "            except ValueError:\n",
    "                print(f\"Insufficent Balance, Remaining balance is {self.balance}\\n\")\n",
    "            else:\n",
    "                self.balance-=a\n",
    "                self.get_balance()\n",
    "\n",
    "        def deposit(self,a):\n",
    "            self.balance+=a\n",
    "            self.get_balance()\n",
    "\n",
    "        def get_balance(self):\n",
    "            print(self.balance,'\\n')\n",
    "        \n",
    "        def calculateInterest(self):\n",
    "            if float(self.balance)<100:\n",
    "                c=f\"{self.account_number};{self.balance}\"\n",
    "                w_2.writerow([c])\n",
    "            else:\n",
    "                interest=(float(self.balance)/100)*4\n",
    "                d=f\"{self.account_number};{interest}\"\n",
    "                w_1.writerow([d])\n",
    "        \n",
    "    for i in b[1:]:\n",
    "        member=list(i[0].split(\";\"))\n",
    "        a=BankAccount(member[0],member[1])\n",
    "        a.calculateInterest()        \n",
    "\n",
    "    \n",
    "# sam=BankAccount(12345)\n",
    "# rio=BankAccount(12345)\n",
    "\n",
    "# sam.deposit(100)\n",
    "# rio.deposit(200)\n",
    "# sam.withdraw(20)\n",
    "# rio.withdraw(230)\n",
    "# sam.get_balance()"
   ]
  },
  {
   "cell_type": "code",
   "execution_count": null,
   "metadata": {},
   "outputs": [],
   "source": [
    "# Assignment 19: Files and Regex\n",
    "# Write a python program using regular expressions that does the following:\n",
    "# • Read lines from file A\n",
    "# • If the line begins with a capital letter:\n",
    "# o Write all the words in that line that start with a vowel to file B – one per line.\n",
    "# o Write all words that contain numbers to file C – one per line.\n",
    "# o Write all words that do not start or end with ‘a’ but contain ‘a’ to file D – one per line.\n",
    "# • Print the longest word in file A.\n",
    "# • Print the longest word in file B.\n"
   ]
  },
  {
   "cell_type": "code",
   "execution_count": 35,
   "metadata": {},
   "outputs": [],
   "source": [
    "# Assignment 20: Custom Queue\n",
    "# Create a custom queue implementation using Python lists that will support the following functionalities:\n",
    "# • Put (add item to queue)\n",
    "# • Get (remove item from queue)\n",
    "# • Get_size (get number of elements in the queue)\n",
    "# • Is_empty (return True if the queue does not contain any elements)\n",
    "# • Truncate (remove all elements from the queue)\n"
   ]
  },
  {
   "cell_type": "code",
   "execution_count": 36,
   "metadata": {},
   "outputs": [],
   "source": [
    "# Assignment 21: Custom Stack\n",
    "# Create a custom stack implementation using Python lists that will support the following functionalities:\n",
    "# • push (add item to stack)\n",
    "# • pop (remove item from stack)\n",
    "# • Get_size (get number of elements in the stack)\n",
    "# • Is_empty (return True if the stack does not contain any elements)\n",
    "# • Truncate (remove all elements from the stack"
   ]
  },
  {
   "cell_type": "code",
   "execution_count": 37,
   "metadata": {},
   "outputs": [],
   "source": [
    "# Assignment 22: Singly Linked List\n",
    "# Create a Singly Linked List"
   ]
  },
  {
   "cell_type": "code",
   "execution_count": 38,
   "metadata": {},
   "outputs": [],
   "source": [
    "# Assignment 23: Doubly Linked List\n",
    "# Create a Doubly Linked List \n"
   ]
  },
  {
   "cell_type": "code",
   "execution_count": null,
   "metadata": {},
   "outputs": [],
   "source": [
    "# Assignment 25: Shell Sort\n",
    "# Implement Shell Sort in Python\n",
    "# Print the following:\n",
    "# • Number of iterations.\n",
    "# • Number of comparisons\n",
    "# • Number of swaps\n"
   ]
  },
  {
   "cell_type": "code",
   "execution_count": null,
   "metadata": {},
   "outputs": [],
   "source": [
    "# Assignment 26: Merge Sort\n",
    "# Implement Merge Sort in Python\n",
    "# Print the following:\n",
    "# • Number of iterations.\n",
    "# • Number of comparisons\n",
    "# • Number of swaps\n"
   ]
  },
  {
   "cell_type": "code",
   "execution_count": null,
   "metadata": {},
   "outputs": [],
   "source": [
    "# Assignment 27: Quick Sort\n",
    "# Implement Quick Sort in Python\n",
    "# Print the following:\n",
    "# • Number of iterations.\n",
    "# • Number of comparisons\n",
    "# • Number of swaps\n"
   ]
  },
  {
   "cell_type": "code",
   "execution_count": null,
   "metadata": {},
   "outputs": [],
   "source": [
    "# You are working at MNC Bank Ltd.\n",
    "# There are a few datasets:\n",
    "# • A bank account balance file (data/CustomerAccountBalanceFile.csv). It contains customer id and \n",
    "# the current balance.\n",
    "# • A bank account transaction file (data/CustomerAccountTrasnactionFile.csv). It contains multiple \n",
    "# transactions per customer.\n",
    "# You need to do the following:\n",
    "# • For each customer in the customer balance file:\n",
    "# o Calculate the total transaction amount.\n",
    "# o Update total transaction amount to the existing balance.\n",
    "# o Write the new balance to the a customer account balance file.\n",
    "# o If the final balance is less than 100.00, write a record to the WARNING file with the \n",
    "# customer id and the updated balance.\n",
    "# o If the final balance is less than 0.00, write a record to the ERROR file with the customer id \n",
    "# and the updated balance.\n",
    "# o If the final balance is greater than 60000.00, write a record to the PATRON file with the \n",
    "# customer id and the updated balance.\n",
    "# o Sort the final balance file in the descending order of updated balance"
   ]
  }
 ],
 "metadata": {
  "kernelspec": {
   "display_name": "Python 3",
   "language": "python",
   "name": "python3"
  },
  "language_info": {
   "codemirror_mode": {
    "name": "ipython",
    "version": 3
   },
   "file_extension": ".py",
   "mimetype": "text/x-python",
   "name": "python",
   "nbconvert_exporter": "python",
   "pygments_lexer": "ipython3",
   "version": "3.13.0"
  }
 },
 "nbformat": 4,
 "nbformat_minor": 2
}
