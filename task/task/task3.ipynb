{
 "cells": [
  {
   "cell_type": "code",
   "execution_count": 82,
   "id": "2e78b567",
   "metadata": {},
   "outputs": [
    {
     "name": "stdout",
     "output_type": "stream",
     "text": [
      "[0, 2, 5, 12, 21, 25, 32, 43, 45, 53, 64]\n"
     ]
    }
   ],
   "source": [
    "# 1.Conditional Execution and Loops \n",
    "# Write a Python program that takes a list of integers as input and performs the following:\n",
    "# - Removes all duplicate values.\n",
    "# - Sorts the list in ascending order using the bubble sort algorithm. \n",
    "# - Prints the sorted list.\n",
    "\n",
    "\n",
    "\n",
    "def duplicate(a):\n",
    "    l=[]\n",
    "    for i in a:\n",
    "        if i not in l:\n",
    "            l.append(i)\n",
    "    return l\n",
    "def bubble_sort(a):\n",
    "    c=len(a)\n",
    "    while c>1:\n",
    "        for i in range(0,c-1):\n",
    "            if a[i]>a[i+1]:\n",
    "                a[i],a[i+1]=a[i+1],a[i]\n",
    "        c-=1\n",
    "    return a\n",
    "a=[12,32,53,25,64,2,64,5,43,21,45,25,0]\n",
    "a=duplicate(a)\n",
    "a=bubble_sort(a)\n",
    "print(a)\n"
   ]
  },
  {
   "cell_type": "code",
   "execution_count": 90,
   "id": "3248d726",
   "metadata": {},
   "outputs": [
    {
     "name": "stdout",
     "output_type": "stream",
     "text": [
      "higest 80 is scored by ['abc', 'ijk']\n",
      "higest 90 is scored by ijk\n"
     ]
    }
   ],
   "source": [
    "# 2.Functions and Dictionaries \n",
    "# Create a Python function that takes a dictionary as input, where keys are student names and values are their \n",
    "# scores. The function should:\n",
    "# - Return the name of the student with the highest score.\n",
    "# - If there are multiple students with the same highest score, return all their names in a list.\n",
    "\n",
    "\n",
    "def highest(a):\n",
    "    h=max(a.values())\n",
    "    h_name=[]\n",
    "    for i in a.keys():\n",
    "        if a[i]==h:\n",
    "            h_name.append(i)\n",
    "    return \"higest {} is scored by {}\".format(h,h_name if len(h_name)>1 else h_name[0])\n",
    "    \n",
    "a={'abc':80,'xyz':20,'ijk':80,'efg':50}\n",
    "b={'abc':40,'xyz':20,'ijk':90,'efg':50}\n",
    "print(highest(a))\n",
    "print(highest(b))"
   ]
  },
  {
   "cell_type": "code",
   "execution_count": 145,
   "id": "5d528023",
   "metadata": {},
   "outputs": [
    {
     "name": "stdout",
     "output_type": "stream",
     "text": [
      "Counter({'the': 17, 'of': 9, 'The': 6, 'a': 4, 'as': 3, 'with': 3, 'was': 2, 'in': 2, 'and': 2, 'through': 2, 'sound': 2, 'on': 2, 'smell': 2, 'fresh': 2, 'against': 2, 'its': 2, 'sky': 1, 'painted': 1, 'hues': 1, 'pink': 1, 'orange': 1, 'sun': 1, 'began': 1, 'to': 1, 'set.': 1, 'She': 1, 'walked': 1, 'door': 1, 'smile': 1, 'that': 1, 'could': 1, 'light': 1, 'up': 1, 'whole': 1, 'room.': 1, 'laughter': 1, 'echoed': 1, 'park': 1, 'children': 1, 'played': 1, 'swings.': 1, 'Every': 1, 'morning,': 1, 'coffee': 1, 'filled': 1, 'air,': 1, 'signaling': 1, 'start': 1, 'new': 1, 'day.': 1, 'city': 1, 'streets': 1, 'were': 1, 'busy,': 1, 'bustling': 1, 'life': 1, 'hum': 1, 'conversation.': 1, 'He': 1, 'looked': 1, 'out': 1, 'window,': 1, 'lost': 1, 'thought,': 1, 'rain': 1, 'gently': 1, 'tapped': 1, 'glass.': 1, 'bread': 1, 'baking': 1, 'wafted': 1, 'from': 1, 'kitchen,': 1, 'making': 1, 'everyone': 1, 'hungry.': 1, 'A': 1, 'gentle': 1, 'breeze': 1, 'rustled': 1, 'leaves': 1, 'trees,': 1, 'creating': 1, 'soothing': 1, 'melody.': 1, 'old': 1, 'book': 1, 'sat': 1, 'shelf,': 1, 'pages': 1, 'yellowed': 1, 'time': 1, 'but': 1, 'story': 1, 'still': 1, 'vivid.': 1, 'distant': 1, 'waves': 1, 'crashing': 1, 'shore': 1, 'constant': 1, 'reminder': 1, 'natureâ€™s': 1, 'power.': 1})\n"
     ]
    }
   ],
   "source": [
    "# 3.Modules and Exception Handling \n",
    "# Write a Python program that reads a text file and counts the number of occurrences of each word.\n",
    "# - Use the collections.Counter module to count word frequencies.\n",
    "# - Handle exceptions for file not found or empty file scenarios.\n",
    "\n",
    "import collections\n",
    "try:\n",
    "    with open('new2.txt','r') as r:\n",
    "        file=r.read()\n",
    "        if len(file)==0:\n",
    "            raise Exception\n",
    "    a=list(file.split())\n",
    "    print(collections.Counter(a))\n",
    "except FileNotFoundError:\n",
    "    print(\"File not found\")\n",
    "except Exception:\n",
    "    print(\"File is empty\")\n",
    "\n",
    "\n"
   ]
  },
  {
   "cell_type": "code",
   "execution_count": 110,
   "id": "978a882c",
   "metadata": {},
   "outputs": [
    {
     "name": "stdout",
     "output_type": "stream",
     "text": [
      "Invalid\n"
     ]
    }
   ],
   "source": [
    "# 4.Regex\n",
    "# Write a Python program using regular expressions to validate email addresses.\n",
    "# - The program should check if the input string matches the format of a valid email (e.g., \n",
    "# username@domain.com).\n",
    "# - Print \"Valid\" if the email is correct, otherwise print \"Invalid\".\n",
    "\n",
    "import re\n",
    "pattern= re.compile(r'''\n",
    "    ^                       \n",
    "    [A-Za-z0-9._%+-]+       \n",
    "    @                       \n",
    "    [A-Za-z0-9.-]+          \n",
    "    \\.                      \n",
    "    [A-Za-z]{2,}            \n",
    "    $                       \n",
    "''',re.VERBOSE)\n",
    "\n",
    "text=input(\"Provide email:\")\n",
    "\n",
    "match=pattern.match(text)\n",
    "print(\"Valid\" if match else \"Invalid\")"
   ]
  },
  {
   "cell_type": "code",
   "execution_count": null,
   "id": "487c847c",
   "metadata": {},
   "outputs": [
    {
     "name": "stdout",
     "output_type": "stream",
     "text": [
      "{'employees1': {'name': 'Alice Johnson', 'age': 22, 'department': 'Marketing'}, 'employees2': {'name': 'Bob Smith', 'age': 45, 'department': 'Engineering'}, 'employees3': {'name': 'Charlie Brown', 'age': 24, 'department': 'Human Resources'}, 'employees4': {'name': 'Diana Green', 'age': 35, 'department': 'Sales'}, 'employees5': {'name': 'Edward White', 'age': 40, 'department': 'Finance'}}\n",
      "{'employees2': {'name': 'Bob Smith', 'age': 45, 'department': 'Engineering'}, 'employees4': {'name': 'Diana Green', 'age': 35, 'department': 'Sales'}, 'employees5': {'name': 'Edward White', 'age': 40, 'department': 'Finance'}}\n"
     ]
    }
   ],
   "source": [
    "# 5. Data Serialization with JSON \n",
    "# Write a Python program that:\n",
    "# - Reads a JSON file containing a list of employees with their details (name, age, department).\n",
    "# - Filters out employees who are under 25 years old.\n",
    "# - Writes the filtered list back to a new JSON file.\n",
    "\n",
    "import json\n",
    "\n",
    "with open('employee.json','r') as r:\n",
    "    employee_details=json.load(r)\n",
    "new_employee_details={}\n",
    "print(employee_details)\n",
    "\n",
    "for i in employee_details:\n",
    "    if employee_details[i]['age']>=25:\n",
    "        new_employee_details[i]=employee_details[i]\n",
    "print(new_employee_details)\n",
    "\n",
    "with open('new_employee.json','w') as w:\n",
    "    json.dump(new_employee_details,w,indent=4)"
   ]
  },
  {
   "cell_type": "code",
   "execution_count": 44,
   "id": "5e4b45bb",
   "metadata": {},
   "outputs": [
    {
     "data": {
      "text/plain": [
       "[64, 64, 32, 12, 2]"
      ]
     },
     "execution_count": 44,
     "metadata": {},
     "output_type": "execute_result"
    }
   ],
   "source": [
    "# 6. List Comprehension and Sorting:\n",
    "# Write a Python program that takes a list of integers and returns a new list containing only the even \n",
    "# numbers, sorted in descending order. Use list comprehension and the sorted() function.\n",
    "\n",
    "\n",
    "a=[12,32,53,25,64,2,64,5,43,21,45,25]\n",
    "b=[x for x in sorted(a,reverse=True) if x%2==0]\n",
    "b\n"
   ]
  },
  {
   "cell_type": "code",
   "execution_count": null,
   "id": "9eb97954",
   "metadata": {},
   "outputs": [
    {
     "data": {
      "text/plain": [
       "{'a': 1, 'e': 5, 'g': 7}"
      ]
     },
     "execution_count": 50,
     "metadata": {},
     "output_type": "execute_result"
    }
   ],
   "source": [
    "# 7.Dictionary Manipulation:\n",
    "# Create a dictionary where the keys are the first 10 letters of the alphabet and the values are their \n",
    "# corresponding positions (e.g., {'a': 1, 'b': 2, ...}). Write a function that takes this dictionary and a list of \n",
    "# letters, and returns a new dictionary with only the keys that are in the list.\n",
    "\n",
    "def present(di,li):\n",
    "    new_li={}\n",
    "    for i in li:\n",
    "        if i in di:\n",
    "            new_li[i]=di[i]\n",
    "    return dict(sorted(new_li.items(),key=lambda ele:ele[0]))\n",
    "\n",
    "di={'a':1,'b':2,'c':3,'d':4,'e':5,'f':6,'g':7,'h':8,'i':9,'j':10}\n",
    "li=['g','q','z','e','a','k']\n",
    "present(di,li)\n",
    "\n",
    "\n"
   ]
  },
  {
   "cell_type": "code",
   "execution_count": 139,
   "id": "24215dad",
   "metadata": {},
   "outputs": [
    {
     "name": "stdout",
     "output_type": "stream",
     "text": [
      "10\n",
      "150\n",
      "827\n",
      "No such file\n",
      "Not readable\n"
     ]
    }
   ],
   "source": [
    "# # 8. File Handling and Exception Handling:\n",
    "# # Write a Python program that reads a text file and counts the number of lines, words, and characters in \n",
    "# # the file. Ensure your program handles exceptions such as the file not existing or being unreadable.\n",
    "for i in [['new2.txt','r'],['new3.txt','r'],['new4.txt','w']]:\n",
    "    try:\n",
    "        with open(i[0],i[1]) as r:\n",
    "                r2=r.readlines()\n",
    "        print(len(r2))\n",
    "        count,count_w=0,0\n",
    "        for i in r2:\n",
    "            a=i.split()\n",
    "            count_w+=len(a)\n",
    "            count+=len(i)\n",
    "        print(count_w)\n",
    "        print(count)\n",
    "    except FileNotFoundError:\n",
    "        print(\"No such file\")\n",
    "\n",
    "    except IOError:\n",
    "        print(\"Not readable\")\n",
    "\n",
    "\n",
    "\n",
    "\n"
   ]
  },
  {
   "cell_type": "code",
   "execution_count": null,
   "id": "900b05d8",
   "metadata": {},
   "outputs": [
    {
     "data": {
      "text/plain": [
       "['support@example.com',\n",
       " 'john.doe@company.org',\n",
       " 'partners@business.co.uk',\n",
       " 'media.relations@newsnet.io',\n",
       " 'tech_help123@service.net',\n",
       " 'info@website.com']"
      ]
     },
     "execution_count": 108,
     "metadata": {},
     "output_type": "execute_result"
    }
   ],
   "source": [
    "# 9. Regular Expressions:\n",
    "# Write a Python function that takes a string and returns a list of all email addresses found within the \n",
    "# string. Use regular expressions to identify the email addresses.\n",
    "import re\n",
    "def all_mail(a):\n",
    "    pattern=re.compile(r'[A-Za-z0-9._%+-]+@[A-Za-z0-9.-]+\\.[A-Za-z]{2,}')\n",
    "    return pattern.findall(para)\n",
    "\n",
    "para='''If you have any questions, feel free to reach out to our support\n",
    " team at support@example.com or contact John directly at john.doe@company.org.\n",
    " For partnership inquiries, email partners@business.co.uk, and media requests\n",
    " can be sent to media.relations@newsnet.io. If you\\'re having trouble with your\n",
    " account, you can also try reaching our technical team at tech_help123@service.net\n",
    " or our general inbox at info@website.com.'''\n",
    "\n",
    "all_mail(para)\n"
   ]
  },
  {
   "cell_type": "code",
   "execution_count": 81,
   "id": "032255cb",
   "metadata": {},
   "outputs": [
    {
     "name": "stdout",
     "output_type": "stream",
     "text": [
      "100 \n",
      "\n",
      "200 \n",
      "\n",
      "80 \n",
      "\n",
      "Insufficent Balance, Remaining balance is 200\n",
      "\n",
      "80 \n",
      "\n"
     ]
    }
   ],
   "source": [
    "# 10. Object-Oriented Programming:\n",
    "# Create a class BankAccount with attributes account_number, balance, and methods \n",
    "# deposit(amount), withdraw(amount), and get_balance(). Ensure that the withdraw method raises an \n",
    "# exception if the withdrawal amount is greater than the balance\n",
    "\n",
    "\n",
    "class BankAccount:\n",
    "    def __init__(self,account_number,balance=0):\n",
    "        self.account_number=account_number\n",
    "        self.balance=balance\n",
    "    \n",
    "    def withdraw(self,a):\n",
    "        try:\n",
    "            if self.balance<a:\n",
    "                raise ValueError\n",
    "        except ValueError:\n",
    "            print(f\"Insufficent Balance, Remaining balance is {self.balance}\\n\")\n",
    "        else:\n",
    "            self.balance-=a\n",
    "            self.get_balance()\n",
    "\n",
    "    def deposit(self,a):\n",
    "        self.balance+=a\n",
    "        self.get_balance()\n",
    "\n",
    "    def get_balance(self):\n",
    "        print(self.balance,'\\n')\n",
    "    \n",
    "sam=BankAccount(12345)\n",
    "rio=BankAccount(12345)\n",
    "\n",
    "sam.deposit(100)\n",
    "rio.deposit(200)\n",
    "sam.withdraw(20)\n",
    "rio.withdraw(230)\n",
    "sam.get_balance()\n"
   ]
  },
  {
   "cell_type": "code",
   "execution_count": null,
   "id": "d419573c",
   "metadata": {},
   "outputs": [],
   "source": []
  }
 ],
 "metadata": {
  "kernelspec": {
   "display_name": "Python 3",
   "language": "python",
   "name": "python3"
  },
  "language_info": {
   "codemirror_mode": {
    "name": "ipython",
    "version": 3
   },
   "file_extension": ".py",
   "mimetype": "text/x-python",
   "name": "python",
   "nbconvert_exporter": "python",
   "pygments_lexer": "ipython3",
   "version": "3.12.3"
  }
 },
 "nbformat": 4,
 "nbformat_minor": 5
}
