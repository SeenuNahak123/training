{
 "cells": [
  {
   "cell_type": "code",
   "execution_count": 1,
   "id": "4021c6c4",
   "metadata": {},
   "outputs": [],
   "source": [
    "import requests\n",
    "import time\n",
    "\n",
    "BASE_URL = \"http://127.0.0.1:8000\"  # FastAPI default URL\n",
    "\n",
    "\n",
    "def get_all_todos():\n",
    "    \"\"\"Retrieve all todos\"\"\"\n",
    "    response = requests.get(f\"{BASE_URL}/todos\")\n",
    "    print(\"GET /todos:\", response.status_code, response.json())"
   ]
  },
  {
   "cell_type": "code",
   "execution_count": 2,
   "id": "caaa3666",
   "metadata": {},
   "outputs": [],
   "source": [
    "def get_single_todo(todo_id):\n",
    "    \"\"\"Retrieve a single todo by ID\"\"\"\n",
    "    response = requests.get(f\"{BASE_URL}/todos/{todo_id}\")\n",
    "    print(f\"GET /todos/{todo_id}:\", response.status_code, response.json())"
   ]
  },
  {
   "cell_type": "code",
   "execution_count": 3,
   "id": "d6010fc9",
   "metadata": {},
   "outputs": [],
   "source": [
    "def create_todo(todo_name, todo_description):\n",
    "    \"\"\"Create a new todo\"\"\"\n",
    "    new_todo = {\n",
    "        \"todo_name\": todo_name,\n",
    "        \"todo_description\": todo_description\n",
    "    }\n",
    "    response = requests.post(f\"{BASE_URL}/todos\", json=new_todo)\n",
    "    print(\"POST /todos:\", response.status_code, response.json())\n",
    "    return response.json().get(\"todo\", {}).get(\"todo_id\")"
   ]
  },
  {
   "cell_type": "code",
   "execution_count": 4,
   "id": "a9830c20",
   "metadata": {},
   "outputs": [],
   "source": [
    "def update_todo(todo_id, new_name, new_description):\n",
    "    \"\"\"Update an existing todo\"\"\"\n",
    "    updated_todo = {\n",
    "        \"todo_name\": new_name,\n",
    "        \"todo_description\": new_description\n",
    "    }\n",
    "    response = requests.put(f\"{BASE_URL}/todos/{todo_id}\", json=updated_todo)\n",
    "    print(f\"PUT /todos/{todo_id}:\", response.status_code, response.json())"
   ]
  },
  {
   "cell_type": "code",
   "execution_count": 5,
   "id": "d0280543",
   "metadata": {},
   "outputs": [],
   "source": [
    "def delete_todo(todo_id):\n",
    "    \"\"\"Delete a todo\"\"\"\n",
    "    response = requests.delete(f\"{BASE_URL}/todos/{todo_id}\")\n",
    "    print(f\"DELETE /todos/{todo_id}:\", response.status_code, response.json())"
   ]
  },
  {
   "cell_type": "code",
   "execution_count": 6,
   "id": "a5e5568a",
   "metadata": {},
   "outputs": [
    {
     "name": "stdout",
     "output_type": "stream",
     "text": [
      "GET /todos: 200 [{'todo_id': 1, 'todo_name': 'Shopping', 'todo_description': 'Shop for < 500'}, {'todo_id': 2, 'todo_name': 'Class', 'todo_description': 'Class at 6pm'}, {'todo_id': 3, 'todo_name': 'Movie', 'todo_description': 'movie at 12pm'}, {'todo_id': 4, 'todo_name': 'Meet', 'todo_description': 'contact your vendor'}, {'todo_id': 5, 'todo_name': 'Check_deleviry', 'todo_description': 'product delivery'}]\n"
     ]
    }
   ],
   "source": [
    "get_all_todos()"
   ]
  },
  {
   "cell_type": "code",
   "execution_count": 7,
   "id": "e808ef97",
   "metadata": {},
   "outputs": [
    {
     "name": "stdout",
     "output_type": "stream",
     "text": [
      "POST /todos: 200 {'todo_id': 6, 'todo_name': 'Test Task', 'todo_description': 'This is a test task created via API'}\n"
     ]
    }
   ],
   "source": [
    "new_todo_id = create_todo(\"Test Task\", \"This is a test task created via API\")"
   ]
  },
  {
   "cell_type": "code",
   "execution_count": 8,
   "id": "6d032eda",
   "metadata": {},
   "outputs": [
    {
     "name": "stdout",
     "output_type": "stream",
     "text": [
      "GET /todos: 200 [{'todo_id': 1, 'todo_name': 'Shopping', 'todo_description': 'Shop for < 500'}, {'todo_id': 2, 'todo_name': 'Class', 'todo_description': 'Class at 6pm'}, {'todo_id': 3, 'todo_name': 'Movie', 'todo_description': 'movie at 12pm'}, {'todo_id': 4, 'todo_name': 'Meet', 'todo_description': 'contact your vendor'}, {'todo_id': 5, 'todo_name': 'Check_deleviry', 'todo_description': 'product delivery'}, {'todo_id': 6, 'todo_name': 'Test Task', 'todo_description': 'This is a test task created via API'}]\n"
     ]
    }
   ],
   "source": [
    "get_all_todos()"
   ]
  },
  {
   "cell_type": "code",
   "execution_count": 9,
   "id": "e20a2795",
   "metadata": {},
   "outputs": [
    {
     "name": "stdout",
     "output_type": "stream",
     "text": [
      "PUT /todos/None: 422 {'detail': [{'type': 'int_parsing', 'loc': ['path', 'todo_id'], 'msg': 'Input should be a valid integer, unable to parse string as an integer', 'input': 'None'}]}\n"
     ]
    }
   ],
   "source": [
    "update_todo(new_todo_id, \"Updated Task\", \"Updated description for the task\")"
   ]
  },
  {
   "cell_type": "code",
   "execution_count": 10,
   "id": "f7d99fae",
   "metadata": {},
   "outputs": [
    {
     "name": "stdout",
     "output_type": "stream",
     "text": [
      "DELETE /todos/None: 422 {'detail': [{'type': 'int_parsing', 'loc': ['path', 'todo_id'], 'msg': 'Input should be a valid integer, unable to parse string as an integer', 'input': 'None'}]}\n"
     ]
    }
   ],
   "source": [
    "delete_todo(new_todo_id)"
   ]
  },
  {
   "cell_type": "code",
   "execution_count": null,
   "id": "bccaee13",
   "metadata": {},
   "outputs": [
    {
     "name": "stdout",
     "output_type": "stream",
     "text": [
      "<class 'int'>\n"
     ]
    }
   ],
   "source": [
    "# inf = 0\n",
    "print(type(inf))"
   ]
  },
  {
   "cell_type": "code",
   "execution_count": 15,
   "id": "44711829",
   "metadata": {},
   "outputs": [
    {
     "name": "stdout",
     "output_type": "stream",
     "text": [
      "<class 'int'>\n"
     ]
    }
   ],
   "source": [
    "print(type(inf))"
   ]
  },
  {
   "cell_type": "code",
   "execution_count": 16,
   "id": "d8e2ceba",
   "metadata": {},
   "outputs": [
    {
     "data": {
      "text/plain": [
       "2"
      ]
     },
     "execution_count": 16,
     "metadata": {},
     "output_type": "execute_result"
    }
   ],
   "source": [
    "def f():\n",
    "    try:\n",
    "        return 1\n",
    "    finally:\n",
    "        return 2\n",
    "f()"
   ]
  }
 ],
 "metadata": {
  "kernelspec": {
   "display_name": "Python 3",
   "language": "python",
   "name": "python3"
  },
  "language_info": {
   "codemirror_mode": {
    "name": "ipython",
    "version": 3
   },
   "file_extension": ".py",
   "mimetype": "text/x-python",
   "name": "python",
   "nbconvert_exporter": "python",
   "pygments_lexer": "ipython3",
   "version": "3.12.3"
  }
 },
 "nbformat": 4,
 "nbformat_minor": 5
}
