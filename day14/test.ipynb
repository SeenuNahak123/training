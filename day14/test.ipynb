{
 "cells": [
  {
   "cell_type": "code",
   "execution_count": 14,
   "id": "d70dd92d",
   "metadata": {},
   "outputs": [
    {
     "ename": "NoSuchElementException",
     "evalue": "Message: no such element: Unable to locate element: {\"method\":\"css selector\",\"selector\":\"[id=\"\"]\"}\n  (Session info: MicrosoftEdge=135.0.3179.73); For documentation on this error, please visit: https://www.selenium.dev/documentation/webdriver/troubleshooting/errors#no-such-element-exception\nStacktrace:\n\tGetHandleVerifier [0x00007FF702CBEE65+16773]\n\tMicrosoft::Applications::Events::ILogConfiguration::operator* [0x00007FF702C1F130+402672]\n\tMicrosoft::Applications::Events::EventProperty::to_string [0x00007FF702F14BDA+1818314]\n\t(No symbol) [0x00007FF702A57B86]\n\t(No symbol) [0x00007FF702A57E6B]\n\t(No symbol) [0x00007FF702A98C77]\n\t(No symbol) [0x00007FF702A78F0F]\n\t(No symbol) [0x00007FF702A4DF8D]\n\t(No symbol) [0x00007FF702A96658]\n\t(No symbol) [0x00007FF702A78C33]\n\t(No symbol) [0x00007FF702A4D4D6]\n\t(No symbol) [0x00007FF702A4CA82]\n\t(No symbol) [0x00007FF702A4D303]\n\t(No symbol) [0x00007FF702B4060D]\n\t(No symbol) [0x00007FF702B4D642]\n\t(No symbol) [0x00007FF702B45673]\n\tMicrosoft::Applications::Events::EventProperty::to_string [0x00007FF702D99BAA+265882]\n\tMicrosoft::Applications::Events::ILogConfiguration::operator* [0x00007FF702C2C581+457025]\n\tMicrosoft::Applications::Events::ILogConfiguration::operator* [0x00007FF702C25834+429044]\n\tMicrosoft::Applications::Events::ILogConfiguration::operator* [0x00007FF702C25983+429379]\n\tMicrosoft::Applications::Events::ILogConfiguration::operator* [0x00007FF702C17486+370758]\n\tBaseThreadInitThunk [0x00007FFCB07B7374+20]\n\tRtlUserThreadStart [0x00007FFCB0EBCC91+33]\n",
     "output_type": "error",
     "traceback": [
      "\u001b[31m---------------------------------------------------------------------------\u001b[39m",
      "\u001b[31mNoSuchElementException\u001b[39m                    Traceback (most recent call last)",
      "\u001b[36mCell\u001b[39m\u001b[36m \u001b[39m\u001b[32mIn[14]\u001b[39m\u001b[32m, line 39\u001b[39m\n\u001b[32m     36\u001b[39m item_prices=driver.find_elements(By.CLASS_NAME, \u001b[33m\"\u001b[39m\u001b[33minventory_item\u001b[39m\u001b[33m\"\u001b[39m)\n\u001b[32m     37\u001b[39m a=item_prices[\u001b[32m0\u001b[39m].get_attribute(\u001b[33m'\u001b[39m\u001b[33mid\u001b[39m\u001b[33m'\u001b[39m)\n\u001b[32m---> \u001b[39m\u001b[32m39\u001b[39m cheapest=\u001b[43mdriver\u001b[49m\u001b[43m.\u001b[49m\u001b[43mfind_element\u001b[49m\u001b[43m(\u001b[49m\u001b[43mBy\u001b[49m\u001b[43m.\u001b[49m\u001b[43mID\u001b[49m\u001b[43m,\u001b[49m\u001b[43ma\u001b[49m\u001b[43m)\u001b[49m\n\u001b[32m     40\u001b[39m cheapest.click()\n",
      "\u001b[36mFile \u001b[39m\u001b[32m~\\AppData\\Roaming\\Python\\Python312\\site-packages\\selenium\\webdriver\\remote\\webdriver.py:898\u001b[39m, in \u001b[36mWebDriver.find_element\u001b[39m\u001b[34m(self, by, value)\u001b[39m\n\u001b[32m    895\u001b[39m         \u001b[38;5;28;01mraise\u001b[39;00m NoSuchElementException(\u001b[33mf\u001b[39m\u001b[33m\"\u001b[39m\u001b[33mCannot locate relative element with: \u001b[39m\u001b[38;5;132;01m{\u001b[39;00mby.root\u001b[38;5;132;01m}\u001b[39;00m\u001b[33m\"\u001b[39m)\n\u001b[32m    896\u001b[39m     \u001b[38;5;28;01mreturn\u001b[39;00m elements[\u001b[32m0\u001b[39m]\n\u001b[32m--> \u001b[39m\u001b[32m898\u001b[39m \u001b[38;5;28;01mreturn\u001b[39;00m \u001b[38;5;28;43mself\u001b[39;49m\u001b[43m.\u001b[49m\u001b[43mexecute\u001b[49m\u001b[43m(\u001b[49m\u001b[43mCommand\u001b[49m\u001b[43m.\u001b[49m\u001b[43mFIND_ELEMENT\u001b[49m\u001b[43m,\u001b[49m\u001b[43m \u001b[49m\u001b[43m{\u001b[49m\u001b[33;43m\"\u001b[39;49m\u001b[33;43musing\u001b[39;49m\u001b[33;43m\"\u001b[39;49m\u001b[43m:\u001b[49m\u001b[43m \u001b[49m\u001b[43mby\u001b[49m\u001b[43m,\u001b[49m\u001b[43m \u001b[49m\u001b[33;43m\"\u001b[39;49m\u001b[33;43mvalue\u001b[39;49m\u001b[33;43m\"\u001b[39;49m\u001b[43m:\u001b[49m\u001b[43m \u001b[49m\u001b[43mvalue\u001b[49m\u001b[43m}\u001b[49m\u001b[43m)\u001b[49m[\u001b[33m\"\u001b[39m\u001b[33mvalue\u001b[39m\u001b[33m\"\u001b[39m]\n",
      "\u001b[36mFile \u001b[39m\u001b[32m~\\AppData\\Roaming\\Python\\Python312\\site-packages\\selenium\\webdriver\\remote\\webdriver.py:429\u001b[39m, in \u001b[36mWebDriver.execute\u001b[39m\u001b[34m(self, driver_command, params)\u001b[39m\n\u001b[32m    427\u001b[39m response = \u001b[38;5;28mself\u001b[39m.command_executor.execute(driver_command, params)\n\u001b[32m    428\u001b[39m \u001b[38;5;28;01mif\u001b[39;00m response:\n\u001b[32m--> \u001b[39m\u001b[32m429\u001b[39m     \u001b[38;5;28;43mself\u001b[39;49m\u001b[43m.\u001b[49m\u001b[43merror_handler\u001b[49m\u001b[43m.\u001b[49m\u001b[43mcheck_response\u001b[49m\u001b[43m(\u001b[49m\u001b[43mresponse\u001b[49m\u001b[43m)\u001b[49m\n\u001b[32m    430\u001b[39m     response[\u001b[33m\"\u001b[39m\u001b[33mvalue\u001b[39m\u001b[33m\"\u001b[39m] = \u001b[38;5;28mself\u001b[39m._unwrap_value(response.get(\u001b[33m\"\u001b[39m\u001b[33mvalue\u001b[39m\u001b[33m\"\u001b[39m, \u001b[38;5;28;01mNone\u001b[39;00m))\n\u001b[32m    431\u001b[39m     \u001b[38;5;28;01mreturn\u001b[39;00m response\n",
      "\u001b[36mFile \u001b[39m\u001b[32m~\\AppData\\Roaming\\Python\\Python312\\site-packages\\selenium\\webdriver\\remote\\errorhandler.py:232\u001b[39m, in \u001b[36mErrorHandler.check_response\u001b[39m\u001b[34m(self, response)\u001b[39m\n\u001b[32m    230\u001b[39m         alert_text = value[\u001b[33m\"\u001b[39m\u001b[33malert\u001b[39m\u001b[33m\"\u001b[39m].get(\u001b[33m\"\u001b[39m\u001b[33mtext\u001b[39m\u001b[33m\"\u001b[39m)\n\u001b[32m    231\u001b[39m     \u001b[38;5;28;01mraise\u001b[39;00m exception_class(message, screen, stacktrace, alert_text)  \u001b[38;5;66;03m# type: ignore[call-arg]  # mypy is not smart enough here\u001b[39;00m\n\u001b[32m--> \u001b[39m\u001b[32m232\u001b[39m \u001b[38;5;28;01mraise\u001b[39;00m exception_class(message, screen, stacktrace)\n",
      "\u001b[31mNoSuchElementException\u001b[39m: Message: no such element: Unable to locate element: {\"method\":\"css selector\",\"selector\":\"[id=\"\"]\"}\n  (Session info: MicrosoftEdge=135.0.3179.73); For documentation on this error, please visit: https://www.selenium.dev/documentation/webdriver/troubleshooting/errors#no-such-element-exception\nStacktrace:\n\tGetHandleVerifier [0x00007FF702CBEE65+16773]\n\tMicrosoft::Applications::Events::ILogConfiguration::operator* [0x00007FF702C1F130+402672]\n\tMicrosoft::Applications::Events::EventProperty::to_string [0x00007FF702F14BDA+1818314]\n\t(No symbol) [0x00007FF702A57B86]\n\t(No symbol) [0x00007FF702A57E6B]\n\t(No symbol) [0x00007FF702A98C77]\n\t(No symbol) [0x00007FF702A78F0F]\n\t(No symbol) [0x00007FF702A4DF8D]\n\t(No symbol) [0x00007FF702A96658]\n\t(No symbol) [0x00007FF702A78C33]\n\t(No symbol) [0x00007FF702A4D4D6]\n\t(No symbol) [0x00007FF702A4CA82]\n\t(No symbol) [0x00007FF702A4D303]\n\t(No symbol) [0x00007FF702B4060D]\n\t(No symbol) [0x00007FF702B4D642]\n\t(No symbol) [0x00007FF702B45673]\n\tMicrosoft::Applications::Events::EventProperty::to_string [0x00007FF702D99BAA+265882]\n\tMicrosoft::Applications::Events::ILogConfiguration::operator* [0x00007FF702C2C581+457025]\n\tMicrosoft::Applications::Events::ILogConfiguration::operator* [0x00007FF702C25834+429044]\n\tMicrosoft::Applications::Events::ILogConfiguration::operator* [0x00007FF702C25983+429379]\n\tMicrosoft::Applications::Events::ILogConfiguration::operator* [0x00007FF702C17486+370758]\n\tBaseThreadInitThunk [0x00007FFCB07B7374+20]\n\tRtlUserThreadStart [0x00007FFCB0EBCC91+33]\n"
     ]
    }
   ],
   "source": [
    "from selenium import webdriver\n",
    "from login import login\n",
    "from selenium.webdriver.common.by import By\n",
    "from selenium.webdriver.support.ui import Select\n",
    "import time\n",
    "\n",
    "import time\n",
    "\n",
    "driver = webdriver.Edge()\n",
    "driver.get(\"https://www.saucedemo.com/\")\n",
    "\n",
    "login1=login(driver)\n",
    "login1.enter_username('standard_user')\n",
    "login1.enter_password(\"secret_sauce\")\n",
    "login1.click_login()\n",
    "\n",
    "time.sleep(2)\n",
    "\n",
    "from sort import sort\n",
    "\n",
    "\n",
    "# sort_select=sort(driver)\n",
    "# sort_select.sort_dropdown(\"Price (low to high)\")\n",
    "\n",
    "dropdown_element = driver.find_element(By.XPATH, \"//*[@id=\\\"header_container\\\"]/div[2]/div/span/select\")\n",
    "\n",
    "# Step 3: Create a Select object\n",
    "dropdown = Select(dropdown_element)\n",
    "\n",
    "# Step 4: Select \"Option 2\" by visible text\n",
    "dropdown.select_by_visible_text(\"Price (low to high)\")\n",
    "\n",
    "time.sleep(2)\n",
    "\n",
    "\n",
    "item_prices=driver.find_elements(By.CLASS_NAME, \"inventory_item\")\n",
    "a=item_prices[0].get_attribute('id')\n",
    "\n",
    "cheapest=driver.find_element(By.ID,a)\n",
    "cheapest.click()"
   ]
  },
  {
   "cell_type": "code",
   "execution_count": null,
   "id": "329dc35c",
   "metadata": {},
   "outputs": [],
   "source": []
  },
  {
   "cell_type": "code",
   "execution_count": null,
   "id": "db5982db",
   "metadata": {},
   "outputs": [],
   "source": []
  }
 ],
 "metadata": {
  "kernelspec": {
   "display_name": "Python 3",
   "language": "python",
   "name": "python3"
  },
  "language_info": {
   "codemirror_mode": {
    "name": "ipython",
    "version": 3
   },
   "file_extension": ".py",
   "mimetype": "text/x-python",
   "name": "python",
   "nbconvert_exporter": "python",
   "pygments_lexer": "ipython3",
   "version": "3.12.3"
  }
 },
 "nbformat": 4,
 "nbformat_minor": 5
}
