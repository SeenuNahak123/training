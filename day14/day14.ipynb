{
 "cells": [
  {
   "cell_type": "code",
   "execution_count": 25,
   "id": "cb635d42",
   "metadata": {},
   "outputs": [],
   "source": [
    "# C:\\Users\\seenu.nahak\\day14>py -m venv .venv\n",
    "\n",
    "# C:\\Users\\seenu.nahak\\day14>.\\.venv\\Scripts\\activate\n"
   ]
  },
  {
   "cell_type": "code",
   "execution_count": 2,
   "id": "b51e53a1",
   "metadata": {},
   "outputs": [
    {
     "name": "stdout",
     "output_type": "stream",
     "text": [
      "Defaulting to user installation because normal site-packages is not writeable\n",
      "Collecting selenium\n",
      "  Using cached selenium-4.31.0-py3-none-any.whl.metadata (7.5 kB)\n",
      "Requirement already satisfied: urllib3<3,>=1.26 in c:\\users\\seenu.nahak\\appdata\\roaming\\python\\python312\\site-packages (from urllib3[socks]<3,>=1.26->selenium) (2.4.0)\n",
      "Collecting trio~=0.17 (from selenium)\n",
      "  Using cached trio-0.29.0-py3-none-any.whl.metadata (8.5 kB)\n",
      "Collecting trio-websocket~=0.9 (from selenium)\n",
      "  Using cached trio_websocket-0.12.2-py3-none-any.whl.metadata (5.1 kB)\n",
      "Requirement already satisfied: certifi>=2021.10.8 in c:\\users\\seenu.nahak\\appdata\\roaming\\python\\python312\\site-packages (from selenium) (2025.1.31)\n",
      "Requirement already satisfied: typing_extensions~=4.9 in c:\\users\\seenu.nahak\\appdata\\roaming\\python\\python312\\site-packages (from selenium) (4.13.2)\n",
      "Collecting websocket-client~=1.8 (from selenium)\n",
      "  Using cached websocket_client-1.8.0-py3-none-any.whl.metadata (8.0 kB)\n",
      "Collecting attrs>=23.2.0 (from trio~=0.17->selenium)\n",
      "  Using cached attrs-25.3.0-py3-none-any.whl.metadata (10 kB)\n",
      "Collecting sortedcontainers (from trio~=0.17->selenium)\n",
      "  Using cached sortedcontainers-2.4.0-py2.py3-none-any.whl.metadata (10 kB)\n",
      "Requirement already satisfied: idna in c:\\users\\seenu.nahak\\appdata\\roaming\\python\\python312\\site-packages (from trio~=0.17->selenium) (3.10)\n",
      "Collecting outcome (from trio~=0.17->selenium)\n",
      "  Using cached outcome-1.3.0.post0-py2.py3-none-any.whl.metadata (2.6 kB)\n",
      "Requirement already satisfied: sniffio>=1.3.0 in c:\\users\\seenu.nahak\\appdata\\roaming\\python\\python312\\site-packages (from trio~=0.17->selenium) (1.3.1)\n",
      "Collecting cffi>=1.14 (from trio~=0.17->selenium)\n",
      "  Using cached cffi-1.17.1-cp312-cp312-win_amd64.whl.metadata (1.6 kB)\n",
      "Collecting wsproto>=0.14 (from trio-websocket~=0.9->selenium)\n",
      "  Using cached wsproto-1.2.0-py3-none-any.whl.metadata (5.6 kB)\n",
      "Collecting pysocks!=1.5.7,<2.0,>=1.5.6 (from urllib3[socks]<3,>=1.26->selenium)\n",
      "  Using cached PySocks-1.7.1-py3-none-any.whl.metadata (13 kB)\n",
      "Collecting pycparser (from cffi>=1.14->trio~=0.17->selenium)\n",
      "  Using cached pycparser-2.22-py3-none-any.whl.metadata (943 bytes)\n",
      "Requirement already satisfied: h11<1,>=0.9.0 in c:\\users\\seenu.nahak\\appdata\\roaming\\python\\python312\\site-packages (from wsproto>=0.14->trio-websocket~=0.9->selenium) (0.14.0)\n",
      "Using cached selenium-4.31.0-py3-none-any.whl (9.4 MB)\n",
      "Using cached trio-0.29.0-py3-none-any.whl (492 kB)\n",
      "Using cached trio_websocket-0.12.2-py3-none-any.whl (21 kB)\n",
      "Using cached websocket_client-1.8.0-py3-none-any.whl (58 kB)\n",
      "Using cached attrs-25.3.0-py3-none-any.whl (63 kB)\n",
      "Using cached cffi-1.17.1-cp312-cp312-win_amd64.whl (181 kB)\n",
      "Using cached outcome-1.3.0.post0-py2.py3-none-any.whl (10 kB)\n",
      "Using cached PySocks-1.7.1-py3-none-any.whl (16 kB)\n",
      "Using cached wsproto-1.2.0-py3-none-any.whl (24 kB)\n",
      "Using cached sortedcontainers-2.4.0-py2.py3-none-any.whl (29 kB)\n",
      "Using cached pycparser-2.22-py3-none-any.whl (117 kB)\n",
      "Installing collected packages: sortedcontainers, wsproto, websocket-client, pysocks, pycparser, attrs, outcome, cffi, trio, trio-websocket, selenium\n",
      "Successfully installed attrs-25.3.0 cffi-1.17.1 outcome-1.3.0.post0 pycparser-2.22 pysocks-1.7.1 selenium-4.31.0 sortedcontainers-2.4.0 trio-0.29.0 trio-websocket-0.12.2 websocket-client-1.8.0 wsproto-1.2.0\n",
      "Note: you may need to restart the kernel to use updated packages.\n"
     ]
    },
    {
     "name": "stderr",
     "output_type": "stream",
     "text": [
      "\n",
      "[notice] A new release of pip is available: 24.0 -> 25.0.1\n",
      "[notice] To update, run: python.exe -m pip install --upgrade pip\n"
     ]
    }
   ],
   "source": [
    "pip install selenium\n"
   ]
  },
  {
   "cell_type": "code",
   "execution_count": 4,
   "id": "462a3ec7",
   "metadata": {},
   "outputs": [
    {
     "name": "stdout",
     "output_type": "stream",
     "text": [
      "Sign in to your account\n"
     ]
    }
   ],
   "source": [
    "from selenium import webdriver\n",
    "\n",
    "driver=webdriver.Chrome()\n",
    "driver.get(\"https://www.google.com\")\n",
    "print(driver.title)\n",
    "driver.quit()"
   ]
  },
  {
   "cell_type": "code",
   "execution_count": 5,
   "id": "c173c3bd",
   "metadata": {},
   "outputs": [],
   "source": [
    "#Finding Elements\n",
    "#find_element(By.ID,...)\n",
    "#find_element(By.NAME,...)\n",
    "#find_element(By.CLASS_NAME,...)\n",
    "#find_element(By.XPATH,...)"
   ]
  },
  {
   "cell_type": "code",
   "execution_count": 10,
   "id": "33784d2c",
   "metadata": {},
   "outputs": [],
   "source": [
    "from selenium.webdriver.common.by import By\n",
    "import time\n",
    "\n",
    "driver = webdriver.Edge()\n",
    "driver.get(\"https://www.google.com\")\n",
    "search_box = driver.find_element(By.NAME, \"q\")\n",
    "search_box.send_keys(\"Python Selenium\")\n",
    "search_box.submit()\n",
    "time.sleep(3)\n",
    "#driver.quit()"
   ]
  },
  {
   "cell_type": "code",
   "execution_count": 11,
   "id": "437210ed",
   "metadata": {},
   "outputs": [],
   "source": [
    "#https://www.saucedemo.com/"
   ]
  },
  {
   "cell_type": "code",
   "execution_count": 13,
   "id": "be4a3603",
   "metadata": {},
   "outputs": [],
   "source": [
    "#test case\n",
    "from selenium.webdriver.common.by import By\n",
    "from selenium.webdriver.common.keys import Keys\n",
    "import time\n",
    "\n",
    "driver = webdriver.Edge()\n",
    "driver.get(\"https://www.saucedemo.com/\")\n",
    "user_name=driver.find_element(By.ID, \"user-name\")\n",
    "user_name.send_keys(\"standard_user\")\n",
    "password=driver.find_element(By.ID,\"password\")\n",
    "password.send_keys(\"secret_sauce\")\n",
    "submit_btn=driver.find_element(By.ID,\"login-button\")\n",
    "submit_btn.send_keys(Keys.ENTER)"
   ]
  },
  {
   "cell_type": "code",
   "execution_count": null,
   "id": "3d5013b6",
   "metadata": {},
   "outputs": [],
   "source": [
    "#https://practicetestautomation.com/practice-test-login/"
   ]
  },
  {
   "cell_type": "code",
   "execution_count": 14,
   "id": "c5e8dbe9",
   "metadata": {},
   "outputs": [],
   "source": [
    "from selenium.webdriver.common.by import By\n",
    "from selenium.webdriver.common.keys import Keys\n",
    "import time\n",
    "\n",
    "driver = webdriver.Edge()\n",
    "driver.get(\"https://practicetestautomation.com/practice-test-login/\")\n",
    "user_name=driver.find_element(By.ID, \"username\")\n",
    "user_name.send_keys(\"student\")\n",
    "password=driver.find_element(By.ID,\"password\")\n",
    "password.send_keys(\"Password123\")\n",
    "submit_btn=driver.find_element(By.ID,\"submit\")\n",
    "submit_btn.send_keys(Keys.ENTER)"
   ]
  },
  {
   "cell_type": "code",
   "execution_count": null,
   "id": "b61105e6",
   "metadata": {},
   "outputs": [],
   "source": [
    "#https://rahulshettyacademy.com/loginpagePractise/"
   ]
  },
  {
   "cell_type": "code",
   "execution_count": 23,
   "id": "ab2f3831",
   "metadata": {},
   "outputs": [
    {
     "name": "stdout",
     "output_type": "stream",
     "text": [
      "Negative Login Test Passed: Error message displayed.\n"
     ]
    }
   ],
   "source": [
    "from selenium.webdriver.common.by import By\n",
    "from selenium.webdriver.common.keys import Keys\n",
    "import time\n",
    "\n",
    "driver = webdriver.Edge()\n",
    "driver.get(\"https://practicetestautomation.com/practice-test-login/\")\n",
    "\n",
    "username=driver.find_element(By.ID, \"username\")\n",
    "password=driver.find_element(By.ID,\"password\")\n",
    "username.send_keys(\"wrong\")\n",
    "password.send_keys(\"Password12\")\n",
    "\n",
    "\n",
    "submit_btn=driver.find_element(By.ID,\"submit\")\n",
    "submit_btn.click()\n",
    "\n",
    "time.sleep(2)\n",
    "\n",
    "error_message=driver.find_element(By.ID,'error')\n",
    "assert \"Your username is invalid!\" in error_message.text\n",
    "\n",
    "print(\"Negative Login Test Passed: Error message displayed.\")\n",
    "driver.quit()"
   ]
  },
  {
   "cell_type": "code",
   "execution_count": 26,
   "id": "de44462f",
   "metadata": {},
   "outputs": [],
   "source": [
    "from selenium.webdriver.common.by import By\n",
    "from selenium.webdriver.common.keys import Keys\n",
    "import time\n",
    "\n",
    "driver = webdriver.Edge()\n",
    "driver.get(\"https://practicetestautomation.com\")\n",
    "time.sleep(2)\n",
    "\n",
    "contacts=driver.find_element(By.ID,\"menu-item-18\")\n",
    "contacts.click()\n",
    "time.sleep(2)\n",
    "\n",
    "driver.back()\n",
    "time.sleep(2)\n",
    "\n",
    "driver.forward()\n",
    "time.sleep(2)\n",
    "\n",
    "driver.refresh()\n",
    "time.sleep(2)"
   ]
  },
  {
   "cell_type": "code",
   "execution_count": 29,
   "id": "4ee75b45",
   "metadata": {},
   "outputs": [],
   "source": [
    "from selenium.webdriver.common.by import By\n",
    "from selenium.webdriver.common.keys import Keys\n",
    "import time\n",
    "\n",
    "driver = webdriver.Edge()\n",
    "driver.get(\"https://practicetestautomation.com/practice-test-login/\")\n",
    "\n",
    "username=driver.find_element(By.ID, \"username\")\n",
    "password=driver.find_element(By.ID,\"password\")\n",
    "username.send_keys(\"student\")\n",
    "password.send_keys(\"Password123\")\n",
    "\n",
    "\n",
    "submit_btn=driver.find_element(By.ID,\"submit\")\n",
    "submit_btn.click()\n",
    "\n",
    "time.sleep(2)\n",
    "\n",
    "logout=driver.find_element(By.XPATH, \"//*[@id=\\\"loop-container\\\"]/div/article/div[2]/div/div/div/a\")\n",
    "logout.click()"
   ]
  },
  {
   "cell_type": "code",
   "execution_count": 36,
   "id": "34259f53",
   "metadata": {},
   "outputs": [
    {
     "ename": "NoSuchElementException",
     "evalue": "Message: no such element: Unable to locate element: {\"method\":\"css selector\",\"selector\":\"[id=\"signInBtn\"]\"}\n  (Session info: MicrosoftEdge=135.0.3179.73); For documentation on this error, please visit: https://www.selenium.dev/documentation/webdriver/troubleshooting/errors#no-such-element-exception\nStacktrace:\n\tGetHandleVerifier [0x00007FF702CBEE65+16773]\n\tMicrosoft::Applications::Events::ILogConfiguration::operator* [0x00007FF702C1F130+402672]\n\tMicrosoft::Applications::Events::EventProperty::to_string [0x00007FF702F14BDA+1818314]\n\t(No symbol) [0x00007FF702A57B86]\n\t(No symbol) [0x00007FF702A57E6B]\n\t(No symbol) [0x00007FF702A98C77]\n\t(No symbol) [0x00007FF702A78F0F]\n\t(No symbol) [0x00007FF702A4DF8D]\n\t(No symbol) [0x00007FF702A96658]\n\t(No symbol) [0x00007FF702A78C33]\n\t(No symbol) [0x00007FF702A4D4D6]\n\t(No symbol) [0x00007FF702A4CA82]\n\t(No symbol) [0x00007FF702A4D303]\n\t(No symbol) [0x00007FF702B4060D]\n\t(No symbol) [0x00007FF702B4D642]\n\t(No symbol) [0x00007FF702B45673]\n\tMicrosoft::Applications::Events::EventProperty::to_string [0x00007FF702D99BAA+265882]\n\tMicrosoft::Applications::Events::ILogConfiguration::operator* [0x00007FF702C2C581+457025]\n\tMicrosoft::Applications::Events::ILogConfiguration::operator* [0x00007FF702C25834+429044]\n\tMicrosoft::Applications::Events::ILogConfiguration::operator* [0x00007FF702C25983+429379]\n\tMicrosoft::Applications::Events::ILogConfiguration::operator* [0x00007FF702C17486+370758]\n\tBaseThreadInitThunk [0x00007FFCB07B7374+20]\n\tRtlUserThreadStart [0x00007FFCB0EBCC91+33]\n",
     "output_type": "error",
     "traceback": [
      "\u001b[31m---------------------------------------------------------------------------\u001b[39m",
      "\u001b[31mNoSuchElementException\u001b[39m                    Traceback (most recent call last)",
      "\u001b[36mCell\u001b[39m\u001b[36m \u001b[39m\u001b[32mIn[36]\u001b[39m\u001b[32m, line 11\u001b[39m\n\u001b[32m      9\u001b[39m login.enter_username(\u001b[33m'\u001b[39m\u001b[33mstudent\u001b[39m\u001b[33m'\u001b[39m)\n\u001b[32m     10\u001b[39m login.enter_password(\u001b[33m\"\u001b[39m\u001b[33mPassword123\u001b[39m\u001b[33m\"\u001b[39m)\n\u001b[32m---> \u001b[39m\u001b[32m11\u001b[39m \u001b[43mlogin\u001b[49m\u001b[43m.\u001b[49m\u001b[43mclick_login\u001b[49m\u001b[43m(\u001b[49m\u001b[43m)\u001b[49m\n\u001b[32m     13\u001b[39m driver.quit()\n",
      "\u001b[36mFile \u001b[39m\u001b[32mc:\\Users\\seenu.nahak\\day14\\LoginPage.py:17\u001b[39m, in \u001b[36mclick_login\u001b[39m\u001b[34m(self)\u001b[39m\n\u001b[32m     14\u001b[39m \u001b[38;5;28;01mdef\u001b[39;00m\u001b[38;5;250m \u001b[39m\u001b[34menter_password\u001b[39m(\u001b[38;5;28mself\u001b[39m, password):\n\u001b[32m     15\u001b[39m     \u001b[38;5;28mself\u001b[39m.driver.find_element(*\u001b[38;5;28mself\u001b[39m.password_field).send_keys(password)\n\u001b[32m---> \u001b[39m\u001b[32m17\u001b[39m \u001b[38;5;28;01mdef\u001b[39;00m\u001b[38;5;250m \u001b[39m\u001b[34mclick_login\u001b[39m(\u001b[38;5;28mself\u001b[39m):\n\u001b[32m     18\u001b[39m     \u001b[38;5;28mself\u001b[39m.driver.find_element(*\u001b[38;5;28mself\u001b[39m.login_button).click()\n",
      "\u001b[36mFile \u001b[39m\u001b[32m~\\AppData\\Roaming\\Python\\Python312\\site-packages\\selenium\\webdriver\\remote\\webdriver.py:898\u001b[39m, in \u001b[36mWebDriver.find_element\u001b[39m\u001b[34m(self, by, value)\u001b[39m\n\u001b[32m    895\u001b[39m         \u001b[38;5;28;01mraise\u001b[39;00m NoSuchElementException(\u001b[33mf\u001b[39m\u001b[33m\"\u001b[39m\u001b[33mCannot locate relative element with: \u001b[39m\u001b[38;5;132;01m{\u001b[39;00mby.root\u001b[38;5;132;01m}\u001b[39;00m\u001b[33m\"\u001b[39m)\n\u001b[32m    896\u001b[39m     \u001b[38;5;28;01mreturn\u001b[39;00m elements[\u001b[32m0\u001b[39m]\n\u001b[32m--> \u001b[39m\u001b[32m898\u001b[39m \u001b[38;5;28;01mreturn\u001b[39;00m \u001b[38;5;28;43mself\u001b[39;49m\u001b[43m.\u001b[49m\u001b[43mexecute\u001b[49m\u001b[43m(\u001b[49m\u001b[43mCommand\u001b[49m\u001b[43m.\u001b[49m\u001b[43mFIND_ELEMENT\u001b[49m\u001b[43m,\u001b[49m\u001b[43m \u001b[49m\u001b[43m{\u001b[49m\u001b[33;43m\"\u001b[39;49m\u001b[33;43musing\u001b[39;49m\u001b[33;43m\"\u001b[39;49m\u001b[43m:\u001b[49m\u001b[43m \u001b[49m\u001b[43mby\u001b[49m\u001b[43m,\u001b[49m\u001b[43m \u001b[49m\u001b[33;43m\"\u001b[39;49m\u001b[33;43mvalue\u001b[39;49m\u001b[33;43m\"\u001b[39;49m\u001b[43m:\u001b[49m\u001b[43m \u001b[49m\u001b[43mvalue\u001b[49m\u001b[43m}\u001b[49m\u001b[43m)\u001b[49m[\u001b[33m\"\u001b[39m\u001b[33mvalue\u001b[39m\u001b[33m\"\u001b[39m]\n",
      "\u001b[36mFile \u001b[39m\u001b[32m~\\AppData\\Roaming\\Python\\Python312\\site-packages\\selenium\\webdriver\\remote\\webdriver.py:429\u001b[39m, in \u001b[36mWebDriver.execute\u001b[39m\u001b[34m(self, driver_command, params)\u001b[39m\n\u001b[32m    427\u001b[39m response = \u001b[38;5;28mself\u001b[39m.command_executor.execute(driver_command, params)\n\u001b[32m    428\u001b[39m \u001b[38;5;28;01mif\u001b[39;00m response:\n\u001b[32m--> \u001b[39m\u001b[32m429\u001b[39m     \u001b[38;5;28;43mself\u001b[39;49m\u001b[43m.\u001b[49m\u001b[43merror_handler\u001b[49m\u001b[43m.\u001b[49m\u001b[43mcheck_response\u001b[49m\u001b[43m(\u001b[49m\u001b[43mresponse\u001b[49m\u001b[43m)\u001b[49m\n\u001b[32m    430\u001b[39m     response[\u001b[33m\"\u001b[39m\u001b[33mvalue\u001b[39m\u001b[33m\"\u001b[39m] = \u001b[38;5;28mself\u001b[39m._unwrap_value(response.get(\u001b[33m\"\u001b[39m\u001b[33mvalue\u001b[39m\u001b[33m\"\u001b[39m, \u001b[38;5;28;01mNone\u001b[39;00m))\n\u001b[32m    431\u001b[39m     \u001b[38;5;28;01mreturn\u001b[39;00m response\n",
      "\u001b[36mFile \u001b[39m\u001b[32m~\\AppData\\Roaming\\Python\\Python312\\site-packages\\selenium\\webdriver\\remote\\errorhandler.py:232\u001b[39m, in \u001b[36mErrorHandler.check_response\u001b[39m\u001b[34m(self, response)\u001b[39m\n\u001b[32m    230\u001b[39m         alert_text = value[\u001b[33m\"\u001b[39m\u001b[33malert\u001b[39m\u001b[33m\"\u001b[39m].get(\u001b[33m\"\u001b[39m\u001b[33mtext\u001b[39m\u001b[33m\"\u001b[39m)\n\u001b[32m    231\u001b[39m     \u001b[38;5;28;01mraise\u001b[39;00m exception_class(message, screen, stacktrace, alert_text)  \u001b[38;5;66;03m# type: ignore[call-arg]  # mypy is not smart enough here\u001b[39;00m\n\u001b[32m--> \u001b[39m\u001b[32m232\u001b[39m \u001b[38;5;28;01mraise\u001b[39;00m exception_class(message, screen, stacktrace)\n",
      "\u001b[31mNoSuchElementException\u001b[39m: Message: no such element: Unable to locate element: {\"method\":\"css selector\",\"selector\":\"[id=\"signInBtn\"]\"}\n  (Session info: MicrosoftEdge=135.0.3179.73); For documentation on this error, please visit: https://www.selenium.dev/documentation/webdriver/troubleshooting/errors#no-such-element-exception\nStacktrace:\n\tGetHandleVerifier [0x00007FF702CBEE65+16773]\n\tMicrosoft::Applications::Events::ILogConfiguration::operator* [0x00007FF702C1F130+402672]\n\tMicrosoft::Applications::Events::EventProperty::to_string [0x00007FF702F14BDA+1818314]\n\t(No symbol) [0x00007FF702A57B86]\n\t(No symbol) [0x00007FF702A57E6B]\n\t(No symbol) [0x00007FF702A98C77]\n\t(No symbol) [0x00007FF702A78F0F]\n\t(No symbol) [0x00007FF702A4DF8D]\n\t(No symbol) [0x00007FF702A96658]\n\t(No symbol) [0x00007FF702A78C33]\n\t(No symbol) [0x00007FF702A4D4D6]\n\t(No symbol) [0x00007FF702A4CA82]\n\t(No symbol) [0x00007FF702A4D303]\n\t(No symbol) [0x00007FF702B4060D]\n\t(No symbol) [0x00007FF702B4D642]\n\t(No symbol) [0x00007FF702B45673]\n\tMicrosoft::Applications::Events::EventProperty::to_string [0x00007FF702D99BAA+265882]\n\tMicrosoft::Applications::Events::ILogConfiguration::operator* [0x00007FF702C2C581+457025]\n\tMicrosoft::Applications::Events::ILogConfiguration::operator* [0x00007FF702C25834+429044]\n\tMicrosoft::Applications::Events::ILogConfiguration::operator* [0x00007FF702C25983+429379]\n\tMicrosoft::Applications::Events::ILogConfiguration::operator* [0x00007FF702C17486+370758]\n\tBaseThreadInitThunk [0x00007FFCB07B7374+20]\n\tRtlUserThreadStart [0x00007FFCB0EBCC91+33]\n"
     ]
    }
   ],
   "source": [
    "\n",
    "from LoginPage import LoginPage\n",
    "\n",
    "import time\n",
    "\n",
    "driver = webdriver.Edge()\n",
    "driver.get(\"https://practicetestautomation.com/practice-test-login/\")\n",
    "\n",
    "login=LoginPage(driver)\n",
    "login.enter_username('student')\n",
    "login.enter_password(\"Password123\")\n",
    "login.click_login()\n",
    "\n",
    "driver.quit()\n"
   ]
  },
  {
   "cell_type": "code",
   "execution_count": 1,
   "id": "454a88c7",
   "metadata": {},
   "outputs": [
    {
     "name": "stdout",
     "output_type": "stream",
     "text": [
      "✅ Selected option is: Option 2\n"
     ]
    }
   ],
   "source": [
    "from selenium import webdriver\n",
    "from selenium.webdriver.common.by import By\n",
    "from selenium.webdriver.support.ui import Select\n",
    "import time\n",
    "\n",
    "# Step 1: Launch browser and go to the dropdown page\n",
    "driver = webdriver.Chrome()\n",
    "driver.get(\"https://the-internet.herokuapp.com/dropdown\")\n",
    "time.sleep(2)\n",
    "\n",
    "# Step 2: Locate the dropdown element\n",
    "dropdown_element = driver.find_element(By.ID, \"dropdown\")\n",
    "\n",
    "# Step 3: Create a Select object\n",
    "dropdown = Select(dropdown_element)\n",
    "\n",
    "# Step 4: Select \"Option 2\" by visible text\n",
    "dropdown.select_by_visible_text(\"Option 2\")\n",
    "time.sleep(1)\n",
    "\n",
    "# Step 5: Verify the selected option is \"Option 2\"\n",
    "selected_option = dropdown.first_selected_option.text\n",
    "assert selected_option == \"Option 2\"\n",
    "print(f\"✅ Selected option is: {selected_option}\")"
   ]
  }
 ],
 "metadata": {
  "kernelspec": {
   "display_name": "Python 3",
   "language": "python",
   "name": "python3"
  },
  "language_info": {
   "codemirror_mode": {
    "name": "ipython",
    "version": 3
   },
   "file_extension": ".py",
   "mimetype": "text/x-python",
   "name": "python",
   "nbconvert_exporter": "python",
   "pygments_lexer": "ipython3",
   "version": "3.12.3"
  }
 },
 "nbformat": 4,
 "nbformat_minor": 5
}
