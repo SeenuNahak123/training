{
 "cells": [
  {
   "cell_type": "code",
   "execution_count": 5,
   "metadata": {},
   "outputs": [
    {
     "data": {
      "text/plain": [
       "[0, 2, 4, 6, 8]"
      ]
     },
     "execution_count": 5,
     "metadata": {},
     "output_type": "execute_result"
    }
   ],
   "source": [
    "l=[]\n",
    "for i in range(10):\n",
    "    if i%2==0:\n",
    "        l.append(i)\n",
    "l"
   ]
  },
  {
   "cell_type": "code",
   "execution_count": 3,
   "metadata": {},
   "outputs": [
    {
     "data": {
      "text/plain": [
       "[0, 2, 4, 6, 8]"
      ]
     },
     "execution_count": 3,
     "metadata": {},
     "output_type": "execute_result"
    }
   ],
   "source": [
    "l=[i for i in range(10) if i%2==0]\n",
    "l"
   ]
  },
  {
   "cell_type": "code",
   "execution_count": null,
   "metadata": {},
   "outputs": [],
   "source": [
    "#for (set of values to iterate):\n",
    "#   if(conditional filtering):\n",
    "#       output_expression()\n",
    "\n",
    "\n",
    "#[output expression() for(set of values to iterate) if(conditional filtrering)]\n",
    "\n",
    "\n",
    "#output         input\n",
    "#Expression    Sequence\n",
    "#  |              |\n",
    "#-----          ------\n",
    "#[e**2 for e in a_list if type(e)==type.IntType]\n",
    "#         ---          -------------------------\n",
    "#          |                     |\n",
    "#       Variable        optional predicate"
   ]
  },
  {
   "cell_type": "code",
   "execution_count": 99,
   "metadata": {},
   "outputs": [
    {
     "data": {
      "text/plain": [
       "[0, 7, 14, 21, 28, 35, 42, 49, 56, 63, 70, 77, 84, 91, 98]"
      ]
     },
     "execution_count": 99,
     "metadata": {},
     "output_type": "execute_result"
    }
   ],
   "source": [
    "#find all of the number from 1-1000 that are divisible by 7\n",
    "\n",
    "a=[i for i in range(100) if i%7==0]\n",
    "a"
   ]
  },
  {
   "cell_type": "code",
   "execution_count": 11,
   "metadata": {},
   "outputs": [
    {
     "data": {
      "text/plain": [
       "[3, 13, 23, 30, 31, 32, 33, 34, 35, 36, 37, 38, 39, 43, 53, 63, 73, 83, 93]"
      ]
     },
     "execution_count": 11,
     "metadata": {},
     "output_type": "execute_result"
    }
   ],
   "source": [
    "#find all of the numbers from 1-1000 that have a 3 in them\n",
    "\n",
    "a=[i for i in range(100) if '3' in str(i)]\n",
    "a"
   ]
  },
  {
   "cell_type": "code",
   "execution_count": 20,
   "metadata": {},
   "outputs": [
    {
     "data": {
      "text/plain": [
       "7"
      ]
     },
     "execution_count": 20,
     "metadata": {},
     "output_type": "execute_result"
    }
   ],
   "source": [
    "#count the number of spaces in a string\n",
    "l='count the number of spaces in a string'\n",
    "b=[i for i in l if i==\" \"]\n",
    "len(b)\n"
   ]
  },
  {
   "cell_type": "code",
   "execution_count": 22,
   "metadata": {},
   "outputs": [
    {
     "data": {
      "text/plain": [
       "48"
      ]
     },
     "execution_count": 22,
     "metadata": {},
     "output_type": "execute_result"
    }
   ],
   "source": [
    "#create a list of all the constant in the string\n",
    "#\"yellow yaks like yelling and yawning and yesterday they yodled while eating yuky yams\"\n",
    "a=\"yellow yaks like yelling and yawning and yesterday they yodled while eating yuky yams\"\n",
    "b=[i for i in a if i not in 'aeiou' and i!=\" \" ]\n",
    "len(b)"
   ]
  },
  {
   "cell_type": "code",
   "execution_count": 74,
   "metadata": {},
   "outputs": [
    {
     "data": {
      "text/plain": [
       "[(0, 'hi'), (1, 4), (2, 8.99), (3, 'apple'), (4, ('t', 'b', 'n'))]"
      ]
     },
     "execution_count": 74,
     "metadata": {},
     "output_type": "execute_result"
    }
   ],
   "source": [
    "#get the index and the value as a tuple for items in the list\n",
    "#'hi\",4,8.99,'apple',('t','b','n')\n",
    "#result would look like (index,value),(index,value)\n",
    "\n",
    "x=[\"hi\",4,8.99,'apple',('t','b','n')]\n",
    "#y=[(i,j) for i,j in enumerate(x) ]\n",
    "y=[(i,x[i]) for i in  range(len(x))]\n",
    "y\n"
   ]
  },
  {
   "cell_type": "code",
   "execution_count": 29,
   "metadata": {},
   "outputs": [
    {
     "data": {
      "text/plain": [
       "[2, 3, 4]"
      ]
     },
     "execution_count": 29,
     "metadata": {},
     "output_type": "execute_result"
    }
   ],
   "source": [
    "#find the common numbers in two lists(without using a tuple or set)\n",
    "#a=1,2,3,4 b=2,3,4,5\n",
    "a=1,2,3,4 \n",
    "b=2,3,4,5\n",
    "l=[x for x in a for y in b if x==y]\n",
    "l"
   ]
  },
  {
   "cell_type": "code",
   "execution_count": 53,
   "metadata": {},
   "outputs": [
    {
     "data": {
      "text/plain": [
       "[1984, 13, 1000]"
      ]
     },
     "execution_count": 53,
     "metadata": {},
     "output_type": "execute_result"
    }
   ],
   "source": [
    "#get only the numbers in a separte like\n",
    "#'in 1984 there were 13 instances of a protest with over 1000 people attending'\n",
    "a='in 1984 there were 13 instances of a protest with over 1000 people attending'\n",
    "x=[int(i) for i in a.split() if i.isdigit()==True]\n",
    "x"
   ]
  },
  {
   "cell_type": "code",
   "execution_count": null,
   "metadata": {},
   "outputs": [
    {
     "data": {
      "text/plain": [
       "['even',\n",
       " 'odd',\n",
       " 'even',\n",
       " 'odd',\n",
       " 'even',\n",
       " 'odd',\n",
       " 'even',\n",
       " 'odd',\n",
       " 'even',\n",
       " 'odd',\n",
       " 'even',\n",
       " 'odd',\n",
       " 'even',\n",
       " 'odd',\n",
       " 'even',\n",
       " 'odd',\n",
       " 'even',\n",
       " 'odd',\n",
       " 'even',\n",
       " 'odd']"
      ]
     },
     "execution_count": 71,
     "metadata": {},
     "output_type": "execute_result"
    }
   ],
   "source": [
    "#given numbers =range(20), produce a list containing the word 'even' if a number in the numbers is even\n",
    "#and the 'odd' if thenumber is odd. result would look like 'odd','odd','even'\n",
    "#[even if i %2==0 else odd ]\n",
    "x=['even' if i%2==0 else 'odd' for i in range(20)]\n",
    "x"
   ]
  },
  {
   "cell_type": "code",
   "execution_count": null,
   "metadata": {},
   "outputs": [],
   "source": []
  },
  {
   "cell_type": "code",
   "execution_count": 78,
   "metadata": {},
   "outputs": [
    {
     "data": {
      "text/plain": [
       "[(1, 1), (2, 2), (7, 7)]"
      ]
     },
     "execution_count": 78,
     "metadata": {},
     "output_type": "execute_result"
    }
   ],
   "source": [
    "#produce a list of tuples consisting of only the matching numbers in these\n",
    "#lists list_a=1,2,3,4,5,6,7,8,9 list_b=2,7,1,12 \n",
    "#result would look like (4,4) (12,12)\n",
    "a=1,2,3,4,5,6,7,8,9\n",
    "b=2,7,1,12\n",
    "l=[(x,y) for x in a for y in b if x==y]\n",
    "l"
   ]
  },
  {
   "cell_type": "code",
   "execution_count": 81,
   "metadata": {},
   "outputs": [
    {
     "data": {
      "text/plain": [
       "['all', 'of', 'the', 'in', 'a', 'are', '4']"
      ]
     },
     "execution_count": 81,
     "metadata": {},
     "output_type": "execute_result"
    }
   ],
   "source": [
    "#find all of the words in a string that are less than 4 letters\n",
    "a='find all of the words in a string that are less than 4 letters'\n",
    "x=[i for i in a.split() if len(i)<4]\n",
    "x"
   ]
  },
  {
   "cell_type": "code",
   "execution_count": 98,
   "metadata": {},
   "outputs": [
    {
     "data": {
      "text/plain": [
       "[2, 3, 4, 5, 6, 7, 8, 9, 10, 12, 14, 15, 16, 18]"
      ]
     },
     "execution_count": 98,
     "metadata": {},
     "output_type": "execute_result"
    }
   ],
   "source": [
    "#use a nested list comprehension to find all of the numbers\n",
    "#from 1-1000 that are divisible by any single digit besides 1 (2-9)\n",
    "x=[i for i in range(1,20) if True in [True for x in range(2,10) if i%x==0]]\n",
    "x\n",
    "\n",
    "\n"
   ]
  },
  {
   "cell_type": "code",
   "execution_count": 101,
   "metadata": {},
   "outputs": [
    {
     "data": {
      "text/plain": [
       "{0: 0, 1: 1, 2: 4, 3: 9, 4: 16, 5: 25, 6: 36, 7: 49, 8: 64, 9: 81}"
      ]
     },
     "execution_count": 101,
     "metadata": {},
     "output_type": "execute_result"
    }
   ],
   "source": [
    "d={i:i**2 for i in range(10)}\n",
    "d"
   ]
  },
  {
   "cell_type": "code",
   "execution_count": 107,
   "metadata": {},
   "outputs": [
    {
     "data": {
      "text/plain": [
       "{'a': 1, 'b': 2, 'c': 3}"
      ]
     },
     "execution_count": 107,
     "metadata": {},
     "output_type": "execute_result"
    }
   ],
   "source": [
    "#convert two list into a dictionary\n",
    "#given keys=['a','b','c'] values=[1,2,3] \n",
    "keys=['a','b','c'] \n",
    "values=[1,2,3] \n",
    "x={keys[i]:values[i] for i in range(len(keys))}\n",
    "x"
   ]
  },
  {
   "cell_type": "code",
   "execution_count": 114,
   "metadata": {},
   "outputs": [
    {
     "data": {
      "text/plain": [
       "{1: 'a', 2: 'b', 3: 'c'}"
      ]
     },
     "execution_count": 114,
     "metadata": {},
     "output_type": "execute_result"
    }
   ],
   "source": [
    "#invert a dictionary\n",
    "#given a dictionary, swap its keys and values\n",
    "#original={'a':1,'b':2,'c':3}\n",
    "#output={1:'a',2:'b',3:'c'}\n",
    "dic={'a':1,'b':2,'c':3}\n",
    "dic1={dic[i]:i for i in dic.keys()}\n",
    "dic1\n"
   ]
  },
  {
   "cell_type": "code",
   "execution_count": 113,
   "metadata": {},
   "outputs": [
    {
     "data": {
      "text/plain": [
       "{'b': 1, 'a': 3, 'n': 2}"
      ]
     },
     "execution_count": 113,
     "metadata": {},
     "output_type": "execute_result"
    }
   ],
   "source": [
    "#count occurence of characters in a word\n",
    "#given a string, create a dictionary with character counts\n",
    "a='banana'\n",
    "b={i:a.count(i) for i in a}\n",
    "b"
   ]
  },
  {
   "cell_type": "code",
   "execution_count": 120,
   "metadata": {},
   "outputs": [
    {
     "ename": "TypeError",
     "evalue": "unhashable type: 'dict'",
     "output_type": "error",
     "traceback": [
      "\u001b[31m---------------------------------------------------------------------------\u001b[39m",
      "\u001b[31mTypeError\u001b[39m                                 Traceback (most recent call last)",
      "\u001b[36mCell\u001b[39m\u001b[36m \u001b[39m\u001b[32mIn[120]\u001b[39m\u001b[32m, line 12\u001b[39m\n\u001b[32m      9\u001b[39m a=\u001b[38;5;28mlist\u001b[39m(d1.keys())\n\u001b[32m     10\u001b[39m b=\u001b[38;5;28mlist\u001b[39m(d2.keys())\n\u001b[32m---> \u001b[39m\u001b[32m12\u001b[39m d3={x:y \u001b[38;5;28;01mfor\u001b[39;00m i \u001b[38;5;129;01min\u001b[39;00m \u001b[38;5;28mrange\u001b[39m(\u001b[32m3\u001b[39m) \u001b[38;5;28;01mif\u001b[39;00m a[i]==b[i]}\n",
      "\u001b[31mTypeError\u001b[39m: unhashable type: 'dict'"
     ]
    }
   ],
   "source": [
    "#merge two dictionaries (add values if keys match)\n",
    "#combine 2 dictionaries by adding values for common keys\n",
    "#d1={'a':5,'b':3}\n",
    "#d2={'a':2,'b':7,'c':4}\n",
    "#output: {'a':7,'b':10,'c':4}\n",
    "\n",
    "d1={'a':5,'b':3}\n",
    "d2={'a':2,'b':7,'c':4}\n",
    "a=list(d1.keys())\n",
    "b=list(d2.keys())\n",
    "\n",
    "d3={x:y for i in range(3) if a[i]==b[i]}"
   ]
  },
  {
   "cell_type": "code",
   "execution_count": 121,
   "metadata": {},
   "outputs": [],
   "source": [
    "#map(),filter(),reduce()\n",
    "#map(func,iter)\n",
    "\n",
    "l=[2,3,4,5]\n",
    "a=[]\n",
    "\n",
    "for i in l:\n",
    "    area=3.14*i**2\n",
    "    a.append(area)"
   ]
  },
  {
   "cell_type": "code",
   "execution_count": 123,
   "metadata": {},
   "outputs": [
    {
     "data": {
      "text/plain": [
       "[12.56, 28.26, 50.24, 78.5]"
      ]
     },
     "execution_count": 123,
     "metadata": {},
     "output_type": "execute_result"
    }
   ],
   "source": [
    "def area(a):\n",
    "    return 3.14*a**2\n",
    "\n",
    "list(map(area,l))"
   ]
  },
  {
   "cell_type": "code",
   "execution_count": 126,
   "metadata": {},
   "outputs": [
    {
     "data": {
      "text/plain": [
       "[12.56, 28.26, 50.24, 78.5]"
      ]
     },
     "execution_count": 126,
     "metadata": {},
     "output_type": "execute_result"
    }
   ],
   "source": [
    "list(map(lambda a:3.14*a**2,l))"
   ]
  },
  {
   "cell_type": "code",
   "execution_count": 127,
   "metadata": {},
   "outputs": [
    {
     "data": {
      "text/plain": [
       "[2, 4, 6, 8]"
      ]
     },
     "execution_count": 127,
     "metadata": {},
     "output_type": "execute_result"
    }
   ],
   "source": [
    "#filter(func,iter)\n",
    "l=[2,3,4,5,6,7,8]\n",
    "list(filter(lambda a:a%2==0,l))"
   ]
  },
  {
   "cell_type": "code",
   "execution_count": 129,
   "metadata": {},
   "outputs": [
    {
     "data": {
      "text/plain": [
       "24"
      ]
     },
     "execution_count": 129,
     "metadata": {},
     "output_type": "execute_result"
    }
   ],
   "source": [
    "#reduce()\n",
    "\n",
    "from functools import reduce\n",
    "data=[1,2,3,4]\n",
    "reduce(lambda x,y:x*y,data)"
   ]
  },
  {
   "cell_type": "code",
   "execution_count": 133,
   "metadata": {},
   "outputs": [
    {
     "data": {
      "text/plain": [
       "['delhi', 'chennai']"
      ]
     },
     "execution_count": 133,
     "metadata": {},
     "output_type": "execute_result"
    }
   ],
   "source": [
    "city=['','delhi','','chennai','']\n",
    "list(filter(None,city))"
   ]
  },
  {
   "cell_type": "code",
   "execution_count": 135,
   "metadata": {},
   "outputs": [
    {
     "data": {
      "text/plain": [
       "[1, 4, 9, 16]"
      ]
     },
     "execution_count": 135,
     "metadata": {},
     "output_type": "execute_result"
    }
   ],
   "source": [
    "#square each number in a list\n",
    "a=[1,2,3,4]\n",
    "list(map(lambda x:x**2,a))"
   ]
  },
  {
   "cell_type": "code",
   "execution_count": 137,
   "metadata": {},
   "outputs": [
    {
     "data": {
      "text/plain": [
       "['ABC', 'XYZ', 'EFG']"
      ]
     },
     "execution_count": 137,
     "metadata": {},
     "output_type": "execute_result"
    }
   ],
   "source": [
    "#convert a list of string to uppercase\n",
    "a=['abc','xyz','eFg']\n",
    "list(map(lambda x:x.upper(),a))"
   ]
  },
  {
   "cell_type": "code",
   "execution_count": 138,
   "metadata": {},
   "outputs": [
    {
     "data": {
      "text/plain": [
       "[6, 8, 10, 12]"
      ]
     },
     "execution_count": 138,
     "metadata": {},
     "output_type": "execute_result"
    }
   ],
   "source": [
    "#add two lists element-wise\n",
    "a=[1,2,3,4]\n",
    "b=[5,6,7,8]\n",
    "\n",
    "list(map(lambda x,y:x+y,a,b))"
   ]
  },
  {
   "cell_type": "code",
   "execution_count": 139,
   "metadata": {},
   "outputs": [
    {
     "data": {
      "text/plain": [
       "[111, 222, 333, 444, 555]"
      ]
     },
     "execution_count": 139,
     "metadata": {},
     "output_type": "execute_result"
    }
   ],
   "source": [
    "list1=[1,2,3,4,5]\n",
    "list2=[10,20,30,40,50]\n",
    "list3=[100,200,300,400,500]\n",
    "list(map(lambda x,y,z:x+y+z,list1,list2,list3))"
   ]
  },
  {
   "cell_type": "code",
   "execution_count": 141,
   "metadata": {},
   "outputs": [
    {
     "data": {
      "text/plain": [
       "[2, 4]"
      ]
     },
     "execution_count": 141,
     "metadata": {},
     "output_type": "execute_result"
    }
   ],
   "source": [
    "#filter even numbers from a list\n",
    "a=[1,2,3,4,5]\n",
    "list(filter(lambda i:i%2==0,a))"
   ]
  },
  {
   "cell_type": "code",
   "execution_count": 142,
   "metadata": {},
   "outputs": [
    {
     "data": {
      "text/plain": [
       "['convert', 'string', 'uppercase']"
      ]
     },
     "execution_count": 142,
     "metadata": {},
     "output_type": "execute_result"
    }
   ],
   "source": [
    "#filter a list of words with length>4\n",
    "a='convert a list of string to uppercase'\n",
    "list(filter(lambda i:len(i)>4,a.split()))\n"
   ]
  },
  {
   "cell_type": "code",
   "execution_count": 143,
   "metadata": {},
   "outputs": [
    {
     "data": {
      "text/plain": [
       "['delhi', 'chennai']"
      ]
     },
     "execution_count": 143,
     "metadata": {},
     "output_type": "execute_result"
    }
   ],
   "source": [
    "#filter out empty strings\n",
    "city=['','delhi','','chennai','']\n",
    "list(filter(None,city))"
   ]
  },
  {
   "cell_type": "code",
   "execution_count": 145,
   "metadata": {},
   "outputs": [
    {
     "data": {
      "text/plain": [
       "[1, 2, 3, 5, 7]"
      ]
     },
     "execution_count": 145,
     "metadata": {},
     "output_type": "execute_result"
    }
   ],
   "source": [
    "#filter prime nums from a list\n",
    "def prime(a):\n",
    "    for i in range(2,a):\n",
    "        if a%i==0:\n",
    "            return False\n",
    "    return True\n",
    "a=[1,2,3,4,5,6,7,8]\n",
    "list(filter(prime,a))"
   ]
  },
  {
   "cell_type": "code",
   "execution_count": 150,
   "metadata": {},
   "outputs": [
    {
     "data": {
      "text/plain": [
       "'a b c d'"
      ]
     },
     "execution_count": 150,
     "metadata": {},
     "output_type": "execute_result"
    }
   ],
   "source": [
    "#concatenate a list of string using reduce\n",
    "list=['a','b','c','d']\n",
    "reduce(lambda x,y:x+' '+y,list)"
   ]
  },
  {
   "cell_type": "code",
   "execution_count": 148,
   "metadata": {},
   "outputs": [
    {
     "data": {
      "text/plain": [
       "5"
      ]
     },
     "execution_count": 148,
     "metadata": {},
     "output_type": "execute_result"
    }
   ],
   "source": [
    "#find the max value from a list\n",
    "a=[1,2,3,4,5]\n",
    "reduce(lambda x,y:max(x,y),a)"
   ]
  },
  {
   "cell_type": "code",
   "execution_count": 156,
   "metadata": {},
   "outputs": [
    {
     "data": {
      "text/plain": [
       "-4338021540600439992"
      ]
     },
     "execution_count": 156,
     "metadata": {},
     "output_type": "execute_result"
    }
   ],
   "source": [
    "hash('1,2,3')"
   ]
  },
  {
   "cell_type": "code",
   "execution_count": 157,
   "metadata": {},
   "outputs": [
    {
     "data": {
      "text/plain": [
       "-4338021540600439992"
      ]
     },
     "execution_count": 157,
     "metadata": {},
     "output_type": "execute_result"
    }
   ],
   "source": [
    "hash('1,2,3')"
   ]
  },
  {
   "cell_type": "code",
   "execution_count": 158,
   "metadata": {},
   "outputs": [
    {
     "data": {
      "text/plain": [
       "-4559930952660040195"
      ]
     },
     "execution_count": 158,
     "metadata": {},
     "output_type": "execute_result"
    }
   ],
   "source": [
    "hash('abc')"
   ]
  },
  {
   "cell_type": "code",
   "execution_count": 159,
   "metadata": {},
   "outputs": [
    {
     "data": {
      "text/plain": [
       "4970896512488339604"
      ]
     },
     "execution_count": 159,
     "metadata": {},
     "output_type": "execute_result"
    }
   ],
   "source": [
    "hash('Abc')"
   ]
  },
  {
   "cell_type": "code",
   "execution_count": 154,
   "metadata": {},
   "outputs": [
    {
     "name": "stdout",
     "output_type": "stream",
     "text": [
      "{'shake_256', 'sha3_512', 'sm3', 'sha3_384', 'sha256', 'md5-sha1', 'sha512_256', 'sha384', 'ripemd160', 'sha3_256', 'shake_128', 'blake2s', 'sha224', 'sha1', 'sha512', 'sha512_224', 'md5', 'sha3_224', 'blake2b'}\n",
      "{'sha512', 'shake_256', 'sha3_512', 'sha384', 'sha3_256', 'sha224', 'md5', 'blake2s', 'sha3_384', 'shake_128', 'sha3_224', 'blake2b', 'sha1', 'sha256'}\n"
     ]
    }
   ],
   "source": [
    "import hashlib\n",
    "print(hashlib.algorithms_available)\n",
    "print(hashlib.algorithms_guaranteed)"
   ]
  },
  {
   "cell_type": "code",
   "execution_count": 160,
   "metadata": {},
   "outputs": [
    {
     "name": "stdout",
     "output_type": "stream",
     "text": [
      "b'\\xbax\\x16\\xbf\\x8f\\x01\\xcf\\xeaAA@\\xde]\\xae\"#\\xb0\\x03a\\xa3\\x96\\x17z\\x9c\\xb4\\x10\\xffa\\xf2\\x00\\x15\\xad'\n",
      "ba7816bf8f01cfea414140de5dae2223b00361a396177a9cb410ff61f20015ad\n"
     ]
    }
   ],
   "source": [
    "h=hashlib.new(\"sha256\")\n",
    "h.update(b\"abc\")\n",
    "print(h.digest())\n",
    "print(h.hexdigest())\n"
   ]
  },
  {
   "cell_type": "code",
   "execution_count": 161,
   "metadata": {},
   "outputs": [
    {
     "name": "stdout",
     "output_type": "stream",
     "text": [
      "e8a4f4ac10635e4a5df9c890c2fbac89ea277b8d85c8cfee49f4abe924363c1e\n"
     ]
    }
   ],
   "source": [
    "h=hashlib.new(\"sha256\")\n",
    "correct_password=\"Mypass1234567\"\n",
    "h.update(correct_password.encode())\n",
    "#print(h.digest())\n",
    "password_hash=h.hexdigest()\n",
    "print(password_hash)"
   ]
  },
  {
   "cell_type": "code",
   "execution_count": 163,
   "metadata": {},
   "outputs": [
    {
     "name": "stdout",
     "output_type": "stream",
     "text": [
      "e8a4f4ac10635e4a5df9c890c2fbac89ea277b8d85c8cfee49f4abe924363c1e\n"
     ]
    }
   ],
   "source": [
    "user_input=\"Mypass1234567\"\n",
    "h=hashlib.new(\"sha256\")\n",
    "h.update(user_input.encode())\n",
    "user_input_hash=h.hexdigest()\n",
    "print(user_input_hash)"
   ]
  },
  {
   "cell_type": "code",
   "execution_count": 164,
   "metadata": {},
   "outputs": [],
   "source": [
    "#math module\n"
   ]
  },
  {
   "cell_type": "code",
   "execution_count": null,
   "metadata": {},
   "outputs": [
    {
     "name": "stdout",
     "output_type": "stream",
     "text": [
      "4.6\n",
      "5.5\n",
      "6\n",
      "4.044444444444444\n",
      "1.9078784028338913\n"
     ]
    }
   ],
   "source": [
    "#using statistics module calculate mean,mode,varience,standard deviation\n",
    "from statistics import mean,mode,median,pstdev,variance\n",
    "a=[1,2,3,4,5,6,6,6,6,7]\n",
    "print(mean(a))\n",
    "print(median(a))\n",
    "print(mode(a))\n",
    "print(variance(a))\n",
    "print(pstdev(a))\n"
   ]
  },
  {
   "cell_type": "code",
   "execution_count": 186,
   "metadata": {},
   "outputs": [
    {
     "name": "stdout",
     "output_type": "stream",
     "text": [
      "cherry\n",
      "['apple', 'banana', 'banana', 'apple', 'cherry', 'apple', 'banana', 'apple', 'cherry', 'cherry']\n",
      "['banana', 'apple']\n"
     ]
    }
   ],
   "source": [
    "#random module\n",
    "#random.choice()\n",
    "#random.choices()\n",
    "#random.sample()\n",
    "#random.seed()\n",
    "#random.uniform()\n",
    "import random\n",
    "mylist = [\"apple\", \"banana\", \"cherry\"]\n",
    "print(random.choice(mylist))\n",
    "print(random.choices(mylist, k = 10))\n",
    "print(random.sample(mylist, k=2))\n"
   ]
  },
  {
   "cell_type": "code",
   "execution_count": 184,
   "metadata": {},
   "outputs": [
    {
     "name": "stdout",
     "output_type": "stream",
     "text": [
      "0.5714025946899135\n"
     ]
    }
   ],
   "source": [
    "random.seed(10)\n",
    "print(random.random())"
   ]
  },
  {
   "cell_type": "code",
   "execution_count": 185,
   "metadata": {},
   "outputs": [
    {
     "name": "stdout",
     "output_type": "stream",
     "text": [
      "37.155562187004584\n"
     ]
    }
   ],
   "source": [
    "print(random.uniform(20, 60))"
   ]
  },
  {
   "cell_type": "code",
   "execution_count": 192,
   "metadata": {},
   "outputs": [],
   "source": [
    "#OS module\n",
    "import os\n"
   ]
  },
  {
   "cell_type": "code",
   "execution_count": 191,
   "metadata": {},
   "outputs": [
    {
     "name": "stdout",
     "output_type": "stream",
     "text": [
      "c:\\Users\\seenu.nahak\\training\n"
     ]
    }
   ],
   "source": [
    "#curent directory\n",
    "print(os.getcwd())"
   ]
  },
  {
   "cell_type": "code",
   "execution_count": 197,
   "metadata": {},
   "outputs": [],
   "source": [
    "#to change directory\n",
    "os.chdir('C:/Users/seenu.nahak/training/example')"
   ]
  },
  {
   "cell_type": "code",
   "execution_count": 199,
   "metadata": {},
   "outputs": [
    {
     "name": "stdout",
     "output_type": "stream",
     "text": [
      "['1.txt', '2.txt']\n"
     ]
    }
   ],
   "source": [
    "#to view files and folders\n",
    "print(os.listdir())"
   ]
  },
  {
   "cell_type": "code",
   "execution_count": 200,
   "metadata": {},
   "outputs": [],
   "source": [
    "#create new folder in directory\n",
    "os.mkdir('name') # for single folder\n",
    "os.makedirs('python/submodules') #for directory tree "
   ]
  },
  {
   "cell_type": "code",
   "execution_count": 203,
   "metadata": {},
   "outputs": [],
   "source": [
    "#delete folders\n",
    "os.rmdir('name')\n",
    "os.removedirs('python/submodules')"
   ]
  },
  {
   "cell_type": "code",
   "execution_count": 205,
   "metadata": {},
   "outputs": [],
   "source": [
    "#rename\n",
    "os.rename('1.txt','3.txt')"
   ]
  },
  {
   "cell_type": "code",
   "execution_count": 207,
   "metadata": {},
   "outputs": [
    {
     "name": "stdout",
     "output_type": "stream",
     "text": [
      "os.stat_result(st_mode=33206, st_ino=8162774326337275, st_dev=8692559166061692490, st_nlink=1, st_uid=0, st_gid=0, st_size=0, st_atime=1744020378, st_mtime=1744020378, st_ctime=1744020378)\n"
     ]
    }
   ],
   "source": [
    "#details \n",
    "print(os.stat('2.txt'))"
   ]
  },
  {
   "cell_type": "code",
   "execution_count": 209,
   "metadata": {},
   "outputs": [
    {
     "name": "stdout",
     "output_type": "stream",
     "text": [
      "0\n"
     ]
    }
   ],
   "source": [
    "print(os.stat('3.txt').st_size)"
   ]
  },
  {
   "cell_type": "code",
   "execution_count": 211,
   "metadata": {},
   "outputs": [
    {
     "name": "stdout",
     "output_type": "stream",
     "text": [
      "1744020373.199833\n"
     ]
    }
   ],
   "source": [
    "#last modification time\n",
    "print(os.stat('3.txt').st_mtime)"
   ]
  },
  {
   "cell_type": "code",
   "execution_count": 213,
   "metadata": {},
   "outputs": [
    {
     "name": "stdout",
     "output_type": "stream",
     "text": [
      "2025-04-07 15:36:13.199833\n"
     ]
    }
   ],
   "source": [
    "#time stamp\n",
    "from datetime import datetime\n",
    "mod=os.stat('3.txt').st_mtime\n",
    "print(datetime.fromtimestamp(mod))"
   ]
  },
  {
   "cell_type": "code",
   "execution_count": 214,
   "metadata": {},
   "outputs": [
    {
     "name": "stdout",
     "output_type": "stream",
     "text": [
      "current path: C:/Users/seenu.nahak/training\n",
      "directories: ['example', '__pycache__']\n",
      "files: ['callstack.py', 'day1.ipynb', 'day2.ipynb', 'day4.ipynb', 'day5.ipynb', 'day6.ipynb', 'example.log', 'recursion.py', 'si.py']\n",
      "\n",
      "current path: C:/Users/seenu.nahak/training\\example\n",
      "directories: []\n",
      "files: ['2.txt', '3.txt']\n",
      "\n",
      "current path: C:/Users/seenu.nahak/training\\__pycache__\n",
      "directories: []\n",
      "files: ['si.cpython-312.pyc']\n",
      "\n"
     ]
    }
   ],
   "source": [
    "#entire directory\n",
    "import os\n",
    "for dirpath,dirname,filename in os.walk('C:/Users/seenu.nahak/training'):\n",
    "    print('current path:',dirpath)\n",
    "    print('directories:',dirname)\n",
    "    print('files:',filename)\n",
    "    print()"
   ]
  },
  {
   "cell_type": "code",
   "execution_count": 215,
   "metadata": {},
   "outputs": [
    {
     "name": "stdout",
     "output_type": "stream",
     "text": [
      "None\n"
     ]
    }
   ],
   "source": [
    "#environment\n",
    "print(os.environ.get('C:/Users/seenu.nahak/training'))"
   ]
  },
  {
   "cell_type": "code",
   "execution_count": 219,
   "metadata": {},
   "outputs": [
    {
     "name": "stdout",
     "output_type": "stream",
     "text": [
      "C:\\Users\\seenu.nahak\\training\\exampletext.text\n"
     ]
    }
   ],
   "source": [
    "#creating file\n",
    "os.chdir('C:/Users/seenu.nahak/training/example')\n",
    "filepath=os.getcwd()+'text.text'\n",
    "print(filepath)"
   ]
  },
  {
   "cell_type": "code",
   "execution_count": 220,
   "metadata": {},
   "outputs": [
    {
     "name": "stdout",
     "output_type": "stream",
     "text": [
      "C:\\Users\\seenu.nahak\\training\\example\\test.txt\n"
     ]
    }
   ],
   "source": [
    "filename=os.path.join(os.getcwd(),'test.txt')\n",
    "print(filename)"
   ]
  },
  {
   "cell_type": "code",
   "execution_count": 221,
   "metadata": {},
   "outputs": [
    {
     "name": "stdout",
     "output_type": "stream",
     "text": [
      "2.txt\n"
     ]
    }
   ],
   "source": [
    "print(os.path.basename('C:/Users/seenu.nahak/training/example/2.txt'))"
   ]
  },
  {
   "cell_type": "code",
   "execution_count": 222,
   "metadata": {},
   "outputs": [
    {
     "name": "stdout",
     "output_type": "stream",
     "text": [
      "C:/Users/seenu.nahak/training\n"
     ]
    }
   ],
   "source": [
    "print(os.path.dirname('C:/Users/seenu.nahak/training/example'))"
   ]
  },
  {
   "cell_type": "code",
   "execution_count": 225,
   "metadata": {},
   "outputs": [
    {
     "name": "stdout",
     "output_type": "stream",
     "text": [
      "('C:/Users/seenu.nahak/training', 'example')\n"
     ]
    }
   ],
   "source": [
    "print(os.path.split('C:/Users/seenu.nahak/training/example'))"
   ]
  },
  {
   "cell_type": "code",
   "execution_count": 227,
   "metadata": {},
   "outputs": [
    {
     "name": "stdout",
     "output_type": "stream",
     "text": [
      "False\n",
      "True\n"
     ]
    }
   ],
   "source": [
    "print(os.path.exists('C:/Users/seenu.nahak/training/example/1.txt'))\n",
    "print(os.path.exists('C:/Users/seenu.nahak/training/example/2.txt'))"
   ]
  },
  {
   "cell_type": "code",
   "execution_count": 229,
   "metadata": {},
   "outputs": [
    {
     "name": "stdout",
     "output_type": "stream",
     "text": [
      "('C:/Users/seenu.nahak/training/example/1', '.txt')\n"
     ]
    }
   ],
   "source": [
    "print(os.path.splitext('C:/Users/seenu.nahak/training/example/1.txt'))"
   ]
  },
  {
   "cell_type": "code",
   "execution_count": 234,
   "metadata": {},
   "outputs": [
    {
     "name": "stdout",
     "output_type": "stream",
     "text": [
      "Mon Apr  7 16:25:37 2025\n"
     ]
    }
   ],
   "source": [
    "#time module\n",
    "import time\n",
    "print(time.ctime())"
   ]
  },
  {
   "cell_type": "code",
   "execution_count": 236,
   "metadata": {},
   "outputs": [
    {
     "name": "stdout",
     "output_type": "stream",
     "text": [
      "1744023433.1216133\n"
     ]
    }
   ],
   "source": [
    "print(time.time()) #time in seconds"
   ]
  },
  {
   "cell_type": "code",
   "execution_count": 237,
   "metadata": {},
   "outputs": [
    {
     "name": "stdout",
     "output_type": "stream",
     "text": [
      "time.struct_time(tm_year=2025, tm_mon=4, tm_mday=7, tm_hour=16, tm_min=28, tm_sec=54, tm_wday=0, tm_yday=97, tm_isdst=0)\n"
     ]
    }
   ],
   "source": [
    "print(time.localtime())"
   ]
  },
  {
   "cell_type": "code",
   "execution_count": 238,
   "metadata": {},
   "outputs": [
    {
     "name": "stdout",
     "output_type": "stream",
     "text": [
      "hello\n"
     ]
    }
   ],
   "source": [
    "time.sleep(2)\n",
    "print('hello')"
   ]
  },
  {
   "cell_type": "code",
   "execution_count": 239,
   "metadata": {},
   "outputs": [
    {
     "name": "stdout",
     "output_type": "stream",
     "text": [
      "2025-04-07 16:31:24\n"
     ]
    }
   ],
   "source": [
    "print(time.strftime(\"%Y-%m-%d %H:%M:%S\",time.localtime()))"
   ]
  },
  {
   "cell_type": "code",
   "execution_count": 240,
   "metadata": {},
   "outputs": [
    {
     "data": {
      "text/plain": [
       "3.0009792000055313"
      ]
     },
     "execution_count": 240,
     "metadata": {},
     "output_type": "execute_result"
    }
   ],
   "source": [
    "start_time=time.perf_counter()\n",
    "time.sleep(3)\n",
    "end_time=time.perf_counter()\n",
    "end_time-start_time"
   ]
  },
  {
   "cell_type": "code",
   "execution_count": 241,
   "metadata": {},
   "outputs": [
    {
     "name": "stdout",
     "output_type": "stream",
     "text": [
      "list lookup: 0.038909199996851385\n",
      "set lookup: 0.0003706999705173075\n"
     ]
    }
   ],
   "source": [
    "import timeit\n",
    "\n",
    "#time to check if 500 is in a list\n",
    "list_time=timeit.timeit(stmt='500 in my_list',\n",
    "                        setup='my_list=list(range(1000))',\n",
    "                        number=10000)\n",
    "\n",
    "#time to check if 500 is in a set\n",
    "set_time=timeit.timeit(stmt='500 in my_set',\n",
    "                        setup='my_set=set(range(1000))',\n",
    "                        number=10000)\n",
    "\n",
    "print('list lookup:',list_time)\n",
    "print('set lookup:',set_time)\n"
   ]
  },
  {
   "cell_type": "code",
   "execution_count": 252,
   "metadata": {},
   "outputs": [
    {
     "name": "stdout",
     "output_type": "stream",
     "text": [
      "4.630623799981549\n"
     ]
    }
   ],
   "source": [
    "def func():\n",
    "    return sum([i for i in range(10000)])\n",
    "\n",
    "print(timeit.timeit(func,number=10000))\n"
   ]
  },
  {
   "cell_type": "code",
   "execution_count": null,
   "metadata": {},
   "outputs": [],
   "source": [
    "#calculate the time required to complete a process\n",
    "#display current time every second\n",
    "#print the current year and month\n",
    "#create a simple stopwatch\n"
   ]
  },
  {
   "cell_type": "code",
   "execution_count": 253,
   "metadata": {},
   "outputs": [
    {
     "name": "stdout",
     "output_type": "stream",
     "text": [
      "4.53755770000862\n"
     ]
    },
    {
     "data": {
      "text/plain": [
       "4.538184299948625"
      ]
     },
     "execution_count": 253,
     "metadata": {},
     "output_type": "execute_result"
    }
   ],
   "source": [
    "start_time=time.perf_counter()\n",
    "def func():\n",
    "    return sum([i for i in range(10000)])\n",
    "\n",
    "print(timeit.timeit(func,number=10000))\n",
    "end_time=time.perf_counter()\n",
    "end_time-start_time"
   ]
  },
  {
   "cell_type": "code",
   "execution_count": 261,
   "metadata": {},
   "outputs": [
    {
     "name": "stdout",
     "output_type": "stream",
     "text": [
      "17:09:58\n",
      "17:09:59\n",
      "17:10:00\n",
      "17:10:01\n",
      "17:10:02\n",
      "17:10:03\n",
      "17:10:04\n",
      "17:10:05\n",
      "17:10:06\n",
      "17:10:07\n"
     ]
    }
   ],
   "source": [
    "for _ in range(10):\n",
    "    print(time.strftime(\"%H:%M:%S\", time.localtime()))\n",
    "    time.sleep(1)"
   ]
  },
  {
   "cell_type": "code",
   "execution_count": 255,
   "metadata": {},
   "outputs": [
    {
     "name": "stdout",
     "output_type": "stream",
     "text": [
      "2025 04\n"
     ]
    }
   ],
   "source": [
    "print(time.strftime(\"%Y %m\",time.localtime()))"
   ]
  },
  {
   "cell_type": "code",
   "execution_count": 262,
   "metadata": {},
   "outputs": [],
   "source": [
    "#datetime module"
   ]
  },
  {
   "cell_type": "code",
   "execution_count": 264,
   "metadata": {},
   "outputs": [
    {
     "name": "stdout",
     "output_type": "stream",
     "text": [
      "2025-04-07 17:19:20.233961\n"
     ]
    }
   ],
   "source": [
    "#current time\n",
    "import datetime\n",
    "print(datetime.datetime.now())"
   ]
  },
  {
   "cell_type": "code",
   "execution_count": 287,
   "metadata": {},
   "outputs": [
    {
     "name": "stdout",
     "output_type": "stream",
     "text": [
      "12\n"
     ]
    }
   ],
   "source": [
    "#days until a specific date\n",
    "target_date = datetime.date(2025, 4, 19)\n",
    "current_date = datetime.date.today()\n",
    "\n",
    "print((target_date - current_date).days)"
   ]
  },
  {
   "cell_type": "code",
   "execution_count": 286,
   "metadata": {},
   "outputs": [
    {
     "name": "stdout",
     "output_type": "stream",
     "text": [
      "07-04-25\n"
     ]
    }
   ],
   "source": [
    "#convert a user input from yyyy-mm-dd to dd-mm-yy\n",
    "def convert_date_format(date_str):\n",
    "    date_obj = datetime.datetime.strptime(date_str, '%Y-%m-%d')\n",
    "    formatted_date = date_obj.strftime('%d-%m-%y')\n",
    "    return formatted_date\n",
    "\n",
    "input_date = \"2025-04-07\"\n",
    "converted_date = convert_date_format(input_date)\n",
    "print(converted_date)\n"
   ]
  },
  {
   "cell_type": "code",
   "execution_count": 300,
   "metadata": {},
   "outputs": [
    {
     "name": "stdout",
     "output_type": "stream",
     "text": [
      "{1: {'name': 'qhzwwskkp', 'age': 55, 'number': '2736678169', 'email': 'qhzwwskkp@gmail.com'}, 2: {'name': 'xchbdxcih', 'age': 35, 'number': '5485259210', 'email': 'xchbdxcih@gmail.com'}, 3: {'name': 'udmttaft', 'age': 26, 'number': '6377121542', 'email': 'udmttaft@gmail.com'}, 4: {'name': 'bowxqbvbbo', 'age': 51, 'number': '6884995492', 'email': 'bowxqbvbbo@gmail.com'}, 5: {'name': 'xklciwju', 'age': 40, 'number': '8146576624', 'email': 'xklciwju@gmail.com'}, 6: {'name': 'ertfa', 'age': 46, 'number': '5642532009', 'email': 'ertfa@gmail.com'}, 7: {'name': 'srrebs', 'age': 36, 'number': '5754413511', 'email': 'srrebs@gmail.com'}, 8: {'name': 'shozrvhsti', 'age': 53, 'number': '4086579055', 'email': 'shozrvhsti@gmail.com'}, 9: {'name': 'pjrpalis', 'age': 55, 'number': '7236654151', 'email': 'pjrpalis@gmail.com'}, 10: {'name': 'dinhf', 'age': 52, 'number': '2088425939', 'email': 'dinhf@gmail.com'}}\n"
     ]
    }
   ],
   "source": [
    "#random \n",
    "#task: randim data generator for testing\n",
    "#Description: create a script that generates fake data for 10 users. each user should have:\n",
    "#a random full name\n",
    "#a random age between 18 and 60\n",
    "#a random 10-digit number\n",
    "#a random email based on thein name\n",
    "\n",
    "import random,string\n",
    "def generate_random_name():\n",
    "    length = random.randint(5, 10)\n",
    "    letters = string.ascii_lowercase\n",
    "    random_name = ''.join(random.choice(letters) for _ in range(length))\n",
    "    return random_name\n",
    "\n",
    "def generate_random_age():\n",
    "    return random.randrange(18,60)\n",
    "\n",
    "def generate_random_number():\n",
    "    numbers=string.digits\n",
    "    random_number = ''.join(random.choice(numbers) for _ in range(10))\n",
    "    return random_number\n",
    "\n",
    "def generate_random_mail(x):\n",
    "    return a+'@gmail.com'\n",
    "\n",
    "dict={}\n",
    "for i in range(10):\n",
    "    a=generate_random_name()\n",
    "    b=generate_random_age()\n",
    "    c=generate_random_number()\n",
    "    d=generate_random_mail(a)\n",
    "    x={'name':a,'age':b,'number':c,'email':d}\n",
    "    dict[i+1]=x\n",
    "print(dict)\n"
   ]
  }
 ],
 "metadata": {
  "kernelspec": {
   "display_name": "Python 3",
   "language": "python",
   "name": "python3"
  },
  "language_info": {
   "codemirror_mode": {
    "name": "ipython",
    "version": 3
   },
   "file_extension": ".py",
   "mimetype": "text/x-python",
   "name": "python",
   "nbconvert_exporter": "python",
   "pygments_lexer": "ipython3",
   "version": "3.12.3"
  }
 },
 "nbformat": 4,
 "nbformat_minor": 2
}
