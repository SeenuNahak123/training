{
 "cells": [
  {
   "cell_type": "code",
   "execution_count": 4,
   "metadata": {},
   "outputs": [
    {
     "name": "stdout",
     "output_type": "stream",
     "text": [
      "24\n"
     ]
    }
   ],
   "source": [
    "def factorial(n):\n",
    "    if n==1:\n",
    "        return 1\n",
    "    return n*factorial(n-1)\n",
    "print(factorial(4))"
   ]
  },
  {
   "cell_type": "code",
   "execution_count": 5,
   "metadata": {},
   "outputs": [
    {
     "name": "stdout",
     "output_type": "stream",
     "text": [
      "24\n"
     ]
    }
   ],
   "source": [
    "def list_sum(num_list):\n",
    "    if len(num_list)==1:\n",
    "        return num_list[0]\n",
    "    else:\n",
    "        return num_list[0]+list_sum(num_list[1:])\n",
    "print(list_sum([2,4,5,6,7]))"
   ]
  },
  {
   "cell_type": "code",
   "execution_count": 2,
   "metadata": {},
   "outputs": [
    {
     "name": "stdout",
     "output_type": "stream",
     "text": [
      "0\n",
      "1\n",
      "1\n",
      "2\n",
      "3\n"
     ]
    }
   ],
   "source": [
    "def fib(n):\n",
    "    if n<=1:\n",
    "        return n\n",
    "    return fib(n-1)+fib(n-2)\n",
    "\n",
    "n=5\n",
    "for i in range(n):\n",
    "    print(fib(i))"
   ]
  },
  {
   "cell_type": "code",
   "execution_count": 6,
   "metadata": {},
   "outputs": [
    {
     "name": "stdout",
     "output_type": "stream",
     "text": [
      "5\n"
     ]
    }
   ],
   "source": [
    "def count(n):\n",
    "    if n<10:\n",
    "        return 1\n",
    "    else:\n",
    "        return 1+count(n/10)\n",
    "print(count(12345))"
   ]
  },
  {
   "cell_type": "code",
   "execution_count": 7,
   "metadata": {},
   "outputs": [
    {
     "name": "stdout",
     "output_type": "stream",
     "text": [
      "esrever gnirts"
     ]
    }
   ],
   "source": [
    "def reverse(n):\n",
    "    \n",
    "    if len(n)==1:\n",
    "        print(n,end='')\n",
    "    else:\n",
    "        print(n[-1],end='')\n",
    "        reverse(n[0:len(n)-1])\n",
    "\n",
    "reverse('string reverse')"
   ]
  },
  {
   "cell_type": "markdown",
   "metadata": {},
   "source": [
    "#first class function"
   ]
  },
  {
   "cell_type": "code",
   "execution_count": 15,
   "metadata": {},
   "outputs": [
    {
     "name": "stdout",
     "output_type": "stream",
     "text": [
      "<function square at 0x0000019F41DFF560>\n"
     ]
    }
   ],
   "source": [
    "#we are just trying to mask functions name with another name\n",
    "\n",
    "def square(num):\n",
    "    return num*num\n",
    "\n",
    "f=square\n",
    "print(f)"
   ]
  },
  {
   "cell_type": "code",
   "execution_count": 9,
   "metadata": {},
   "outputs": [
    {
     "data": {
      "text/plain": [
       "625"
      ]
     },
     "execution_count": 9,
     "metadata": {},
     "output_type": "execute_result"
    }
   ],
   "source": [
    "f(25)"
   ]
  },
  {
   "cell_type": "code",
   "execution_count": 18,
   "metadata": {},
   "outputs": [
    {
     "name": "stdout",
     "output_type": "stream",
     "text": [
      "[1, 4, 9, 16, 25]\n"
     ]
    }
   ],
   "source": [
    "def my_map(func,arr):\n",
    "    result=[]\n",
    "    for i in arr:\n",
    "        result.append(func(i))\n",
    "    return result\n",
    "\n",
    "squares=my_map(f,[1,2,3,4,5])\n",
    "print(squares)\n"
   ]
  },
  {
   "cell_type": "code",
   "execution_count": 24,
   "metadata": {},
   "outputs": [
    {
     "name": "stdout",
     "output_type": "stream",
     "text": [
      "log: hi\n"
     ]
    }
   ],
   "source": [
    "def logger(msg):\n",
    "    def log_message():\n",
    "        print('log:',msg)\n",
    "    return log_message\n",
    "\n",
    "log_hi=logger('hi')\n",
    "log_hi()\n"
   ]
  },
  {
   "cell_type": "code",
   "execution_count": 25,
   "metadata": {},
   "outputs": [
    {
     "name": "stdout",
     "output_type": "stream",
     "text": [
      "log: hi from: abc\n",
      "log: welcome from: xyz\n"
     ]
    }
   ],
   "source": [
    "def logger(msg):\n",
    "    def log_message(name):\n",
    "        print('log:',msg,'from:',name)\n",
    "    return log_message\n",
    "\n",
    "log_hi=logger('hi')\n",
    "log_hi('abc')\n",
    "\n",
    "log_welcome=logger('welcome')\n",
    "log_welcome('xyz')"
   ]
  },
  {
   "cell_type": "code",
   "execution_count": 26,
   "metadata": {},
   "outputs": [
    {
     "data": {
      "text/plain": [
       "105"
      ]
     },
     "execution_count": 26,
     "metadata": {},
     "output_type": "execute_result"
    }
   ],
   "source": [
    "#create a closure to add a fixed number\n",
    "def adder(n):\n",
    "    def addition(k):\n",
    "        return k+n\n",
    "    return addition\n",
    "\n",
    "add5=adder(5)\n",
    "add5(100)"
   ]
  },
  {
   "cell_type": "code",
   "execution_count": 28,
   "metadata": {},
   "outputs": [
    {
     "data": {
      "text/plain": [
       "230.85"
      ]
     },
     "execution_count": 28,
     "metadata": {},
     "output_type": "execute_result"
    }
   ],
   "source": [
    "def discount(n):\n",
    "    def sub(k):\n",
    "        return k-(k/100)*n\n",
    "    return sub\n",
    "\n",
    "discount5=discount(5)\n",
    "discount5(243)"
   ]
  },
  {
   "cell_type": "code",
   "execution_count": null,
   "metadata": {},
   "outputs": [
    {
     "name": "stdout",
     "output_type": "stream",
     "text": [
      "6\n",
      "9\n",
      "5\n",
      "10\n"
     ]
    }
   ],
   "source": [
    "import logging \n",
    "logging.basicConfig(filename='example.log',level=logging.INFO)\n",
    "\n",
    "def logger(func):\n",
    "    def log_func(*args):\n",
    "        logging.info('Running \"{}\" with arguments {}'.format(func.__name__,args))\n",
    "        print(func(*args))\n",
    "    return log_func\n",
    "\n",
    "def add(x,y):\n",
    "    return x+y\n",
    "\n",
    "def sub(x,y):\n",
    "    return x-y\n",
    "\n",
    "add_logger=logger(add)\n",
    "sub_logger=logger(sub)\n",
    "\n",
    "add_logger(3,3)\n",
    "add_logger(4,5)\n",
    "\n",
    "sub_logger(10,5)\n",
    "sub_logger(20,10)\n",
    "\n",
    "add_logger(3,4,5)\n"
   ]
  },
  {
   "cell_type": "code",
   "execution_count": 79,
   "metadata": {},
   "outputs": [
    {
     "name": "stdout",
     "output_type": "stream",
     "text": [
      "[1, 2, 3, 4, 5]\n"
     ]
    }
   ],
   "source": [
    "#flatten a list [1,[2,[3,4]],5]->[1,2,3,4,5]\n",
    "\n",
    "def flat(l):\n",
    "    for i in l:\n",
    "        if type(i) == list:\n",
    "            flat(i)\n",
    "        else:\n",
    "            b.append(i)\n",
    "\n",
    "a=[1,[2,[3,4]],5]\n",
    "b=[]\n",
    "flat(a)\n",
    "print(b)\n",
    "    "
   ]
  },
  {
   "cell_type": "code",
   "execution_count": null,
   "metadata": {},
   "outputs": [
    {
     "name": "stdout",
     "output_type": "stream",
     "text": [
      "1\n",
      "10\n",
      "101\n",
      "1013\n",
      "0\n",
      "01\n",
      "013\n",
      "1\n",
      "13\n",
      "3\n"
     ]
    }
   ],
   "source": [
    "'''\n",
    "s='1013'\n",
    "substring=\n",
    "'1,10,101,1013'\n",
    "'0,01,013'\n",
    "'1,13'\n",
    "'3'\n",
    "'''\n",
    "\n",
    "\n",
    "'''def print_sub(s,start=0,current=\"\"):\n",
    "    if start==len(s):\n",
    "        return\n",
    "    if current==\"\":\n",
    "        current=s[start]\n",
    "    print(current)\n",
    "    if start + len(current)<len(s):\n",
    "        print_sub(s,start,current+s[start+len(current)])\n",
    "    else:\n",
    "        print_sub(s,start+1)\n",
    "print_sub('1234')    '''\n",
    "\n",
    "\n",
    "def sub(x,s):\n",
    "    if x>0:\n",
    "        for i in range(len(s)):\n",
    "            print(s[0:i+1])\n",
    "    if x-1!=0:\n",
    "        sub(x-1,s[1:len(s)+1])\n",
    "\n",
    "s='1013'\n",
    "x=len(s)\n",
    "\n",
    "sub(x,s)\n"
   ]
  },
  {
   "cell_type": "code",
   "execution_count": 168,
   "metadata": {},
   "outputs": [
    {
     "name": "stdout",
     "output_type": "stream",
     "text": [
      "3.0\n"
     ]
    }
   ],
   "source": [
    "#calculate the average of the given argument using *args\n",
    "\n",
    "\n",
    "'''def cal(*args):\n",
    "    b=0\n",
    "    for i in a:\n",
    "        b=b+i\n",
    "    print(b/len(a))\n",
    "\n",
    "\n",
    "a=[1,2,3,4,5]\n",
    "cal(a)'''\n",
    "\n",
    "def add(a,*args):\n",
    "    b=args[0]\n",
    "    if len(b)>0:\n",
    "     return a+add(b[0],b[1:len(b)])\n",
    "    else:\n",
    "       return a\n",
    "a=[1,2,3,4,5]\n",
    "\n",
    "sum=add(a[0],a[1:len(a)])\n",
    "print(sum/len(a))\n"
   ]
  },
  {
   "cell_type": "code",
   "execution_count": null,
   "metadata": {},
   "outputs": [
    {
     "name": "stdout",
     "output_type": "stream",
     "text": [
      "5\n"
     ]
    }
   ],
   "source": [
    "'''a=[1,2,3,4,5]\n",
    "temp=0\n",
    "for i in a:\n",
    "    if i>temp:\n",
    "        temp=i\n",
    "print(temp)'''\n",
    "\n",
    "def m(temp,*args):\n",
    "\n",
    "    b=args[0]\n",
    "    if b[0]>temp:\n",
    "        temp=b[0]\n",
    "    if len(b)==1:\n",
    "        return temp\n",
    "    else:\n",
    "        return m(temp,b[1:len(b)+1])\n",
    "        \n",
    "a=[1,2,3,4,5]\n",
    "print(m(a[0],a[1:len(a)+1]))\n",
    "\n"
   ]
  },
  {
   "cell_type": "code",
   "execution_count": null,
   "metadata": {},
   "outputs": [],
   "source": [
    "#check the arguments using **kwargs\n",
    "#required(name=abc,email=a@b,dob=1/11/111) #all fields are present\n",
    "#required(name=abc,dob=1/11/1111)#missing required fields\n"
   ]
  },
  {
   "cell_type": "code",
   "execution_count": 233,
   "metadata": {},
   "outputs": [
    {
     "name": "stdout",
     "output_type": "stream",
     "text": [
      "all present\n",
      "correct order\n",
      "\n",
      "missing\n",
      "\n",
      "all present\n",
      "not correct order\n",
      "\n"
     ]
    }
   ],
   "source": [
    "def missing(**kwargs):\n",
    "    a=['name','email','dob']\n",
    "    b=kwargs.keys()\n",
    "    flag=0\n",
    "    for i in a:\n",
    "        if i not in b:\n",
    "            flag=1\n",
    "            print(\"missing\")\n",
    "            print()\n",
    "            break  \n",
    "    if(flag==0):\n",
    "        print(\"all present\")\n",
    "        print(correct(**kwargs))\n",
    "        print()\n",
    "    \n",
    "def correct(**kwargs):\n",
    "    a=['name','email','dob']\n",
    "    b=list(kwargs.keys())\n",
    "\n",
    "    for i in range(0,3):\n",
    "        if a[i]!=b[i]:\n",
    "            return \"not correct order\"\n",
    "    return \"correct order\"\n",
    "    \n",
    "\n",
    "missing(name='abc',email='a@b',dob='1/11/111')\n",
    "missing(name='abc',dob='1/11/111')\n",
    "missing(email='a@b',name='abc',dob='1/11/111')\n"
   ]
  },
  {
   "cell_type": "code",
   "execution_count": null,
   "metadata": {},
   "outputs": [
    {
     "data": {
      "text/plain": [
       "105.0"
      ]
     },
     "execution_count": 242,
     "metadata": {},
     "output_type": "execute_result"
    }
   ],
   "source": [
    "#bill(100,tax=5,tip=10=discount=?)\n",
    "\n",
    "def bill(cost,**args):\n",
    "    b=list(args.keys())\n",
    "    if 'tax' in b:\n",
    "        if args['tax']>=5:\n",
    "            cost=cost+cost*args['tax']/100\n",
    "    if 'tip' in b:\n",
    "        cost=cost+args['tip']\n",
    "    if 'discount' in b:\n",
    "        cost=cost-args['discount']\n",
    "    return cost\n",
    "\n",
    "bill(100,tax=5,tip=10,discount=10)"
   ]
  },
  {
   "cell_type": "code",
   "execution_count": 15,
   "metadata": {},
   "outputs": [
    {
     "name": "stdout",
     "output_type": "stream",
     "text": [
      "3\n",
      "5\n",
      "7\n",
      "3\n"
     ]
    }
   ],
   "source": [
    "#create a closure to generate odd number\n",
    "\n",
    "'''odd=calculate()\n",
    "print(odd())#3\n",
    "print(odd())#5\n",
    "print(odd())#7\n",
    "\n",
    "odd2=calculate()\n",
    "print(odd2())#3\n",
    "'''\n",
    "\n",
    "\n",
    "def calculate():\n",
    "\n",
    "    a=1\n",
    "    def find():\n",
    "        nonlocal a\n",
    "        a=a+2\n",
    "        return a\n",
    "    return find\n",
    "\n",
    "odd=calculate()\n",
    "print(odd())\n",
    "print(odd())\n",
    "print(odd())\n",
    "\n",
    "odd2=calculate()\n",
    "print(odd2())\n"
   ]
  },
  {
   "cell_type": "code",
   "execution_count": 16,
   "metadata": {},
   "outputs": [
    {
     "name": "stdout",
     "output_type": "stream",
     "text": [
      "green\n"
     ]
    }
   ],
   "source": [
    "#scope inside a nested func\n",
    "def data():\n",
    "    color='green'\n",
    "    def fly():\n",
    "        print(color)\n",
    "    fly()\n",
    "data()"
   ]
  },
  {
   "cell_type": "code",
   "execution_count": 17,
   "metadata": {},
   "outputs": [
    {
     "name": "stdout",
     "output_type": "stream",
     "text": [
      "2\n",
      "blue\n",
      "red\n",
      "dave\n"
     ]
    }
   ],
   "source": [
    "name='dave'\n",
    "count=1\n",
    "\n",
    "def another():\n",
    "    color='blue'\n",
    "    global count\n",
    "    count +=1\n",
    "    print(count)\n",
    "\n",
    "    def greeting(name):\n",
    "        nonlocal color\n",
    "        color='red'\n",
    "        print(color)\n",
    "        print(name)\n",
    "\n",
    "    print(color)\n",
    "    greeting('dave')\n",
    "\n",
    "another()"
   ]
  },
  {
   "cell_type": "code",
   "execution_count": 18,
   "metadata": {},
   "outputs": [
    {
     "name": "stdout",
     "output_type": "stream",
     "text": [
      "3\n",
      "5\n",
      "7\n",
      "3\n"
     ]
    }
   ],
   "source": [
    "def calculate():\n",
    "    a = 1\n",
    "    def find():\n",
    "        nonlocal a\n",
    "        a = a + 2\n",
    "        return a\n",
    "    return find\n",
    "\n",
    "odd = calculate()\n",
    "print(odd())  # Output: 3\n",
    "print(odd())  # Output: 5\n",
    "print(odd())  # Output: 7\n",
    "\n",
    "odd2 = calculate()\n",
    "print(odd2())  # Output: 3"
   ]
  }
 ],
 "metadata": {
  "kernelspec": {
   "display_name": "Python 3",
   "language": "python",
   "name": "python3"
  },
  "language_info": {
   "codemirror_mode": {
    "name": "ipython",
    "version": 3
   },
   "file_extension": ".py",
   "mimetype": "text/x-python",
   "name": "python",
   "nbconvert_exporter": "python",
   "pygments_lexer": "ipython3",
   "version": "3.12.3"
  }
 },
 "nbformat": 4,
 "nbformat_minor": 2
}
