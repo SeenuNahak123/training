{
 "cells": [
  {
   "cell_type": "code",
   "execution_count": null,
   "id": "e6843c59",
   "metadata": {},
   "outputs": [
    {
     "name": "stdout",
     "output_type": "stream",
     "text": [
      "hello\n",
      "25\n",
      "12\n"
     ]
    }
   ],
   "source": [
    "class demo:                     #can run withhout an object\n",
    "    print('hello')\n",
    "    a=12\n",
    "    b=13\n",
    "    print(a+b)\n",
    "\n",
    "\n",
    "obj=demo()\n",
    "print(obj.a)"
   ]
  },
  {
   "cell_type": "code",
   "execution_count": null,
   "id": "fb917270",
   "metadata": {},
   "outputs": [
    {
     "name": "stdout",
     "output_type": "stream",
     "text": [
      "4\n",
      "30\n"
     ]
    }
   ],
   "source": [
    "class demo:     \n",
    "    def add(self,a,b):            #instance/object parameter\n",
    "        # a=12\n",
    "        # b=13\n",
    "        print(a+b)\n",
    "\n",
    "\n",
    "obj=demo()\n",
    "obj.add(1,3)\n",
    "obj1=demo()\n",
    "obj1.add(10,20)"
   ]
  },
  {
   "cell_type": "code",
   "execution_count": null,
   "id": "9dd70780",
   "metadata": {},
   "outputs": [
    {
     "data": {
      "text/plain": [
       "-5"
      ]
     },
     "execution_count": 8,
     "metadata": {},
     "output_type": "execute_result"
    }
   ],
   "source": [
    "class demo:\n",
    "    c=5                               #class variable\n",
    "    def add(self,a,b):\n",
    "        return a+b\n",
    "    def sub(self,a,b):\n",
    "        return a-b-self.c\n",
    "    \n",
    "# obj=demo()\n",
    "# v=obj.add(12,12)\n",
    "# obj1=demo()\n",
    "# v1=obj1.add(10,10)\n",
    "\n",
    "obj=demo()\n",
    "obj.sub(10,10)"
   ]
  },
  {
   "cell_type": "code",
   "execution_count": null,
   "id": "6d71161e",
   "metadata": {},
   "outputs": [
    {
     "data": {
      "text/plain": [
       "0"
      ]
     },
     "execution_count": 7,
     "metadata": {},
     "output_type": "execute_result"
    }
   ],
   "source": [
    "class demo:\n",
    "    def __init__(self,a,b): #activated by your object / DUNDER METHOD\n",
    "        self.a=a            #instance variables\n",
    "        self.b=b                              \n",
    "    def add(self):\n",
    "        return self.a+self.b\n",
    "    def sub(self):\n",
    "        return self.a-self.b\n",
    "\n",
    "obj=demo(10,10)\n",
    "obj.sub()"
   ]
  },
  {
   "cell_type": "code",
   "execution_count": 10,
   "id": "eb561331",
   "metadata": {},
   "outputs": [
    {
     "name": "stdout",
     "output_type": "stream",
     "text": [
      "prime\n",
      "v=6 and c=13\n",
      "3\n"
     ]
    }
   ],
   "source": [
    "class logics:\n",
    "    def __init__(self,a=0,b=0,c=0):\n",
    "        self.a=a\n",
    "        self.b=b\n",
    "        self.c=c\n",
    "    def prime(self):\n",
    "        flag=0\n",
    "        for i in range(2,self.a):\n",
    "            if self.a/i==0:\n",
    "                flag=1\n",
    "                break\n",
    "        print('prime' if flag==0 else\"not prime\")\n",
    "    def count_vowel(self):\n",
    "        a=self.a.upper()\n",
    "        cv,cc=0,0\n",
    "        for i in a:\n",
    "            if(i in 'AEIOU'):\n",
    "                cv+=1\n",
    "            elif(i!=\" \"):\n",
    "                cc+=1\n",
    "        print(f'v={cv} and c={cc}')\n",
    "    def max(self):\n",
    "        print(max(self.a,self.b))\n",
    "obj1=logics(13)    \n",
    "obj1.prime()\n",
    "obj2=logics('PRESS ENTER TO CONFIRM')\n",
    "obj2.count_vowel()\n",
    "obj3=logics(2,3)\n",
    "obj3.max()"
   ]
  },
  {
   "cell_type": "code",
   "execution_count": 23,
   "id": "33e5d2ce",
   "metadata": {},
   "outputs": [
    {
     "data": {
      "text/plain": [
       "-30"
      ]
     },
     "execution_count": 23,
     "metadata": {},
     "output_type": "execute_result"
    }
   ],
   "source": [
    "#declare variable for a object outside the class\n",
    "class demo:\n",
    "    '''This class is for addition and subtraction'''\n",
    "    def __init__(self,a:int,b:int): #activated by your object / DUNDER METHOD\n",
    "        self.a=a            #instance variables\n",
    "        self.b=b                              \n",
    "    def add(self)->int:\n",
    "        '''this method is for addition'''\n",
    "        return self.a+self.b\n",
    "    def sub(self)->int:\n",
    "        '''this method is for subtraction'''\n",
    "        return self.a-self.b-self.d\n",
    "\n",
    "obj=demo(10,10)\n",
    "obj.d=30     #class variable\n",
    "obj.sub()"
   ]
  },
  {
   "cell_type": "code",
   "execution_count": 28,
   "id": "4a93121c",
   "metadata": {},
   "outputs": [
    {
     "name": "stdout",
     "output_type": "stream",
     "text": [
      "This class is for addition and subtraction\n",
      "this method is for addition\n"
     ]
    }
   ],
   "source": [
    "print(demo.__doc__)\n",
    "print(demo.add.__doc__)\n"
   ]
  },
  {
   "cell_type": "code",
   "execution_count": null,
   "id": "03e90173",
   "metadata": {},
   "outputs": [],
   "source": [
    "#roman number to int\n",
    "#vii=7\n",
    "\n",
    "l={'i':1,'v':5,'x':10,'l':50,'c':100}\n",
    "\n"
   ]
  },
  {
   "cell_type": "code",
   "execution_count": null,
   "id": "edcbf2d6",
   "metadata": {},
   "outputs": [],
   "source": []
  },
  {
   "cell_type": "code",
   "execution_count": null,
   "id": "168a85b4",
   "metadata": {},
   "outputs": [],
   "source": []
  }
 ],
 "metadata": {
  "kernelspec": {
   "display_name": "Python 3",
   "language": "python",
   "name": "python3"
  },
  "language_info": {
   "codemirror_mode": {
    "name": "ipython",
    "version": 3
   },
   "file_extension": ".py",
   "mimetype": "text/x-python",
   "name": "python",
   "nbconvert_exporter": "python",
   "pygments_lexer": "ipython3",
   "version": "3.12.3"
  }
 },
 "nbformat": 4,
 "nbformat_minor": 5
}
