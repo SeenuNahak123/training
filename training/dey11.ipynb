{
 "cells": [
  {
   "cell_type": "code",
   "execution_count": null,
   "id": "cd27103e",
   "metadata": {},
   "outputs": [],
   "source": [
    "#          47                   #bfs - 47,21,76,18,27,52,82\n",
    "#         /  \\                  #pre - 47,21,18,27,76,52,82\n",
    "#        /    \\  \n",
    "#       /      \\                #in - 18,21,27,47,52,76,82\n",
    "#     21        76              #post - 18,27,21,52,82,76,47\n",
    "#    /  \\      /  \\\n",
    "#   /    \\    /    \\\n",
    "#  18    27  52    82"
   ]
  },
  {
   "cell_type": "code",
   "execution_count": 3,
   "id": "d6f8732f",
   "metadata": {},
   "outputs": [
    {
     "name": "stdout",
     "output_type": "stream",
     "text": [
      "[99, 72, 61, 58]\n",
      "[100, 99, 61, 58, 72]\n",
      "[100, 99, 75, 58, 72, 61]\n"
     ]
    }
   ],
   "source": [
    "class MaxHeap:\n",
    "    def __init__(self):\n",
    "        self.heap = []\n",
    "\n",
    "    def _left_child(self, index):\n",
    "        return 2 * index + 1\n",
    "\n",
    "    def _right_child(self, index):\n",
    "        return 2 * index + 2\n",
    "\n",
    "    def _parent(self, index):\n",
    "        return (index - 1) // 2\n",
    "\n",
    "    def _swap(self, index1, index2):\n",
    "        self.heap[index1], self.heap[index2] = self.heap[index2], self.heap[index1]\n",
    "\n",
    "    def insert(self,value):\n",
    "        self.heap.append(value)\n",
    "        current=len(self.heap)-1\n",
    "        \n",
    "        while current>0 and self.heap[current] > self.heap[self._parent(current)]:\n",
    "            self._swap(current,self._parent(current))\n",
    "            current=self._parent(current)\n",
    "    \n",
    "    \n",
    "    \n",
    "myheap = MaxHeap()\n",
    "myheap.insert(99)\n",
    "myheap.insert(72)\n",
    "myheap.insert(61)\n",
    "myheap.insert(58)\n",
    "\n",
    "print(myheap.heap)  \n",
    "\n",
    "\n",
    "myheap.insert(100)\n",
    "\n",
    "print(myheap.heap)  \n",
    "\n",
    "\n",
    "myheap.insert(75)\n",
    "\n",
    "print(myheap.heap)"
   ]
  },
  {
   "cell_type": "code",
   "execution_count": 13,
   "id": "eb607a6b",
   "metadata": {},
   "outputs": [
    {
     "name": "stdout",
     "output_type": "stream",
     "text": [
      "[1]\n",
      "[1, 2]\n",
      "[1, 2, 3]\n",
      "[2, 3]\n",
      "[3]\n",
      "[]\n",
      "queue empty\n",
      "[]\n"
     ]
    }
   ],
   "source": [
    "a=[]\n",
    "def push1(n):\n",
    "   a.append(n) \n",
    "def pop1():\n",
    "    if len(a)>0:\n",
    "        a.pop(0)\n",
    "    else:\n",
    "        print('queue empty')\n",
    "\n",
    "push1(1)\n",
    "print(a)\n",
    "\n",
    "push1(2)\n",
    "print(a)\n",
    "\n",
    "push1(3)\n",
    "print(a)\n",
    "\n",
    "pop1()\n",
    "print(a)\n",
    "\n",
    "pop1()\n",
    "print(a)\n",
    "\n",
    "pop1()\n",
    "print(a)\n",
    "\n",
    "pop1()\n",
    "print(a)\n"
   ]
  },
  {
   "cell_type": "code",
   "execution_count": 14,
   "id": "e594714b",
   "metadata": {},
   "outputs": [
    {
     "name": "stdout",
     "output_type": "stream",
     "text": [
      "[1]\n",
      "[1, 2]\n",
      "[1, 2, 3]\n",
      "[1, 2]\n",
      "[1]\n",
      "[]\n",
      "queue empty\n",
      "[]\n"
     ]
    }
   ],
   "source": [
    "a=[]\n",
    "def push1(n):\n",
    "   a.append(n) \n",
    "def pop1():\n",
    "    if len(a)>0:\n",
    "        a.pop(len(a)-1)\n",
    "    else:\n",
    "        print('queue empty')\n",
    "\n",
    "push1(1)\n",
    "print(a)\n",
    "\n",
    "push1(2)\n",
    "print(a)\n",
    "\n",
    "push1(3)\n",
    "print(a)\n",
    "\n",
    "pop1()\n",
    "print(a)\n",
    "\n",
    "pop1()\n",
    "print(a)\n",
    "\n",
    "pop1()\n",
    "print(a)\n",
    "\n",
    "pop1()\n",
    "print(a)"
   ]
  },
  {
   "cell_type": "code",
   "execution_count": 20,
   "id": "15704539",
   "metadata": {},
   "outputs": [
    {
     "name": "stdout",
     "output_type": "stream",
     "text": [
      "[53, 24, 73, 48, 12, 93, 47]\n"
     ]
    }
   ],
   "source": [
    "def sort(a):\n",
    "    n=int((len(a)+1)/2)\n",
    "    if len(a)==1:\n",
    "        return a\n",
    "    else:\n",
    "        return sort(a[0:n])+sort(a[n:])\n",
    "a=[53,24,73,48,12,93,47]\n",
    "print(sort(a))"
   ]
  },
  {
   "cell_type": "code",
   "execution_count": 25,
   "id": "8277bc65",
   "metadata": {},
   "outputs": [
    {
     "name": "stdout",
     "output_type": "stream",
     "text": [
      "[3, 9, 10, 11, 27, 38, 43, 82]\n"
     ]
    }
   ],
   "source": [
    "def merge_sort(arr):\n",
    "    if len(arr)<=1:\n",
    "        return arr\n",
    "    \n",
    "    n=len(arr)//2\n",
    "    left=merge_sort(arr[:n])\n",
    "    right=merge_sort(arr[n:])\n",
    "\n",
    "    return merge(left,right)\n",
    "\n",
    "def merge(left,right):\n",
    "    sorted_list=[]\n",
    "\n",
    "    i,j=0,0\n",
    "\n",
    "    while i<len(left) and j<len(right):\n",
    "        if left[i]<right[j]:\n",
    "            sorted_list.append(left[i])\n",
    "            i+=1\n",
    "        else:\n",
    "            sorted_list.append(right[j])\n",
    "            j+=1\n",
    "\n",
    "    sorted_list.extend(left[i:])\n",
    "    sorted_list.extend(right[j:])\n",
    "\n",
    "    return sorted_list\n",
    "\n",
    "a=[38,27,43,3,9,82,10,11]\n",
    "a=merge_sort(a)\n",
    "print(a)\n"
   ]
  },
  {
   "cell_type": "code",
   "execution_count": 35,
   "id": "f8249a28",
   "metadata": {},
   "outputs": [
    {
     "name": "stdout",
     "output_type": "stream",
     "text": [
      "5\n",
      "10\n",
      "Radius deleted\n"
     ]
    }
   ],
   "source": [
    "class Circle:\n",
    "    def __init__(self,radius):\n",
    "        self._radius=radius\n",
    "\n",
    "    @property\n",
    "    def radius(self):               #Getter\n",
    "        return self._radius\n",
    "\n",
    "    @radius.setter\n",
    "    def radius(self,value):         #setter\n",
    "        if value<0:\n",
    "            raise ValueError(\"Radius cannot be negative\")\n",
    "        self._radius=value\n",
    "\n",
    "    @radius.deleter\n",
    "    def radius(self):              #deleter\n",
    "        print('Radius deleted')      \n",
    "        del self._radius\n",
    "\n",
    "c=Circle(5)\n",
    "print(c.radius)    #gets 5\n",
    "c.radius=10        #sets 10\n",
    "print(c.radius)    \n",
    "del c.radius       #deletes c\n",
    "    "
   ]
  },
  {
   "cell_type": "code",
   "execution_count": 42,
   "id": "4cd02ebc",
   "metadata": {},
   "outputs": [
    {
     "name": "stdout",
     "output_type": "stream",
     "text": [
      "Alice\n",
      "Bob\n",
      "Deleting name....\n"
     ]
    }
   ],
   "source": [
    "class Person:\n",
    "    def __init__(self,name):\n",
    "        self._name=name  #private attribute\n",
    "\n",
    "    def get_name(self):\n",
    "        return self._name\n",
    "    \n",
    "    def set_name(self,value):\n",
    "        if not isinstance(value,str):\n",
    "            raise ValueError(\"Name must be a string\")\n",
    "        self._name=value\n",
    "    \n",
    "    def del_name(self):\n",
    "        print(\"Deleting name....\")\n",
    "        del self._name\n",
    "\n",
    "    name=property(get_name,set_name,del_name,'name property of the person')\n",
    "\n",
    "p=Person(\"Alice\")\n",
    "print(p.get_name())\n",
    "p.set_name(\"Bob\")\n",
    "print(p.get_name())\n",
    "p.del_name()\n",
    "\n",
    "        "
   ]
  },
  {
   "cell_type": "code",
   "execution_count": 66,
   "id": "010528fb",
   "metadata": {},
   "outputs": [
    {
     "data": {
      "text/plain": [
       "list"
      ]
     },
     "execution_count": 66,
     "metadata": {},
     "output_type": "execute_result"
    }
   ],
   "source": [
    "type(sorted((1,2,3,0)))"
   ]
  },
  {
   "cell_type": "code",
   "execution_count": 78,
   "id": "5a52c2d4",
   "metadata": {},
   "outputs": [
    {
     "name": "stdout",
     "output_type": "stream",
     "text": [
      "{1, 3}\n"
     ]
    }
   ],
   "source": [
    "print({1,2,3}-{2})"
   ]
  },
  {
   "cell_type": "code",
   "execution_count": null,
   "id": "2a022f5c",
   "metadata": {},
   "outputs": [],
   "source": []
  },
  {
   "cell_type": "code",
   "execution_count": null,
   "id": "a7d83fd8",
   "metadata": {},
   "outputs": [],
   "source": []
  },
  {
   "cell_type": "code",
   "execution_count": null,
   "id": "81303c56",
   "metadata": {},
   "outputs": [],
   "source": []
  },
  {
   "cell_type": "code",
   "execution_count": null,
   "id": "fd3ec308",
   "metadata": {},
   "outputs": [],
   "source": []
  },
  {
   "cell_type": "code",
   "execution_count": null,
   "id": "875b8cdd",
   "metadata": {},
   "outputs": [],
   "source": []
  },
  {
   "cell_type": "code",
   "execution_count": null,
   "id": "401e6c7e",
   "metadata": {},
   "outputs": [],
   "source": []
  },
  {
   "cell_type": "code",
   "execution_count": null,
   "id": "d2658854",
   "metadata": {},
   "outputs": [],
   "source": []
  }
 ],
 "metadata": {
  "kernelspec": {
   "display_name": "Python 3",
   "language": "python",
   "name": "python3"
  },
  "language_info": {
   "codemirror_mode": {
    "name": "ipython",
    "version": 3
   },
   "file_extension": ".py",
   "mimetype": "text/x-python",
   "name": "python",
   "nbconvert_exporter": "python",
   "pygments_lexer": "ipython3",
   "version": "3.12.3"
  }
 },
 "nbformat": 4,
 "nbformat_minor": 5
}
