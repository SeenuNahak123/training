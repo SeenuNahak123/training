{
 "cells": [
  {
   "cell_type": "code",
   "execution_count": 5,
   "metadata": {},
   "outputs": [],
   "source": [
    "#iterables\n",
    "#List\n",
    "#String\n",
    "#Dictionary"
   ]
  },
  {
   "cell_type": "code",
   "execution_count": 6,
   "metadata": {},
   "outputs": [
    {
     "name": "stdout",
     "output_type": "stream",
     "text": [
      "1\n",
      "2\n",
      "3\n"
     ]
    }
   ],
   "source": [
    "for i in [1,2,3]:\n",
    "    print(i)"
   ]
  },
  {
   "cell_type": "code",
   "execution_count": 9,
   "metadata": {},
   "outputs": [
    {
     "data": {
      "text/plain": [
       "<list_iterator at 0x29ac36cbee0>"
      ]
     },
     "execution_count": 9,
     "metadata": {},
     "output_type": "execute_result"
    }
   ],
   "source": [
    "#iterator\n",
    "#iter\n",
    "iter([1,2,3])"
   ]
  },
  {
   "cell_type": "code",
   "execution_count": 18,
   "metadata": {},
   "outputs": [],
   "source": [
    "#iterables\n",
    "my_list='hello'\n",
    "#iterator\n",
    "my_it=iter(my_list)"
   ]
  },
  {
   "cell_type": "code",
   "execution_count": 19,
   "metadata": {},
   "outputs": [
    {
     "name": "stdout",
     "output_type": "stream",
     "text": [
      "h\n",
      "e\n"
     ]
    }
   ],
   "source": [
    "#next()\n",
    "print(next(my_it))\n",
    "print(next(my_it))"
   ]
  },
  {
   "cell_type": "code",
   "execution_count": 20,
   "metadata": {},
   "outputs": [
    {
     "name": "stdout",
     "output_type": "stream",
     "text": [
      "h e l l o\n"
     ]
    }
   ],
   "source": [
    "#unpack with (*)\n",
    "my_list='hello'\n",
    "\n",
    "my_it=iter(my_list)\n",
    "\n",
    "print(*my_it)"
   ]
  },
  {
   "cell_type": "code",
   "execution_count": 21,
   "metadata": {},
   "outputs": [
    {
     "name": "stdout",
     "output_type": "stream",
     "text": [
      "\n"
     ]
    }
   ],
   "source": [
    "#cannot unpack multiple times\n",
    "print(*my_it)"
   ]
  },
  {
   "cell_type": "code",
   "execution_count": 22,
   "metadata": {},
   "outputs": [
    {
     "data": {
      "text/plain": [
       "['h', 'e', 'l', 'l', 'o']"
      ]
     },
     "execution_count": 22,
     "metadata": {},
     "output_type": "execute_result"
    }
   ],
   "source": [
    "#unpack with list\n",
    "my_list='hello'\n",
    "my_it=iter(my_list)\n",
    "list(my_it)"
   ]
  },
  {
   "cell_type": "code",
   "execution_count": 25,
   "metadata": {},
   "outputs": [
    {
     "name": "stdout",
     "output_type": "stream",
     "text": [
      "0 a\n",
      "1 b\n",
      "2 c\n"
     ]
    }
   ],
   "source": [
    "#enumerate()\n",
    "ls=['a','b','c']\n",
    "\n",
    "for i,v in enumerate(ls):\n",
    "    print(i,v)"
   ]
  },
  {
   "cell_type": "code",
   "execution_count": 37,
   "metadata": {},
   "outputs": [
    {
     "data": {
      "text/plain": [
       "(2, 'c')"
      ]
     },
     "execution_count": 37,
     "metadata": {},
     "output_type": "execute_result"
    }
   ],
   "source": [
    "a=enumerate(ls)\n",
    "next(a)\n",
    "next(a)\n",
    "next(a)\n"
   ]
  },
  {
   "cell_type": "code",
   "execution_count": 30,
   "metadata": {},
   "outputs": [
    {
     "data": {
      "text/plain": [
       "[(0, 'a'), (1, 'b'), (2, 'c')]"
      ]
     },
     "execution_count": 30,
     "metadata": {},
     "output_type": "execute_result"
    }
   ],
   "source": [
    "list(enumerate(ls))"
   ]
  },
  {
   "cell_type": "code",
   "execution_count": 38,
   "metadata": {},
   "outputs": [
    {
     "data": {
      "text/plain": [
       "[(3, 'a'), (4, 'b'), (5, 'c')]"
      ]
     },
     "execution_count": 38,
     "metadata": {},
     "output_type": "execute_result"
    }
   ],
   "source": [
    "list(enumerate(ls,start=3))"
   ]
  },
  {
   "cell_type": "code",
   "execution_count": 40,
   "metadata": {},
   "outputs": [
    {
     "data": {
      "text/plain": [
       "<generator object simple_gen at 0x0000029AC37AF740>"
      ]
     },
     "execution_count": 40,
     "metadata": {},
     "output_type": "execute_result"
    }
   ],
   "source": [
    "#generators\n",
    "#gererators are used to create iterators and they are memory efficient\n",
    "#yield\n",
    "\n",
    "def simple_gen():\n",
    "    yield 1\n",
    "    yield 2\n",
    "    yield 3\n",
    "\n",
    "gen=simple_gen()\n",
    "gen\n"
   ]
  },
  {
   "cell_type": "code",
   "execution_count": 42,
   "metadata": {},
   "outputs": [
    {
     "name": "stdout",
     "output_type": "stream",
     "text": [
      "0\n",
      "1\n",
      "2\n",
      "3\n",
      "4\n",
      "5\n",
      "6\n"
     ]
    }
   ],
   "source": [
    "def infinite():\n",
    "    num=0\n",
    "    while True:\n",
    "        yield num\n",
    "        num+=1\n",
    "\n",
    "gen=infinite()\n",
    "print(next(gen))\n",
    "print(next(gen))\n",
    "print(next(gen))\n",
    "print(next(gen))\n",
    "print(next(gen))\n",
    "print(next(gen))\n",
    "print(next(gen))\n"
   ]
  },
  {
   "cell_type": "code",
   "execution_count": 47,
   "metadata": {},
   "outputs": [
    {
     "name": "stdout",
     "output_type": "stream",
     "text": [
      "0\n",
      "1\n"
     ]
    }
   ],
   "source": [
    "#generator without yield\n",
    "generator=(x for x in range(5))\n",
    "\n",
    "print(next(generator))\n",
    "print(next(generator))"
   ]
  },
  {
   "cell_type": "code",
   "execution_count": 50,
   "metadata": {},
   "outputs": [
    {
     "name": "stdout",
     "output_type": "stream",
     "text": [
      "0\n",
      "1\n"
     ]
    }
   ],
   "source": [
    "#this gen list can create millions of data which require a lot of space to store the data which is not efficient\n",
    "#ls=[x for x in range(10**9)]\n",
    "#so generator can be used so tht data can be retrieved one by one\n",
    "gen=(x for x in range(10**9))\n",
    "print(next(gen))\n",
    "print(next(gen))"
   ]
  },
  {
   "cell_type": "code",
   "execution_count": 51,
   "metadata": {},
   "outputs": [
    {
     "name": "stdout",
     "output_type": "stream",
     "text": [
      "1\n",
      "2\n"
     ]
    }
   ],
   "source": [
    "#generate numbers from 1 to n\n",
    "#write a generator func tht yields numbers from 1 to n\n",
    "\n",
    "n=int(input())\n",
    "gen=(x for x in range(1,n+1))\n",
    "print(next(gen))\n",
    "print(next(gen))"
   ]
  },
  {
   "cell_type": "code",
   "execution_count": 64,
   "metadata": {},
   "outputs": [
    {
     "name": "stdout",
     "output_type": "stream",
     "text": [
      "0\n",
      "1\n",
      "1\n",
      "2\n",
      "3\n",
      "5\n",
      "8\n",
      "13\n",
      "21\n",
      "34\n"
     ]
    }
   ],
   "source": [
    "#fibonacci sequence generator\n",
    "#write a generator to yield first n fibonacci numbers\n",
    "\n",
    "def fibonacci():\n",
    "    a,b=0,1\n",
    "    while True:\n",
    "        yield a\n",
    "        a,b=b,a+b\n",
    "\n",
    "fib=fibonacci()\n",
    "\n",
    "for i in range(10):\n",
    "    print(next(fib))\n",
    "\n",
    "\n"
   ]
  },
  {
   "cell_type": "code",
   "execution_count": 66,
   "metadata": {},
   "outputs": [],
   "source": [
    "#benefits of using generator\n",
    "#memory efficiency\n",
    "#lazy evaluation\n",
    "#maintain state\n",
    "#convenience"
   ]
  },
  {
   "cell_type": "code",
   "execution_count": 68,
   "metadata": {},
   "outputs": [
    {
     "name": "stdout",
     "output_type": "stream",
     "text": [
      "1\n",
      "3\n",
      "5\n"
     ]
    }
   ],
   "source": [
    "#infinite odd number generator\n",
    "#create a generator that yields odd number infinitely statring from 1\n",
    "\n",
    "def odd():\n",
    "    num=1\n",
    "    while True:\n",
    "        yield num\n",
    "        num+=2\n",
    "\n",
    "gen=odd()\n",
    "print(next(gen))\n",
    "print(next(gen))\n",
    "print(next(gen))"
   ]
  },
  {
   "cell_type": "code",
   "execution_count": 72,
   "metadata": {},
   "outputs": [
    {
     "name": "stdout",
     "output_type": "stream",
     "text": [
      "2\n",
      "4\n",
      "6\n"
     ]
    }
   ],
   "source": [
    "#even numbers from a list\n",
    "#yield only even numbers from a list\n",
    "\n",
    "def even(list):\n",
    "    n=0\n",
    "    b=[]\n",
    "    for i in list:\n",
    "            if i%2==0:\n",
    "                b.append(i)\n",
    "    while True:\n",
    "        yield b[n]\n",
    "        n+=1\n",
    "\n",
    "gen=even([1,2,3,4,5,6])\n",
    "print(next(gen))\n",
    "print(next(gen))\n",
    "print(next(gen))"
   ]
  },
  {
   "cell_type": "code",
   "execution_count": 99,
   "metadata": {},
   "outputs": [
    {
     "name": "stdout",
     "output_type": "stream",
     "text": [
      "4\n",
      "5\n",
      "\n",
      "5\n",
      "6\n",
      "7\n",
      "8\n",
      "\n",
      "5\n",
      "7\n"
     ]
    }
   ],
   "source": [
    "#custom range generator(like built-in range)\n",
    "\n",
    "def ran(a=0,b=0,c=0):\n",
    "    x,y,z=a,a,a\n",
    "\n",
    "    while True:\n",
    "        if b==0 and c==0:\n",
    "            yield x\n",
    "            x+=1\n",
    "\n",
    "        elif c==0:\n",
    "            if y<b+1:\n",
    "                yield y\n",
    "                y+=1\n",
    "        \n",
    "        else:\n",
    "            if z<b+1:\n",
    "                yield z\n",
    "                z+=c\n",
    "\n",
    "gen=ran(4,7)\n",
    "print(next(gen))\n",
    "print(next(gen))\n",
    "print()\n",
    "gen1=ran(5)\n",
    "print(next(gen1))\n",
    "print(next(gen1))\n",
    "print(next(gen1))\n",
    "print(next(gen1))\n",
    "print()\n",
    "gen2=ran(5,10,2)\n",
    "print(next(gen2))\n",
    "print(next(gen2))\n",
    "\n"
   ]
  },
  {
   "cell_type": "code",
   "execution_count": 100,
   "metadata": {},
   "outputs": [
    {
     "ename": "TypeError",
     "evalue": "average() missing 1 required positional argument: 'item'",
     "output_type": "error",
     "traceback": [
      "\u001b[31m---------------------------------------------------------------------------\u001b[39m",
      "\u001b[31mTypeError\u001b[39m                                 Traceback (most recent call last)",
      "\u001b[36mCell\u001b[39m\u001b[36m \u001b[39m\u001b[32mIn[100]\u001b[39m\u001b[32m, line 13\u001b[39m\n\u001b[32m     10\u001b[39m         avg=\u001b[38;5;28msum\u001b[39m/n\n\u001b[32m     11\u001b[39m         n+=\u001b[32m1\u001b[39m\n\u001b[32m---> \u001b[39m\u001b[32m13\u001b[39m gen=\u001b[43maverage\u001b[49m\u001b[43m(\u001b[49m\u001b[43m)\u001b[49m\n\u001b[32m     14\u001b[39m \u001b[38;5;28mprint\u001b[39m(\u001b[38;5;28mnext\u001b[39m(gen(\u001b[32m5\u001b[39m)))\n",
      "\u001b[31mTypeError\u001b[39m: average() missing 1 required positional argument: 'item'"
     ]
    }
   ],
   "source": [
    "#running average generator\n",
    "#yield the average after each number added\n",
    "\n",
    "def average(item):\n",
    "    n=1\n",
    "    sum=0\n",
    "    while True:\n",
    "        yield avg \n",
    "        sum=sum+item\n",
    "        avg=sum/n\n",
    "        n+=1\n",
    "\n",
    "gen=average()\n",
    "print(next(gen(5)))\n",
    "\n"
   ]
  },
  {
   "cell_type": "code",
   "execution_count": 103,
   "metadata": {},
   "outputs": [
    {
     "name": "stdout",
     "output_type": "stream",
     "text": [
      "before hi\n",
      "hello\n",
      "after hi\n",
      "hello\n"
     ]
    }
   ],
   "source": [
    "#decorators\n",
    "\n",
    "def deco(func):\n",
    "    def wrapper():\n",
    "        print('before hi')\n",
    "        func()\n",
    "        print('after hi')\n",
    "        func()\n",
    "    return wrapper\n",
    "\n",
    "@deco\n",
    "def hi():\n",
    "    print('hello')\n",
    "\n",
    "hi()"
   ]
  },
  {
   "cell_type": "code",
   "execution_count": 110,
   "metadata": {},
   "outputs": [
    {
     "name": "stdout",
     "output_type": "stream",
     "text": [
      "wrapper executed this before  display\n",
      "display function ran\n"
     ]
    }
   ],
   "source": [
    "#decorator\n",
    "\n",
    "def decorator_function(original_function):\n",
    "    def wrapper_function():\n",
    "        print('wrapper executed this before ',original_function.__name__)\n",
    "        return original_function()\n",
    "    return wrapper_function\n",
    "\n",
    "def display():\n",
    "    print('display function ran')\n",
    "\n",
    "decorator_display=decorator_function(display)\n",
    "decorator_display()"
   ]
  },
  {
   "cell_type": "code",
   "execution_count": 111,
   "metadata": {},
   "outputs": [
    {
     "name": "stdout",
     "output_type": "stream",
     "text": [
      "wrapper executed this before  display\n",
      "display function ran\n"
     ]
    }
   ],
   "source": [
    "#decorator\n",
    "\n",
    "def decorator_function(original_function):\n",
    "    def wrapper_function():\n",
    "        print('wrapper executed this before ',original_function.__name__)\n",
    "        return original_function()\n",
    "    return wrapper_function\n",
    "\n",
    "@decorator_function\n",
    "def display():\n",
    "    print('display function ran')\n",
    "\n",
    "display()"
   ]
  },
  {
   "cell_type": "code",
   "execution_count": 113,
   "metadata": {},
   "outputs": [
    {
     "name": "stdout",
     "output_type": "stream",
     "text": [
      "function executed\n",
      "function executed\n",
      "function executed\n",
      "the function 'example_function' was called 3 times\n",
      "new def created\n",
      "new def created\n",
      "the function 'example_function' was called 2 times\n"
     ]
    }
   ],
   "source": [
    "def count_calls(func):\n",
    "    def wrapper(*arg,**kwargs):\n",
    "        wrapper.count+=1\n",
    "        return func(*arg,**kwargs)\n",
    "    wrapper.count=0\n",
    "    return wrapper\n",
    "\n",
    "@count_calls\n",
    "def example_function():\n",
    "    \"\"\"this is an example function.\"\"\"\n",
    "    print(\"function executed\")\n",
    "\n",
    "example_function()\n",
    "example_function()\n",
    "example_function()\n",
    "\n",
    "print(f\"the function 'example_function' was called {example_function.count} times\")\n",
    "\n",
    "\n",
    "@count_calls\n",
    "def new():\n",
    "    print(\"new def created\")\n",
    "\n",
    "new()\n",
    "new()\n",
    "print(f\"the function 'example_function' was called {new.count} times\")"
   ]
  },
  {
   "cell_type": "code",
   "execution_count": 114,
   "metadata": {},
   "outputs": [
    {
     "name": "stdout",
     "output_type": "stream",
     "text": [
      "HELLO WORLD\n",
      "123\n"
     ]
    }
   ],
   "source": [
    "def uppercase_decorator(func):\n",
    "    def wrapper(*args,**kwargs):\n",
    "        result=func(*args,**kwargs)\n",
    "        if isinstance(result,str):\n",
    "            return result.upper()\n",
    "        return result\n",
    "    return wrapper\n",
    "\n",
    "@uppercase_decorator\n",
    "def get_string():\n",
    "    return \"hello world\"\n",
    "\n",
    "@uppercase_decorator\n",
    "def get_number():\n",
    "    return 123\n",
    "\n",
    "print(get_string())\n",
    "print(get_number())\n"
   ]
  },
  {
   "cell_type": "code",
   "execution_count": 116,
   "metadata": {},
   "outputs": [
    {
     "name": "stdout",
     "output_type": "stream",
     "text": [
      "400\n"
     ]
    }
   ],
   "source": [
    "#code for testing decorator chaining\n",
    "\n",
    "def decor1(func):\n",
    "    def inner():\n",
    "        x=func()\n",
    "        return x*x\n",
    "    return inner\n",
    "\n",
    "def decor(func):\n",
    "    def inner():\n",
    "        x=func()\n",
    "        return 2*x\n",
    "    return inner\n",
    "\n",
    "@decor1\n",
    "@decor\n",
    "def num():\n",
    "    return 10\n",
    "\n",
    "print(num())"
   ]
  },
  {
   "cell_type": "code",
   "execution_count": null,
   "metadata": {},
   "outputs": [
    {
     "name": "stdout",
     "output_type": "stream",
     "text": [
      "200\n"
     ]
    }
   ],
   "source": [
    "@decor\n",
    "@decor1\n",
    "def num():\n",
    "    return 10\n",
    "\n",
    "print(num())\n"
   ]
  },
  {
   "cell_type": "code",
   "execution_count": 120,
   "metadata": {},
   "outputs": [
    {
     "name": "stdout",
     "output_type": "stream",
     "text": [
      "25\n",
      "HELLO\n"
     ]
    },
    {
     "ename": "TypeError",
     "evalue": "Expected <class 'int'>, got <class 'str'>",
     "output_type": "error",
     "traceback": [
      "\u001b[31m---------------------------------------------------------------------------\u001b[39m",
      "\u001b[31mTypeError\u001b[39m                                 Traceback (most recent call last)",
      "\u001b[36mCell\u001b[39m\u001b[36m \u001b[39m\u001b[32mIn[120]\u001b[39m\u001b[32m, line 24\u001b[39m\n\u001b[32m     21\u001b[39m \u001b[38;5;28mprint\u001b[39m(shout(\u001b[33m\"\u001b[39m\u001b[33mhello\u001b[39m\u001b[33m\"\u001b[39m))                   \u001b[38;5;66;03m#Output: HELLO\u001b[39;00m\n\u001b[32m     23\u001b[39m \u001b[38;5;66;03m#invalid call-will raise TypeError\u001b[39;00m\n\u001b[32m---> \u001b[39m\u001b[32m24\u001b[39m \u001b[38;5;28mprint\u001b[39m(\u001b[43msquare\u001b[49m\u001b[43m(\u001b[49m\u001b[33;43m\"\u001b[39;49m\u001b[33;43mnot a number\u001b[39;49m\u001b[33;43m\"\u001b[39;49m\u001b[43m)\u001b[49m)           \u001b[38;5;66;03m#Raise: TypeError\u001b[39;00m\n",
      "\u001b[36mCell\u001b[39m\u001b[36m \u001b[39m\u001b[32mIn[120]\u001b[39m\u001b[32m, line 5\u001b[39m, in \u001b[36mtype_check_decorator.<locals>.decorator.<locals>.wrapper\u001b[39m\u001b[34m(arg)\u001b[39m\n\u001b[32m      3\u001b[39m \u001b[38;5;28;01mdef\u001b[39;00m\u001b[38;5;250m \u001b[39m\u001b[34mwrapper\u001b[39m(arg):\n\u001b[32m      4\u001b[39m     \u001b[38;5;28;01mif\u001b[39;00m \u001b[38;5;129;01mnot\u001b[39;00m \u001b[38;5;28misinstance\u001b[39m(arg,expected_type):\n\u001b[32m----> \u001b[39m\u001b[32m5\u001b[39m         \u001b[38;5;28;01mraise\u001b[39;00m \u001b[38;5;167;01mTypeError\u001b[39;00m(\u001b[33mf\u001b[39m\u001b[33m\"\u001b[39m\u001b[33mExpected \u001b[39m\u001b[38;5;132;01m{\u001b[39;00mexpected_type\u001b[38;5;132;01m}\u001b[39;00m\u001b[33m, got \u001b[39m\u001b[38;5;132;01m{\u001b[39;00m\u001b[38;5;28mtype\u001b[39m(arg)\u001b[38;5;132;01m}\u001b[39;00m\u001b[33m\"\u001b[39m)\n\u001b[32m      6\u001b[39m     \u001b[38;5;28;01mreturn\u001b[39;00m func(arg)\n",
      "\u001b[31mTypeError\u001b[39m: Expected <class 'int'>, got <class 'str'>"
     ]
    }
   ],
   "source": [
    "def type_check_decorator(expected_type):\n",
    "    def decorator(func):\n",
    "        def wrapper(arg):\n",
    "            if not isinstance(arg,expected_type):\n",
    "                raise TypeError(f\"Expected {expected_type}, got {type(arg)}\")\n",
    "            return func(arg)\n",
    "        return wrapper\n",
    "    return decorator\n",
    "\n",
    "#example usage\n",
    "@type_check_decorator(int)\n",
    "def square(n):\n",
    "    return n*n\n",
    "\n",
    "@type_check_decorator(str)\n",
    "def shout(text):\n",
    "    return text.upper()\n",
    "\n",
    "#valid calls\n",
    "print(square(5))                        #Output: 25\n",
    "print(shout(\"hello\"))                   #Output: HELLO\n",
    "\n",
    "#invalid call-will raise TypeError\n",
    "print(square(\"not a number\"))           #Raise: TypeError"
   ]
  },
  {
   "cell_type": "code",
   "execution_count": 124,
   "metadata": {},
   "outputs": [
    {
     "name": "stdout",
     "output_type": "stream",
     "text": [
      "10\n"
     ]
    }
   ],
   "source": [
    "#double the value\n",
    "#task is using decorator double the value\n",
    "\n",
    "def deco(func):\n",
    "    def multiple():\n",
    "        x=func()\n",
    "        return x+x\n",
    "    return multiple\n",
    "\n",
    "        \n",
    "@deco\n",
    "def double():\n",
    "    return int(input())\n",
    "print(double())"
   ]
  },
  {
   "cell_type": "code",
   "execution_count": 127,
   "metadata": {},
   "outputs": [],
   "source": [
    "#add a line before and after output of the function\n"
   ]
  },
  {
   "cell_type": "code",
   "execution_count": 129,
   "metadata": {},
   "outputs": [
    {
     "data": {
      "text/plain": [
       "7"
      ]
     },
     "execution_count": 129,
     "metadata": {},
     "output_type": "execute_result"
    }
   ],
   "source": [
    "#lambda / anonymous function / single line function / function with no name\n",
    "\n",
    "a=lambda a,b:a+b\n",
    "a(3,4)"
   ]
  },
  {
   "cell_type": "code",
   "execution_count": 132,
   "metadata": {},
   "outputs": [
    {
     "data": {
      "text/plain": [
       "True"
      ]
     },
     "execution_count": 132,
     "metadata": {},
     "output_type": "execute_result"
    }
   ],
   "source": [
    "b=lambda x:x%2==0 \n",
    "b(10)"
   ]
  },
  {
   "cell_type": "code",
   "execution_count": 133,
   "metadata": {},
   "outputs": [
    {
     "data": {
      "text/plain": [
       "'unees'"
      ]
     },
     "execution_count": 133,
     "metadata": {},
     "output_type": "execute_result"
    }
   ],
   "source": [
    "#reverse a string using lambda\n",
    "a=lambda x:x[::-1]\n",
    "a('seenu')"
   ]
  },
  {
   "cell_type": "code",
   "execution_count": 136,
   "metadata": {},
   "outputs": [
    {
     "data": {
      "text/plain": [
       "10"
      ]
     },
     "execution_count": 136,
     "metadata": {},
     "output_type": "execute_result"
    }
   ],
   "source": [
    "a=lambda x,y:max(x,y)\n",
    "a(5,10)"
   ]
  },
  {
   "cell_type": "code",
   "execution_count": null,
   "metadata": {},
   "outputs": [
    {
     "data": {
      "text/plain": [
       "20"
      ]
     },
     "execution_count": 145,
     "metadata": {},
     "output_type": "execute_result"
    }
   ],
   "source": [
    "#a=lambda x,y,z: max(x,max(y,z))\n",
    "a=lambda x,y,z: x if x>y and x>z else(y if y>z else z) \n",
    "a(5,10,20)"
   ]
  },
  {
   "cell_type": "code",
   "execution_count": 147,
   "metadata": {},
   "outputs": [
    {
     "name": "stdout",
     "output_type": "stream",
     "text": [
      "even\n",
      "odd\n"
     ]
    }
   ],
   "source": [
    "#using lambda even or odd\n",
    "#tash is the func should return 'even' for even value and 'odd' for odd values\n",
    "\n",
    "a=lambda x:'even' if x%2==0 else 'odd'\n",
    "print(a(10))\n",
    "print(a(11))"
   ]
  },
  {
   "cell_type": "code",
   "execution_count": 172,
   "metadata": {},
   "outputs": [
    {
     "name": "stdout",
     "output_type": "stream",
     "text": [
      "{1: 'e', 2: 'a', 3: 'f', 4: 'b', 5: 'x'}\n",
      "{2: 'a', 4: 'b', 1: 'e', 3: 'f', 5: 'x'}\n"
     ]
    }
   ],
   "source": [
    "dic={5:\"x\",4:\"b\",3:\"f\",2:\"a\",1:\"e\"}\n",
    "print({key: val for key, val in sorted(dic.items(), key = lambda ele: ele[0])}) \n",
    "print({key: val for key, val in sorted(dic.items(), key = lambda ele: ele[1])}) \n",
    "#ele[0] contains all the keys and ele[1] contains all the values, there is no ele[2]"
   ]
  },
  {
   "cell_type": "code",
   "execution_count": 178,
   "metadata": {},
   "outputs": [
    {
     "data": {
      "text/plain": [
       "['a', 'ab', 'abc', 'aaaa']"
      ]
     },
     "execution_count": 178,
     "metadata": {},
     "output_type": "execute_result"
    }
   ],
   "source": [
    "#sort a list using sorted() and lambda\n",
    "#task:input=['abc','ab','a','aaaa']\n",
    "#output=['a','ab','abc','aaaa']\n",
    "\n",
    "a=lambda x:sorted(x,key=len )\n",
    "a(['abc','ab','a','aaaa'])\n"
   ]
  },
  {
   "cell_type": "code",
   "execution_count": null,
   "metadata": {},
   "outputs": [],
   "source": []
  }
 ],
 "metadata": {
  "kernelspec": {
   "display_name": "Python 3",
   "language": "python",
   "name": "python3"
  },
  "language_info": {
   "codemirror_mode": {
    "name": "ipython",
    "version": 3
   },
   "file_extension": ".py",
   "mimetype": "text/x-python",
   "name": "python",
   "nbconvert_exporter": "python",
   "pygments_lexer": "ipython3",
   "version": "3.12.3"
  }
 },
 "nbformat": 4,
 "nbformat_minor": 2
}
