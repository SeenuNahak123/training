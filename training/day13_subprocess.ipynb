{
 "cells": [
  {
   "cell_type": "code",
   "execution_count": 1,
   "id": "da8c5bd8",
   "metadata": {},
   "outputs": [
    {
     "data": {
      "text/plain": [
       "CompletedProcess(args=['echo', 'Hello from subprocess'], returncode=0)"
      ]
     },
     "execution_count": 1,
     "metadata": {},
     "output_type": "execute_result"
    }
   ],
   "source": [
    "import subprocess\n",
    "\n",
    "#Run a command and wait for it to complete\n",
    "subprocess.run([\"echo\",\"Hello from subprocess\"],shell=True)"
   ]
  },
  {
   "cell_type": "code",
   "execution_count": 2,
   "id": "e620cbfd",
   "metadata": {},
   "outputs": [
    {
     "name": "stdout",
     "output_type": "stream",
     "text": [
      "STDOUT: \"Hello again!\"\n",
      "\n",
      "STDERR: \n"
     ]
    }
   ],
   "source": [
    "result=subprocess.run([\"echo\",\"Hello again!\"], capture_output=True,text=True,shell=True)\n",
    "\n",
    "print('STDOUT:',result.stdout)  #stdin\n",
    "print(\"STDERR:\",result.stderr)"
   ]
  },
  {
   "cell_type": "code",
   "execution_count": 5,
   "id": "9dd43566",
   "metadata": {},
   "outputs": [
    {
     "name": "stdout",
     "output_type": "stream",
     "text": [
      " Volume in drive C is Windows\n",
      " Volume Serial Number is A22C-464A\n",
      "\n",
      " Directory of c:\\Users\\seenu.nahak\\training\n",
      "\n",
      "04/16/2025  02:06 PM    <DIR>          .\n",
      "04/16/2025  02:06 PM    <DIR>          ..\n",
      "04/05/2025  11:46 AM               380 callstack.py\n",
      "04/08/2025  10:42 AM                69 data.json\n",
      "04/10/2025  11:19 AM            20,183 day1.ipynb\n",
      "04/11/2025  05:39 PM            40,189 day10.ipynb\n",
      "04/15/2025  05:38 PM            29,969 day12.ipynb\n",
      "04/16/2025  10:45 AM             8,506 day13.ipynb\n",
      "04/16/2025  11:44 AM             2,026 day13_api1.py\n",
      "04/16/2025  12:07 PM               773 day13_api2.py\n",
      "04/16/2025  12:09 PM               683 day13_api3.py\n",
      "04/16/2025  12:10 PM               678 day13_api4.py\n",
      "04/16/2025  02:11 PM             5,046 day13_subprocess.ipynb\n",
      "04/03/2025  06:00 PM            43,121 day2.ipynb\n",
      "04/05/2025  04:40 PM            14,744 day4.ipynb\n",
      "04/05/2025  03:54 PM            24,426 day5.ipynb\n",
      "04/09/2025  05:42 PM            39,579 day6.ipynb\n",
      "04/10/2025  10:24 AM             8,726 day7.py\n",
      "04/09/2025  05:42 PM            40,201 day8.ipynb\n",
      "04/09/2025  03:05 PM                 5 day8_ques7.txt\n",
      "04/10/2025  04:45 PM            11,388 day9_1.py\n",
      "04/10/2025  05:56 PM             5,974 day9_2.ipynb\n",
      "04/08/2025  10:24 AM               471 demo.txt\n",
      "04/08/2025  09:42 AM                71 demo1.txt\n",
      "04/08/2025  10:33 AM                30 demo2.txt\n",
      "04/08/2025  09:56 AM                 0 demo3.txt\n",
      "04/12/2025  03:48 PM             9,623 dey11.ipynb\n",
      "04/08/2025  04:38 PM               147 employee.yaml\n",
      "04/09/2025  10:16 AM                 0 error.log\n",
      "04/07/2025  03:40 PM    <DIR>          example\n",
      "04/08/2025  10:50 AM             1,704 example-day7.py\n",
      "04/04/2025  12:47 PM               241 example.log\n",
      "04/11/2025  12:33 PM               186 inheritance_diagram\n",
      "04/08/2025  03:12 PM               145 new.json\n",
      "04/08/2025  12:58 PM               630 new_employee.json\n",
      "04/08/2025  04:49 PM               318 new_employee.yaml\n",
      "04/08/2025  02:22 PM               100 people.csv\n",
      "04/08/2025  02:23 PM                58 people1.csv\n",
      "04/08/2025  02:40 PM               171 people2.csv\n",
      "04/08/2025  04:19 PM               216 people3.csv\n",
      "04/08/2025  04:31 PM                52 project.yaml\n",
      "04/04/2025  11:13 AM               714 recursion.py\n",
      "04/03/2025  06:00 PM               200 si.py\n",
      "04/10/2025  10:37 AM    <DIR>          task_day7\n",
      "04/08/2025  03:35 PM               135 test.csv\n",
      "04/08/2025  04:49 PM               284 ytoj.json\n",
      "04/08/2025  04:49 PM               147 ytoj.yaml\n",
      "04/03/2025  10:39 AM    <DIR>          __pycache__\n",
      "              43 File(s)        312,309 bytes\n",
      "               5 Dir(s)  773,373,538,304 bytes free\n",
      "\n"
     ]
    }
   ],
   "source": [
    "result=subprocess.run(\"dir\" if subprocess.os.name=='nt' else 'ls',shell=True,capture_output=True,text=True)\n",
    "print(result.stdout)"
   ]
  },
  {
   "cell_type": "code",
   "execution_count": 6,
   "id": "96e81b25",
   "metadata": {},
   "outputs": [
    {
     "name": "stdout",
     "output_type": "stream",
     "text": [
      "Command failed!\n"
     ]
    }
   ],
   "source": [
    "try:\n",
    "    subprocess.run([\"false\"], check=True,shell=True)\n",
    "except:\n",
    "    print(\"Command failed!\")\n"
   ]
  },
  {
   "cell_type": "code",
   "execution_count": 8,
   "id": "a8b43786",
   "metadata": {},
   "outputs": [
    {
     "name": "stdout",
     "output_type": "stream",
     "text": [
      "\"Using Popen!\"\n",
      "\n"
     ]
    }
   ],
   "source": [
    "process=subprocess.Popen([\"echo\",\"Using Popen!\"],stdout=subprocess.PIPE,text=True,shell=True)\n",
    "output,_=process.communicate()\n",
    "print(output)"
   ]
  },
  {
   "cell_type": "code",
   "execution_count": 33,
   "id": "0709646b",
   "metadata": {},
   "outputs": [
    {
     "name": "stdout",
     "output_type": "stream",
     "text": [
      "Ping Output:\n",
      " \n",
      "Pinging python.org [151.101.192.223] with 32 bytes of data:\n",
      "Request timed out.\n",
      "Request timed out.\n",
      "Request timed out.\n",
      "Request timed out.\n",
      "Request timed out.\n",
      "\n",
      "Ping statistics for 151.101.192.223:\n",
      "    Packets: Sent = 5, Received = 0, Lost = 5 (100% loss),\n",
      "\n"
     ]
    }
   ],
   "source": [
    "import subprocess\n",
    "\n",
    "process=subprocess.Popen(['ping','-n','5','python.org'],\n",
    "                         stdout=subprocess.PIPE,\n",
    "                         stderr=subprocess.PIPE,\n",
    "                         universal_newlines=True)\n",
    "\n",
    "output, error = process.communicate()\n",
    "\n",
    "# Print results\n",
    "print(\"Ping Output:\\n\", output)\n",
    "if error:\n",
    "    print(\"Errors:\\n\", error)\n"
   ]
  },
  {
   "cell_type": "code",
   "execution_count": 11,
   "id": "5efe2511",
   "metadata": {},
   "outputs": [],
   "source": [
    "# run()   Returns: Completed Process   Blocking: Yes    Simpler Syntax: Yes   Recommended for: Most use cases\n",
    "# Popen() Returns: Popen Object       Blocking: No     Simpler Syntax: No    Recommended for: Advanced Control"
   ]
  },
  {
   "cell_type": "code",
   "execution_count": null,
   "id": "7ae5fd68",
   "metadata": {},
   "outputs": [],
   "source": [
    "# use cases                               |                   Method\n",
    "# ----------------------------------------|--------------------------------------------\n",
    "# Basic command execution                 |                   run()\n",
    "# Only care about exit code               |                   call()\n",
    "# Need control over input/output          |                   Popen()\n",
    "# Run command and capture output          |                   run() with capture_output=True\n",
    "# Run command Asynchronously              |                   Popen()"
   ]
  },
  {
   "cell_type": "code",
   "execution_count": null,
   "id": "d7c4f67a",
   "metadata": {},
   "outputs": [],
   "source": [
    "#To write the stdout to a file for logging purpose\n",
    "with open(\"output.txt\",'w') as f:\n",
    "    result=subprocess.run(['dir'], shell=True,stdout=f,text=True)"
   ]
  },
  {
   "cell_type": "code",
   "execution_count": 24,
   "id": "d7701ec2",
   "metadata": {},
   "outputs": [
    {
     "name": "stdout",
     "output_type": "stream",
     "text": [
      "1\n",
      "File Not Found\n",
      "\n"
     ]
    }
   ],
   "source": [
    "result=subprocess.run(['dir','-ls','dne'],shell=True,capture_output=True,text=True) #without check=True it will run normally and go to next subprocess \n",
    "print(result.returncode)                                                            #but if we want to stop the process we can provide check=True\n",
    "print(result.stderr)"
   ]
  },
  {
   "cell_type": "code",
   "execution_count": null,
   "id": "134c2567",
   "metadata": {},
   "outputs": [
    {
     "ename": "CalledProcessError",
     "evalue": "Command '['dir', '-ls', 'dne']' returned non-zero exit status 1.",
     "output_type": "error",
     "traceback": [
      "\u001b[31m---------------------------------------------------------------------------\u001b[39m",
      "\u001b[31mCalledProcessError\u001b[39m                        Traceback (most recent call last)",
      "\u001b[36mCell\u001b[39m\u001b[36m \u001b[39m\u001b[32mIn[19]\u001b[39m\u001b[32m, line 1\u001b[39m\n\u001b[32m----> \u001b[39m\u001b[32m1\u001b[39m result=\u001b[43msubprocess\u001b[49m\u001b[43m.\u001b[49m\u001b[43mrun\u001b[49m\u001b[43m(\u001b[49m\u001b[43m[\u001b[49m\u001b[33;43m'\u001b[39;49m\u001b[33;43mdir\u001b[39;49m\u001b[33;43m'\u001b[39;49m\u001b[43m,\u001b[49m\u001b[33;43m'\u001b[39;49m\u001b[33;43m-ls\u001b[39;49m\u001b[33;43m'\u001b[39;49m\u001b[43m,\u001b[49m\u001b[33;43m'\u001b[39;49m\u001b[33;43mdne\u001b[39;49m\u001b[33;43m'\u001b[39;49m\u001b[43m]\u001b[49m\u001b[43m,\u001b[49m\u001b[43mshell\u001b[49m\u001b[43m=\u001b[49m\u001b[38;5;28;43;01mTrue\u001b[39;49;00m\u001b[43m,\u001b[49m\u001b[43mcapture_output\u001b[49m\u001b[43m=\u001b[49m\u001b[38;5;28;43;01mTrue\u001b[39;49;00m\u001b[43m,\u001b[49m\u001b[43mtext\u001b[49m\u001b[43m=\u001b[49m\u001b[38;5;28;43;01mTrue\u001b[39;49;00m\u001b[43m,\u001b[49m\u001b[43mcheck\u001b[49m\u001b[43m=\u001b[49m\u001b[38;5;28;43;01mTrue\u001b[39;49;00m\u001b[43m)\u001b[49m\n\u001b[32m      2\u001b[39m \u001b[38;5;28mprint\u001b[39m(result.returncode)\n\u001b[32m      3\u001b[39m \u001b[38;5;28mprint\u001b[39m(result.stderr)\n",
      "\u001b[36mFile \u001b[39m\u001b[32mc:\\Program Files\\Python312\\Lib\\subprocess.py:571\u001b[39m, in \u001b[36mrun\u001b[39m\u001b[34m(input, capture_output, timeout, check, *popenargs, **kwargs)\u001b[39m\n\u001b[32m    569\u001b[39m     retcode = process.poll()\n\u001b[32m    570\u001b[39m     \u001b[38;5;28;01mif\u001b[39;00m check \u001b[38;5;129;01mand\u001b[39;00m retcode:\n\u001b[32m--> \u001b[39m\u001b[32m571\u001b[39m         \u001b[38;5;28;01mraise\u001b[39;00m CalledProcessError(retcode, process.args,\n\u001b[32m    572\u001b[39m                                  output=stdout, stderr=stderr)\n\u001b[32m    573\u001b[39m \u001b[38;5;28;01mreturn\u001b[39;00m CompletedProcess(process.args, retcode, stdout, stderr)\n",
      "\u001b[31mCalledProcessError\u001b[39m: Command '['dir', '-ls', 'dne']' returned non-zero exit status 1."
     ]
    }
   ],
   "source": [
    "result=subprocess.run(['dir','-ls','dne'],shell=True,capture_output=True,text=True,check=True) #check=True: triggers an error ,it abruptly stops the process\n",
    "print(result.returncode)\n",
    "print(result.stderr)"
   ]
  },
  {
   "cell_type": "code",
   "execution_count": 20,
   "id": "473acf41",
   "metadata": {},
   "outputs": [
    {
     "name": "stdout",
     "output_type": "stream",
     "text": [
      "None\n"
     ]
    }
   ],
   "source": [
    "#ignore error/ redirect to devnull\n",
    "result=subprocess.run(['dir','-ls','dne'],shell=True,stderr=subprocess.DEVNULL)\n",
    "print(result.stderr)\n"
   ]
  },
  {
   "cell_type": "code",
   "execution_count": 27,
   "id": "37ee34de",
   "metadata": {},
   "outputs": [
    {
     "name": "stdout",
     "output_type": "stream",
     "text": [
      "This \n",
      "a\n",
      "test\n",
      "file\n",
      "for\n",
      "testing\n"
     ]
    }
   ],
   "source": [
    "#chaining inputs\n",
    "result=subprocess.run(['type','test.txt'],capture_output=True,text=True,shell=True)\n",
    "print(result.stdout)"
   ]
  },
  {
   "cell_type": "code",
   "execution_count": 28,
   "id": "2071441e",
   "metadata": {},
   "outputs": [
    {
     "name": "stdout",
     "output_type": "stream",
     "text": [
      "3:test\n",
      "6:testing\n",
      "\n"
     ]
    }
   ],
   "source": [
    "result2=subprocess.run(['findstr','-n','test'],shell=True,capture_output=True,text=True,input=result.stdout)\n",
    "print(result2.stdout)"
   ]
  },
  {
   "cell_type": "markdown",
   "id": "8f1fe202",
   "metadata": {},
   "source": [
    "Same process using Popen and run"
   ]
  },
  {
   "cell_type": "code",
   "execution_count": 30,
   "id": "2fb01fc7",
   "metadata": {},
   "outputs": [],
   "source": [
    "import subprocess\n",
    "\n",
    "p=subprocess.Popen('python file_test.py',\n",
    "                   stdin=subprocess.PIPE,\n",
    "                   stdout=subprocess.PIPE,\n",
    "                   stderr=subprocess.PIPE,\n",
    "                   shell=True)\n",
    "\n",
    "out,err=p.communicate(input='insta\\n'.encode())\n",
    "if p.returncode !=0:\n",
    "    print(out)\n",
    "    print(err)"
   ]
  },
  {
   "cell_type": "code",
   "execution_count": 31,
   "id": "df552ca0",
   "metadata": {},
   "outputs": [],
   "source": [
    "import subprocess\n",
    "\n",
    "p=subprocess.run([\"python\",\"file_test.py\"],\n",
    "                 capture_output=True,\n",
    "                 text=True,\n",
    "                 input='facebook',check=True)\n",
    "\n",
    "if p.returncode !=0:\n",
    "    print('stdout:', p.stdout)\n",
    "    print('stderr:', p.stderr)"
   ]
  },
  {
   "cell_type": "markdown",
   "id": "711e3d08",
   "metadata": {},
   "source": [
    "Time library"
   ]
  },
  {
   "cell_type": "code",
   "execution_count": 34,
   "id": "1f4dc8ba",
   "metadata": {},
   "outputs": [],
   "source": [
    "import time"
   ]
  },
  {
   "cell_type": "code",
   "execution_count": null,
   "id": "7c5c2eec",
   "metadata": {},
   "outputs": [
    {
     "data": {
      "text/plain": [
       "1744800234.6653693"
      ]
     },
     "execution_count": 35,
     "metadata": {},
     "output_type": "execute_result"
    }
   ],
   "source": [
    "#returns current time in seconds since the epoch(jan 1, 1970)\n",
    "time.time()"
   ]
  },
  {
   "cell_type": "code",
   "execution_count": null,
   "id": "896e98dd",
   "metadata": {},
   "outputs": [],
   "source": [
    "#suspends execution for the given number of seconds\n",
    "time.sleep(5)"
   ]
  },
  {
   "cell_type": "code",
   "execution_count": null,
   "id": "10be8aec",
   "metadata": {},
   "outputs": [
    {
     "data": {
      "text/plain": [
       "'Thu Jan  1 08:55:45 1970'"
      ]
     },
     "execution_count": 39,
     "metadata": {},
     "output_type": "execute_result"
    }
   ],
   "source": [
    "#converts time in seconds to a readable string\n",
    "time.ctime(12345)"
   ]
  },
  {
   "cell_type": "code",
   "execution_count": null,
   "id": "9acd1764",
   "metadata": {},
   "outputs": [
    {
     "data": {
      "text/plain": [
       "time.struct_time(tm_year=1970, tm_mon=6, tm_mday=9, tm_hour=18, tm_min=51, tm_sec=54, tm_wday=1, tm_yday=160, tm_isdst=0)"
      ]
     },
     "execution_count": 41,
     "metadata": {},
     "output_type": "execute_result"
    }
   ],
   "source": [
    "#converts seconds to struct_time in local time\n",
    "time.localtime(13785714)"
   ]
  },
  {
   "cell_type": "code",
   "execution_count": null,
   "id": "ff3bdbcc",
   "metadata": {},
   "outputs": [
    {
     "data": {
      "text/plain": [
       "time.struct_time(tm_year=1970, tm_mon=1, tm_mday=29, tm_hour=4, tm_min=52, tm_sec=23, tm_wday=3, tm_yday=29, tm_isdst=0)"
      ]
     },
     "execution_count": 42,
     "metadata": {},
     "output_type": "execute_result"
    }
   ],
   "source": [
    "#converts seconds to struct_time in UTC\n",
    "time.gmtime(2436743)"
   ]
  },
  {
   "cell_type": "code",
   "execution_count": 49,
   "id": "624198bc",
   "metadata": {},
   "outputs": [
    {
     "data": {
      "text/plain": [
       "1672197244.0"
      ]
     },
     "execution_count": 49,
     "metadata": {},
     "output_type": "execute_result"
    }
   ],
   "source": [
    "#converts a struct_time to seconds since the epoch\n",
    "time_tuple = (2022, 12, 28, 8, 44, 4, 4, 362, 0)\n",
    "time.mktime(time_tuple)"
   ]
  },
  {
   "cell_type": "code",
   "execution_count": 51,
   "id": "29856c6c",
   "metadata": {},
   "outputs": [
    {
     "name": "stdout",
     "output_type": "stream",
     "text": [
      "04/16/2025, 16:25:38\n"
     ]
    }
   ],
   "source": [
    "#format a struct_time into a string\n",
    "#time.strftime(format,t)\n",
    "named_tuple = time.localtime() # get struct_time\n",
    "time_string = time.strftime(\"%m/%d/%Y, %H:%M:%S\", named_tuple)\n",
    "print(time_string)"
   ]
  },
  {
   "cell_type": "code",
   "execution_count": 52,
   "id": "d837bbf1",
   "metadata": {},
   "outputs": [
    {
     "name": "stdout",
     "output_type": "stream",
     "text": [
      "time.struct_time(tm_year=2023, tm_mon=7, tm_mday=14, tm_hour=0, tm_min=0, tm_sec=0, tm_wday=4, tm_yday=195, tm_isdst=-1)\n"
     ]
    }
   ],
   "source": [
    "#parses a string to struct_time\n",
    "#time.strptime(string,format)\n",
    "time_string = \"14 July, 2023\"\n",
    "result = time.strptime(time_string, \"%d %B, %Y\")\n",
    "\n",
    "print(result)\n"
   ]
  },
  {
   "cell_type": "code",
   "execution_count": 46,
   "id": "6519f031",
   "metadata": {},
   "outputs": [
    {
     "data": {
      "text/plain": [
       "440019.984301"
      ]
     },
     "execution_count": 46,
     "metadata": {},
     "output_type": "execute_result"
    }
   ],
   "source": [
    "#returns the most precise time to measure performance(incldes sleep time)\n",
    "time.perf_counter()"
   ]
  },
  {
   "cell_type": "code",
   "execution_count": 45,
   "id": "a9849f01",
   "metadata": {},
   "outputs": [
    {
     "data": {
      "text/plain": [
       "15.6875"
      ]
     },
     "execution_count": 45,
     "metadata": {},
     "output_type": "execute_result"
    }
   ],
   "source": [
    "#measures CPU time taken by process (ignores sleep)\n",
    "time.process_time()"
   ]
  },
  {
   "cell_type": "code",
   "execution_count": null,
   "id": "ed8378c5",
   "metadata": {},
   "outputs": [],
   "source": [
    "#$PSVersionTable\n",
    "#ping google.com\n",
    "#Get-ExecutionPolicy\n"
   ]
  }
 ],
 "metadata": {
  "kernelspec": {
   "display_name": "Python 3",
   "language": "python",
   "name": "python3"
  },
  "language_info": {
   "codemirror_mode": {
    "name": "ipython",
    "version": 3
   },
   "file_extension": ".py",
   "mimetype": "text/x-python",
   "name": "python",
   "nbconvert_exporter": "python",
   "pygments_lexer": "ipython3",
   "version": "3.12.3"
  }
 },
 "nbformat": 4,
 "nbformat_minor": 5
}
