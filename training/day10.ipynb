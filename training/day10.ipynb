{
 "cells": [
  {
   "cell_type": "code",
   "execution_count": null,
   "id": "204031bf",
   "metadata": {},
   "outputs": [
    {
     "name": "stdout",
     "output_type": "stream",
     "text": [
      "100\n"
     ]
    }
   ],
   "source": [
    "#parameterised constructor\n",
    "\n",
    "class cal:\n",
    "#self is known as instance variable \"here a,b are local variable\"\n",
    "#__init__ is also known as constructor/initialization method\n",
    "    def __init__(self,a=20,b=40):\n",
    "        self.m=a\n",
    "        self.n=b\n",
    "    def add(self):\n",
    "        print(self.m+self.n)\n",
    "\n",
    "s=cal(70,30)             #object\n",
    "s.add()"
   ]
  },
  {
   "cell_type": "code",
   "execution_count": 4,
   "id": "e7efc0e9",
   "metadata": {},
   "outputs": [
    {
     "name": "stdout",
     "output_type": "stream",
     "text": [
      "Class is for Addition\n",
      "100\n"
     ]
    }
   ],
   "source": [
    "#Non parameterised consructor\n",
    "\n",
    "class cal:\n",
    "#self is known as instance variable \"here a,b are local variable\"\n",
    "#__init__ is also known as constructor/initialization method\n",
    "    def __init__(self):\n",
    "        print(\"Class is for Addition\")\n",
    "    def add(self,a=20,b=40):\n",
    "        print(a+b)\n",
    "\n",
    "s=cal()\n",
    "s.add(70,30)"
   ]
  },
  {
   "cell_type": "code",
   "execution_count": 7,
   "id": "e8e7a66c",
   "metadata": {},
   "outputs": [
    {
     "name": "stdout",
     "output_type": "stream",
     "text": [
      "Rectangle(5,10)\n",
      "False\n",
      "50\n"
     ]
    }
   ],
   "source": [
    "class Rectangle:\n",
    "    def __init__(self,length,width):\n",
    "        self.length=length\n",
    "        self.width=width\n",
    "\n",
    "    def __str__(self):\n",
    "        return f\"Rectangle({self.length},{self.width})\"\n",
    "    \n",
    "    def __eq__(self,other):\n",
    "        return self.length==other.length and self.width==other.width\n",
    "    \n",
    "    def area(self):\n",
    "        return self.length*self.width\n",
    "    \n",
    "r1=Rectangle(5,10)\n",
    "r2=Rectangle(10,5)\n",
    "\n",
    "print(r1)\n",
    "print(r1==r2)\n",
    "print(r1.area())"
   ]
  },
  {
   "cell_type": "code",
   "execution_count": null,
   "id": "b8d93526",
   "metadata": {},
   "outputs": [],
   "source": [
    "#Even though the variable is private it can be accessed by public class function i.e get_private_attr\n",
    "#which negate the use of private variable\n",
    "class MyClass:\n",
    "    def __init__(self):\n",
    "        self.public_attr='public'\n",
    "        self.__private_atr='private'\n",
    "\n",
    "    def get_private_attr(self):\n",
    "        return self.__private_atr\n",
    "    \n",
    "obj=MyClass()\n",
    "v=obj.get_private_attr()\n",
    "print(v)"
   ]
  },
  {
   "cell_type": "code",
   "execution_count": 15,
   "id": "acd3f427",
   "metadata": {},
   "outputs": [
    {
     "ename": "AttributeError",
     "evalue": "'MyClass' object has no attribute 'get_private_attr'",
     "output_type": "error",
     "traceback": [
      "\u001b[31m---------------------------------------------------------------------------\u001b[39m",
      "\u001b[31mAttributeError\u001b[39m                            Traceback (most recent call last)",
      "\u001b[36mCell\u001b[39m\u001b[36m \u001b[39m\u001b[32mIn[15]\u001b[39m\u001b[32m, line 12\u001b[39m\n\u001b[32m      9\u001b[39m         \u001b[38;5;28;01mreturn\u001b[39;00m \u001b[38;5;28mself\u001b[39m.__private_atr\n\u001b[32m     11\u001b[39m obj=MyClass()\n\u001b[32m---> \u001b[39m\u001b[32m12\u001b[39m v=\u001b[43mobj\u001b[49m\u001b[43m.\u001b[49m\u001b[43mget_private_attr\u001b[49m()\n\u001b[32m     13\u001b[39m \u001b[38;5;28mprint\u001b[39m(v)\n",
      "\u001b[31mAttributeError\u001b[39m: 'MyClass' object has no attribute 'get_private_attr'"
     ]
    }
   ],
   "source": [
    "#to protect the private variable, we can make the function private itself i.e __get_private_attr\n",
    "#now we can not access the private variable\n",
    "class MyClass:\n",
    "    def __init__(self):\n",
    "        self.public_attr='public'\n",
    "        self.__private_atr='private'\n",
    "\n",
    "    def __get_private_attr(self):\n",
    "        return self.__private_atr\n",
    "    \n",
    "obj=MyClass()\n",
    "v=obj.get_private_attr()\n",
    "print(v)"
   ]
  },
  {
   "cell_type": "code",
   "execution_count": 14,
   "id": "a6b61fd1",
   "metadata": {},
   "outputs": [
    {
     "ename": "AttributeError",
     "evalue": "'MyClass' object has no attribute 'get_private_attr'",
     "output_type": "error",
     "traceback": [
      "\u001b[31m---------------------------------------------------------------------------\u001b[39m",
      "\u001b[31mAttributeError\u001b[39m                            Traceback (most recent call last)",
      "\u001b[36mCell\u001b[39m\u001b[36m \u001b[39m\u001b[32mIn[14]\u001b[39m\u001b[32m, line 11\u001b[39m\n\u001b[32m      8\u001b[39m         \u001b[38;5;28;01mreturn\u001b[39;00m \u001b[38;5;28mself\u001b[39m.public_attr\n\u001b[32m     10\u001b[39m obj=MyClass()\n\u001b[32m---> \u001b[39m\u001b[32m11\u001b[39m v=\u001b[43mobj\u001b[49m\u001b[43m.\u001b[49m\u001b[43mget_private_attr\u001b[49m()\n\u001b[32m     12\u001b[39m \u001b[38;5;28mprint\u001b[39m(v)\n",
      "\u001b[31mAttributeError\u001b[39m: 'MyClass' object has no attribute 'get_private_attr'"
     ]
    }
   ],
   "source": [
    "#after making func private, we also cannot access other variable i.e public variable which are inside private function even though the variable is public\n",
    "class MyClass:\n",
    "    def __init__(self):\n",
    "        self.public_attr='public'\n",
    "        self.__private_atr='private'\n",
    "\n",
    "    def __get_private_attr(self):\n",
    "        return self.public_attr\n",
    "    \n",
    "obj=MyClass()\n",
    "v=obj.get_private_attr()\n",
    "print(v)"
   ]
  },
  {
   "cell_type": "code",
   "execution_count": null,
   "id": "7cc9db7a",
   "metadata": {},
   "outputs": [
    {
     "name": "stdout",
     "output_type": "stream",
     "text": [
      "True\n"
     ]
    }
   ],
   "source": [
    "class demo():\n",
    "    a=10\n",
    "    b=20\n",
    "\n",
    "obj=demo()\n",
    "x=isinstance(obj,demo)\n",
    "print(x)\n",
    "# help(print)"
   ]
  },
  {
   "cell_type": "code",
   "execution_count": 24,
   "id": "bb155442",
   "metadata": {},
   "outputs": [
    {
     "data": {
      "text/plain": [
       "['__class__',\n",
       " '__delattr__',\n",
       " '__dict__',\n",
       " '__dir__',\n",
       " '__doc__',\n",
       " '__eq__',\n",
       " '__format__',\n",
       " '__ge__',\n",
       " '__getattribute__',\n",
       " '__getstate__',\n",
       " '__gt__',\n",
       " '__hash__',\n",
       " '__init__',\n",
       " '__init_subclass__',\n",
       " '__le__',\n",
       " '__lt__',\n",
       " '__module__',\n",
       " '__ne__',\n",
       " '__new__',\n",
       " '__reduce__',\n",
       " '__reduce_ex__',\n",
       " '__repr__',\n",
       " '__setattr__',\n",
       " '__sizeof__',\n",
       " '__str__',\n",
       " '__subclasshook__',\n",
       " '__weakref__',\n",
       " 'a',\n",
       " 'b']"
      ]
     },
     "execution_count": 24,
     "metadata": {},
     "output_type": "execute_result"
    }
   ],
   "source": [
    "dir(demo)  # will provide all the functions and variables associated with the class "
   ]
  },
  {
   "cell_type": "code",
   "execution_count": 25,
   "id": "3af812b0",
   "metadata": {},
   "outputs": [
    {
     "name": "stdout",
     "output_type": "stream",
     "text": [
      "10\n"
     ]
    }
   ],
   "source": [
    "#get attr\n",
    "class demo():\n",
    "    a=10\n",
    "    b=20\n",
    "obj=demo()\n",
    "getattr(demo,'a')\n",
    "print(obj.a)"
   ]
  },
  {
   "cell_type": "code",
   "execution_count": 36,
   "id": "6acd6fac",
   "metadata": {},
   "outputs": [
    {
     "data": {
      "text/plain": [
       "['__class__',\n",
       " '__delattr__',\n",
       " '__dict__',\n",
       " '__dir__',\n",
       " '__doc__',\n",
       " '__eq__',\n",
       " '__format__',\n",
       " '__ge__',\n",
       " '__getattribute__',\n",
       " '__getstate__',\n",
       " '__gt__',\n",
       " '__hash__',\n",
       " '__init__',\n",
       " '__init_subclass__',\n",
       " '__le__',\n",
       " '__lt__',\n",
       " '__module__',\n",
       " '__ne__',\n",
       " '__new__',\n",
       " '__reduce__',\n",
       " '__reduce_ex__',\n",
       " '__repr__',\n",
       " '__setattr__',\n",
       " '__sizeof__',\n",
       " '__str__',\n",
       " '__subclasshook__',\n",
       " '__weakref__',\n",
       " 'a',\n",
       " 'b']"
      ]
     },
     "execution_count": 36,
     "metadata": {},
     "output_type": "execute_result"
    }
   ],
   "source": [
    "#set attr\n",
    "class demo():\n",
    "    a=10\n",
    "    b=20\n",
    "obj=demo()\n",
    "setattr(obj,'c',30)\n",
    "dir(demo)\n",
    "    "
   ]
  },
  {
   "cell_type": "code",
   "execution_count": 46,
   "id": "a699a26b",
   "metadata": {},
   "outputs": [
    {
     "data": {
      "text/plain": [
       "['__class__',\n",
       " '__delattr__',\n",
       " '__dict__',\n",
       " '__dir__',\n",
       " '__doc__',\n",
       " '__eq__',\n",
       " '__format__',\n",
       " '__ge__',\n",
       " '__getattribute__',\n",
       " '__getstate__',\n",
       " '__gt__',\n",
       " '__hash__',\n",
       " '__init__',\n",
       " '__init_subclass__',\n",
       " '__le__',\n",
       " '__lt__',\n",
       " '__module__',\n",
       " '__ne__',\n",
       " '__new__',\n",
       " '__reduce__',\n",
       " '__reduce_ex__',\n",
       " '__repr__',\n",
       " '__setattr__',\n",
       " '__sizeof__',\n",
       " '__str__',\n",
       " '__subclasshook__',\n",
       " '__weakref__',\n",
       " 'a',\n",
       " 'b']"
      ]
     },
     "execution_count": 46,
     "metadata": {},
     "output_type": "execute_result"
    }
   ],
   "source": [
    "#del attr\n",
    "class demo():\n",
    "    a=10\n",
    "    b=20\n",
    "    c=30\n",
    "obj=demo()\n",
    "delattr(demo,'c')\n",
    "dir(obj)\n"
   ]
  },
  {
   "cell_type": "code",
   "execution_count": 48,
   "id": "8beb303f",
   "metadata": {},
   "outputs": [
    {
     "name": "stdout",
     "output_type": "stream",
     "text": [
      "50000\n",
      "52500\n",
      "{'first': 'Coery', 'last': 'Schafer', 'pay': 52500, 'email': 'Coery.Schafer@company.com'}\n",
      "{'__module__': '__main__', 'raise_amount': 1.05, '__init__': <function Employee.__init__ at 0x0000029916091120>, 'fullname': <function Employee.fullname at 0x0000029916091EE0>, 'apply_raise': <function Employee.apply_raise at 0x0000029916091F80>, '__dict__': <attribute '__dict__' of 'Employee' objects>, '__weakref__': <attribute '__weakref__' of 'Employee' objects>, '__doc__': None}\n"
     ]
    }
   ],
   "source": [
    "class Employee:\n",
    "    raise_amount=1.04    #class variable\n",
    "\n",
    "    def __init__(self,first,last,pay):\n",
    "        self.first=first\n",
    "        self.last=last\n",
    "        self.pay=pay\n",
    "        self.email=first+'.'+last+'@company.com'\n",
    "\n",
    "    def fullname(self):\n",
    "        return '{} {}'.format(self.first,self.last)\n",
    "    \n",
    "    def apply_raise(self):\n",
    "        #self.pay=int(self.pay*1.04)\n",
    "        self.pay=int(self.pay*self.raise_amount)    #Employee.raise_amount\n",
    "\n",
    "emp1=Employee('Coery','Schafer',50000)\n",
    "emp2=Employee('Test','User',60000)\n",
    "\n",
    "print(emp1.pay)\n",
    "Employee.raise_amount=1.05           #changing the class variable value\n",
    "emp1.apply_raise()\n",
    "print(emp1.pay)\n",
    "\n",
    "print(emp1.__dict__)\n",
    "print(Employee.__dict__)"
   ]
  },
  {
   "cell_type": "code",
   "execution_count": 57,
   "id": "dd3e0f19",
   "metadata": {},
   "outputs": [
    {
     "name": "stdout",
     "output_type": "stream",
     "text": [
      "1.06\n",
      "1.06\n",
      "1.06\n",
      "True\n"
     ]
    }
   ],
   "source": [
    "class Employee:\n",
    "    raise_amount=1.04    #class variable\n",
    "\n",
    "    def __init__(self,first,last,pay):\n",
    "        self.first=first\n",
    "        self.last=last\n",
    "        self.pay=pay\n",
    "        self.email=first+'.'+last+'@company.com'\n",
    "\n",
    "    def fullname(self):\n",
    "        return '{} {}'.format(self.first,self.last)\n",
    "    \n",
    "    def apply_raise(self):\n",
    "        #self.pay=int(self.pay*1.04)\n",
    "        self.pay=int(self.pay*self.raise_amount)   \n",
    "        \n",
    "    @classmethod\n",
    "    def set_raise_amt(cls,amount):\n",
    "        cls.raise_amount=amount\n",
    "\n",
    "    @staticmethod\n",
    "    def is_workday(day):\n",
    "        if day.weekday()==5 or day.weekday()==6:\n",
    "            return False\n",
    "        return True\n",
    "\n",
    "emp1=Employee('Coery','Schafer',50000)\n",
    "emp2=Employee('Test','User',60000)\n",
    "\n",
    "emp1.set_raise_amt(1.06)              # a class method will also work with a object\n",
    "# Employee.set_raise_amt(1.05)  \n",
    "\n",
    "\n",
    "print(Employee.raise_amount)\n",
    "print(emp1.raise_amount)\n",
    "print(emp2.raise_amount)\n",
    "\n",
    "import datetime\n",
    "My_date=datetime.date(2016,5,10)\n",
    "print(Employee.is_workday(My_date))"
   ]
  },
  {
   "cell_type": "code",
   "execution_count": 58,
   "id": "049786d8",
   "metadata": {},
   "outputs": [
    {
     "name": "stdout",
     "output_type": "stream",
     "text": [
      "base\n",
      "derived\n"
     ]
    }
   ],
   "source": [
    "#single\n",
    "class base():\n",
    "    a_name='base'\n",
    "    #print(a_name)\n",
    "\n",
    "class derived(base):\n",
    "    b_name='derived'\n",
    "\n",
    "obj=derived()\n",
    "print(obj.a_name)\n",
    "print(obj.b_name)"
   ]
  },
  {
   "cell_type": "code",
   "execution_count": 61,
   "id": "c69922e9",
   "metadata": {},
   "outputs": [
    {
     "name": "stdout",
     "output_type": "stream",
     "text": [
      "dog barking\n",
      "animal speaking\n"
     ]
    }
   ],
   "source": [
    "class Animal:\n",
    "    def speak(self):\n",
    "        print('animal speaking')\n",
    "class dog(Animal):\n",
    "    def bark(self):\n",
    "        print('dog barking')\n",
    "\n",
    "d=dog()\n",
    "d.bark()\n",
    "d.speak()"
   ]
  },
  {
   "cell_type": "code",
   "execution_count": 62,
   "id": "5bbe7a35",
   "metadata": {},
   "outputs": [
    {
     "name": "stdout",
     "output_type": "stream",
     "text": [
      "Hi, I am James\n"
     ]
    }
   ],
   "source": [
    "class Robot:\n",
    "    def __init__(self,name='abc'):\n",
    "        self.name=name\n",
    "    def say_hi(self):\n",
    "        print(\"Hi, I am \"+self.name)\n",
    "class PhysicianRobot(Robot):\n",
    "    pass\n",
    "\n",
    "#x=Robot('Marvin)\n",
    "y=PhysicianRobot('James')\n",
    "\n",
    "#print(x,type(x))\n",
    "#print(y,type(y))\n",
    "\n",
    "y.say_hi()"
   ]
  },
  {
   "cell_type": "code",
   "execution_count": 64,
   "id": "d492d232",
   "metadata": {},
   "outputs": [],
   "source": [
    "#Multilevel Inheritance\n",
    "class gfather:\n",
    "    g_name='abc'\n",
    "\n",
    "class father(gfather):\n",
    "    f_name='xyz'\n",
    "\n",
    "class son(father):\n",
    "    son='son'\n",
    "    s_name='ijk'\n",
    "\n"
   ]
  },
  {
   "cell_type": "code",
   "execution_count": null,
   "id": "31136b8f",
   "metadata": {},
   "outputs": [],
   "source": [
    "#Multiple inheritance\n",
    "class father:\n",
    "    f_name='abc'\n",
    "\n",
    "class mother:\n",
    "    m_name='xyz'\n",
    "\n",
    "class son(father,mother):\n",
    "    son='son'\n",
    "\n",
    "obj=son()"
   ]
  },
  {
   "cell_type": "code",
   "execution_count": null,
   "id": "b07272d1",
   "metadata": {},
   "outputs": [
    {
     "name": "stdout",
     "output_type": "stream",
     "text": [
      "I am car\n",
      "general use:transportation\n",
      "specific use: commute to work,vacation with family\n"
     ]
    }
   ],
   "source": [
    " #Hierichical Inheritance\n",
    "\n",
    "class Vehicle:\n",
    "    def general_usage(self):\n",
    "        print(\"general use:transportation\")\n",
    "\n",
    "class Car(Vehicle):\n",
    "    def __init__(self):\n",
    "        print(\"I am car\")\n",
    "        self.wheels=4\n",
    "        self.has_roof=True\n",
    "    def specific_usage(self):\n",
    "        #self.general_usage()\n",
    "        print('specific use: commute to work,vacation with family')\n",
    "\n",
    "class Motorcycle(Vehicle):\n",
    "    def __init__(self):\n",
    "        print('I am motor cycle')\n",
    "        self.wheels=2\n",
    "        self.has_roof=False\n",
    "    def specific_usage(self):\n",
    "        #self.general_usage()\n",
    "        print('specific use:road trip,racing')\n",
    "\n",
    "#vehicle vobj=new car\n",
    "\n",
    "c=Car()\n",
    "c.general_usage()\n",
    "c.specific_usage()\n",
    "\n"
   ]
  },
  {
   "cell_type": "code",
   "execution_count": 68,
   "id": "7e2e8c96",
   "metadata": {},
   "outputs": [],
   "source": [
    "def a():\n",
    "    print('hi')\n",
    "def a():\n",
    "    print('hello')"
   ]
  },
  {
   "cell_type": "code",
   "execution_count": 71,
   "id": "f4a498d9",
   "metadata": {},
   "outputs": [
    {
     "name": "stdout",
     "output_type": "stream",
     "text": [
      "from demo1\n"
     ]
    }
   ],
   "source": [
    "class demo():\n",
    "    def __init__(self):\n",
    "        print('from demo')\n",
    "\n",
    "class demo1(demo):\n",
    "    def __init__(self):\n",
    "        print('from demo1')\n",
    "\n",
    "d=demo1()"
   ]
  },
  {
   "cell_type": "code",
   "execution_count": 70,
   "id": "4b0d6897",
   "metadata": {},
   "outputs": [
    {
     "name": "stdout",
     "output_type": "stream",
     "text": [
      "from demo\n",
      "from demo1\n"
     ]
    }
   ],
   "source": [
    "class demo():\n",
    "    def __init__(self):\n",
    "        print('from demo')\n",
    "\n",
    "class demo1(demo):\n",
    "    def __init__(self):\n",
    "        super().__init__()\n",
    "        print('from demo1')\n",
    "\n",
    "d=demo1()"
   ]
  },
  {
   "cell_type": "code",
   "execution_count": 73,
   "id": "d48f0486",
   "metadata": {},
   "outputs": [
    {
     "name": "stdout",
     "output_type": "stream",
     "text": [
      "Animal __init__\n",
      "Dog __init__\n",
      "Labrador\n",
      "Dog\n"
     ]
    }
   ],
   "source": [
    "class Animal:\n",
    "    def __init__(self,species):\n",
    "        self.species=species\n",
    "        print('Animal __init__')\n",
    "\n",
    "class Dog(Animal):\n",
    "        def __init__(self,breed):\n",
    "            super().__init__(\"Dog\")\n",
    "            self.breed=breed\n",
    "            print(\"Dog __init__\")\n",
    "        \n",
    "my_dog=Dog('Labrador')\n",
    "print(my_dog.breed)\n",
    "print(my_dog.species)"
   ]
  },
  {
   "cell_type": "code",
   "execution_count": 74,
   "id": "757c297c",
   "metadata": {},
   "outputs": [
    {
     "name": "stdout",
     "output_type": "stream",
     "text": [
      "Animal __init__\n",
      "Dog __init__\n",
      "Labrador\n",
      "Dog\n"
     ]
    }
   ],
   "source": [
    "class Animal:\n",
    "    def __init__(self,species):\n",
    "        self.species=species\n",
    "        print('Animal __init__')\n",
    "\n",
    "class Dog(Animal):\n",
    "        def __init__(self,breed,spec):\n",
    "            self.spec=spec\n",
    "            super().__init__(spec)\n",
    "            self.breed=breed\n",
    "            print(\"Dog __init__\")\n",
    "        \n",
    "my_dog=Dog('Labrador','Dog')\n",
    "print(my_dog.breed)\n",
    "print(my_dog.species)"
   ]
  },
  {
   "cell_type": "code",
   "execution_count": 77,
   "id": "0602811e",
   "metadata": {},
   "outputs": [
    {
     "name": "stdout",
     "output_type": "stream",
     "text": [
      "True\n",
      "False\n"
     ]
    }
   ],
   "source": [
    "#issubclass(sub,sup)\n",
    "\n",
    "class Calculation1():\n",
    "    pass\n",
    "class Calculation2():\n",
    "    pass\n",
    "class Derived(Calculation1,Calculation2):\n",
    "    pass\n",
    "\n",
    "d=derived()\n",
    "print(issubclass(Derived,Calculation1))\n",
    "print(issubclass(Calculation1,Calculation2))"
   ]
  },
  {
   "cell_type": "code",
   "execution_count": null,
   "id": "9a4a6848",
   "metadata": {},
   "outputs": [
    {
     "name": "stdout",
     "output_type": "stream",
     "text": [
      "Initializing A\n",
      "Initializing C\n",
      "Initializing B\n",
      "Initializing D\n",
      "Help on class D in module __main__:\n",
      "\n",
      "class D(B, C)\n",
      " |  Method resolution order:\n",
      " |      D\n",
      " |      B\n",
      " |      C\n",
      " |      A\n",
      " |      builtins.object\n",
      " |\n",
      " |  Methods defined here:\n",
      " |\n",
      " |  __init__(self)\n",
      " |      Initialize self.  See help(type(self)) for accurate signature.\n",
      " |\n",
      " |  ----------------------------------------------------------------------\n",
      " |  Data descriptors inherited from A:\n",
      " |\n",
      " |  __dict__\n",
      " |      dictionary for instance variables\n",
      " |\n",
      " |  __weakref__\n",
      " |      list of weak references to the object\n",
      "\n"
     ]
    }
   ],
   "source": [
    "class A:\n",
    "    def __init__(self):\n",
    "        print(\"Initializing A\")\n",
    "class B(A):\n",
    "    def __init__(self):\n",
    "        super().__init__()\n",
    "        print(\"Initializing B\")\n",
    "class C(A):\n",
    "    def __init__(self):\n",
    "        super().__init__()\n",
    "        print(\"Initializing C\")\n",
    "class D(B,C):\n",
    "    def __init__(self):\n",
    "        super().__init__()\n",
    "        print(\"Initializing D\")\n",
    "\n",
    "d=D()\n",
    "help(D)"
   ]
  },
  {
   "cell_type": "code",
   "execution_count": 86,
   "id": "5df1e330",
   "metadata": {},
   "outputs": [
    {
     "name": "stdout",
     "output_type": "stream",
     "text": [
      "Initializing Z\n",
      "Initializing A\n",
      "Initializing C\n",
      "Initializing B\n",
      "Initializing D\n",
      "Help on class D in module __main__:\n",
      "\n",
      "class D(B, C)\n",
      " |  Method resolution order:\n",
      " |      D\n",
      " |      B\n",
      " |      C\n",
      " |      A\n",
      " |      Z\n",
      " |      builtins.object\n",
      " |\n",
      " |  Methods defined here:\n",
      " |\n",
      " |  __init__(self)\n",
      " |      Initialize self.  See help(type(self)) for accurate signature.\n",
      " |\n",
      " |  ----------------------------------------------------------------------\n",
      " |  Data descriptors inherited from Z:\n",
      " |\n",
      " |  __dict__\n",
      " |      dictionary for instance variables\n",
      " |\n",
      " |  __weakref__\n",
      " |      list of weak references to the object\n",
      "\n"
     ]
    }
   ],
   "source": [
    "class Z:\n",
    "    def __init__(self):\n",
    "        print(\"Initializing Z\")\n",
    "class A(Z):\n",
    "    def __init__(self):\n",
    "        super().__init__()\n",
    "        print(\"Initializing A\")\n",
    "class B(A):\n",
    "    def __init__(self):\n",
    "        super().__init__()\n",
    "        print(\"Initializing B\")\n",
    "class C(A):\n",
    "    def __init__(self):\n",
    "        super().__init__()\n",
    "        print(\"Initializing C\")\n",
    "class D(B,C):\n",
    "    def __init__(self):\n",
    "        super().__init__()\n",
    "        print(\"Initializing D\")\n",
    "\n",
    "d=D()\n",
    "help(D)"
   ]
  },
  {
   "cell_type": "code",
   "execution_count": 94,
   "id": "8143cd0c",
   "metadata": {},
   "outputs": [
    {
     "name": "stdout",
     "output_type": "stream",
     "text": [
      "12\n"
     ]
    }
   ],
   "source": [
    "#overloading\n",
    "\n",
    "def fun():\n",
    "    print('hi')\n",
    "def fun(a):\n",
    "    print(a)\n",
    "#fun() #will not run\n",
    "fun(12)"
   ]
  },
  {
   "cell_type": "code",
   "execution_count": 95,
   "id": "2ca38ea1",
   "metadata": {},
   "outputs": [
    {
     "name": "stdout",
     "output_type": "stream",
     "text": [
      "60\n",
      "200\n",
      "10\n"
     ]
    }
   ],
   "source": [
    "#overloading\n",
    "\n",
    "def sum(a=None,b=None,c=None):\n",
    "    if a!=None and b!=None and c!=None:\n",
    "        c=a+b+c\n",
    "    elif a!=None and b!=None:\n",
    "        c=a*b\n",
    "    else:\n",
    "        c=a\n",
    "    print(c)\n",
    "sum(10,20,30)\n",
    "sum(10,20)\n",
    "sum(10)"
   ]
  },
  {
   "cell_type": "code",
   "execution_count": 96,
   "id": "3654e5c6",
   "metadata": {},
   "outputs": [
    {
     "name": "stdout",
     "output_type": "stream",
     "text": [
      "9\n",
      "hixyz\n"
     ]
    }
   ],
   "source": [
    "#function to take multiple arguments\n",
    "def add(datatype,*args):\n",
    "\n",
    "    #if datatype is int\n",
    "    # initialize answer to 0\n",
    "    if datatype=='int':\n",
    "        answer=0\n",
    "    \n",
    "    #if datatype is str\n",
    "    # initialize answer as ''\n",
    "    if datatype=='str':\n",
    "        answer=''\n",
    "\n",
    "    #traverse through the arguments\n",
    "    for i in args:\n",
    "        #this will do addition if the arguments are int or cancatenation if the argument are str\n",
    "        answer+=i\n",
    "    print(answer)\n",
    "\n",
    "add('int',2,3,4)\n",
    "add('str','hi','xyz')"
   ]
  },
  {
   "cell_type": "code",
   "execution_count": 98,
   "id": "72b24955",
   "metadata": {},
   "outputs": [
    {
     "name": "stdout",
     "output_type": "stream",
     "text": [
      "Defaulting to user installation because normal site-packages is not writeable\n",
      "Collecting multipledispatch\n",
      "  Downloading multipledispatch-1.0.0-py3-none-any.whl.metadata (3.8 kB)\n",
      "Downloading multipledispatch-1.0.0-py3-none-any.whl (12 kB)\n",
      "Installing collected packages: multipledispatch\n",
      "Successfully installed multipledispatch-1.0.0\n",
      "Note: you may need to restart the kernel to use updated packages.\n"
     ]
    },
    {
     "name": "stderr",
     "output_type": "stream",
     "text": [
      "\n",
      "[notice] A new release of pip is available: 24.0 -> 25.0.1\n",
      "[notice] To update, run: python.exe -m pip install --upgrade pip\n"
     ]
    }
   ],
   "source": [
    "pip install multipledispatch"
   ]
  },
  {
   "cell_type": "code",
   "execution_count": 101,
   "id": "358b8f3d",
   "metadata": {},
   "outputs": [
    {
     "name": "stdout",
     "output_type": "stream",
     "text": [
      "6\n",
      "8.3\n",
      "21.78\n"
     ]
    }
   ],
   "source": [
    "from multipledispatch import dispatch  #overloading\n",
    "\n",
    "#passing one parameter\n",
    "@dispatch(int,int) #decorator\n",
    "def product(first,second):\n",
    "    print(first*second)\n",
    "\n",
    "#passing two parameter\n",
    "@dispatch(int,int,float) #decorator\n",
    "def product(first,second,third):\n",
    "    print(first+second+third)\n",
    "\n",
    "#you can also pass data type of any value as per requirement\n",
    "@dispatch(float,float,int) #decorator\n",
    "def product(first,second,third):\n",
    "    print(first*second*third)\n",
    "\n",
    "product(2,3)\n",
    "product(2,3,3.3)\n",
    "product(2.2,3.3,3)\n",
    "\n"
   ]
  },
  {
   "cell_type": "code",
   "execution_count": 3,
   "id": "d2602fe5",
   "metadata": {},
   "outputs": [
    {
     "name": "stdout",
     "output_type": "stream",
     "text": [
      "\n"
     ]
    }
   ],
   "source": [
    "'''Overloading\n",
    "->In the method overloading, methods or functions must have the sdame name and differenrt signatures.\n",
    "->method overloading is a example of compile time polymorphism.\n",
    "->In the method overloading, inheritance may or may not be required.\n",
    "->It is used in order to add more to the behavior of methods.\n",
    "->In method ooverloading, there is no need of more than one class.\n",
    "\n",
    "\n",
    "Overriding\n",
    "->whereas in the method overriding, methods or functions must have the same name and same signatures.\n",
    "->whereas method overriding is a example of run time polymorphism.\n",
    "->Whereas in method overriding, inheritance always required.\n",
    "->Whereas it is used in order to change the behavior of existing methods.\n",
    "-> whereas in method overriding, there is neeed of atleast of two classes.'''\n",
    "print()"
   ]
  },
  {
   "cell_type": "code",
   "execution_count": 9,
   "id": "7fc743ec",
   "metadata": {},
   "outputs": [
    {
     "ename": "TypeError",
     "evalue": "Can't instantiate abstract class Triangle without an implementation for abstract method 'noofsides'",
     "output_type": "error",
     "traceback": [
      "\u001b[31m---------------------------------------------------------------------------\u001b[39m",
      "\u001b[31mTypeError\u001b[39m                                 Traceback (most recent call last)",
      "\u001b[36mCell\u001b[39m\u001b[36m \u001b[39m\u001b[32mIn[9]\u001b[39m\u001b[32m, line 12\u001b[39m\n\u001b[32m      9\u001b[39m     \u001b[38;5;28;01mdef\u001b[39;00m\u001b[38;5;250m \u001b[39m\u001b[34mnosides\u001b[39m(\u001b[38;5;28mself\u001b[39m):\n\u001b[32m     10\u001b[39m         \u001b[38;5;28mprint\u001b[39m(\u001b[33m'\u001b[39m\u001b[33m3 sides\u001b[39m\u001b[33m'\u001b[39m)\n\u001b[32m---> \u001b[39m\u001b[32m12\u001b[39m t=\u001b[43mTriangle\u001b[49m\u001b[43m(\u001b[49m\u001b[43m)\u001b[49m\n",
      "\u001b[31mTypeError\u001b[39m: Can't instantiate abstract class Triangle without an implementation for abstract method 'noofsides'"
     ]
    }
   ],
   "source": [
    "from abc import ABC, abstractmethod\n",
    "\n",
    "class Polygon(ABC):\n",
    "    @abstractmethod\n",
    "    def noofsides(self):\n",
    "        pass\n",
    "class Triangle(Polygon):\n",
    "    #overriding abstract method\n",
    "    def nosides(self):\n",
    "        print('3 sides')\n",
    "\n",
    "t=Triangle()"
   ]
  },
  {
   "cell_type": "code",
   "execution_count": 20,
   "id": "839759cc",
   "metadata": {},
   "outputs": [
    {
     "name": "stdout",
     "output_type": "stream",
     "text": [
      "Student Created\n",
      "Name: abc\n",
      "Roll No: 21\n",
      "Marks:(40, 50, 60)\n",
      "\n",
      "Student Created\n",
      "Name: xyz\n",
      "Roll No: 22\n",
      "Marks:(70, 80, 90)\n",
      "\n"
     ]
    }
   ],
   "source": [
    "class Student:\n",
    "    def __init__(self,name,roll_no,*marks):\n",
    "        print(\"Student Created\")\n",
    "        self.name=name\n",
    "        self.roll_no=roll_no\n",
    "        self.marks=marks\n",
    "    def details(self):\n",
    "        print(f\"Name: {self.name}\")\n",
    "        print(f\"Roll No: {self.roll_no}\")\n",
    "        print(f\"Marks:{self.marks}\\n\")\n",
    "s1=Student('abc',21,40,50,60)\n",
    "s1.details()\n",
    "s2=Student('xyz',22,70,80,90)\n",
    "s2.details()"
   ]
  },
  {
   "cell_type": "code",
   "execution_count": 23,
   "id": "32b4fb11",
   "metadata": {},
   "outputs": [
    {
     "name": "stdout",
     "output_type": "stream",
     "text": [
      "B\n"
     ]
    }
   ],
   "source": [
    "class Grade:\n",
    "    def __init__(self,marks):\n",
    "        self.marks=marks\n",
    "    def get_grade(self):\n",
    "        if self.marks>90:\n",
    "            return \"A\"\n",
    "        elif 80<self.marks<=90:\n",
    "            return \"B\"\n",
    "        else:\n",
    "            return \"C\"\n",
    "g=Grade(85)    \n",
    "print(g.get_grade())    "
   ]
  },
  {
   "cell_type": "code",
   "execution_count": 29,
   "id": "375165ed",
   "metadata": {},
   "outputs": [
    {
     "name": "stdout",
     "output_type": "stream",
     "text": [
      "ABC\n",
      "Brand Changed\n",
      "XYZ\n"
     ]
    }
   ],
   "source": [
    "class Laptop:\n",
    "    brand='ABC'\n",
    "    def __init__(self,price):\n",
    "        self.price=price\n",
    "\n",
    "    @classmethod\n",
    "    def change_brand(cls,change):\n",
    "        cls.brand=change\n",
    "        print(\"Brand Changed\")\n",
    "d1=Laptop(12000)\n",
    "print(d1.brand)\n",
    "Laptop.change_brand(\"XYZ\")\n",
    "print(d1.brand)"
   ]
  },
  {
   "cell_type": "code",
   "execution_count": 30,
   "id": "b2481b79",
   "metadata": {},
   "outputs": [
    {
     "name": "stdout",
     "output_type": "stream",
     "text": [
      "False\n"
     ]
    }
   ],
   "source": [
    "#Use Dunder/magic method to compare two objects.\n",
    "\n",
    "class compare:\n",
    "    def __init__(self,a,b):\n",
    "        self.a=a\n",
    "        self.b=b\n",
    "    def __eq__(self,next):\n",
    "        return self.a==next.a and self.b==next.b\n",
    "\n",
    "x=compare(2,3)\n",
    "y=compare(3,2)\n",
    "print(x==y)\n",
    "\n"
   ]
  },
  {
   "cell_type": "code",
   "execution_count": 31,
   "id": "fa878c52",
   "metadata": {},
   "outputs": [
    {
     "name": "stdout",
     "output_type": "stream",
     "text": [
      "30\n"
     ]
    }
   ],
   "source": [
    "#Create a class with static method.\n",
    "\n",
    "class example:\n",
    "    def __init__(self):\n",
    "        pass\n",
    "    @staticmethod\n",
    "    def new(a,b):\n",
    "        return a+b\n",
    "    \n",
    "print(example.new(10,20))"
   ]
  },
  {
   "cell_type": "code",
   "execution_count": 40,
   "id": "62161a09",
   "metadata": {},
   "outputs": [
    {
     "name": "stdout",
     "output_type": "stream",
     "text": [
      "Vehicle\n",
      "Car\n",
      "started\n",
      "Driving\n"
     ]
    }
   ],
   "source": [
    "# Basic Inheritance\n",
    "# Create a Vehicle class with a method start().\n",
    "\n",
    "# Inherit it in a Car class and add a drive() method.\n",
    "\n",
    "# Create an object of Car and call both methods.\n",
    "\n",
    "\n",
    "class Vehicle:\n",
    "    def __init__(self):\n",
    "        print(\"Vehicle\")\n",
    "    def start(self):\n",
    "        print('started')\n",
    "class Car(Vehicle):\n",
    "    def __init__(self):\n",
    "        super().__init__()\n",
    "        print(\"Car\")\n",
    "    def drive(self):\n",
    "        print(\"Driving\")\n",
    "\n",
    "c=Car()\n",
    "c.start()\n",
    "c.drive()"
   ]
  },
  {
   "cell_type": "code",
   "execution_count": 43,
   "id": "5876a9d8",
   "metadata": {},
   "outputs": [
    {
     "name": "stdout",
     "output_type": "stream",
     "text": [
      "abc\n",
      "25\n",
      "12345\n"
     ]
    }
   ],
   "source": [
    "# Create a Person class with __init__ taking name and age.\n",
    "\n",
    "# Create an Employee class that inherits Person and also takes employee ID.\n",
    "\n",
    "# Show how super() is used.\n",
    "\n",
    "class Person:\n",
    "    def __init__(self,name,age):\n",
    "        self.name=name\n",
    "        self.age=age\n",
    "        print(self.name)\n",
    "        print(self.age)\n",
    "    \n",
    "class Employee(Person):\n",
    "    def __init__(self,name,age,employee_id):\n",
    "        super().__init__(name,age)\n",
    "        self.employee_id=employee_id\n",
    "        print(self.employee_id)\n",
    "\n",
    "p1=Employee('abc',25,12345)\n",
    "\n"
   ]
  },
  {
   "cell_type": "code",
   "execution_count": 46,
   "id": "3bedb377",
   "metadata": {},
   "outputs": [
    {
     "name": "stdout",
     "output_type": "stream",
     "text": [
      "25\n",
      "10\n"
     ]
    }
   ],
   "source": [
    "# Method Overriding\n",
    "# Create a Shape class with method area().\n",
    "\n",
    "# Create a Square class that overrides area().\n",
    "\n",
    "class Shape:\n",
    "    def __init__(self,a,b):\n",
    "        self.a=a\n",
    "        self.b=b\n",
    "    def area(self):\n",
    "        return self.a+self.b\n",
    "    \n",
    "class Square(Shape):\n",
    "    def __init__(self,a,b):\n",
    "        self.a=a\n",
    "        self.b=b\n",
    "    def area(self):\n",
    "        return self.a*self.b\n",
    "\n",
    "s=Square(5,5)\n",
    "print(s.area())\n",
    "\n",
    "t=Shape(5,5)\n",
    "print(t.area())"
   ]
  },
  {
   "cell_type": "code",
   "execution_count": 48,
   "id": "31debca1",
   "metadata": {},
   "outputs": [
    {
     "name": "stdout",
     "output_type": "stream",
     "text": [
      "c\n",
      "b\n",
      "a\n"
     ]
    }
   ],
   "source": [
    "# Multilevel Inheritance\n",
    "# LivingBeing → Animal → Dog\n",
    "\n",
    "# Add unique methods in each and access all from Dog.\n",
    "\n",
    "class livingbeing:\n",
    "    def a(self):\n",
    "        print(\"a\")\n",
    "class animal(livingbeing):\n",
    "    def b(self):\n",
    "        print('b')\n",
    "class dog(animal):\n",
    "    def c(self):\n",
    "        print(\"c\")\n",
    "\n",
    "d=dog()\n",
    "d.c()\n",
    "d.b()\n",
    "d.a()"
   ]
  },
  {
   "cell_type": "code",
   "execution_count": 49,
   "id": "923d2160",
   "metadata": {},
   "outputs": [
    {
     "name": "stdout",
     "output_type": "stream",
     "text": [
      "Quake Quake\n",
      "swim\n",
      "fly\n"
     ]
    }
   ],
   "source": [
    "# Multiple Inheritance\n",
    "# Flyer class with method fly()\n",
    "\n",
    "# Swimmer class with method swim()\n",
    "\n",
    "# Duck class inherits both and has its own quack() method.\n",
    "\n",
    "class Flyer:\n",
    "    def fly(self):\n",
    "        print('fly')\n",
    "class Swimmer:\n",
    "    def swim(self):\n",
    "        print('swim')\n",
    "class Duck(Flyer,Swimmer):\n",
    "    def quake(self):\n",
    "        print(\"Quake Quake\")\n",
    "\n",
    "d=Duck()\n",
    "d.quake()\n",
    "d.swim()\n",
    "d.fly()"
   ]
  },
  {
   "cell_type": "code",
   "execution_count": 51,
   "id": "66fafa45",
   "metadata": {},
   "outputs": [
    {
     "name": "stdout",
     "output_type": "stream",
     "text": [
      "from base\n",
      "from child\n",
      "40\n"
     ]
    }
   ],
   "source": [
    "# Using super() in methods (not just __init__)\n",
    "# Create a base class with a method and override it in the child.\n",
    "\n",
    "# In the child, use super() to call the parent method before extending it.\n",
    "\n",
    "class base:\n",
    "    def __init__(self):\n",
    "        print(\"from base\")\n",
    "    def sum(self,a,b):\n",
    "        print(a+b)\n",
    "class child(base):\n",
    "    def __init__(self):\n",
    "        super().__init__()\n",
    "        print(\"from child\")\n",
    "    def sum(self,a,b):\n",
    "        print(a+b+10)\n",
    "d=child()\n",
    "d.sum(10,20)"
   ]
  },
  {
   "cell_type": "code",
   "execution_count": null,
   "id": "d6912f2f",
   "metadata": {},
   "outputs": [],
   "source": []
  }
 ],
 "metadata": {
  "kernelspec": {
   "display_name": "Python 3",
   "language": "python",
   "name": "python3"
  },
  "language_info": {
   "codemirror_mode": {
    "name": "ipython",
    "version": 3
   },
   "file_extension": ".py",
   "mimetype": "text/x-python",
   "name": "python",
   "nbconvert_exporter": "python",
   "pygments_lexer": "ipython3",
   "version": "3.12.3"
  }
 },
 "nbformat": 4,
 "nbformat_minor": 5
}
