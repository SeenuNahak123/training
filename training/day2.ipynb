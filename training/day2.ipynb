{
 "cells": [
  {
   "cell_type": "code",
   "execution_count": null,
   "metadata": {},
   "outputs": [],
   "source": [
    "#data structure\n",
    "#list[]\n",
    "#tuple()\n",
    "#dict{key:value}"
   ]
  },
  {
   "cell_type": "code",
   "execution_count": null,
   "metadata": {},
   "outputs": [],
   "source": [
    "l=[100,110,120,130,140,130,150]\n"
   ]
  },
  {
   "cell_type": "code",
   "execution_count": 5,
   "metadata": {},
   "outputs": [
    {
     "name": "stdout",
     "output_type": "stream",
     "text": [
      "guindy\n",
      "6\n",
      "hen\n"
     ]
    }
   ],
   "source": [
    "city=['chennai-guindy', 'mumbai','delhi']\n",
    "print(city[0][8:])\n",
    "print(len(city[1]))\n",
    "print(city[0][1:4])\n"
   ]
  },
  {
   "cell_type": "code",
   "execution_count": 7,
   "metadata": {},
   "outputs": [
    {
     "name": "stdout",
     "output_type": "stream",
     "text": [
      "100\n",
      "[[1, 2], ['abc', 'efg', [999, 200]]]\n"
     ]
    }
   ],
   "source": [
    "li=[[1,2],['abc','efg',[100,200]]]\n",
    "print(li[1][2][0])\n",
    "li[1][2][0]=999\n",
    "print(li)"
   ]
  },
  {
   "cell_type": "code",
   "execution_count": null,
   "metadata": {},
   "outputs": [
    {
     "name": "stdout",
     "output_type": "stream",
     "text": [
      "True\n",
      "7\n"
     ]
    }
   ],
   "source": [
    "l=[100,120,130,140,130,110]\n",
    "l.append(777)\n",
    "l.insert(3,333)#index,value\n",
    "l\n",
    "print(777 in l)\n",
    "num=l.index(777)\n",
    "print(num)\n"
   ]
  },
  {
   "cell_type": "code",
   "execution_count": 18,
   "metadata": {},
   "outputs": [
    {
     "name": "stdout",
     "output_type": "stream",
     "text": [
      "[100, 120, 130, 110, 777]\n"
     ]
    }
   ],
   "source": [
    "#l.remove(333) #value\n",
    "l\n",
    "l.pop(2)\n",
    "print(l)"
   ]
  },
  {
   "cell_type": "code",
   "execution_count": 19,
   "metadata": {},
   "outputs": [
    {
     "data": {
      "text/plain": [
       "[]"
      ]
     },
     "execution_count": 19,
     "metadata": {},
     "output_type": "execute_result"
    }
   ],
   "source": [
    "#del l\n",
    "l.clear()\n",
    "l"
   ]
  },
  {
   "cell_type": "code",
   "execution_count": 22,
   "metadata": {},
   "outputs": [
    {
     "data": {
      "text/plain": [
       "[100, 120, 130, 140, 130, 110, 111, 222]"
      ]
     },
     "execution_count": 22,
     "metadata": {},
     "output_type": "execute_result"
    }
   ],
   "source": [
    "l=[100,120,130,140,130,110]\n",
    "#l.append([111,222]) #[100, 120, 130, 140, 130, 110, [111, 222]]\n",
    "l.extend([111,222])\n",
    "l"
   ]
  },
  {
   "cell_type": "code",
   "execution_count": 23,
   "metadata": {},
   "outputs": [
    {
     "name": "stdout",
     "output_type": "stream",
     "text": [
      "[100, 120, 130, 140, 130, 110, 111, 222, 555, 666]\n"
     ]
    }
   ],
   "source": [
    "l=l+[555,666]\n",
    "print(l)"
   ]
  },
  {
   "cell_type": "code",
   "execution_count": 24,
   "metadata": {},
   "outputs": [
    {
     "data": {
      "text/plain": [
       "[666, 222, 110, 140, 120]"
      ]
     },
     "execution_count": 24,
     "metadata": {},
     "output_type": "execute_result"
    }
   ],
   "source": [
    "l[::-2]"
   ]
  },
  {
   "cell_type": "code",
   "execution_count": 25,
   "metadata": {},
   "outputs": [
    {
     "data": {
      "text/plain": [
       "['re', 'rd', 're', 'rd', 're', 'rd']"
      ]
     },
     "execution_count": 25,
     "metadata": {},
     "output_type": "execute_result"
    }
   ],
   "source": [
    "s=['re','rd']*3\n",
    "s"
   ]
  },
  {
   "cell_type": "code",
   "execution_count": 32,
   "metadata": {},
   "outputs": [
    {
     "name": "stdout",
     "output_type": "stream",
     "text": [
      "[1, 2, 3, 4, 5, 10, 9, 8, 7, 6]\n"
     ]
    }
   ],
   "source": [
    "num=[1,2,3,4,5,6,7,8,9,10]\n",
    "a=num[:5]\n",
    "b=num[5:]\n",
    "num2=a+b[::-1]\n",
    "print(num2)"
   ]
  },
  {
   "cell_type": "code",
   "execution_count": 39,
   "metadata": {},
   "outputs": [
    {
     "name": "stdout",
     "output_type": "stream",
     "text": [
      "[2, 3, 5, 7, 11, 13, 17, 19, 23, 29, 31, 37, 41, 43, 47, 53, 59, 61, 67, 71, 73, 79, 83, 89, 97]\n"
     ]
    }
   ],
   "source": [
    "l=[]\n",
    "for i in range(2,100):\n",
    "    flag=1\n",
    "    for j in range(2,i):\n",
    "        if i%j==0:\n",
    "            flag=0\n",
    "    if flag==1:\n",
    "        l.append(i)\n",
    "print(l)\n"
   ]
  },
  {
   "cell_type": "code",
   "execution_count": 40,
   "metadata": {},
   "outputs": [],
   "source": [
    "#tuple - ()\n",
    "t=(1,2,3)"
   ]
  },
  {
   "cell_type": "code",
   "execution_count": 43,
   "metadata": {},
   "outputs": [
    {
     "data": {
      "text/plain": [
       "[1, 2, 3]"
      ]
     },
     "execution_count": 43,
     "metadata": {},
     "output_type": "execute_result"
    }
   ],
   "source": [
    "#tuple to list\n",
    "l=list(t)\n",
    "l"
   ]
  },
  {
   "cell_type": "code",
   "execution_count": 44,
   "metadata": {},
   "outputs": [
    {
     "data": {
      "text/plain": [
       "(1, 2, 3)"
      ]
     },
     "execution_count": 44,
     "metadata": {},
     "output_type": "execute_result"
    }
   ],
   "source": [
    "t2=tuple(l)\n",
    "t2"
   ]
  },
  {
   "cell_type": "code",
   "execution_count": 47,
   "metadata": {},
   "outputs": [
    {
     "data": {
      "text/plain": [
       "(1, 2, 3, [111, 3, 4])"
      ]
     },
     "execution_count": 47,
     "metadata": {},
     "output_type": "execute_result"
    }
   ],
   "source": [
    "t3=(1,2,3,[2,3,4]) #list inside tuple can edited\n",
    "t3[3][0]=111\n",
    "t3"
   ]
  },
  {
   "cell_type": "code",
   "execution_count": 56,
   "metadata": {},
   "outputs": [
    {
     "name": "stdout",
     "output_type": "stream",
     "text": [
      "harsha got 50.0 simple interest and 51.01005010000017 compound interest\n",
      "vishal got 40.0 simple interest and 43.79888399895145 compound interest\n",
      "princy got 135.0 simple interest and 167.3902249802295 compound interest\n",
      "dale got 320.0 simple interest and 476.44925721336836 compound interest\n",
      "moudi got 625.0 simple interest and 1193.1774704496943 compound interest\n"
     ]
    }
   ],
   "source": [
    "name=['harsha','vishal','princy','dale','moudi']\n",
    "principle=[1000,200,300,400,500]\n",
    "rate=[1,2,3,4,5]\n",
    "years=[5,10,15,20,25]\n",
    "\n",
    "si=[]\n",
    "for i in range(5):\n",
    "    si.append(name[i])\n",
    "    si.append(principle[i]*rate[i]*years[i]/100)\n",
    "    si.append((principle[i]*(1+rate[i]/100)**years[i])-principle[i])\n",
    "    print(f'{si[0]} got {si[1]} simple interest and {si[2]} compound interest')\n",
    "    si.clear()"
   ]
  },
  {
   "cell_type": "code",
   "execution_count": 72,
   "metadata": {},
   "outputs": [
    {
     "name": "stdout",
     "output_type": "stream",
     "text": [
      "[1, 2]\n"
     ]
    }
   ],
   "source": [
    "num=list(map(int, input().split()))\n",
    "target=int(input())\n",
    "a=[]\n",
    "for i in range(len(num)):\n",
    "    for j in range(i+1,len(num)):\n",
    "        if num[i]+num[j]==target:\n",
    "            a.append(i)\n",
    "            a.append(j)\n",
    "print(a)"
   ]
  },
  {
   "cell_type": "code",
   "execution_count": 81,
   "metadata": {},
   "outputs": [
    {
     "name": "stdout",
     "output_type": "stream",
     "text": [
      "[3, 4, 5, 6]\n",
      "[3, 4, 5, 6]\n"
     ]
    }
   ],
   "source": [
    "a=[3,4]\n",
    "b=a\n",
    "b+=[5,6]\n",
    "print(a)\n",
    "print(b)"
   ]
  },
  {
   "cell_type": "code",
   "execution_count": null,
   "metadata": {},
   "outputs": [
    {
     "name": "stdout",
     "output_type": "stream",
     "text": [
      "[3, 4]\n",
      "[3, 4, 5, 6]\n"
     ]
    }
   ],
   "source": [
    "#copy\n",
    "a=[3,4]\n",
    "b=a.copy()\n",
    "b+=[5,6]\n",
    "print(a)\n",
    "print(b)\n",
    "\n",
    "#copy() makes a copy of list and store it in new location"
   ]
  },
  {
   "cell_type": "code",
   "execution_count": null,
   "metadata": {},
   "outputs": [
    {
     "name": "stdout",
     "output_type": "stream",
     "text": [
      "[3, 4, [999, 888, 1000]]\n",
      "[3, 4, [999, 888, 1000]]\n"
     ]
    }
   ],
   "source": [
    "a=[3,4,[999,888]]\n",
    "b=a.copy()\n",
    "b[2].append(1000)\n",
    "print(b)\n",
    "print(a)\n",
    "\n",
    "#if theres a nested list , it wont directly copy the nested list to new memory location and any changes made affects the original list as well"
   ]
  },
  {
   "cell_type": "code",
   "execution_count": null,
   "metadata": {},
   "outputs": [
    {
     "name": "stdout",
     "output_type": "stream",
     "text": [
      "[3, 4, [999, 888, 1000]]\n",
      "[3, 4, [999, 888]]\n"
     ]
    }
   ],
   "source": [
    "import copy\n",
    "a=[3,4,[999,888]]\n",
    "b=copy.deepcopy(a)\n",
    "b[2].append(1000)\n",
    "print(b)\n",
    "print(a)\n",
    "\n",
    "#to overcome this problem we can import copy module and use deepcopy which will make a copy of each element and store it in new memory location"
   ]
  },
  {
   "cell_type": "code",
   "execution_count": 86,
   "metadata": {},
   "outputs": [],
   "source": [
    "num=[1,2,3,4,5,6,7,8,9,10]\n"
   ]
  },
  {
   "cell_type": "markdown",
   "metadata": {},
   "source": []
  },
  {
   "cell_type": "code",
   "execution_count": 90,
   "metadata": {},
   "outputs": [],
   "source": [
    "d={'name':'abc','std':8,'height':5.5}\n",
    "#singlr key:value=dict item"
   ]
  },
  {
   "cell_type": "code",
   "execution_count": 89,
   "metadata": {},
   "outputs": [
    {
     "data": {
      "text/plain": [
       "{'name': 'abc', 'std': 8, 'height': 5.5, 'key': 'value'}"
      ]
     },
     "execution_count": 89,
     "metadata": {},
     "output_type": "execute_result"
    }
   ],
   "source": [
    "d['key']='value'\n",
    "d"
   ]
  },
  {
   "cell_type": "code",
   "execution_count": 91,
   "metadata": {},
   "outputs": [
    {
     "name": "stdout",
     "output_type": "stream",
     "text": [
      "{'name': 'ABB', 'std': 'ABB', 'height': 5.5}\n"
     ]
    }
   ],
   "source": [
    "d={'name': 'abc', 'std': 'ABB','height': 5.5, 'name':'ABB'}\n",
    "print(d)"
   ]
  },
  {
   "cell_type": "code",
   "execution_count": 92,
   "metadata": {},
   "outputs": [
    {
     "data": {
      "text/plain": [
       "'ABB'"
      ]
     },
     "execution_count": 92,
     "metadata": {},
     "output_type": "execute_result"
    }
   ],
   "source": [
    "d['name']"
   ]
  },
  {
   "cell_type": "code",
   "execution_count": 93,
   "metadata": {},
   "outputs": [
    {
     "data": {
      "text/plain": [
       "'ABB'"
      ]
     },
     "execution_count": 93,
     "metadata": {},
     "output_type": "execute_result"
    }
   ],
   "source": [
    "d.get('name')"
   ]
  },
  {
   "cell_type": "code",
   "execution_count": 96,
   "metadata": {},
   "outputs": [
    {
     "name": "stdout",
     "output_type": "stream",
     "text": [
      "[1, 2, 3, 4, 5]\n"
     ]
    }
   ],
   "source": [
    "a=list(map(int,input().split()))\n",
    "print(a)"
   ]
  },
  {
   "cell_type": "code",
   "execution_count": 98,
   "metadata": {},
   "outputs": [
    {
     "name": "stdout",
     "output_type": "stream",
     "text": [
      "(1, 2, 3, 4, 5)\n"
     ]
    }
   ],
   "source": [
    "a=tuple(map(int,input().split()))\n",
    "print(a)\n"
   ]
  },
  {
   "cell_type": "code",
   "execution_count": 99,
   "metadata": {},
   "outputs": [
    {
     "name": "stdout",
     "output_type": "stream",
     "text": [
      "{'name': 'seenu', 'age': '24', 'company': 'mphasis', 'doj': '25/03/25', 'date': '04/02/25'}\n"
     ]
    }
   ],
   "source": [
    "dic={}\n",
    "for i in range(5):\n",
    "    a=input()\n",
    "    dic[a]=input()\n",
    "print(dic)"
   ]
  },
  {
   "cell_type": "code",
   "execution_count": 101,
   "metadata": {},
   "outputs": [
    {
     "name": "stdout",
     "output_type": "stream",
     "text": [
      "{1: 6, 2: 7, 3: 8, 4: 9, 5: 10}\n"
     ]
    }
   ],
   "source": [
    "a=[1,2,3,4,5]\n",
    "b=[6,7,8,9,10]\n",
    "c={}\n",
    "for i in range(len(a)):\n",
    "    c[a[i]]=b[i]\n",
    "print(c)"
   ]
  },
  {
   "cell_type": "code",
   "execution_count": 112,
   "metadata": {},
   "outputs": [
    {
     "name": "stdout",
     "output_type": "stream",
     "text": [
      "{1: 6, 2: 7, 3: 8, 4: 9, 5: 10}\n"
     ]
    }
   ],
   "source": [
    "a=[1,2,3,4,5]#[1,2,3,4,5,a]\n",
    "b=[6,7,8,9,10]\n",
    "z=zip(a,b)\n",
    "print(dict(z))\n",
    "\n"
   ]
  },
  {
   "cell_type": "code",
   "execution_count": 111,
   "metadata": {},
   "outputs": [
    {
     "name": "stdout",
     "output_type": "stream",
     "text": [
      "[(1, 6), (2, 7), (3, 8), (4, 9), (5, 10)]\n"
     ]
    }
   ],
   "source": [
    "a=[1,2,3,4,5]#[1,2,3,4,5,a]\n",
    "b=[6,7,8,9,10]\n",
    "z=zip(a,b)\n",
    "print(list(z))"
   ]
  },
  {
   "cell_type": "code",
   "execution_count": 108,
   "metadata": {},
   "outputs": [
    {
     "name": "stdout",
     "output_type": "stream",
     "text": [
      "{1: 6, 2: 7, 3: 8, 4: 9, 5: 10}\n",
      "dict_keys([1, 2, 3, 4, 5])\n",
      "dict_values([6, 7, 8, 9, 10])\n",
      "dict_items([(1, 6), (2, 7), (3, 8), (4, 9), (5, 10)])\n"
     ]
    }
   ],
   "source": [
    "d={1: 6, 2: 7, 3: 8, 4: 9, 5: 10}\n",
    "print(d)\n",
    "print(d.keys())\n",
    "print(d.values())\n",
    "print(d.items())"
   ]
  },
  {
   "cell_type": "code",
   "execution_count": null,
   "metadata": {},
   "outputs": [
    {
     "name": "stdout",
     "output_type": "stream",
     "text": [
      "{'cat': 3, 'elephant': 8, 'horse': 5, 'lion': 4, 'turtle': 6, 'snake': 5, 'parrot': 6}\n"
     ]
    }
   ],
   "source": [
    "a=['cat','elephant','horse','lion','turtle','snake','parrot']\n",
    "b={}\n",
    "for i in a:\n",
    "    b[i]=len(i)\n",
    "print(b)"
   ]
  },
  {
   "cell_type": "code",
   "execution_count": 119,
   "metadata": {},
   "outputs": [
    {
     "name": "stdout",
     "output_type": "stream",
     "text": [
      "{'If': 1, 'from': 1, 'elements': 1, 'unequal': 1, 'length': 1, 'where': 1, 'index.': 1, 'at': 2, 'iterator': 1, 'Returns': 1, 'tuple': 2, 'an': 1, 'contains': 1, 'input': 2, 'the': 4, 'each': 1, 'of': 2, 'then': 1, 'are': 1, 'iterables': 2, 'same': 1, 'tuples,': 1}\n"
     ]
    }
   ],
   "source": [
    "a=\"Returns an iterator of tuples, where each tuple contains elements from the input iterables at the same index. If the input iterables are of unequal length then\"\n",
    "b=set(map(str,a.split(\" \")))\n",
    "c={}\n",
    "for i in b:\n",
    "    c[i]=a.count(i)\n",
    "print(c)\n"
   ]
  },
  {
   "cell_type": "code",
   "execution_count": 120,
   "metadata": {},
   "outputs": [
    {
     "name": "stdout",
     "output_type": "stream",
     "text": [
      "('parrot', 6)\n"
     ]
    }
   ],
   "source": [
    "c={'cat': 3, 'elephant': 8, 'horse': 5, 'lion': 4, 'turtle': 6, 'snake': 5, 'parrot': 6}\n",
    "print(c.popitem())"
   ]
  },
  {
   "cell_type": "code",
   "execution_count": 123,
   "metadata": {},
   "outputs": [],
   "source": [
    "z={1:{'name':'abc','std':8,'height':5.5},2:['name','std','height'],3:('name','std','height')}"
   ]
  },
  {
   "cell_type": "code",
   "execution_count": 124,
   "metadata": {},
   "outputs": [
    {
     "data": {
      "text/plain": [
       "8"
      ]
     },
     "execution_count": 124,
     "metadata": {},
     "output_type": "execute_result"
    }
   ],
   "source": [
    "\n",
    "z[1]['std']"
   ]
  },
  {
   "cell_type": "code",
   "execution_count": 126,
   "metadata": {},
   "outputs": [
    {
     "data": {
      "text/plain": [
       "{1: {'name': 'abc', 'std': 8, 'height': 5.5},\n",
       " 2: ['name', 'std', 'height'],\n",
       " 3: ('name', 'std', 'height'),\n",
       " 4: {'zero': 0}}"
      ]
     },
     "execution_count": 126,
     "metadata": {},
     "output_type": "execute_result"
    }
   ],
   "source": [
    "z[4]={'zero':0}\n",
    "z"
   ]
  },
  {
   "cell_type": "code",
   "execution_count": 128,
   "metadata": {},
   "outputs": [
    {
     "name": "stdout",
     "output_type": "stream",
     "text": [
      "{'a': 5, 'd': 8}\n",
      "{'b': 15, 'c': 25}\n"
     ]
    }
   ],
   "source": [
    "d={'a':5,'b':15,'c':25,'d':8}\n",
    "d1={}\n",
    "d2={}\n",
    "for i in d:\n",
    "    if d[i]<10:\n",
    "        d1[i]=d[i]\n",
    "    else:\n",
    "        d2[i]=d[i]\n",
    "print(d1)\n",
    "print(d2)"
   ]
  },
  {
   "cell_type": "code",
   "execution_count": 129,
   "metadata": {},
   "outputs": [
    {
     "name": "stdout",
     "output_type": "stream",
     "text": [
      "{'b': 15, 'c': 25}\n"
     ]
    }
   ],
   "source": [
    "d={'a':5,'b':15,'c':25,'d':8}\n",
    "d1={key:value for key,value in d.items() if value>10}\n",
    "print(d1)"
   ]
  },
  {
   "cell_type": "code",
   "execution_count": 130,
   "metadata": {},
   "outputs": [
    {
     "name": "stdout",
     "output_type": "stream",
     "text": [
      "5\n"
     ]
    }
   ],
   "source": [
    "n=int(5.5)\n",
    "print(n)"
   ]
  },
  {
   "cell_type": "code",
   "execution_count": 133,
   "metadata": {},
   "outputs": [
    {
     "ename": "ValueError",
     "evalue": "invalid literal for int() with base 10: '5.5'",
     "output_type": "error",
     "traceback": [
      "\u001b[31m---------------------------------------------------------------------------\u001b[39m",
      "\u001b[31mValueError\u001b[39m                                Traceback (most recent call last)",
      "\u001b[36mCell\u001b[39m\u001b[36m \u001b[39m\u001b[32mIn[133]\u001b[39m\u001b[32m, line 1\u001b[39m\n\u001b[32m----> \u001b[39m\u001b[32m1\u001b[39m n=\u001b[38;5;28;43mint\u001b[39;49m\u001b[43m(\u001b[49m\u001b[38;5;28;43minput\u001b[39;49m\u001b[43m(\u001b[49m\u001b[33;43m'\u001b[39;49m\u001b[33;43menter a float\u001b[39;49m\u001b[33;43m'\u001b[39;49m\u001b[43m)\u001b[49m\u001b[43m)\u001b[49m\n\u001b[32m      2\u001b[39m \u001b[38;5;28mprint\u001b[39m(n)\n",
      "\u001b[31mValueError\u001b[39m: invalid literal for int() with base 10: '5.5'"
     ]
    }
   ],
   "source": [
    "n=int(input('enter a float'))\n",
    "print(n)"
   ]
  },
  {
   "cell_type": "code",
   "execution_count": 141,
   "metadata": {},
   "outputs": [
    {
     "name": "stdout",
     "output_type": "stream",
     "text": [
      "{'c': 25}\n",
      "{'a': 5}\n",
      "c\n"
     ]
    }
   ],
   "source": [
    "d={'a':5,'b':15,'c':25,'d':8}\n",
    "a=d.values()\n",
    "d1={key:value for key,value in d.items() if value==max(a)}\n",
    "print(d1)\n",
    "d1={key:value for key,value in d.items() if value==min(a)}\n",
    "print(d1)\n",
    "\n",
    "\n",
    "d2 = max(d, key=d.get)\n",
    "print(d2)"
   ]
  },
  {
   "cell_type": "code",
   "execution_count": 144,
   "metadata": {},
   "outputs": [
    {
     "name": "stdout",
     "output_type": "stream",
     "text": [
      "{1, 3, 5}\n"
     ]
    }
   ],
   "source": [
    "#set-{}\n",
    "l=[1,1,3,3,5,5,5]\n",
    "print(set(l))"
   ]
  },
  {
   "cell_type": "code",
   "execution_count": null,
   "metadata": {},
   "outputs": [
    {
     "name": "stdout",
     "output_type": "stream",
     "text": [
      "{1, 2, 3, 4, 5, 6, 7, 8}\n"
     ]
    }
   ],
   "source": [
    "#set union method\n",
    "\n",
    "a={1,2,3,4,5}\n",
    "b={4,5,6,7,8}\n",
    "\n",
    "#use | operator\n",
    "print(a|b)"
   ]
  },
  {
   "cell_type": "code",
   "execution_count": 146,
   "metadata": {},
   "outputs": [
    {
     "data": {
      "text/plain": [
       "{1, 2, 3, 4, 5, 6, 7, 8}"
      ]
     },
     "execution_count": 146,
     "metadata": {},
     "output_type": "execute_result"
    }
   ],
   "source": [
    "a.union(b)"
   ]
  },
  {
   "cell_type": "code",
   "execution_count": 148,
   "metadata": {},
   "outputs": [
    {
     "name": "stdout",
     "output_type": "stream",
     "text": [
      "{4, 5}\n"
     ]
    }
   ],
   "source": [
    "#set intersection \n",
    "\n",
    "a={1,2,3,4,5}\n",
    "b={4,5,6,7,8}\n",
    "\n",
    "#use & operator\n",
    "print(a&b)"
   ]
  },
  {
   "cell_type": "code",
   "execution_count": 147,
   "metadata": {},
   "outputs": [
    {
     "data": {
      "text/plain": [
       "{4, 5}"
      ]
     },
     "execution_count": 147,
     "metadata": {},
     "output_type": "execute_result"
    }
   ],
   "source": [
    "a.intersection(b)"
   ]
  },
  {
   "cell_type": "code",
   "execution_count": 149,
   "metadata": {},
   "outputs": [
    {
     "name": "stdout",
     "output_type": "stream",
     "text": [
      "{1, 2, 3}\n",
      "{8, 6, 7}\n"
     ]
    }
   ],
   "source": [
    "#set difference\n",
    "\n",
    "a={1,2,3,4,5}\n",
    "b={4,5,6,7,8}\n",
    "\n",
    "#use - operator\n",
    "\n",
    "print(a-b)\n",
    "print(b-a)\n"
   ]
  },
  {
   "cell_type": "code",
   "execution_count": 152,
   "metadata": {},
   "outputs": [
    {
     "data": {
      "text/plain": [
       "{1, 2, 3}"
      ]
     },
     "execution_count": 152,
     "metadata": {},
     "output_type": "execute_result"
    }
   ],
   "source": [
    "a.difference(b)\n"
   ]
  },
  {
   "cell_type": "code",
   "execution_count": 153,
   "metadata": {},
   "outputs": [
    {
     "name": "stdout",
     "output_type": "stream",
     "text": [
      "{1, 2, 3, 6, 7, 8}\n"
     ]
    }
   ],
   "source": [
    "#set symmetric difference\n",
    "\n",
    "a={1,2,3,4,5}\n",
    "b={4,5,6,7,8}\n",
    "\n",
    "#use ^ operator\n",
    "\n",
    "print(a^b)"
   ]
  },
  {
   "cell_type": "code",
   "execution_count": 154,
   "metadata": {},
   "outputs": [
    {
     "data": {
      "text/plain": [
       "{1, 2, 3, 6, 7, 8}"
      ]
     },
     "execution_count": 154,
     "metadata": {},
     "output_type": "execute_result"
    }
   ],
   "source": [
    "a.symmetric_difference(b)"
   ]
  },
  {
   "cell_type": "code",
   "execution_count": 159,
   "metadata": {},
   "outputs": [
    {
     "data": {
      "text/plain": [
       "True"
      ]
     },
     "execution_count": 159,
     "metadata": {},
     "output_type": "execute_result"
    }
   ],
   "source": [
    "a={4,5}\n",
    "b={4,5,6,7,8}\n",
    "a.issubset(b)\n",
    "\n"
   ]
  },
  {
   "cell_type": "code",
   "execution_count": null,
   "metadata": {},
   "outputs": [
    {
     "data": {
      "text/plain": [
       "True"
      ]
     },
     "execution_count": 160,
     "metadata": {},
     "output_type": "execute_result"
    }
   ],
   "source": [
    "b.issuperset(a)"
   ]
  },
  {
   "cell_type": "code",
   "execution_count": 167,
   "metadata": {},
   "outputs": [
    {
     "name": "stdout",
     "output_type": "stream",
     "text": [
      "hll wrld"
     ]
    }
   ],
   "source": [
    "s='hello world'\n",
    "for i in s:\n",
    "    if i not in 'aeiou':\n",
    "        print(i,end=\"\")\n"
   ]
  },
  {
   "cell_type": "code",
   "execution_count": 177,
   "metadata": {},
   "outputs": [
    {
     "name": "stdout",
     "output_type": "stream",
     "text": [
      "[1, 2, 3, 1, 2, 3, 1, 2, 3]\n"
     ]
    }
   ],
   "source": [
    "a=[1,2,3]\n",
    "b=[]\n",
    "multiply=int(input())\n",
    "for i in range(multiply):\n",
    "    b+=a\n",
    "print(b)"
   ]
  },
  {
   "cell_type": "code",
   "execution_count": 178,
   "metadata": {},
   "outputs": [
    {
     "name": "stdout",
     "output_type": "stream",
     "text": [
      "[1, 2, 3, 1, 2, 3, 1, 2, 3]\n"
     ]
    }
   ],
   "source": [
    "print([1,2,3]*3)"
   ]
  },
  {
   "cell_type": "code",
   "execution_count": 188,
   "metadata": {},
   "outputs": [
    {
     "name": "stdout",
     "output_type": "stream",
     "text": [
      "15\n"
     ]
    }
   ],
   "source": [
    "a=5\n",
    "b=3\n",
    "c=0\n",
    "for i in range(b):\n",
    "    c+=a\n",
    "print(c)\n"
   ]
  },
  {
   "cell_type": "code",
   "execution_count": null,
   "metadata": {},
   "outputs": [],
   "source": [
    "#list - append,sort,extend,insert,remove,pop,clear,index,count,reverse,copy\n",
    "#tuple - \n",
    "#dict - popitem,clear,keys,values,get,update\n",
    "#set - issubset,issuperset,union,intersection,difference,symmetric_difference,isdisjoint\n"
   ]
  },
  {
   "cell_type": "code",
   "execution_count": 1,
   "metadata": {},
   "outputs": [
    {
     "name": "stdout",
     "output_type": "stream",
     "text": [
      "hello\n",
      "hello\n",
      "hello\n",
      "hello\n",
      "hello\n",
      "end\n"
     ]
    }
   ],
   "source": [
    "n=0\n",
    "while n<5:\n",
    "    print('hello')\n",
    "    n+=1\n",
    "else:\n",
    "    print('end')"
   ]
  },
  {
   "cell_type": "code",
   "execution_count": 2,
   "metadata": {},
   "outputs": [
    {
     "name": "stdout",
     "output_type": "stream",
     "text": [
      "h\n"
     ]
    }
   ],
   "source": [
    "#break\n",
    "for i in 'python':\n",
    "    if i=='h':\n",
    "        print(i)\n",
    "        break\n"
   ]
  },
  {
   "cell_type": "code",
   "execution_count": 3,
   "metadata": {},
   "outputs": [],
   "source": [
    "for i in 'python':\n",
    "    if i=='h':\n",
    "        print(i)\n",
    "    break"
   ]
  },
  {
   "cell_type": "code",
   "execution_count": 4,
   "metadata": {},
   "outputs": [
    {
     "name": "stdout",
     "output_type": "stream",
     "text": [
      "p\n",
      "y\n",
      "t\n"
     ]
    }
   ],
   "source": [
    "for i in 'python':\n",
    "    if i=='h':\n",
    "        break\n",
    "    print(i)"
   ]
  },
  {
   "cell_type": "code",
   "execution_count": null,
   "metadata": {},
   "outputs": [
    {
     "name": "stdout",
     "output_type": "stream",
     "text": [
      "p\n",
      "y\n",
      "t\n",
      "o\n",
      "n\n"
     ]
    }
   ],
   "source": [
    "#continue - BYPASS STATEMENT IN PYTHON\n",
    "for i in 'python':\n",
    "    if i=='h':\n",
    "        continue\n",
    "    print(i)"
   ]
  },
  {
   "cell_type": "code",
   "execution_count": null,
   "metadata": {},
   "outputs": [],
   "source": [
    "#pass - PLACEHOLDER STATEMENT IN PYTHON\n",
    "\n",
    "for i in 'python':\n",
    "    pass"
   ]
  },
  {
   "cell_type": "code",
   "execution_count": 7,
   "metadata": {},
   "outputs": [
    {
     "name": "stdout",
     "output_type": "stream",
     "text": [
      "p\n",
      "y\n",
      "t\n",
      "h\n",
      "o\n",
      "n\n"
     ]
    }
   ],
   "source": [
    "for i in 'python':\n",
    "    if i=='h':\n",
    "        pass\n",
    "    print(i)"
   ]
  },
  {
   "cell_type": "code",
   "execution_count": 15,
   "metadata": {},
   "outputs": [
    {
     "name": "stdout",
     "output_type": "stream",
     "text": [
      "0\n",
      "1\n",
      "1\n",
      "2\n",
      "3\n",
      "5\n",
      "8\n",
      "13\n",
      "21\n",
      "34\n"
     ]
    }
   ],
   "source": [
    "a,b=0,1\n",
    "c=int(input())\n",
    "i=0\n",
    "while i<c-1:\n",
    "    if i==0:\n",
    "        print(a)\n",
    "        print(b)\n",
    "        i+=1\n",
    "        continue\n",
    "    else:\n",
    "        j=a+b\n",
    "        a=b\n",
    "        b=j\n",
    "        print(j)\n",
    "    i+=1"
   ]
  },
  {
   "cell_type": "code",
   "execution_count": 16,
   "metadata": {},
   "outputs": [
    {
     "name": "stdout",
     "output_type": "stream",
     "text": [
      "hello\n"
     ]
    }
   ],
   "source": [
    "def add():\n",
    "    print('hello')\n",
    "add()"
   ]
  },
  {
   "cell_type": "code",
   "execution_count": 22,
   "metadata": {},
   "outputs": [
    {
     "name": "stdout",
     "output_type": "stream",
     "text": [
      "11\n"
     ]
    }
   ],
   "source": [
    "def add(a,b):  #parameters-a,b arguments-5,6\n",
    "    print(a+b)\n",
    "add(5,6)"
   ]
  },
  {
   "cell_type": "code",
   "execution_count": null,
   "metadata": {},
   "outputs": [],
   "source": [
    "#with parameter and without return type\n",
    "#without parameter and without return type\n",
    "#with parameter and with return type\n",
    "#without parameter and with return type"
   ]
  },
  {
   "cell_type": "code",
   "execution_count": 23,
   "metadata": {},
   "outputs": [
    {
     "name": "stdout",
     "output_type": "stream",
     "text": [
      "11\n"
     ]
    }
   ],
   "source": [
    "def add():\n",
    "    a,b=5,6  \n",
    "    print(a+b)\n",
    "add()"
   ]
  },
  {
   "cell_type": "code",
   "execution_count": 24,
   "metadata": {},
   "outputs": [
    {
     "name": "stdout",
     "output_type": "stream",
     "text": [
      "11\n"
     ]
    }
   ],
   "source": [
    "def add(a,b):  \n",
    "    return a+b\n",
    "print(add(5,6))"
   ]
  },
  {
   "cell_type": "code",
   "execution_count": 25,
   "metadata": {},
   "outputs": [
    {
     "name": "stdout",
     "output_type": "stream",
     "text": [
      "11\n"
     ]
    }
   ],
   "source": [
    "def add():  \n",
    "    a,b=5,6 \n",
    "    return a+b\n",
    "print(add())"
   ]
  },
  {
   "cell_type": "code",
   "execution_count": 31,
   "metadata": {},
   "outputs": [
    {
     "name": "stdout",
     "output_type": "stream",
     "text": [
      "100.0\n",
      "100.0\n",
      "100.0\n",
      "100.0\n"
     ]
    }
   ],
   "source": [
    "from si import si1,si2,si3,si4\n",
    "print(si1(500,10,2))\n",
    "si2(500,10,2)\n",
    "si3()\n",
    "print(si4())"
   ]
  },
  {
   "cell_type": "code",
   "execution_count": 35,
   "metadata": {},
   "outputs": [
    {
     "name": "stdout",
     "output_type": "stream",
     "text": [
      "4\n"
     ]
    }
   ],
   "source": [
    "def count(list1,target):\n",
    "    num=0\n",
    "    for i in list1:\n",
    "        if i==target:\n",
    "            num+=1\n",
    "    return num\n",
    "list1=[1,2,3,3,3,3,4,5,6]\n",
    "print(count(list1,3))"
   ]
  },
  {
   "cell_type": "markdown",
   "metadata": {},
   "source": [
    "types of arguments\n",
    "\n"
   ]
  },
  {
   "cell_type": "code",
   "execution_count": null,
   "metadata": {},
   "outputs": [
    {
     "name": "stdout",
     "output_type": "stream",
     "text": [
      "11\n"
     ]
    }
   ],
   "source": [
    "\n",
    "#positional arguments\n",
    "\n",
    "def fun(a,b):\n",
    "    print(a+b)\n",
    "fun(5,6)"
   ]
  },
  {
   "cell_type": "code",
   "execution_count": null,
   "metadata": {},
   "outputs": [
    {
     "name": "stdout",
     "output_type": "stream",
     "text": [
      "hello\n",
      "abc\n"
     ]
    }
   ],
   "source": [
    "#default arguments\n",
    "\n",
    "def data(name='hello'):\n",
    "    print(name)\n",
    "data()\n",
    "data('abc')"
   ]
  },
  {
   "cell_type": "code",
   "execution_count": null,
   "metadata": {},
   "outputs": [
    {
     "name": "stdout",
     "output_type": "stream",
     "text": [
      "abc 12\n"
     ]
    }
   ],
   "source": [
    "#keyword arguments\n",
    "\n",
    "def data(name,age):\n",
    "    print(f'{name} {age}')\n",
    "\n",
    "data(age=12,name='abc')"
   ]
  },
  {
   "cell_type": "code",
   "execution_count": 43,
   "metadata": {},
   "outputs": [],
   "source": [
    "print(\"\",end='',sep='')"
   ]
  },
  {
   "cell_type": "code",
   "execution_count": 48,
   "metadata": {},
   "outputs": [
    {
     "name": "stdout",
     "output_type": "stream",
     "text": [
      "2\n",
      "(3, 4, 5)\n",
      "2\n",
      "()\n"
     ]
    }
   ],
   "source": [
    "#variable length arguments - default datatype is TUPLE\n",
    "def fun(name,*a):\n",
    "    print(name)\n",
    "    print(a)\n",
    "fun(2,3,4,5)\n",
    "fun(2)"
   ]
  },
  {
   "cell_type": "code",
   "execution_count": null,
   "metadata": {},
   "outputs": [
    {
     "name": "stdout",
     "output_type": "stream",
     "text": [
      "2\n",
      "{'na': 'abc', 'age': 2}\n"
     ]
    }
   ],
   "source": [
    "#variable length keywords arguments - default datatype is DICTIONARY\n",
    "def fun(name,**a):\n",
    "    print(name)\n",
    "    print(a)\n",
    "fun(2,na='abc',age=2)"
   ]
  },
  {
   "cell_type": "code",
   "execution_count": 50,
   "metadata": {},
   "outputs": [
    {
     "data": {
      "text/plain": [
       "4"
      ]
     },
     "execution_count": 50,
     "metadata": {},
     "output_type": "execute_result"
    }
   ],
   "source": [
    "#docstring\n",
    "\n",
    "def addition(a,b):\n",
    "    \"\"\" this function takes 2 values and adds them \"\"\"\n",
    "    return a+b\n",
    "addition(1,3)"
   ]
  },
  {
   "cell_type": "code",
   "execution_count": 51,
   "metadata": {},
   "outputs": [
    {
     "name": "stdout",
     "output_type": "stream",
     "text": [
      "Help on function addition in module __main__:\n",
      "\n",
      "addition(a, b)\n",
      "    this function takes 2 values and adds them\n",
      "\n"
     ]
    }
   ],
   "source": [
    "help(addition)"
   ]
  },
  {
   "cell_type": "code",
   "execution_count": 52,
   "metadata": {},
   "outputs": [
    {
     "data": {
      "text/plain": [
       "' this function takes 2 values and adds them '"
      ]
     },
     "execution_count": 52,
     "metadata": {},
     "output_type": "execute_result"
    }
   ],
   "source": [
    "addition.__doc__"
   ]
  },
  {
   "cell_type": "code",
   "execution_count": 59,
   "metadata": {},
   "outputs": [
    {
     "name": "stdout",
     "output_type": "stream",
     "text": [
      "integer=10,string=hello\n",
      "integer=10,string=20\n"
     ]
    }
   ],
   "source": [
    "#function annotation\n",
    "def data(a:int,b:str)->str: #it doesnt defines the datatype explicitly, its just provides an idea to user wht the parameter is expecting\n",
    "    \"\"\"this function takes an int and string and returns a format string\"\"\"\n",
    "    return f'integer={a},string={b}'\n",
    "print(data(10,'hello'))\n",
    "print(data(10,20))\n"
   ]
  },
  {
   "cell_type": "code",
   "execution_count": 60,
   "metadata": {},
   "outputs": [
    {
     "data": {
      "text/plain": [
       "{'a': int, 'b': str, 'return': str}"
      ]
     },
     "execution_count": 60,
     "metadata": {},
     "output_type": "execute_result"
    }
   ],
   "source": [
    "data.__annotations__"
   ]
  },
  {
   "cell_type": "code",
   "execution_count": 68,
   "metadata": {},
   "outputs": [
    {
     "name": "stdout",
     "output_type": "stream",
     "text": [
      "[22, 35, 11]\n",
      "[11, 10, 22, 20, 35, 67, 30]\n",
      "[10, 20, 67]\n",
      "[30]\n",
      "[10, 20, 67, 30]\n"
     ]
    }
   ],
   "source": [
    "def intersection(a:list,b:list)->list:\n",
    "    \"\"\"this func takes 2 list and finds the common elements in both of them and return a list \"\"\"\n",
    "    c=[]\n",
    "    for i in b:\n",
    "        if i in a:\n",
    "            c.append(i)\n",
    "    return c\n",
    "\n",
    "\n",
    "def union(a,b):\n",
    "    c=[]\n",
    "    for i in a:\n",
    "        if i not in c:\n",
    "            c.append(i)\n",
    "    for i in b:\n",
    "        if i not in c:\n",
    "            c.append(i)\n",
    "    return c\n",
    "\n",
    "\n",
    "def difference(a,b):\n",
    "    c=[]\n",
    "    for i in a:\n",
    "        if i not in b:\n",
    "            c.append(i)\n",
    "    return c\n",
    "\n",
    "def asymmetric_difference(a,b):\n",
    "    c=[]\n",
    "    for i in a:\n",
    "        if i not in b:\n",
    "            c.append(i)\n",
    "    for i in b:\n",
    "        if i not in a:\n",
    "            c.append(i)\n",
    "    return c\n",
    "\n",
    "a=[11,10,22,20,35,67]\n",
    "b=[22,30,35,11]\n",
    "\n",
    "print(intersection(a,b))\n",
    "print(union(a,b))\n",
    "print(difference(a,b))\n",
    "print(difference(b,a))\n",
    "print(asymmetric_difference(a,b))"
   ]
  },
  {
   "cell_type": "code",
   "execution_count": null,
   "metadata": {},
   "outputs": [],
   "source": [
    "a=[]\n",
    "b=[]\n",
    "for i in range(5):\n",
    "    for j in range(i):\n",
    "        print\n"
   ]
  },
  {
   "cell_type": "code",
   "execution_count": null,
   "metadata": {},
   "outputs": [],
   "source": []
  },
  {
   "cell_type": "code",
   "execution_count": 70,
   "metadata": {},
   "outputs": [
    {
     "name": "stdout",
     "output_type": "stream",
     "text": [
      "20\n"
     ]
    }
   ],
   "source": [
    "#scope\n",
    "x=10\n",
    "x=20\n",
    "print(x)"
   ]
  },
  {
   "cell_type": "code",
   "execution_count": 69,
   "metadata": {},
   "outputs": [
    {
     "name": "stdout",
     "output_type": "stream",
     "text": [
      "50 inside func\n",
      "50 out func\n"
     ]
    }
   ],
   "source": [
    "x=20\n",
    "def num():\n",
    "    #x=10 #local\n",
    "    global x\n",
    "    x=x+30\n",
    "    print(x,\"inside func\")\n",
    "\n",
    "num()\n",
    "print(x,'out func')"
   ]
  },
  {
   "cell_type": "code",
   "execution_count": 71,
   "metadata": {},
   "outputs": [
    {
     "data": {
      "text/plain": [
       "0.10478138352736976"
      ]
     },
     "execution_count": 71,
     "metadata": {},
     "output_type": "execute_result"
    }
   ],
   "source": [
    "#random() generates a random float number from 0 to 1 \n",
    "import random\n",
    "random.random()"
   ]
  },
  {
   "cell_type": "code",
   "execution_count": 75,
   "metadata": {},
   "outputs": [
    {
     "data": {
      "text/plain": [
       "17"
      ]
     },
     "execution_count": 75,
     "metadata": {},
     "output_type": "execute_result"
    }
   ],
   "source": [
    "random.randint(0,50)"
   ]
  },
  {
   "cell_type": "code",
   "execution_count": 76,
   "metadata": {},
   "outputs": [
    {
     "data": {
      "text/plain": [
       "75"
      ]
     },
     "execution_count": 76,
     "metadata": {},
     "output_type": "execute_result"
    }
   ],
   "source": [
    "random.randrange(0,100,3)"
   ]
  },
  {
   "cell_type": "code",
   "execution_count": null,
   "metadata": {},
   "outputs": [],
   "source": []
  },
  {
   "cell_type": "code",
   "execution_count": 85,
   "metadata": {},
   "outputs": [
    {
     "name": "stdout",
     "output_type": "stream",
     "text": [
      "Best out of=3\n",
      "me=paper and system=scissor\n",
      "me=scissor and system=rock\n",
      "me=0 and system=2\n",
      "system win\n"
     ]
    }
   ],
   "source": [
    "def rps(best_out_of):\n",
    "    a=['rock','paper','scissor']\n",
    "    me=0\n",
    "    system=0\n",
    "    for_win=(best_out_of+1)/2\n",
    "    print(f'Best out of={best_out_of}')\n",
    "    while me<for_win and system<for_win:\n",
    "        b=input()\n",
    "        c=random.choice(a)\n",
    "        if (b=='rock' and c=='paper') or (b=='paper' and c=='scissor') or (b=='scissor' and c=='rock'):\n",
    "            system+=1\n",
    "            print(f'me={b} and system={c}')\n",
    "        elif(b==c):\n",
    "            print(f'me={b} and system={c}')\n",
    "            continue\n",
    "        else:\n",
    "            print(f'me={b} and system={c}')\n",
    "            me+=1\n",
    "    print(f'me={me} and system={system}')\n",
    "    return (me,system)\n",
    "\n",
    "best_out_of=int(input())\n",
    "a,b=rps(best_out_of)\n",
    "if a>b:\n",
    "    print(\"you win\")\n",
    "else:\n",
    "    print(\"system win\")\n",
    "\n",
    "    \n",
    "\n"
   ]
  },
  {
   "cell_type": "code",
   "execution_count": 95,
   "metadata": {},
   "outputs": [
    {
     "name": "stdout",
     "output_type": "stream",
     "text": [
      "KhfM.VKF&7L>y2${&4~zSS;I+@52B9\n"
     ]
    }
   ],
   "source": [
    "import string\n",
    "list=string.ascii_lowercase+string.ascii_uppercase+string.digits+string.punctuation\n",
    "list2=string.ascii_lowercase+string.ascii_uppercase+string.digits\n",
    "password=random.choice(list2)+''.join(random.choice(list) for _ in range(random.randint(10,30)))+random.choice(list2)\n",
    "print(password)\n"
   ]
  },
  {
   "cell_type": "code",
   "execution_count": 105,
   "metadata": {},
   "outputs": [
    {
     "name": "stdout",
     "output_type": "stream",
     "text": [
      "not 50 guess again\n",
      "not 40 guess again\n",
      "not 83 guess again\n",
      "less than 83\n",
      "not 48 guess again\n",
      "less than 48\n",
      "not 65 guess again\n",
      "less than 65\n",
      "you lost number was 37\n"
     ]
    }
   ],
   "source": [
    "a=random.randint(1,100)\n",
    "user=10\n",
    "i=0\n",
    "while user>0:\n",
    "    \n",
    "\n",
    "    b=int(input())\n",
    "    if (b==a):\n",
    "        print(f'your point={user}')\n",
    "        print(\"you win\")\n",
    "        break\n",
    "    else:\n",
    "        print(f'not {b} guess again')\n",
    "    if i>=2:\n",
    "        if a<b:\n",
    "            print(f'less than {b}')\n",
    "        else:\n",
    "            print(f'greater than {b}')\n",
    "    \n",
    "    i+=1\n",
    "    user-=2\n",
    "if(i==5):\n",
    "    print(f'you lost number was {a}')\n"
   ]
  },
  {
   "cell_type": "code",
   "execution_count": 120,
   "metadata": {},
   "outputs": [
    {
     "name": "stdout",
     "output_type": "stream",
     "text": [
      "hhrsa\n",
      "correct\n",
      "vsahil\n",
      "correct\n",
      "nrpeci\n",
      "correct\n",
      "eesun\n",
      "correct\n",
      "akitna\n",
      "try again\n",
      "correct\n",
      "your score 5\n"
     ]
    }
   ],
   "source": [
    "a=['harsh','seenu','vishal','prince','ankita']\n",
    "\n",
    "i=5\n",
    "score=0\n",
    "while i>0:\n",
    "    x=random.choice(a)\n",
    "    b=[ch for ch in x]\n",
    "\n",
    "    random.shuffle(b)\n",
    "    print(''.join(b))\n",
    "    chance=2\n",
    "    while chance>0:\n",
    "        \n",
    "        c=input()\n",
    "        if c in a:\n",
    "            score+=1\n",
    "            print('correct')\n",
    "            break\n",
    "        else:\n",
    "            print('try again')\n",
    "        chance-=1\n",
    "    if chance==0:\n",
    "        print(f'word was {x}')\n",
    "        print('next word')\n",
    "    a.remove(x)\n",
    "    i-=1\n",
    "\n",
    "if i==0:\n",
    "    print(f'your score {score}')\n",
    "\n"
   ]
  },
  {
   "cell_type": "code",
   "execution_count": null,
   "metadata": {},
   "outputs": [],
   "source": []
  }
 ],
 "metadata": {
  "kernelspec": {
   "display_name": "Python 3",
   "language": "python",
   "name": "python3"
  },
  "language_info": {
   "codemirror_mode": {
    "name": "ipython",
    "version": 3
   },
   "file_extension": ".py",
   "mimetype": "text/x-python",
   "name": "python",
   "nbconvert_exporter": "python",
   "pygments_lexer": "ipython3",
   "version": "3.12.3"
  }
 },
 "nbformat": 4,
 "nbformat_minor": 2
}
