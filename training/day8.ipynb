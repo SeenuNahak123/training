{
 "cells": [
  {
   "cell_type": "code",
   "execution_count": 1,
   "id": "639f4f3f",
   "metadata": {},
   "outputs": [
    {
     "ename": "ZeroDivisionError",
     "evalue": "division by zero",
     "output_type": "error",
     "traceback": [
      "\u001b[31m---------------------------------------------------------------------------\u001b[39m",
      "\u001b[31mZeroDivisionError\u001b[39m                         Traceback (most recent call last)",
      "\u001b[36mCell\u001b[39m\u001b[36m \u001b[39m\u001b[32mIn[1]\u001b[39m\u001b[32m, line 1\u001b[39m\n\u001b[32m----> \u001b[39m\u001b[32m1\u001b[39m \u001b[38;5;28mprint\u001b[39m(\u001b[32;43m10\u001b[39;49m\u001b[43m/\u001b[49m\u001b[32;43m0\u001b[39;49m)\n\u001b[32m      2\u001b[39m \u001b[38;5;28mprint\u001b[39m(\u001b[33m'\u001b[39m\u001b[33mhello\u001b[39m\u001b[33m'\u001b[39m)\n",
      "\u001b[31mZeroDivisionError\u001b[39m: division by zero"
     ]
    }
   ],
   "source": [
    "print(10/0)\n",
    "print('hello')"
   ]
  },
  {
   "cell_type": "code",
   "execution_count": 2,
   "id": "53695e20",
   "metadata": {},
   "outputs": [
    {
     "name": "stdout",
     "output_type": "stream",
     "text": [
      "something is wrong\n",
      "hello\n"
     ]
    }
   ],
   "source": [
    "try:\n",
    "    print(10/0)\n",
    "except ZeroDivisionError:\n",
    "    print('something is wrong')\n",
    "print('hello')"
   ]
  },
  {
   "cell_type": "code",
   "execution_count": 3,
   "id": "5908e20c",
   "metadata": {},
   "outputs": [
    {
     "name": "stdout",
     "output_type": "stream",
     "text": [
      "something is wrong\n",
      "hello\n"
     ]
    }
   ],
   "source": [
    "try:\n",
    "    print(10/0)\n",
    "except:\n",
    "    print('something is wrong')\n",
    "print('hello')"
   ]
  },
  {
   "cell_type": "code",
   "execution_count": 5,
   "id": "820d9a68",
   "metadata": {},
   "outputs": [
    {
     "name": "stdout",
     "output_type": "stream",
     "text": [
      "something is wrong: division by zero\n",
      "hello\n"
     ]
    }
   ],
   "source": [
    "try:\n",
    "    print(10/0)\n",
    "except Exception as e:\n",
    "    print('something is wrong:', e)\n",
    "print('hello')"
   ]
  },
  {
   "cell_type": "code",
   "execution_count": 6,
   "id": "624c0730",
   "metadata": {},
   "outputs": [
    {
     "name": "stdout",
     "output_type": "stream",
     "text": [
      "2.0\n",
      "hello\n"
     ]
    }
   ],
   "source": [
    "try:\n",
    "    print(10/5)\n",
    "except ZeroDivisionError as e:\n",
    "    print('something is wrong',e)\n",
    "print('hello')"
   ]
  },
  {
   "cell_type": "code",
   "execution_count": 7,
   "id": "5ab2e2c4",
   "metadata": {},
   "outputs": [
    {
     "name": "stdout",
     "output_type": "stream",
     "text": [
      "2.0\n",
      "name 'var1' is not defined\n",
      "hello\n"
     ]
    }
   ],
   "source": [
    "try:\n",
    "    print(10/5)\n",
    "    var=var1\n",
    "except ZeroDivisionError as e:\n",
    "    print('something is wrong',e)\n",
    "except NameError as e:\n",
    "    print(e)\n",
    "print('hello')"
   ]
  },
  {
   "cell_type": "code",
   "execution_count": 9,
   "id": "fea53a6d",
   "metadata": {},
   "outputs": [
    {
     "name": "stdout",
     "output_type": "stream",
     "text": [
      "2.0\n",
      "name 'var1' is not defined\n",
      "hello\n"
     ]
    }
   ],
   "source": [
    "try:\n",
    "    print(10/5)\n",
    "    var=var1                              #only the first error is triggered\n",
    "    n=int('hello')\n",
    "except ZeroDivisionError as e:\n",
    "    print('something is wrong',e)\n",
    "except NameError as e:\n",
    "    print(e)\n",
    "except ValueError as e:\n",
    "    pass\n",
    "print('hello')"
   ]
  },
  {
   "cell_type": "code",
   "execution_count": 12,
   "id": "1331c27f",
   "metadata": {},
   "outputs": [
    {
     "name": "stdout",
     "output_type": "stream",
     "text": [
      "[Errno 2] No such file or directory: 'copy.txt'\n"
     ]
    }
   ],
   "source": [
    "try:\n",
    "    f=open('copy.txt')\n",
    "except FileNotFoundError as e:\n",
    "    print(e)\n",
    "finally:                       #will run even the try block contains no error\n",
    "    pass"
   ]
  },
  {
   "cell_type": "code",
   "execution_count": 13,
   "id": "10c6b4e2",
   "metadata": {},
   "outputs": [
    {
     "name": "stdout",
     "output_type": "stream",
     "text": [
      "5.0\n",
      "hello\n"
     ]
    }
   ],
   "source": [
    "try:\n",
    "    print(10/2)\n",
    "except:\n",
    "    print('error')\n",
    "else:\n",
    "    print('hello')"
   ]
  },
  {
   "cell_type": "code",
   "execution_count": 14,
   "id": "23741740",
   "metadata": {},
   "outputs": [
    {
     "name": "stdout",
     "output_type": "stream",
     "text": [
      "error\n"
     ]
    }
   ],
   "source": [
    "try:\n",
    "    print(10/0)\n",
    "except:\n",
    "    print('error')\n",
    "else:\n",
    "    print('hello')"
   ]
  },
  {
   "cell_type": "code",
   "execution_count": 15,
   "id": "d8fcaf51",
   "metadata": {},
   "outputs": [],
   "source": [
    "#try   - cannot stand alone, it needs either except or finally\n",
    "#except\n",
    "#else\n",
    "#finally"
   ]
  },
  {
   "cell_type": "code",
   "execution_count": 16,
   "id": "8b98d177",
   "metadata": {},
   "outputs": [],
   "source": [
    "try:\n",
    "    pass\n",
    "except Exception:\n",
    "    pass\n",
    "else:\n",
    "    pass\n",
    "finally:\n",
    "    pass"
   ]
  },
  {
   "cell_type": "code",
   "execution_count": 17,
   "id": "76aabddc",
   "metadata": {},
   "outputs": [
    {
     "name": "stdout",
     "output_type": "stream",
     "text": [
      "file not found\n"
     ]
    }
   ],
   "source": [
    "try:\n",
    "    f=open('text.txt','r')\n",
    "except Exception:\n",
    "    print(\"file not found\")"
   ]
  },
  {
   "cell_type": "code",
   "execution_count": 18,
   "id": "1942a991",
   "metadata": {},
   "outputs": [
    {
     "name": "stdout",
     "output_type": "stream",
     "text": [
      "file not found\n"
     ]
    }
   ],
   "source": [
    "try:\n",
    "    # f=open('text.txt','r')\n",
    "    var=bad_var\n",
    "except Exception:\n",
    "    print(\"file not found\")"
   ]
  },
  {
   "cell_type": "code",
   "execution_count": 19,
   "id": "ab52932c",
   "metadata": {},
   "outputs": [
    {
     "ename": "NameError",
     "evalue": "name 'bad_var' is not defined",
     "output_type": "error",
     "traceback": [
      "\u001b[31m---------------------------------------------------------------------------\u001b[39m",
      "\u001b[31mNameError\u001b[39m                                 Traceback (most recent call last)",
      "\u001b[36mCell\u001b[39m\u001b[36m \u001b[39m\u001b[32mIn[19]\u001b[39m\u001b[32m, line 3\u001b[39m\n\u001b[32m      1\u001b[39m \u001b[38;5;28;01mtry\u001b[39;00m:\n\u001b[32m      2\u001b[39m     \u001b[38;5;66;03m# f=open('text.txt','r')\u001b[39;00m\n\u001b[32m----> \u001b[39m\u001b[32m3\u001b[39m     var=\u001b[43mbad_var\u001b[49m\n\u001b[32m      4\u001b[39m \u001b[38;5;28;01mexcept\u001b[39;00m \u001b[38;5;167;01mFileNotFoundError\u001b[39;00m:\n\u001b[32m      5\u001b[39m     \u001b[38;5;28mprint\u001b[39m(\u001b[33m\"\u001b[39m\u001b[33mfile not found\u001b[39m\u001b[33m\"\u001b[39m)\n",
      "\u001b[31mNameError\u001b[39m: name 'bad_var' is not defined"
     ]
    }
   ],
   "source": [
    "try:\n",
    "    # f=open('text.txt','r')\n",
    "    var=bad_var\n",
    "except FileNotFoundError:\n",
    "    print(\"file not found\")"
   ]
  },
  {
   "cell_type": "code",
   "execution_count": 22,
   "id": "fb3f9716",
   "metadata": {},
   "outputs": [
    {
     "name": "stdout",
     "output_type": "stream",
     "text": [
      "something is wrong\n"
     ]
    }
   ],
   "source": [
    "#maintain the order of exception\n",
    "# try:\n",
    "#     # f=open('text.txt','r')\n",
    "#     var=bad_var\n",
    "# except Exception:\n",
    "#     print(\"something is wrong\")\n",
    "# except FileNotFoundError:\n",
    "#     print(\"file not found\")\n",
    "\n",
    "try:\n",
    "    # f=open('text.txt','r')\n",
    "    var=bad_var\n",
    "except FileNotFoundError:\n",
    "    print(\"file not found\")\n",
    "except Exception:\n",
    "    print(\"something is wrong\")\n"
   ]
  },
  {
   "cell_type": "code",
   "execution_count": 23,
   "id": "4a0023fc",
   "metadata": {},
   "outputs": [
    {
     "name": "stdout",
     "output_type": "stream",
     "text": [
      "[Errno 2] No such file or directory: 'text.txt'\n",
      "finally\n"
     ]
    }
   ],
   "source": [
    "#else only runs when there is no errors\n",
    "#finally runs no matter what happens, helps us to close or release the resources\n",
    "\n",
    "try:\n",
    "    f=open('text.txt','r')\n",
    "    f.close()\n",
    "except FileNotFoundError as e:\n",
    "    print(e)\n",
    "except Exception as e:\n",
    "    print(e)\n",
    "else:\n",
    "    print(f.read())\n",
    "finally:\n",
    "    print('finally')\n"
   ]
  },
  {
   "cell_type": "code",
   "execution_count": 24,
   "id": "14d2db6f",
   "metadata": {},
   "outputs": [
    {
     "name": "stdout",
     "output_type": "stream",
     "text": [
      "1.0\n",
      "2.0\n",
      "1.6666666666666667\n",
      "1.1111111111111112\n",
      "1.25\n",
      "5.0\n"
     ]
    }
   ],
   "source": [
    "values=[10,5,6,0,9,8,2]\n",
    "for value in values:\n",
    "    try:\n",
    "        print(10/value)\n",
    "    except:\n",
    "        pass"
   ]
  },
  {
   "cell_type": "code",
   "execution_count": 25,
   "id": "018248da",
   "metadata": {},
   "outputs": [
    {
     "name": "stdout",
     "output_type": "stream",
     "text": [
      "1.0\n",
      "2.0\n",
      "1.6666666666666667\n",
      "1.1111111111111112\n",
      "1.25\n",
      "5.0\n"
     ]
    }
   ],
   "source": [
    "values=[10,5,6,0,9,8,2]\n",
    "for value in values:\n",
    "    try:\n",
    "        print(10/value)\n",
    "    except:\n",
    "        continue"
   ]
  },
  {
   "cell_type": "code",
   "execution_count": 26,
   "id": "26d0b401",
   "metadata": {},
   "outputs": [
    {
     "name": "stdout",
     "output_type": "stream",
     "text": [
      "1.0\n",
      "2.0\n",
      "1.6666666666666667\n"
     ]
    }
   ],
   "source": [
    "values=[10,5,6,0,9,8,2]\n",
    "for value in values:\n",
    "    try:\n",
    "        print(10/value)\n",
    "    except:\n",
    "        break"
   ]
  },
  {
   "cell_type": "code",
   "execution_count": 28,
   "id": "f294b7db",
   "metadata": {},
   "outputs": [
    {
     "name": "stdout",
     "output_type": "stream",
     "text": [
      "invalid literal for int() with base 10: 'hello'\n",
      "invalid literal for int() with base 10: 'hello'\n",
      "invalid literal for int() with base 10: 'hello'\n",
      "invalid literal for int() with base 10: 'hello'\n",
      "invalid literal for int() with base 10: 'hello'\n",
      "invalid literal for int() with base 10: 'hello'\n",
      "invalid literal for int() with base 10: 'hello'\n"
     ]
    }
   ],
   "source": [
    "import logging\n",
    "logging.basicConfig(filename='error.log',level=logging.ERROR)\n",
    "values=[10,5,6,0,9,8,2]\n",
    "\n",
    "for value in values:\n",
    "    try:\n",
    "        #print(10/value)\n",
    "        print(int('hello'))\n",
    "    except ValueError as e:\n",
    "        print(e)\n",
    "    except Exception as e:    #if we use exception as e the general exception, we need to perform logging error \n",
    "        logging.exception(e)"
   ]
  },
  {
   "cell_type": "code",
   "execution_count": 36,
   "id": "2c688266",
   "metadata": {},
   "outputs": [
    {
     "name": "stdout",
     "output_type": "stream",
     "text": [
      "1.0\n",
      "2.0\n",
      "1.6666666666666667\n",
      "division by zero\n",
      "1.1111111111111112\n",
      "1.25\n",
      "invalid literal for int() with base 10: 'Hello'\n",
      "5.0\n"
     ]
    }
   ],
   "source": [
    "values=[10,5,6,0,9,8,'Hello',2]\n",
    "for value in values:\n",
    "    try:\n",
    "        print(10/int(value))\n",
    "\n",
    "    # except ValueError as e:\n",
    "    #     print('Value Error')\n",
    "    # except ZeroDivisionError as e:\n",
    "    #     print('Zero division error')\n",
    "\n",
    "    except (ValueError,ZeroDivisionError) as e:\n",
    "        #print('Value Error or  ZeroDivision')\n",
    "        print(e)\n",
    "    except Exception as e:\n",
    "        print(e)\n"
   ]
  },
  {
   "cell_type": "code",
   "execution_count": null,
   "id": "8d0c7a82",
   "metadata": {},
   "outputs": [],
   "source": [
    "#Arithmetic Error\n",
    "#----> OverflowError\n",
    "#---->ValueError\n",
    "#---->TypeError\n",
    "#---->FloatingPoint Error\n"
   ]
  },
  {
   "cell_type": "code",
   "execution_count": 41,
   "id": "a1dc7c7e",
   "metadata": {},
   "outputs": [
    {
     "name": "stdout",
     "output_type": "stream",
     "text": [
      "Exceeds the limit (4300 digits) for integer string conversion; use sys.set_int_max_str_digits() to increase the limit\n"
     ]
    }
   ],
   "source": [
    "try:\n",
    "    a = 10 ** 10000  # Results in OverflowError in some systems\n",
    "    print(a)\n",
    "except Exception as e:\n",
    "    print(e)"
   ]
  },
  {
   "cell_type": "code",
   "execution_count": 43,
   "id": "19340588",
   "metadata": {},
   "outputs": [
    {
     "name": "stdout",
     "output_type": "stream",
     "text": [
      "can only concatenate list (not \"int\") to list\n"
     ]
    }
   ],
   "source": [
    "try:\n",
    "    a = [1, 2, 3]\n",
    "    b = 4\n",
    "    res = a + b\n",
    "except TypeError as e:\n",
    "    print(e)"
   ]
  },
  {
   "cell_type": "code",
   "execution_count": 44,
   "id": "4fa95b06",
   "metadata": {},
   "outputs": [
    {
     "name": "stdout",
     "output_type": "stream",
     "text": [
      "x should be greater than y\n"
     ]
    }
   ],
   "source": [
    "try:\n",
    "    x=5\n",
    "    y=10\n",
    "    assert x>y,'x should be greater than y'\n",
    "except AssertionError as error:\n",
    "    print(error)"
   ]
  },
  {
   "cell_type": "code",
   "execution_count": 45,
   "id": "4499f43e",
   "metadata": {},
   "outputs": [
    {
     "name": "stdout",
     "output_type": "stream",
     "text": [
      "Error:string object has no attribute 'sort'\n"
     ]
    }
   ],
   "source": [
    "try:\n",
    "    my_str='hello, world!'\n",
    "    my_str.sort()\n",
    "except AttributeError:\n",
    "    print(\"Error:string object has no attribute 'sort'\")\n"
   ]
  },
  {
   "cell_type": "code",
   "execution_count": 46,
   "id": "7194c20f",
   "metadata": {},
   "outputs": [
    {
     "name": "stdout",
     "output_type": "stream",
     "text": [
      "Error: index out of bound\n",
      "hello\n"
     ]
    }
   ],
   "source": [
    "try:\n",
    "    my_list=[1,2,3]\n",
    "    print(my_list[3])\n",
    "except IndexError:\n",
    "    print(\"Error: index out of bound\")\n",
    "print(\"hello\")"
   ]
  },
  {
   "cell_type": "code",
   "execution_count": 47,
   "id": "bc0c51f9",
   "metadata": {},
   "outputs": [
    {
     "name": "stdout",
     "output_type": "stream",
     "text": [
      "Error: key not found in dictionary\n"
     ]
    }
   ],
   "source": [
    "try:\n",
    "    my_dict={\"name\":\"Alice\",\"age\":30}\n",
    "    print(my_dict[\"height\"])\n",
    "except KeyError:\n",
    "    print(\"Error: key not found in dictionary\")"
   ]
  },
  {
   "cell_type": "code",
   "execution_count": 48,
   "id": "3c666b1e",
   "metadata": {},
   "outputs": [
    {
     "name": "stdout",
     "output_type": "stream",
     "text": [
      "Error: variable not defined\n"
     ]
    }
   ],
   "source": [
    "try:\n",
    "    print(my_var)\n",
    "except NameError:\n",
    "    print(\"Error: variable not defined\")"
   ]
  },
  {
   "cell_type": "code",
   "execution_count": 51,
   "id": "d7493ec7",
   "metadata": {},
   "outputs": [
    {
     "name": "stdout",
     "output_type": "stream",
     "text": [
      "Error: could not open file\n"
     ]
    }
   ],
   "source": [
    "try:\n",
    "    with open(\"No_file.txt\",'r') as f:\n",
    "        contents=f.read()\n",
    "except (OSError,FileNotFoundError):\n",
    "    print(\"Error: could not open file\")"
   ]
  },
  {
   "cell_type": "code",
   "execution_count": 54,
   "id": "2be63bab",
   "metadata": {},
   "outputs": [
    {
     "name": "stdout",
     "output_type": "stream",
     "text": [
      "Error: Syntax error\n"
     ]
    }
   ],
   "source": [
    "try:\n",
    "    exec('print(')   #to check syntax error we can give entire code to exec() function\n",
    "except SyntaxError:\n",
    "    print(\"Error: Syntax error\")"
   ]
  },
  {
   "cell_type": "code",
   "execution_count": 53,
   "id": "d5f74f4f",
   "metadata": {},
   "outputs": [
    {
     "name": "stdout",
     "output_type": "stream",
     "text": [
      "\n"
     ]
    }
   ],
   "source": [
    "try:\n",
    "    exec('print()')\n",
    "except SyntaxError:\n",
    "    print(\"Error: Syntax error\")"
   ]
  },
  {
   "cell_type": "code",
   "execution_count": 55,
   "id": "3bed129d",
   "metadata": {},
   "outputs": [
    {
     "name": "stdout",
     "output_type": "stream",
     "text": [
      "1.0\n",
      "0.5\n",
      "0.3333333333333333\n",
      "error (<class 'TypeError'>, TypeError(\"unsupported operand type(s) for /: 'int' and 'str'\"), <traceback object at 0x0000024A933B6AC0>)\n",
      "0.25\n",
      "error (<class 'ZeroDivisionError'>, ZeroDivisionError('division by zero'), <traceback object at 0x0000024A935BD3C0>)\n"
     ]
    }
   ],
   "source": [
    "import sys\n",
    "a=[2,4,6,'a',8,0]\n",
    "for i in a:\n",
    "    try:\n",
    "        c=2/i\n",
    "        print(c)\n",
    "    except:\n",
    "        print('error',sys.exc_info())\n"
   ]
  },
  {
   "cell_type": "code",
   "execution_count": 56,
   "id": "b02d7b91",
   "metadata": {},
   "outputs": [
    {
     "name": "stdout",
     "output_type": "stream",
     "text": [
      "1.0\n",
      "0.5\n",
      "0.3333333333333333\n",
      "error <class 'TypeError'>\n",
      "0.25\n",
      "error <class 'ZeroDivisionError'>\n"
     ]
    }
   ],
   "source": [
    "import sys\n",
    "a=[2,4,6,'a',8,0]\n",
    "for i in a:\n",
    "    try:\n",
    "        c=2/i\n",
    "        print(c)\n",
    "    except:\n",
    "        print('error',sys.exc_info()[0])\n"
   ]
  },
  {
   "cell_type": "code",
   "execution_count": 57,
   "id": "157ac0fa",
   "metadata": {},
   "outputs": [
    {
     "name": "stdout",
     "output_type": "stream",
     "text": [
      "5.0\n",
      "error\n"
     ]
    }
   ],
   "source": [
    "try:\n",
    "    print(10/2)\n",
    "    raise ValueError\n",
    "except:\n",
    "    print('error')\n",
    "else:\n",
    "    print('hello')"
   ]
  },
  {
   "cell_type": "code",
   "execution_count": 58,
   "id": "af572718",
   "metadata": {},
   "outputs": [
    {
     "ename": "ValueError",
     "evalue": "n should be positive",
     "output_type": "error",
     "traceback": [
      "\u001b[31m---------------------------------------------------------------------------\u001b[39m",
      "\u001b[31mValueError\u001b[39m                                Traceback (most recent call last)",
      "\u001b[36mCell\u001b[39m\u001b[36m \u001b[39m\u001b[32mIn[58]\u001b[39m\u001b[32m, line 3\u001b[39m\n\u001b[32m      1\u001b[39m n=-\u001b[32m5\u001b[39m\n\u001b[32m      2\u001b[39m \u001b[38;5;28;01mif\u001b[39;00m n<\u001b[32m0\u001b[39m:\n\u001b[32m----> \u001b[39m\u001b[32m3\u001b[39m     \u001b[38;5;28;01mraise\u001b[39;00m \u001b[38;5;167;01mValueError\u001b[39;00m(\u001b[33m'\u001b[39m\u001b[33mn should be positive\u001b[39m\u001b[33m'\u001b[39m)\n",
      "\u001b[31mValueError\u001b[39m: n should be positive"
     ]
    }
   ],
   "source": [
    "n=-5\n",
    "if n<0:\n",
    "    raise ValueError('n should be positive')"
   ]
  },
  {
   "cell_type": "code",
   "execution_count": 59,
   "id": "579eca9f",
   "metadata": {},
   "outputs": [
    {
     "name": "stdout",
     "output_type": "stream",
     "text": [
      "n should be positive\n"
     ]
    }
   ],
   "source": [
    "\n",
    "try:\n",
    "    n=-5\n",
    "    if n<0:\n",
    "        raise ValueError\n",
    "except:\n",
    "    print(\"n should be positive\")"
   ]
  },
  {
   "cell_type": "code",
   "execution_count": 60,
   "id": "3b91e90e",
   "metadata": {},
   "outputs": [
    {
     "name": "stdout",
     "output_type": "stream",
     "text": [
      "Caught: Index out of range\n"
     ]
    }
   ],
   "source": [
    "def get_item(lst,index):\n",
    "    if index>=len(lst):\n",
    "        raise IndexError(\"Index out of range\")\n",
    "    return lst[index]\n",
    "\n",
    "try:\n",
    "    print(get_item([10,20,30],5))\n",
    "except IndexError as e:\n",
    "    print(\"Caught:\",e)"
   ]
  },
  {
   "cell_type": "code",
   "execution_count": 61,
   "id": "5e28afd5",
   "metadata": {},
   "outputs": [
    {
     "name": "stdout",
     "output_type": "stream",
     "text": [
      "Error: Both arguments must be numbers\n"
     ]
    }
   ],
   "source": [
    "def multiply(a,b):\n",
    "    if not isinstance(a,(int,float)) or not isinstance(b,(int,float)):\n",
    "        raise TypeError(\"Both arguments must be numbers\")\n",
    "    return a*b\n",
    "\n",
    "try:\n",
    "    result=multiply(3,'four')\n",
    "except TypeError as e:\n",
    "    print(\"Error:\",e)"
   ]
  },
  {
   "cell_type": "code",
   "execution_count": 66,
   "id": "10ebc580",
   "metadata": {},
   "outputs": [
    {
     "name": "stdout",
     "output_type": "stream",
     "text": [
      "caught: Invalid Score: -5\n"
     ]
    }
   ],
   "source": [
    "def check_scores(scores):\n",
    "    for score in scores:\n",
    "        if score<0 or score>100:\n",
    "            raise Exception(f\"Invalid Score: {score}\")\n",
    "    return \"All scores are valid\"\n",
    "\n",
    "try:\n",
    "    check_scores([85,90,-5,100])\n",
    "except Exception as e:\n",
    "    print(\"caught:\",e)"
   ]
  },
  {
   "cell_type": "code",
   "execution_count": 67,
   "id": "9ced1269",
   "metadata": {},
   "outputs": [
    {
     "name": "stdout",
     "output_type": "stream",
     "text": [
      "1.0\n",
      "2.0\n",
      "1.6666666666666667\n",
      "1.1111111111111112\n",
      "1.25\n",
      "hello world\n"
     ]
    },
    {
     "ename": "ValueError",
     "evalue": "value error",
     "output_type": "error",
     "traceback": [
      "\u001b[31m---------------------------------------------------------------------------\u001b[39m",
      "\u001b[31mValueError\u001b[39m                                Traceback (most recent call last)",
      "\u001b[36mCell\u001b[39m\u001b[36m \u001b[39m\u001b[32mIn[67]\u001b[39m\u001b[32m, line 5\u001b[39m\n\u001b[32m      4\u001b[39m \u001b[38;5;28;01mtry\u001b[39;00m:\n\u001b[32m----> \u001b[39m\u001b[32m5\u001b[39m     \u001b[38;5;28mprint\u001b[39m(\u001b[32m10\u001b[39m/\u001b[38;5;28;43mint\u001b[39;49m\u001b[43m(\u001b[49m\u001b[43mvalue\u001b[49m\u001b[43m)\u001b[49m)\n\u001b[32m      6\u001b[39m \u001b[38;5;28;01mexcept\u001b[39;00m \u001b[38;5;167;01mZeroDivisionError\u001b[39;00m \u001b[38;5;28;01mas\u001b[39;00m e:\n",
      "\u001b[31mValueError\u001b[39m: invalid literal for int() with base 10: 'hello'",
      "\nDuring handling of the above exception, another exception occurred:\n",
      "\u001b[31mValueError\u001b[39m                                Traceback (most recent call last)",
      "\u001b[36mCell\u001b[39m\u001b[36m \u001b[39m\u001b[32mIn[67]\u001b[39m\u001b[32m, line 10\u001b[39m\n\u001b[32m      8\u001b[39m \u001b[38;5;28;01mexcept\u001b[39;00m \u001b[38;5;167;01mValueError\u001b[39;00m \u001b[38;5;28;01mas\u001b[39;00m e:\n\u001b[32m      9\u001b[39m     \u001b[38;5;28mprint\u001b[39m(\u001b[33m'\u001b[39m\u001b[33mhello world\u001b[39m\u001b[33m'\u001b[39m)\n\u001b[32m---> \u001b[39m\u001b[32m10\u001b[39m     \u001b[38;5;28;01mraise\u001b[39;00m \u001b[38;5;167;01mValueError\u001b[39;00m(\u001b[33m'\u001b[39m\u001b[33mvalue error\u001b[39m\u001b[33m'\u001b[39m)      \u001b[38;5;66;03m#reraise-exception\u001b[39;00m\n\u001b[32m     11\u001b[39m \u001b[38;5;28;01mexcept\u001b[39;00m \u001b[38;5;167;01mException\u001b[39;00m \u001b[38;5;28;01mas\u001b[39;00m e:\n\u001b[32m     12\u001b[39m     \u001b[38;5;28mprint\u001b[39m(e)\n",
      "\u001b[31mValueError\u001b[39m: value error"
     ]
    }
   ],
   "source": [
    "values=[10,5,6,0,9,8,'hello',2]\n",
    "\n",
    "for value in values:\n",
    "    try:\n",
    "        print(10/int(value))\n",
    "    except ZeroDivisionError as e:\n",
    "        pass\n",
    "    except ValueError as e:\n",
    "        print('hello world')\n",
    "        raise ValueError('value error')      #reraise-exception\n",
    "    except Exception as e:\n",
    "        print(e)"
   ]
  },
  {
   "cell_type": "code",
   "execution_count": 68,
   "id": "15167c6e",
   "metadata": {},
   "outputs": [
    {
     "name": "stdout",
     "output_type": "stream",
     "text": [
      "Try Outside\n",
      "Try Inside\n",
      "Finally Inside\n",
      "Finally Outside\n"
     ]
    }
   ],
   "source": [
    "#nested Exception\n",
    "try:\n",
    "    print(\"Try Outside\")\n",
    "    try: \n",
    "        print(\"Try Inside\")\n",
    "    except:\n",
    "        print(\"Except Inside\")\n",
    "    finally:\n",
    "        print(\"Finally Inside\")\n",
    "except:\n",
    "    print(\"Except Outside\")\n",
    "finally:\n",
    "    print(\"Finally Outside\")"
   ]
  },
  {
   "cell_type": "code",
   "execution_count": 69,
   "id": "9978b6d7",
   "metadata": {},
   "outputs": [
    {
     "name": "stdout",
     "output_type": "stream",
     "text": [
      "Try Outside\n",
      "Except Outside\n",
      "Finally Outside\n"
     ]
    }
   ],
   "source": [
    "try:\n",
    "    print(\"Try Outside\")\n",
    "    print(10/0)\n",
    "    try: \n",
    "        print(\"Try Inside\")\n",
    "    except:\n",
    "        print(\"Except Inside\")\n",
    "    finally:\n",
    "        print(\"Finally Inside\")\n",
    "except:\n",
    "    print(\"Except Outside\")\n",
    "finally:\n",
    "    print(\"Finally Outside\")"
   ]
  },
  {
   "cell_type": "code",
   "execution_count": null,
   "id": "d6c78233",
   "metadata": {},
   "outputs": [
    {
     "name": "stdout",
     "output_type": "stream",
     "text": [
      "Try Outside\n",
      "Try Inside\n",
      "Except Inside\n",
      "Finally Inside\n",
      "Finally Outside\n"
     ]
    }
   ],
   "source": [
    "try:\n",
    "    print(\"Try Outside\")\n",
    "    try: \n",
    "        print(\"Try Inside\")\n",
    "        print(10/0)\n",
    "    except:\n",
    "        print(\"Except Inside\")\n",
    "    finally:\n",
    "        print(\"Finally Inside\")\n",
    "except:\n",
    "    print(\"Except Outside\")\n",
    "finally:\n",
    "    print(\"Finally Outside\")"
   ]
  },
  {
   "cell_type": "code",
   "execution_count": 71,
   "id": "21abdb36",
   "metadata": {},
   "outputs": [
    {
     "name": "stdout",
     "output_type": "stream",
     "text": [
      "Try Outside\n",
      "Try Inside\n",
      "Finally Inside\n",
      "Except Outside\n",
      "Finally Outside\n"
     ]
    }
   ],
   "source": [
    "try:\n",
    "    print(\"Try Outside\")\n",
    "    try: \n",
    "        print(\"Try Inside\")\n",
    "        print(10/0)\n",
    "    finally:\n",
    "        print(\"Finally Inside\")\n",
    "except:\n",
    "    print(\"Except Outside\")\n",
    "finally:\n",
    "    print(\"Finally Outside\")"
   ]
  },
  {
   "cell_type": "code",
   "execution_count": 73,
   "id": "1c4389c7",
   "metadata": {},
   "outputs": [
    {
     "name": "stdout",
     "output_type": "stream",
     "text": [
      "caught CustomError: Number must be positive\n"
     ]
    }
   ],
   "source": [
    "#user defined exception\n",
    "\n",
    "#step 1:define a custom exception by inheriting from exception\n",
    "class CustomError(Exception):\n",
    "    pass\n",
    "\n",
    "#step 2: use it in a function or logic \n",
    "def check_positive(number):\n",
    "    if number<0:\n",
    "        raise CustomError(\"Number must be positive\")\n",
    "    else:\n",
    "        print(\"valid number:\",number)\n",
    "\n",
    "#step 3: handle it using try-except\n",
    "try:\n",
    "    num=int(input(\"enter a number:\"))\n",
    "    check_positive(num)\n",
    "except CustomError as e:\n",
    "    print(\"caught CustomError:\",e)"
   ]
  },
  {
   "cell_type": "code",
   "execution_count": null,
   "id": "f2efed77",
   "metadata": {},
   "outputs": [
    {
     "ename": "Exception",
     "evalue": "outer",
     "output_type": "error",
     "traceback": [
      "\u001b[31m---------------------------------------------------------------------------\u001b[39m",
      "\u001b[31mException\u001b[39m                                 Traceback (most recent call last)",
      "\u001b[36mCell\u001b[39m\u001b[36m \u001b[39m\u001b[32mIn[75]\u001b[39m\u001b[32m, line 2\u001b[39m\n\u001b[32m      1\u001b[39m \u001b[38;5;28;01mtry\u001b[39;00m:\n\u001b[32m----> \u001b[39m\u001b[32m2\u001b[39m     \u001b[38;5;28;01mraise\u001b[39;00m \u001b[38;5;167;01mException\u001b[39;00m(\u001b[33m\"\u001b[39m\u001b[33mouter\u001b[39m\u001b[33m\"\u001b[39m)\n\u001b[32m      3\u001b[39m \u001b[38;5;28;01mexcept\u001b[39;00m \u001b[38;5;167;01mException\u001b[39;00m \u001b[38;5;28;01mas\u001b[39;00m e:\n\u001b[32m      4\u001b[39m     \u001b[38;5;28;01mtry\u001b[39;00m:\n",
      "\u001b[31mException\u001b[39m: outer"
     ]
    }
   ],
   "source": [
    "try:\n",
    "    raise Exception(\"outer\")\n",
    "except Exception as e:\n",
    "    try:\n",
    "        raise Exception(\"inner\")\n",
    "    except:\n",
    "        pass\n",
    "    raise"
   ]
  },
  {
   "cell_type": "code",
   "execution_count": 78,
   "id": "4258bc4c",
   "metadata": {},
   "outputs": [
    {
     "data": {
      "text/plain": [
       "\"Guidelines for Exception-safe Functions\\nUse try-except inside the function to handle expected errors.\\nraise meaningful exceptions if the function cannot complete its job.\\nuse default values.\\nlog errors if needed.\\nDon't hide bugs silently - handle only what you expect.\""
      ]
     },
     "execution_count": 78,
     "metadata": {},
     "output_type": "execute_result"
    }
   ],
   "source": [
    "'''Guidelines for Exception-safe Functions\n",
    "Use try-except inside the function to handle expected errors.\n",
    "raise meaningful exceptions if the function cannot complete its job.\n",
    "use default values.\n",
    "log errors if needed.\n",
    "Don't hide bugs silently - handle only what you expect.'''\n"
   ]
  },
  {
   "cell_type": "code",
   "execution_count": 79,
   "id": "398a028a",
   "metadata": {},
   "outputs": [
    {
     "name": "stdout",
     "output_type": "stream",
     "text": [
      "File error: File not found: config.json\n",
      "Failed to load valid config.\n"
     ]
    }
   ],
   "source": [
    "import json\n",
    "import os\n",
    "\n",
    "def load_config(file_path):\n",
    "    try:\n",
    "        # Check if file exists\n",
    "        if not os.path.isfile(file_path):\n",
    "            raise FileNotFoundError(f\"File not found: {file_path}\")\n",
    "\n",
    "        # Load JSON data\n",
    "        with open(file_path, 'r') as file:\n",
    "            config = json.load(file)\n",
    "\n",
    "        # Validate essential keys\n",
    "        required_keys = ['host', 'port', 'username']\n",
    "        for key in required_keys:\n",
    "            if key not in config:\n",
    "                raise ValueError(f\"Missing required key: {key}\")\n",
    "\n",
    "        # Validate types\n",
    "        if not isinstance(config['port'], int):\n",
    "            raise TypeError(\"Port must be an integer\")\n",
    "\n",
    "        return config\n",
    "\n",
    "    except FileNotFoundError as fnf:\n",
    "        print(\"File error:\", fnf)\n",
    "    except json.JSONDecodeError as jde:\n",
    "        print(\"Invalid JSON format:\", jde)\n",
    "    except (ValueError, TypeError) as ve:\n",
    "        print(\"Validation error:\", ve)\n",
    "    except Exception as e:\n",
    "        print(\"Unexpected error:\", e)\n",
    "\n",
    "    return None\n",
    "\n",
    "# --- Example usage ---\n",
    "config = load_config(\"config.json\")\n",
    "if config:\n",
    "    print(\"Valid config loaded:\", config)\n",
    "else:\n",
    "    print(\"Failed to load valid config.\")"
   ]
  },
  {
   "cell_type": "markdown",
   "id": "036e571c",
   "metadata": {},
   "source": [
    "TASK"
   ]
  },
  {
   "cell_type": "code",
   "execution_count": 85,
   "id": "bcf72284",
   "metadata": {},
   "outputs": [
    {
     "name": "stdout",
     "output_type": "stream",
     "text": [
      "invalid literal for int() with base 10: ''\n"
     ]
    }
   ],
   "source": [
    "def divide(a,b):\n",
    "        return int(a)/int(b)\n",
    "try:\n",
    "    divide(10,'')\n",
    "except (ZeroDivisionError,ValueError) as e:\n",
    "      print(e)\n",
    "\n"
   ]
  },
  {
   "cell_type": "code",
   "execution_count": 121,
   "id": "5a6de2a8",
   "metadata": {},
   "outputs": [
    {
     "name": "stdout",
     "output_type": "stream",
     "text": [
      "division by zero\n"
     ]
    }
   ],
   "source": [
    "def divide(a,b):\n",
    "        return int(a)/int(b)\n",
    "try:\n",
    "    divide(10,0)\n",
    "except (ZeroDivisionError,ValueError) as e:\n",
    "      print(e)"
   ]
  },
  {
   "cell_type": "code",
   "execution_count": 90,
   "id": "56b21259",
   "metadata": {},
   "outputs": [
    {
     "name": "stdout",
     "output_type": "stream",
     "text": [
      "[Errno 13] Permission denied: 'demo3.txt'\n"
     ]
    }
   ],
   "source": [
    "try:\n",
    "    with open('demo3.txt','w') as r:\n",
    "        r.write('hello\\n')\n",
    "except (FileNotFoundError,PermissionError) as e:\n",
    "    print(e)"
   ]
  },
  {
   "cell_type": "code",
   "execution_count": 91,
   "id": "b47646bf",
   "metadata": {},
   "outputs": [
    {
     "name": "stdout",
     "output_type": "stream",
     "text": [
      "[Errno 2] No such file or directory: 'demo4.txt'\n"
     ]
    }
   ],
   "source": [
    "try:\n",
    "    with open('demo4.txt','r') as r:\n",
    "        f=r.read()\n",
    "except (FileNotFoundError,PermissionError) as e:\n",
    "    print(e)"
   ]
  },
  {
   "cell_type": "code",
   "execution_count": 98,
   "id": "cb5df2fd",
   "metadata": {},
   "outputs": [
    {
     "name": "stdout",
     "output_type": "stream",
     "text": [
      "1\n",
      "2\n",
      "3\n",
      "invalid literal for int() with base 10: 'hello'\n",
      "5\n",
      "list index out of range\n"
     ]
    }
   ],
   "source": [
    "a=[1,2,3,'hello',5]\n",
    "for i in range(6):\n",
    "    try:\n",
    "        print(int(a[i]))\n",
    "        \n",
    "    except (IndexError,ValueError) as e:\n",
    "        print(e)"
   ]
  },
  {
   "cell_type": "code",
   "execution_count": 99,
   "id": "8c195a88",
   "metadata": {},
   "outputs": [
    {
     "name": "stdout",
     "output_type": "stream",
     "text": [
      "String Provided by User:i\n",
      "invalid literal for int() with base 10: 'i'\n"
     ]
    }
   ],
   "source": [
    "try:\n",
    "    a=input()\n",
    "    print(f\"String Provided by User:{a}\")\n",
    "    print(int(a))\n",
    "except ValueError as e:\n",
    "    print(e)"
   ]
  },
  {
   "cell_type": "code",
   "execution_count": 109,
   "id": "8ade7652",
   "metadata": {},
   "outputs": [
    {
     "name": "stdout",
     "output_type": "stream",
     "text": [
      "[WinError 183] Cannot create a file when that file already exists: 'C:/Users/seenu.nahak/training'\n"
     ]
    }
   ],
   "source": [
    "try:\n",
    "    os.makedirs(os.path.dirname('C:/Users/seenu.nahak/training/demo3.txt'), exist_ok=False)\n",
    "except FileExistsError as e:\n",
    "    print(e)"
   ]
  },
  {
   "cell_type": "code",
   "execution_count": 130,
   "id": "06656c56",
   "metadata": {},
   "outputs": [
    {
     "name": "stdout",
     "output_type": "stream",
     "text": [
      "Interrupted by user\n"
     ]
    }
   ],
   "source": [
    "try:\n",
    "    print(input())\n",
    "except KeyboardInterrupt as e:\n",
    "    print(e) "
   ]
  },
  {
   "cell_type": "code",
   "execution_count": 147,
   "id": "3fe210fb",
   "metadata": {},
   "outputs": [
    {
     "name": "stdout",
     "output_type": "stream",
     "text": [
      "10.0\n",
      "5.0\n",
      "division by zero\n",
      "2.5\n",
      "2.0\n",
      "list index out of range\n"
     ]
    }
   ],
   "source": [
    "try:\n",
    "    with open('day8_ques7.txt','w') as w:\n",
    "        w.write('12045')\n",
    "    with open('day8_ques7.txt','r') as r:\n",
    "        li=list(map(int,r.read()))\n",
    "    for i in range(len(li)+1):\n",
    "        try:\n",
    "            print(10/li[i])\n",
    "        except (ZeroDivisionError,IndexError) as e:\n",
    "            print(e)\n",
    "except FileNotFoundError as e:\n",
    "    print(e)"
   ]
  },
  {
   "cell_type": "code",
   "execution_count": 153,
   "id": "1e35a66b",
   "metadata": {},
   "outputs": [
    {
     "name": "stdout",
     "output_type": "stream",
     "text": [
      "10.0\n",
      "next item\n",
      "5.0\n",
      "next item\n",
      "2.0\n",
      "next item\n",
      "1.0\n",
      "next item\n",
      "code is error free\n"
     ]
    }
   ],
   "source": [
    "a=[1,2,5,10]\n",
    "flag=0\n",
    "for i in a:\n",
    "    try:\n",
    "        print(10/i)\n",
    "    except ZeroDivisionError as e:\n",
    "        print(e)\n",
    "    else:\n",
    "        print('next item') \n",
    "    finally:\n",
    "        flag=1\n",
    "print(\"code is error free\" if flag==1 else \"Correct the code\")\n"
   ]
  },
  {
   "cell_type": "code",
   "execution_count": 155,
   "id": "551b9088",
   "metadata": {},
   "outputs": [
    {
     "name": "stdout",
     "output_type": "stream",
     "text": [
      "caught CustomError: Age cannot be Negative\n"
     ]
    }
   ],
   "source": [
    "class AgeNotCorrect(Exception):\n",
    "    pass\n",
    "def check_positive(number):\n",
    "    if number<0:\n",
    "        raise AgeNotCorrect(\"Age cannot be Negative\")\n",
    "    else:\n",
    "        print(\"valid number:\",number)\n",
    "\n",
    "try:\n",
    "    num=int(input(\"enter your age:\"))\n",
    "    check_positive(num)\n",
    "except AgeNotCorrect as e:\n",
    "    print(\"caught CustomError:\",e)"
   ]
  },
  {
   "cell_type": "code",
   "execution_count": null,
   "id": "450ba90c",
   "metadata": {},
   "outputs": [
    {
     "name": "stdout",
     "output_type": "stream",
     "text": [
      "99:59:59\n"
     ]
    }
   ],
   "source": [
    "\n",
    "a=int(input())\n",
    "h=a//3600\n",
    "s=(a%3600)%60\n",
    "m=(a%3600)//60\n",
    "if not(0<=a<=359999):\n",
    "    raise ValueError(\"Seconds should be b/w 0 to 359999\")   \n",
    "print(f\"{h:02}:{m:02}:{s:02}\")"
   ]
  },
  {
   "cell_type": "markdown",
   "id": "38ebcc20",
   "metadata": {},
   "source": []
  }
 ],
 "metadata": {
  "kernelspec": {
   "display_name": "Python 3",
   "language": "python",
   "name": "python3"
  },
  "language_info": {
   "codemirror_mode": {
    "name": "ipython",
    "version": 3
   },
   "file_extension": ".py",
   "mimetype": "text/x-python",
   "name": "python",
   "nbconvert_exporter": "python",
   "pygments_lexer": "ipython3",
   "version": "3.12.3"
  }
 },
 "nbformat": 4,
 "nbformat_minor": 5
}
