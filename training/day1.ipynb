{
 "cells": [
  {
   "cell_type": "code",
   "execution_count": 1,
   "metadata": {},
   "outputs": [
    {
     "name": "stdout",
     "output_type": "stream",
     "text": [
      "hello world\n"
     ]
    }
   ],
   "source": [
    "print('hello world')"
   ]
  },
  {
   "cell_type": "code",
   "execution_count": 2,
   "metadata": {},
   "outputs": [],
   "source": [
    "a=input()"
   ]
  },
  {
   "cell_type": "code",
   "execution_count": 1,
   "metadata": {},
   "outputs": [
    {
     "name": "stdout",
     "output_type": "stream",
     "text": [
      "(1, 2, 3, 4)\n",
      "<class 'tuple'>\n"
     ]
    }
   ],
   "source": [
    "a=1,2,3,4 #packing\n",
    "print(a)\n",
    "print(type(a))"
   ]
  },
  {
   "cell_type": "code",
   "execution_count": 4,
   "metadata": {},
   "outputs": [
    {
     "name": "stdout",
     "output_type": "stream",
     "text": [
      "('abc', 10, 12.5)\n"
     ]
    }
   ],
   "source": [
    "data='abc',10,12.5\n",
    "print(data)\n"
   ]
  },
  {
   "cell_type": "code",
   "execution_count": 5,
   "metadata": {},
   "outputs": [
    {
     "name": "stdout",
     "output_type": "stream",
     "text": [
      "abc\n",
      "10\n",
      "12.5\n"
     ]
    }
   ],
   "source": [
    "name,age,wei=data\n",
    "print(name)\n",
    "print(age)\n",
    "print(wei)"
   ]
  },
  {
   "cell_type": "code",
   "execution_count": 7,
   "metadata": {},
   "outputs": [
    {
     "name": "stdout",
     "output_type": "stream",
     "text": [
      "<class 'int'> <class 'tuple'>\n"
     ]
    }
   ],
   "source": [
    "age=14\n",
    "print(type(age),type(data))\n"
   ]
  },
  {
   "cell_type": "code",
   "execution_count": 8,
   "metadata": {},
   "outputs": [
    {
     "name": "stdout",
     "output_type": "stream",
     "text": [
      "<class 'int'>\n"
     ]
    }
   ],
   "source": [
    "a=int(input())\n",
    "print(type(a))"
   ]
  },
  {
   "cell_type": "code",
   "execution_count": 10,
   "metadata": {},
   "outputs": [
    {
     "data": {
      "text/plain": [
       "str"
      ]
     },
     "execution_count": 10,
     "metadata": {},
     "output_type": "execute_result"
    }
   ],
   "source": [
    "s=str(a)\n",
    "type(s)"
   ]
  },
  {
   "cell_type": "code",
   "execution_count": 11,
   "metadata": {},
   "outputs": [
    {
     "data": {
      "text/plain": [
       "float"
      ]
     },
     "execution_count": 11,
     "metadata": {},
     "output_type": "execute_result"
    }
   ],
   "source": [
    "type(wei)"
   ]
  },
  {
   "cell_type": "code",
   "execution_count": 12,
   "metadata": {},
   "outputs": [
    {
     "name": "stdout",
     "output_type": "stream",
     "text": [
      "12\n"
     ]
    }
   ],
   "source": [
    "f=int(wei)\n",
    "print(f)"
   ]
  },
  {
   "cell_type": "code",
   "execution_count": 16,
   "metadata": {},
   "outputs": [
    {
     "name": "stdout",
     "output_type": "stream",
     "text": [
      "1 2 3 4 5\n"
     ]
    }
   ],
   "source": [
    "print(1,2,3,4,5)"
   ]
  },
  {
   "cell_type": "code",
   "execution_count": 15,
   "metadata": {},
   "outputs": [
    {
     "name": "stdout",
     "output_type": "stream",
     "text": [
      "1/2/3/4/5\n"
     ]
    }
   ],
   "source": [
    "print(1,2,3,4,5,sep=\"/\")"
   ]
  },
  {
   "cell_type": "code",
   "execution_count": 17,
   "metadata": {},
   "outputs": [
    {
     "name": "stdout",
     "output_type": "stream",
     "text": [
      "hello\n",
      "world\n"
     ]
    }
   ],
   "source": [
    "print('hello')\n",
    "print('world')\n"
   ]
  },
  {
   "cell_type": "code",
   "execution_count": 18,
   "metadata": {},
   "outputs": [
    {
     "name": "stdout",
     "output_type": "stream",
     "text": [
      "hello!world\n"
     ]
    }
   ],
   "source": [
    "print('hello',end=\"!\")\n",
    "print('world')"
   ]
  },
  {
   "cell_type": "code",
   "execution_count": 19,
   "metadata": {},
   "outputs": [],
   "source": [
    "True \n",
    "False\n",
    "None"
   ]
  },
  {
   "cell_type": "code",
   "execution_count": 21,
   "metadata": {},
   "outputs": [
    {
     "name": "stdout",
     "output_type": "stream",
     "text": [
      "5.0\n",
      "5\n",
      "50\n",
      "100\n"
     ]
    }
   ],
   "source": [
    "#operator\n",
    "#arithmetic \n",
    "#+,-,*,/,%,//,**\n",
    "\n",
    "a,b=10,2\n",
    "print(a/b)\n",
    "print(a//b)\n",
    "print(a*5)\n",
    "print(a**b)"
   ]
  },
  {
   "cell_type": "code",
   "execution_count": 24,
   "metadata": {},
   "outputs": [
    {
     "name": "stdout",
     "output_type": "stream",
     "text": [
      "10101010101010101010101010101010101010101010101010\n"
     ]
    }
   ],
   "source": [
    "a=\"10\"*5\n",
    "print(a*5)"
   ]
  },
  {
   "cell_type": "code",
   "execution_count": 26,
   "metadata": {},
   "outputs": [
    {
     "name": "stdout",
     "output_type": "stream",
     "text": [
      "True\n",
      "False\n",
      "False\n",
      "True\n",
      "True\n",
      "False\n"
     ]
    }
   ],
   "source": [
    "x=10\n",
    "y=5\n",
    "print(x>y)\n",
    "print(x<y)\n",
    "print(x==y)\n",
    "print(x!=y)\n",
    "print(x>=y)\n",
    "print(x<=y)"
   ]
  },
  {
   "cell_type": "code",
   "execution_count": 27,
   "metadata": {},
   "outputs": [
    {
     "name": "stdout",
     "output_type": "stream",
     "text": [
      "False\n",
      "True\n",
      "True\n"
     ]
    }
   ],
   "source": [
    "x=True\n",
    "y=False\n",
    "print(x and y)\n",
    "print(x or y)\n",
    "print(not y)"
   ]
  },
  {
   "cell_type": "code",
   "execution_count": 28,
   "metadata": {},
   "outputs": [
    {
     "name": "stdout",
     "output_type": "stream",
     "text": [
      "abc is studying in  8th\n"
     ]
    }
   ],
   "source": [
    "name=\"abc\"\n",
    "std=\"8th\"\n",
    "print(name,'is studying in ',std)"
   ]
  },
  {
   "cell_type": "code",
   "execution_count": 29,
   "metadata": {},
   "outputs": [
    {
     "name": "stdout",
     "output_type": "stream",
     "text": [
      "abc is studying in 8th\n"
     ]
    }
   ],
   "source": [
    "print(f'{name} is studying in {std}')"
   ]
  },
  {
   "cell_type": "code",
   "execution_count": 30,
   "metadata": {},
   "outputs": [
    {
     "name": "stdout",
     "output_type": "stream",
     "text": [
      "seenu's\n"
     ]
    }
   ],
   "source": [
    "print(\"seenu\\'s\")"
   ]
  },
  {
   "cell_type": "code",
   "execution_count": 31,
   "metadata": {},
   "outputs": [],
   "source": [
    "#formula\n",
    "#c-f\n",
    "#SI\n",
    "#compound\n"
   ]
  },
  {
   "cell_type": "code",
   "execution_count": 37,
   "metadata": {},
   "outputs": [
    {
     "name": "stdout",
     "output_type": "stream",
     "text": [
      "50\n"
     ]
    }
   ],
   "source": [
    "l=int(input())\n",
    "b=int(input())\n",
    "print(l*b)"
   ]
  },
  {
   "cell_type": "code",
   "execution_count": 42,
   "metadata": {},
   "outputs": [
    {
     "name": "stdout",
     "output_type": "stream",
     "text": [
      "50.0\n"
     ]
    }
   ],
   "source": [
    "c=int(input())\n",
    "print(c*(9/5)+32)"
   ]
  },
  {
   "cell_type": "code",
   "execution_count": 52,
   "metadata": {},
   "outputs": [
    {
     "name": "stdout",
     "output_type": "stream",
     "text": [
      "550.0\n",
      "550.0\n"
     ]
    }
   ],
   "source": [
    "p=int(input())\n",
    "r=int(input())\n",
    "t=int(input())\n",
    "print(p+(p*r*t)/100)\n",
    "print(p*(1+r/100)**t)\n"
   ]
  },
  {
   "cell_type": "code",
   "execution_count": 53,
   "metadata": {},
   "outputs": [],
   "source": [
    "#s\n",
    "a=10\n",
    "a+=5\n",
    "#a=a+5"
   ]
  },
  {
   "cell_type": "code",
   "execution_count": 54,
   "metadata": {},
   "outputs": [
    {
     "data": {
      "text/plain": [
       "65"
      ]
     },
     "execution_count": 54,
     "metadata": {},
     "output_type": "execute_result"
    }
   ],
   "source": [
    "ord(\"A\")"
   ]
  },
  {
   "cell_type": "code",
   "execution_count": 55,
   "metadata": {},
   "outputs": [
    {
     "data": {
      "text/plain": [
       "'0b1000001'"
      ]
     },
     "execution_count": 55,
     "metadata": {},
     "output_type": "execute_result"
    }
   ],
   "source": [
    "bin(65)"
   ]
  },
  {
   "cell_type": "code",
   "execution_count": 56,
   "metadata": {},
   "outputs": [
    {
     "data": {
      "text/plain": [
       "'A'"
      ]
     },
     "execution_count": 56,
     "metadata": {},
     "output_type": "execute_result"
    }
   ],
   "source": [
    "chr(65)"
   ]
  },
  {
   "cell_type": "code",
   "execution_count": 59,
   "metadata": {},
   "outputs": [
    {
     "name": "stdout",
     "output_type": "stream",
     "text": [
      "one hundred and one100\n"
     ]
    }
   ],
   "source": [
    "s='one hundred and one'\n",
    "s1='100'\n",
    "print(s+s1)\n"
   ]
  },
  {
   "cell_type": "code",
   "execution_count": 60,
   "metadata": {},
   "outputs": [
    {
     "data": {
      "text/plain": [
       "'eno dna derdnuh eno'"
      ]
     },
     "execution_count": 60,
     "metadata": {},
     "output_type": "execute_result"
    }
   ],
   "source": [
    "s[::-1]"
   ]
  },
  {
   "cell_type": "code",
   "execution_count": 61,
   "metadata": {},
   "outputs": [
    {
     "data": {
      "text/plain": [
       "' hund'"
      ]
     },
     "execution_count": 61,
     "metadata": {},
     "output_type": "execute_result"
    }
   ],
   "source": [
    "s[3:8]"
   ]
  },
  {
   "cell_type": "code",
   "execution_count": 64,
   "metadata": {},
   "outputs": [
    {
     "data": {
      "text/plain": [
       "'oehnr'"
      ]
     },
     "execution_count": 64,
     "metadata": {},
     "output_type": "execute_result"
    }
   ],
   "source": [
    "s[0:10:2]"
   ]
  },
  {
   "cell_type": "code",
   "execution_count": 65,
   "metadata": {},
   "outputs": [
    {
     "data": {
      "text/plain": [
       "19"
      ]
     },
     "execution_count": 65,
     "metadata": {},
     "output_type": "execute_result"
    }
   ],
   "source": [
    "len(s)"
   ]
  },
  {
   "cell_type": "code",
   "execution_count": 66,
   "metadata": {},
   "outputs": [
    {
     "data": {
      "text/plain": [
       "'one hundred and one'"
      ]
     },
     "execution_count": 66,
     "metadata": {},
     "output_type": "execute_result"
    }
   ],
   "source": [
    "s[:len(s)]"
   ]
  },
  {
   "cell_type": "code",
   "execution_count": 69,
   "metadata": {},
   "outputs": [
    {
     "name": "stdout",
     "output_type": "stream",
     "text": [
      "7\n",
      "Welcome\n",
      "WELCOME\n",
      "****welcome****\n",
      "1\n",
      "6\n",
      "-1\n"
     ]
    }
   ],
   "source": [
    "a='welcome'\n",
    "print(len(a))\n",
    "print(a.capitalize())\n",
    "print(a.upper())\n",
    "print(a.center(15,'*'))\n",
    "print(a.find('e'))\n",
    "print(a.find('e',2))\n",
    "print(a.find('e',2,4))\n",
    "      "
   ]
  },
  {
   "cell_type": "code",
   "execution_count": 76,
   "metadata": {},
   "outputs": [],
   "source": [
    "s='good'\n",
    "a='welcome'"
   ]
  },
  {
   "cell_type": "code",
   "execution_count": 77,
   "metadata": {},
   "outputs": [
    {
     "data": {
      "text/plain": [
       "True"
      ]
     },
     "execution_count": 77,
     "metadata": {},
     "output_type": "execute_result"
    }
   ],
   "source": [
    "'l' in a\n"
   ]
  },
  {
   "cell_type": "code",
   "execution_count": 78,
   "metadata": {},
   "outputs": [
    {
     "data": {
      "text/plain": [
       "True"
      ]
     },
     "execution_count": 78,
     "metadata": {},
     "output_type": "execute_result"
    }
   ],
   "source": [
    "'a' not in a"
   ]
  },
  {
   "cell_type": "code",
   "execution_count": 79,
   "metadata": {},
   "outputs": [
    {
     "data": {
      "text/plain": [
       "False"
      ]
     },
     "execution_count": 79,
     "metadata": {},
     "output_type": "execute_result"
    }
   ],
   "source": [
    "s is a"
   ]
  },
  {
   "cell_type": "code",
   "execution_count": 80,
   "metadata": {},
   "outputs": [
    {
     "data": {
      "text/plain": [
       "True"
      ]
     },
     "execution_count": 80,
     "metadata": {},
     "output_type": "execute_result"
    }
   ],
   "source": [
    "s is not a"
   ]
  },
  {
   "cell_type": "code",
   "execution_count": 88,
   "metadata": {},
   "outputs": [
    {
     "name": "stdout",
     "output_type": "stream",
     "text": [
      "0\n",
      "14\n",
      "14\n",
      "-11\n",
      "160\n",
      "0\n"
     ]
    }
   ],
   "source": [
    "a=10\n",
    "b=4\n",
    "print(a&b)\n",
    "print(a|b)\n",
    "print(a^b)\n",
    "print(~a)\n",
    "print(a<<b)\n",
    "print(a>>b)"
   ]
  },
  {
   "cell_type": "code",
   "execution_count": 89,
   "metadata": {},
   "outputs": [
    {
     "name": "stdout",
     "output_type": "stream",
     "text": [
      "<class 'complex'>\n"
     ]
    }
   ],
   "source": [
    "a=3+3j\n",
    "print(type(a))"
   ]
  },
  {
   "cell_type": "code",
   "execution_count": 97,
   "metadata": {},
   "outputs": [
    {
     "name": "stdout",
     "output_type": "stream",
     "text": [
      "123498765\n"
     ]
    }
   ],
   "source": [
    "a='123456789'\n",
    "b=len(a)//2\n",
    "s1=a[0:b]\n",
    "s2=a[b:len(a)]\n",
    "print(s1+s2[::-1])"
   ]
  },
  {
   "cell_type": "code",
   "execution_count": 99,
   "metadata": {},
   "outputs": [
    {
     "name": "stdout",
     "output_type": "stream",
     "text": [
      "only if\n",
      "p\n",
      "if-else\n",
      "p\n",
      "if-elif-else\n",
      "p\n",
      "nested if-else\n",
      "p\n"
     ]
    }
   ],
   "source": [
    "a=int(input())\n",
    "print(\"only if\")\n",
    "if a>0:\n",
    "    print('p')\n",
    "print(\"if-else\")\n",
    "if a>0:\n",
    "    print('p')\n",
    "else:\n",
    "    print('n')\n",
    "print('if-elif-else')\n",
    "if a>0:\n",
    "    print('p')\n",
    "elif a<0:\n",
    "    print('n')\n",
    "else:\n",
    "    print(\"0\")\n",
    "print(\"nested if-else\")\n",
    "if a>=0:\n",
    "    if a>0:\n",
    "        print('p')\n",
    "    else:\n",
    "        pirnt('0')\n",
    "else:\n",
    "    print(\"n\")"
   ]
  },
  {
   "cell_type": "code",
   "execution_count": 110,
   "metadata": {},
   "outputs": [
    {
     "name": "stdout",
     "output_type": "stream",
     "text": [
      "50\n",
      "50\n"
     ]
    }
   ],
   "source": [
    "a=10\n",
    "b=50\n",
    "c=30\n",
    "if(a>b and a>c):\n",
    "    print(a)\n",
    "elif(b>a and b>c):\n",
    "    print(b)\n",
    "else:\n",
    "    print(c)\n",
    "\n",
    "if(a>b):\n",
    "    if(a>c):\n",
    "        print(a)\n",
    "    else:\n",
    "        print(c)\n",
    "else:\n",
    "    if(b>c):\n",
    "        print(b)\n",
    "    else:\n",
    "        print(c)\n"
   ]
  },
  {
   "cell_type": "code",
   "execution_count": null,
   "metadata": {},
   "outputs": [
    {
     "name": "stdout",
     "output_type": "stream",
     "text": [
      "ci good\n"
     ]
    }
   ],
   "source": [
    "p=500\n",
    "r=10\n",
    "t=2\n",
    "if(((p*r*t)/100)>(p*(1+r/100)**t)):\n",
    "    print(\"si good\")\n",
    "else:\n",
    "    print(\"ci good\")"
   ]
  },
  {
   "cell_type": "code",
   "execution_count": 122,
   "metadata": {},
   "outputs": [
    {
     "name": "stdout",
     "output_type": "stream",
     "text": [
      "vowel\n"
     ]
    }
   ],
   "source": [
    "a=(str(input(\"single char:\")))\n",
    "b=a.upper()\n",
    "if(b in 'AEIOU'):\n",
    "    print('vowel')\n",
    "else:\n",
    "    print(\"consonant\")"
   ]
  },
  {
   "cell_type": "code",
   "execution_count": 147,
   "metadata": {},
   "outputs": [
    {
     "name": "stdout",
     "output_type": "stream",
     "text": [
      "Give appropriate input.\n"
     ]
    }
   ],
   "source": [
    "a=input()\n",
    "\n",
    "if a.isdigit():\n",
    "    a=int(a)\n",
    "    if(a>90 and a<=100):\n",
    "        print(\"O\")\n",
    "    elif(a>80 and a<=90):\n",
    "        print(\"A\")\n",
    "    elif(a>70 and a<=80):\n",
    "        print(\"B\")\n",
    "    elif(a>60 and a<=70):\n",
    "        print(\"C\")\n",
    "    elif(a>50 and a<=60):\n",
    "        print(\"D\")   \n",
    "    else:\n",
    "        print(\"FAIL\")\n",
    "else:\n",
    "    print(\"Give appropriate input.\")"
   ]
  },
  {
   "cell_type": "code",
   "execution_count": 150,
   "metadata": {},
   "outputs": [
    {
     "name": "stdout",
     "output_type": "stream",
     "text": [
      "hello\n",
      "hello\n",
      "hello\n",
      "hello\n",
      "hello\n",
      "0 hello\n",
      "1 hello\n",
      "2 hello\n",
      "3 hello\n",
      "4 hello\n"
     ]
    }
   ],
   "source": [
    "#loop\n",
    "\n",
    "#for _ in (start,stop,step)\n",
    "\n",
    "for _ in range(5):\n",
    "    print('hello')\n",
    "\n",
    "for i in range(5):\n",
    "    print(i,\"hello\")"
   ]
  },
  {
   "cell_type": "code",
   "execution_count": 152,
   "metadata": {},
   "outputs": [
    {
     "name": "stdout",
     "output_type": "stream",
     "text": [
      "5\n",
      "10\n",
      "15\n",
      "20\n",
      "25\n",
      "30\n",
      "35\n",
      "40\n",
      "45\n",
      "50\n",
      "end\n"
     ]
    }
   ],
   "source": [
    "a=5\n",
    "for i in range(1,11):\n",
    "    print(a*i)\n",
    "else:\n",
    "    print(\"end\")"
   ]
  },
  {
   "cell_type": "code",
   "execution_count": 160,
   "metadata": {},
   "outputs": [
    {
     "name": "stdout",
     "output_type": "stream",
     "text": [
      "PRESS ENTER TO CONFIRM\n",
      "v=6 and c=13\n"
     ]
    }
   ],
   "source": [
    "a=input()\n",
    "a=a.upper()\n",
    "cv,cc=0,0\n",
    "for i in a:\n",
    "    if(i in 'AEIOU'):\n",
    "        cv+=1\n",
    "    elif(i!=\" \"):\n",
    "        cc+=1\n",
    "print(a)\n",
    "print(f'v={cv} and c={cc}')"
   ]
  },
  {
   "cell_type": "code",
   "execution_count": 169,
   "metadata": {},
   "outputs": [
    {
     "name": "stdout",
     "output_type": "stream",
     "text": [
      "2\n",
      "3\n",
      "5\n",
      "7\n",
      "11\n",
      "13\n",
      "17\n",
      "19\n",
      "23\n",
      "29\n",
      "31\n",
      "37\n",
      "41\n",
      "43\n",
      "47\n"
     ]
    }
   ],
   "source": [
    "for i in range(2,50):\n",
    "    flag=1\n",
    "    for j in range(2,i):\n",
    "        if i%j==0:\n",
    "            flag=0\n",
    "            break\n",
    "    if flag==1:\n",
    "        print(i)\n",
    "\n"
   ]
  },
  {
   "cell_type": "code",
   "execution_count": 180,
   "metadata": {},
   "outputs": [
    {
     "name": "stdout",
     "output_type": "stream",
     "text": [
      "407\n",
      "armstrong\n"
     ]
    }
   ],
   "source": [
    "a=int(input())\n",
    "b=list(map(int, str(a)))\n",
    "sum=0\n",
    "for i in b:\n",
    "    sum+=int(i)**3\n",
    "print(a)\n",
    "if(sum==a):\n",
    "    print(\"armstrong\")\n",
    "else:\n",
    "    print(\"no\")\n"
   ]
  },
  {
   "cell_type": "code",
   "execution_count": 179,
   "metadata": {},
   "outputs": [
    {
     "name": "stdout",
     "output_type": "stream",
     "text": [
      "28\n",
      "perfect\n"
     ]
    }
   ],
   "source": [
    "a=int(input())\n",
    "sum=0\n",
    "for i in range(1,a):\n",
    "    if(a%i==0):\n",
    "        sum+=i\n",
    "print(a)\n",
    "if(sum==a):\n",
    "    print(\"perfect\")\n",
    "else:\n",
    "    print(\"not perfect\")"
   ]
  },
  {
   "cell_type": "code",
   "execution_count": null,
   "metadata": {},
   "outputs": [],
   "source": []
  }
 ],
 "metadata": {
  "kernelspec": {
   "display_name": "Python 3",
   "language": "python",
   "name": "python3"
  },
  "language_info": {
   "codemirror_mode": {
    "name": "ipython",
    "version": 3
   },
   "file_extension": ".py",
   "mimetype": "text/x-python",
   "name": "python",
   "nbconvert_exporter": "python",
   "pygments_lexer": "ipython3",
   "version": "3.12.3"
  }
 },
 "nbformat": 4,
 "nbformat_minor": 2
}
