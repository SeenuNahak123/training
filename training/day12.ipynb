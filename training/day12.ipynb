{
 "cells": [
  {
   "cell_type": "code",
   "execution_count": null,
   "id": "9f8ffe17",
   "metadata": {},
   "outputs": [],
   "source": [
    "# Metacharacter\n",
    "\n",
    "# [] -- a set of characters\n",
    "# \\ -- signals a special sequence (can also be used an escape special character)\n",
    "# . -- Any character(except a newline character)\n",
    "# ^ -- starts with\n",
    "# $ -- ends with\n",
    "# * -- Zero or more occurrences\n",
    "# + -- one or more occurrence\n",
    "# {} -- exactly the specified number of occurrences\n",
    "# | -- either or\n",
    "# () -- capture and group\n"
   ]
  },
  {
   "cell_type": "code",
   "execution_count": null,
   "id": "5d300045",
   "metadata": {},
   "outputs": [
    {
     "name": "stdout",
     "output_type": "stream",
     "text": [
      "['ai', 'ai']\n"
     ]
    }
   ],
   "source": [
    "import re\n",
    "txt='The rain in Spain'\n",
    "x=re.findall('ai',txt)          #findall gives list return type\n",
    "print(x)"
   ]
  },
  {
   "cell_type": "code",
   "execution_count": 2,
   "id": "8e7f4b88",
   "metadata": {},
   "outputs": [
    {
     "name": "stdout",
     "output_type": "stream",
     "text": [
      "[]\n"
     ]
    }
   ],
   "source": [
    "import re\n",
    "txt='The rain in Spain'\n",
    "x=re.findall('Portugal',txt)\n",
    "print(x)"
   ]
  },
  {
   "cell_type": "code",
   "execution_count": 7,
   "id": "e8e73832",
   "metadata": {},
   "outputs": [
    {
     "name": "stdout",
     "output_type": "stream",
     "text": [
      "<class 're.Match'>\n",
      "In txt\n"
     ]
    }
   ],
   "source": [
    "import re\n",
    "txt='The rain in spain'\n",
    "x=re.search('rain',txt)               #search gives boolean return type\n",
    "print(type(x))\n",
    "if x:\n",
    "    print('In txt')\n",
    "else:\n",
    "    print('no match')"
   ]
  },
  {
   "cell_type": "code",
   "execution_count": 15,
   "id": "91497241",
   "metadata": {},
   "outputs": [
    {
     "name": "stdout",
     "output_type": "stream",
     "text": [
      "['the', 'rain', 'in', 'Spain']\n"
     ]
    }
   ],
   "source": [
    "import re\n",
    "txt=\"the rain in Spain\"\n",
    "x=re.split(r\"\\s\",txt)  \n",
    "print(x)"
   ]
  },
  {
   "cell_type": "code",
   "execution_count": 14,
   "id": "ee943dd5",
   "metadata": {},
   "outputs": [
    {
     "name": "stdout",
     "output_type": "stream",
     "text": [
      "['the', 'rain', 'in Spain']\n"
     ]
    }
   ],
   "source": [
    "import re\n",
    "txt=\"the rain in Spain\"\n",
    "x=re.split(r\"\\s\",txt,2)  \n",
    "print(x)"
   ]
  },
  {
   "cell_type": "code",
   "execution_count": 17,
   "id": "3cfeae27",
   "metadata": {},
   "outputs": [
    {
     "name": "stdout",
     "output_type": "stream",
     "text": [
      "There rain in Spain\n"
     ]
    }
   ],
   "source": [
    "import re\n",
    "txt=\"The rain in Spain\"\n",
    "x=re.sub(\"The\",\"There\",txt)  \n",
    "print(x)"
   ]
  },
  {
   "cell_type": "code",
   "execution_count": 23,
   "id": "f8d496dc",
   "metadata": {},
   "outputs": [
    {
     "name": "stdout",
     "output_type": "stream",
     "text": [
      "The9rain9in Spain\n"
     ]
    }
   ],
   "source": [
    "import re\n",
    "txt=\"The rain in Spain\"\n",
    "x=re.sub(r\"\\s\",\"9\",txt,2)  \n",
    "print(x)"
   ]
  },
  {
   "cell_type": "code",
   "execution_count": 25,
   "id": "f8dd5f24",
   "metadata": {},
   "outputs": [
    {
     "name": "stdout",
     "output_type": "stream",
     "text": [
      "This is a string with special characters\n"
     ]
    }
   ],
   "source": [
    "import re\n",
    "\n",
    "string=\"This is a #string with %special^ characters!\"\n",
    "pattern=r'[^a-zA-Z0-9\\s]+'\n",
    "\n",
    "new_string=re.sub(pattern,'',string)\n",
    "print(new_string)"
   ]
  },
  {
   "cell_type": "code",
   "execution_count": 31,
   "id": "4fd19564",
   "metadata": {},
   "outputs": [
    {
     "name": "stdout",
     "output_type": "stream",
     "text": [
      "True\n"
     ]
    }
   ],
   "source": [
    "s='Hello World.'\n",
    "x=re.search(r'[.]$',s)\n",
    "print('True' if x else 'False')"
   ]
  },
  {
   "cell_type": "code",
   "execution_count": 40,
   "id": "555bc08c",
   "metadata": {},
   "outputs": [
    {
     "name": "stdout",
     "output_type": "stream",
     "text": [
      "['12', '20']\n"
     ]
    }
   ],
   "source": [
    "s='i have 12 apples and 20 bananas'  #12,20\n",
    "x=re.findall(r'[0-9]+',s)\n",
    "# x=re.findall(r'\\d+',s)\n",
    "print(x)"
   ]
  },
  {
   "cell_type": "code",
   "execution_count": 45,
   "id": "c69fe51c",
   "metadata": {},
   "outputs": [
    {
     "name": "stdout",
     "output_type": "stream",
     "text": [
      "None\n",
      "<re.Match object; span=(4, 6), match='hi'>\n",
      "\n",
      "<re.Match object; span=(0, 2), match='hi'>\n",
      "<re.Match object; span=(0, 2), match='hi'>\n"
     ]
    }
   ],
   "source": [
    "#difference b/w match and search\n",
    "\n",
    "s='say hi to everyone'\n",
    "print(re.match('hi',s))\n",
    "print(re.search('hi',s))\n",
    "print()\n",
    "s='hi say hi to everyone'\n",
    "print(re.match('hi',s)) # returns only if present at the begining of the string\n",
    "print(re.search('hi',s)) #both returns for the first occurence only"
   ]
  },
  {
   "cell_type": "code",
   "execution_count": 48,
   "id": "cd2457dd",
   "metadata": {},
   "outputs": [
    {
     "name": "stdout",
     "output_type": "stream",
     "text": [
      "First match: <re.Match object; span=(13, 17), match='9876'>\n",
      "First match: 9876\n",
      "All matches: ['9876', '1234']\n"
     ]
    }
   ],
   "source": [
    "txt=\"My number is 9876 and friends number is 1234\"\n",
    "\n",
    "#search: only finds the first match\n",
    "first_match=re.search(r\"\\d+\",txt)\n",
    "print(\"First match:\",first_match)\n",
    "print(\"First match:\",first_match.group())\n",
    "\n",
    "#findall: it finds all digit sequence\n",
    "all_matches=re.findall(r\"\\d+\",txt)\n",
    "print(\"All matches:\",all_matches)"
   ]
  },
  {
   "cell_type": "code",
   "execution_count": 52,
   "id": "ddacb45a",
   "metadata": {},
   "outputs": [
    {
     "name": "stdout",
     "output_type": "stream",
     "text": [
      "['Python', 'Developed', 'Guido', 'Van', 'Rossum', 'Netherlands', 'I']\n"
     ]
    }
   ],
   "source": [
    "txt=\"Python is Developed by Guido Van Rossum in Netherlands I AB\"\n",
    "cap_words=re.findall(r\"\\b[A-Z][a-z]*\\b\",txt)\n",
    "print(cap_words)"
   ]
  },
  {
   "cell_type": "code",
   "execution_count": 54,
   "id": "1e7209fd",
   "metadata": {},
   "outputs": [
    {
     "name": "stdout",
     "output_type": "stream",
     "text": [
      "The cost is 10 dollars and 14 cents\n"
     ]
    }
   ],
   "source": [
    "def double(match):\n",
    "    n=int(match.group())\n",
    "    return str(n*2)\n",
    "\n",
    "txt=\"The cost is 5 dollars and 7 cents\"\n",
    "result=re.sub(r\"\\d+\",double,txt)\n",
    "print(result)"
   ]
  },
  {
   "cell_type": "code",
   "execution_count": 56,
   "id": "b40430ca",
   "metadata": {},
   "outputs": [
    {
     "name": "stdout",
     "output_type": "stream",
     "text": [
      "You are such a [beep] and a [beep]\n"
     ]
    }
   ],
   "source": [
    "txt=\"You are such a fool and a dummy\"\n",
    "bad_word=r'\\bfool|dummy\\b'\n",
    "censored=re.sub(bad_word,'[beep]',txt)\n",
    "print(censored)"
   ]
  },
  {
   "cell_type": "code",
   "execution_count": null,
   "id": "c714b971",
   "metadata": {},
   "outputs": [
    {
     "name": "stdout",
     "output_type": "stream",
     "text": [
      "Full match: Name: John, Age: 30\n",
      "Name: John\n",
      "Age: 30\n"
     ]
    }
   ],
   "source": [
    "text=\"Name: John, Age: 30\"\n",
    "\n",
    "match=re.search(r\"Name: (\\w+), Age: (\\d+)\",text)\n",
    "if match:\n",
    "    print(\"Full match:\",match.group(0))       #full match\n",
    "    print(\"Name:\",match.group(1))             #First group  (\\w+)\n",
    "    print(\"Age:\",match.group(2))              #Second match  (\\d+)"
   ]
  },
  {
   "cell_type": "code",
   "execution_count": 60,
   "id": "a5dc6bd8",
   "metadata": {},
   "outputs": [
    {
     "name": "stdout",
     "output_type": "stream",
     "text": [
      "['apple', 'banana', 'grape', 'orange']\n"
     ]
    }
   ],
   "source": [
    "text=\"apple,banana;grape orange\"\n",
    "result=re.split(r'[;,\\s]',text)\n",
    "print(result)"
   ]
  },
  {
   "cell_type": "code",
   "execution_count": 61,
   "id": "6a1141da",
   "metadata": {},
   "outputs": [
    {
     "name": "stdout",
     "output_type": "stream",
     "text": [
      "['one', 'two', 'three-four']\n"
     ]
    }
   ],
   "source": [
    "text='one-two-three-four'\n",
    "result=re.split(r'[-]',text,maxsplit=2)\n",
    "print(result)"
   ]
  },
  {
   "cell_type": "code",
   "execution_count": 62,
   "id": "f73b86a6",
   "metadata": {},
   "outputs": [
    {
     "name": "stdout",
     "output_type": "stream",
     "text": [
      "['word', 'word', 'word', '']\n"
     ]
    }
   ],
   "source": [
    "text='word1word2word3'\n",
    "result=re.split(r'\\d+',text)\n",
    "print(result)"
   ]
  },
  {
   "cell_type": "code",
   "execution_count": 63,
   "id": "dd8d2b14",
   "metadata": {},
   "outputs": [
    {
     "name": "stdout",
     "output_type": "stream",
     "text": [
      "('# # #', 3)\n",
      "<class 'tuple'>\n"
     ]
    }
   ],
   "source": [
    "result=re.subn(r'\\d+','#','123 456 786')\n",
    "print(result)\n",
    "print(type(result))"
   ]
  },
  {
   "cell_type": "code",
   "execution_count": 64,
   "id": "792bee7d",
   "metadata": {},
   "outputs": [
    {
     "name": "stdout",
     "output_type": "stream",
     "text": [
      "['123', '456']\n"
     ]
    }
   ],
   "source": [
    "pattern=re.compile(r'\\d+')\n",
    "print(pattern.findall('123 456'))"
   ]
  },
  {
   "cell_type": "code",
   "execution_count": 90,
   "id": "4d2cee3f",
   "metadata": {},
   "outputs": [
    {
     "name": "stdout",
     "output_type": "stream",
     "text": [
      "<re.Match object; span=(0, 15), match='Asyds@gmail.com'>\n"
     ]
    }
   ],
   "source": [
    "pattern=re.compile(r\"[A-Za-z0-9-+%]+@[A-Za-z0-9]+\\.[a-zA-Z]{2,}\")\n",
    "print(pattern.search('Asyds@gmail.com'))"
   ]
  },
  {
   "cell_type": "code",
   "execution_count": 92,
   "id": "560f57c1",
   "metadata": {},
   "outputs": [
    {
     "name": "stdout",
     "output_type": "stream",
     "text": [
      "<re.Match object; span=(0, 6), match='Python'>\n",
      "None\n",
      "<re.Match object; span=(0, 9), match='Python123'>\n",
      "None\n",
      "<re.Match object; span=(6, 9), match='123'>\n"
     ]
    }
   ],
   "source": [
    "text=\"Python123\"\n",
    "\n",
    "print(re.match(r'Python',text))    #starts with python\n",
    "print(re.match(r'\\d+',text))       #does not start with digits\n",
    "\n",
    "print(re.fullmatch(r'Python\\d+',text))  #matches whole string\n",
    "print(re.fullmatch(r'Python',text))     #doesn't match whole string as it contains  digits also\n",
    "\n",
    "print(re.search(r'\\d+',text))           #finds digits anywhere in the string"
   ]
  },
  {
   "cell_type": "code",
   "execution_count": 94,
   "id": "c6ed1944",
   "metadata": {},
   "outputs": [
    {
     "name": "stdout",
     "output_type": "stream",
     "text": [
      "Found: Python 3.8 at position: (0, 10)\n",
      "Found: Python 3.9 at position: (37, 47)\n"
     ]
    }
   ],
   "source": [
    "text=\"Python 3.8 was released in 2019, and Python 3.9 in 2020\"\n",
    "pattern=re.finditer(r'Python \\d\\.\\d',text)                               #find all the occurence\n",
    "\n",
    "for match in pattern:\n",
    "    print(f\"Found: {match.group()} at position: {match.span()}\")"
   ]
  },
  {
   "cell_type": "code",
   "execution_count": 97,
   "id": "3fd52f6b",
   "metadata": {},
   "outputs": [
    {
     "name": "stdout",
     "output_type": "stream",
     "text": [
      "Matched text : hello@example.com\n",
      "Start index : 7\n",
      "End index : 24\n",
      "Span (start,end): (7, 24)\n"
     ]
    }
   ],
   "source": [
    "text=\"Email: hello@example.com\"\n",
    "match=re.search(r\"\\w+@\\w+\\.\\w+\",text)\n",
    "\n",
    "if match:\n",
    "    print(\"Matched text :\",match.group())      \n",
    "    print(\"Start index :\", match.start())\n",
    "    print(\"End index :\", match.end())\n",
    "    print(\"Span (start,end):\",match.span())"
   ]
  },
  {
   "cell_type": "code",
   "execution_count": 98,
   "id": "dcf34aa6",
   "metadata": {},
   "outputs": [
    {
     "name": "stdout",
     "output_type": "stream",
     "text": [
      "Hello\n"
     ]
    }
   ],
   "source": [
    "# re.IGNORECASE or re.I\n",
    "\n",
    "text=\"Hello World!\"\n",
    "\n",
    "pattern=re.compile(r'hello',re.IGNORECASE)\n",
    "match=pattern.search(text)\n",
    "print(match.group())"
   ]
  },
  {
   "cell_type": "code",
   "execution_count": 101,
   "id": "e856416a",
   "metadata": {},
   "outputs": [
    {
     "name": "stdout",
     "output_type": "stream",
     "text": [
      "Hello\n",
      "World\n"
     ]
    }
   ],
   "source": [
    "#re.DOTALL or re.S\n",
    "text=\"Hello\\nWorld\"\n",
    "pattern=re.compile(r\"Hello.World\",re.DOTALL)\n",
    "match=pattern.search(text)\n",
    "print(match.group())"
   ]
  },
  {
   "cell_type": "code",
   "execution_count": 103,
   "id": "332badf7",
   "metadata": {},
   "outputs": [
    {
     "name": "stdout",
     "output_type": "stream",
     "text": [
      "user@example.com\n"
     ]
    }
   ],
   "source": [
    "#re.VERBOSE or re.X\n",
    "\n",
    "pattern= re.compile(r'''\n",
    "    ^                       # start of the string\n",
    "    [A-Za-z0-9._%+-]+       # Username: one or more valid characters\n",
    "    @                       # @ symbol\n",
    "    [A-Za-z0-9.-]+          # Domain name: one or more valid character\n",
    "    \\.                      # Literal Dot\n",
    "    [A-Za-z]{2,}            # Top-level domain: at least 2 letters\n",
    "    $                       # End of string\n",
    "''',re.VERBOSE)\n",
    "\n",
    "text=\"user@example.com\"\n",
    "\n",
    "match=pattern.match(text)\n",
    "print(match.group() if match else \"No Match\")\n",
    "\n"
   ]
  },
  {
   "cell_type": "code",
   "execution_count": null,
   "id": "7e080a04",
   "metadata": {},
   "outputs": [
    {
     "name": "stdout",
     "output_type": "stream",
     "text": [
      "['Caf', 'caf']\n"
     ]
    }
   ],
   "source": [
    "# re.ASCII or re.A\n",
    "pattern=re.compile(r'\\w+',re.ASCII)\n",
    "print(pattern.findall(\"Caf$ caf%\"))"
   ]
  },
  {
   "cell_type": "code",
   "execution_count": 107,
   "id": "cc1d8b46",
   "metadata": {},
   "outputs": [],
   "source": [
    "pattern=re.compile(r'hello.world',re.IGNORECASE|re.DOTALL)"
   ]
  },
  {
   "cell_type": "code",
   "execution_count": null,
   "id": "67038481",
   "metadata": {},
   "outputs": [
    {
     "name": "stdout",
     "output_type": "stream",
     "text": [
      "Valid Email\n"
     ]
    }
   ],
   "source": [
    "# Email / phone number validation (real-world use)\n",
    "text=\"asjhdh@jhsh.com\"\n",
    "pattern=re.compile(r\"[6-9][0-9]{9}|^[A-Za-z0-9._%+-]+@[A-Za-z0-9.-]+\\.[A-Za-z]{2,}$\")\n",
    "match=pattern.search(text)\n",
    "if match:\n",
    "    if re.search(r'\\d+',text):\n",
    "        print(\"Valid Number\")\n",
    "    elif re.search(r\"\\b[A-Za-z0-9._%+-]\",text):\n",
    "        print(\"Valid Email\")\n",
    "else:\n",
    "    print(\"Not a valid input\")\n"
   ]
  },
  {
   "cell_type": "code",
   "execution_count": 131,
   "id": "4e2c0970",
   "metadata": {},
   "outputs": [
    {
     "name": "stdout",
     "output_type": "stream",
     "text": [
      "['@abc', '#think', '#lovely', '#regards', '@xyz']\n"
     ]
    }
   ],
   "source": [
    "# Extracting hashtags, mentions from strings\n",
    "text=\"hi @abc, dont u #think its a #lovely day. send my #regards to @xyz . \"\n",
    "pattern=re.compile(r\"#[A-Za-z0-9]+|@[A-Za-z0-9-.]+\")\n",
    "match=pattern.findall(text)\n",
    "print(match)"
   ]
  },
  {
   "cell_type": "code",
   "execution_count": null,
   "id": "8e9944a2",
   "metadata": {},
   "outputs": [],
   "source": []
  },
  {
   "cell_type": "code",
   "execution_count": 158,
   "id": "1264e867",
   "metadata": {},
   "outputs": [
    {
     "name": "stdout",
     "output_type": "stream",
     "text": [
      "hi abc dont u think its1 a lovely day send my regards to xyz \n"
     ]
    }
   ],
   "source": [
    "# Cleaning text (removing special characters, multiple spaces)\n",
    "text=\"hi @abc, dont u #think its1     a #lovely day. send my #regards to @xyz. \"\n",
    "text=re.sub(r'[^a-zA-Z0-9\\s]','',text)\n",
    "text=re.sub(r'\\s+',\" \",text)\n",
    "\n",
    "print(text)"
   ]
  },
  {
   "cell_type": "code",
   "execution_count": 143,
   "id": "a4e2481b",
   "metadata": {},
   "outputs": [
    {
     "name": "stdout",
     "output_type": "stream",
     "text": [
      "Valid password\n"
     ]
    }
   ],
   "source": [
    "# Checking passwords for patterns (like uppercase + digit)\n",
    "text=\"sGHs@agd1#23F&GCdghs\"\n",
    "match=re.search(r'[a-zA-Z0-9@#$%&]{10,}',text)\n",
    "if match:\n",
    "    print(\"Valid password\")\n",
    "else:\n",
    "    print(\"Not a valid password\")"
   ]
  },
  {
   "cell_type": "code",
   "execution_count": 145,
   "id": "25991de8",
   "metadata": {},
   "outputs": [
    {
     "name": "stdout",
     "output_type": "stream",
     "text": [
      "['support@example.com', 'john.doe@company.org', 'partners@business.co.uk', 'media.relations@newsnet.io', 'tech_help123@service.net', 'info@website.com']\n"
     ]
    }
   ],
   "source": [
    "# Extract all email addresses from a paragraph\n",
    "para='If you have any questions, feel free to reach out to our support team at support@example.com or contact John directly at john.doe@company.org. For partnership inquiries, email partners@business.co.uk, and media requests can be sent to media.relations@newsnet.io. If you\\'re having trouble with your account, you can also try reaching our technical team at tech_help123@service.net or our general inbox at info@website.com.'\n",
    "pattern=re.compile(r'[A-Za-z0-9._%+-]+@[A-Za-z0-9.-]+\\.[A-Za-z]{2,}')\n",
    "print(pattern.findall(para))\n"
   ]
  },
  {
   "cell_type": "code",
   "execution_count": 150,
   "id": "4232242d",
   "metadata": {},
   "outputs": [
    {
     "name": "stdout",
     "output_type": "stream",
     "text": [
      "['#WeekendVibes', '#HikingAdventures', '#NatureLovers', '#GetOutside', '#TrailLife', '#MountainViews']\n"
     ]
    }
   ],
   "source": [
    "# Extract all hashtags from a tweet\n",
    "tweet=\"Just wrapped up an incredible weekend of hiking and fresh mountain air Nothing beats nature therapy! #WeekendVibes #HikingAdventures #NatureLovers #GetOutside #TrailLife #MountainViews\"\n",
    "pattern=re.compile(r\"#[A-Za-z0-9_]+\")\n",
    "match=pattern.findall(tweet)\n",
    "print(match)\n"
   ]
  },
  {
   "cell_type": "code",
   "execution_count": 152,
   "id": "8d1e9730",
   "metadata": {},
   "outputs": [
    {
     "name": "stdout",
     "output_type": "stream",
     "text": [
      "['15/01/2024', '28/02/2024', '10/03/2024', '01/04/2024', '30/06/2024', '12/07/2024', '20/07/2024']\n"
     ]
    }
   ],
   "source": [
    "#Extract all valid dates in DD/MM/YYYY format\n",
    "text=\"The project officially kicked off on 15/01/2024 and quickly gained momentum. Our first milestone was achieved by 28/02/2024, with the second phase starting on 10/03/2024. After a short break, we resumed activities on 01/04/2024, aiming to complete the final phase by 30/06/2024. A post-project review is scheduled for 12/07/2024, followed by a team celebration on 20/07/2024.\"\n",
    "pattern=re.compile(r'[0-9]{2}/[0-9]{2}/[0-9]{4}')\n",
    "print(pattern.findall(text))"
   ]
  },
  {
   "cell_type": "code",
   "execution_count": null,
   "id": "972795fd",
   "metadata": {},
   "outputs": [],
   "source": [
    "# Check if a password contains at least one digit, one uppercase letter, and one special character"
   ]
  },
  {
   "cell_type": "code",
   "execution_count": 159,
   "id": "eea5bcaf",
   "metadata": {},
   "outputs": [
    {
     "name": "stdout",
     "output_type": "stream",
     "text": [
      "['4158675309', '2125557890', '3051234567', '8185553344', '6029876543', '9092221111']\n"
     ]
    }
   ],
   "source": [
    "# Extract all phone numbers (10-digit) from a string\n",
    "text=\"For any questions about your account, please call our customer service at 4158675309. If you're looking to speak with the sales team, dial 2125557890, and for technical assistance, reach us at 3051234567. Our HR department is available at 8185553344, while the main office line is 6029876543. For urgent matters, please use our priority support number: 9092221111.\"\n",
    "pattern=re.compile(r\"[1-9][0-9]{9}\")\n",
    "print(pattern.findall(text))"
   ]
  },
  {
   "cell_type": "code",
   "execution_count": null,
   "id": "379f1c10",
   "metadata": {},
   "outputs": [],
   "source": [
    "# Extract all URLs from a webpage snippet\n",
    "webpage='''<!DOCTYPE html>\n",
    "<html lang=\"en\">\n",
    "<head>\n",
    "    <meta charset=\"UTF-8\">\n",
    "    <meta name=\"viewport\" content=\"width=device-width, initial-scale=1.0\">\n",
    "    <title>Example Webpage</title>\n",
    "</head>\n",
    "<body>\n",
    "    <h1>Welcome to Our Website</h1>\n",
    "    <p>Check out some of our important links:</p>\n",
    "    <ul>\n",
    "        <li><a href=\"https://www.example.com\">Visit our homepage</a></li>\n",
    "        <li><a href=\"https://www.example.com/blog\">Read our latest blog posts</a></li>\n",
    "        <li><a href=\"https://www.example.com/contact\">Contact us</a></li>\n",
    "        <li><a href=\"https://www.example.com/about\">Learn more about us</a></li>\n",
    "        <li><a href=\"https://www.example.com/services\">Explore our services</a></li>\n",
    "    </ul>\n",
    "</body>\n",
    "</html>'''\n",
    "\n"
   ]
  },
  {
   "cell_type": "code",
   "execution_count": 174,
   "id": "c71a11e3",
   "metadata": {},
   "outputs": [
    {
     "name": "stdout",
     "output_type": "stream",
     "text": [
      "4\n"
     ]
    }
   ],
   "source": [
    "# Count how many times a particular word appears (e.g. \"python\")\n",
    "text='Python is a versatile language, and learning Python can open up many opportunities in data science, web development, and automation with Python\\'s extensive libraries. python'\n",
    "match=re.findall(r'python',text,re.IGNORECASE)\n",
    "print(len(match))"
   ]
  },
  {
   "cell_type": "code",
   "execution_count": 176,
   "id": "a8182b81",
   "metadata": {},
   "outputs": [
    {
     "name": "stdout",
     "output_type": "stream",
     "text": [
      "Python is a powerful programming language. It is widely used for web development, data analysis, machine learning, and automation. Many developers prefer Python for its simplicity and readability. It also has a large community that contributes to a variety of libraries and frameworks. Overall, Python’s versatility makes it an excellent choice for both beginners and experienced programmers.\n"
     ]
    }
   ],
   "source": [
    "# Replace multiple spaces with a single space in a paragraph\n",
    "para='Python is a    powerful programming language. It   is widely          used for web development, data analysis, machine learning, and             automation. Many developers prefer Python for                 its simplicity and readability. It also has a large community that contributes to a variety       of libraries and frameworks. Overall, Python’s versatility   makes it an excellent    choice for   both beginners and experienced programmers.'\n",
    "print(re.sub(r\"\\s+\",\" \",para))\n"
   ]
  },
  {
   "cell_type": "code",
   "execution_count": 183,
   "id": "649c2ae9",
   "metadata": {},
   "outputs": [
    {
     "name": "stdout",
     "output_type": "stream",
     "text": [
      "['Python', 'It', 'Many', 'Python', 'I']\n"
     ]
    }
   ],
   "source": [
    "# Extract all capitalized words from a sentence\n",
    "text=\"Python is a powerful programming language. It is widely used for web development, data analysis, machine learning, and automation. Many developers prefer Python for its simplicity and readability. I\"\n",
    "pattern=re.compile(r\"\\b[A-Z][a-z]*\\b\")\n",
    "print(pattern.findall(text))\n"
   ]
  },
  {
   "cell_type": "code",
   "execution_count": null,
   "id": "53674d3b",
   "metadata": {},
   "outputs": [],
   "source": [
    "# Remove all HTML tags from a given string"
   ]
  },
  {
   "cell_type": "code",
   "execution_count": 184,
   "id": "0010bc07",
   "metadata": {},
   "outputs": [
    {
     "name": "stdout",
     "output_type": "stream",
     "text": [
      "['@TechGuru', '@InnovatorCo', '@DevCommunity']\n"
     ]
    }
   ],
   "source": [
    "# Extract words starting with @ (usernames in tweets)\n",
    "tweet=\"Had an amazing time at the conference today! Big thanks to @TechGuru for the insightful keynote, @InnovatorCo for hosting, and @DevCommunity for the awesome workshops.\"\n",
    "print(re.findall(r\"@[A-Za-z0-9_-]+\",tweet))"
   ]
  },
  {
   "cell_type": "code",
   "execution_count": null,
   "id": "71a0b9c4",
   "metadata": {},
   "outputs": [],
   "source": [
    "# Validate an email address format"
   ]
  },
  {
   "cell_type": "code",
   "execution_count": null,
   "id": "176bf0f5",
   "metadata": {},
   "outputs": [],
   "source": [
    "# Validate a URL format (starting with http/https)"
   ]
  },
  {
   "cell_type": "code",
   "execution_count": 185,
   "id": "eea384b7",
   "metadata": {},
   "outputs": [
    {
     "name": "stdout",
     "output_type": "stream",
     "text": [
      "[]\n"
     ]
    }
   ],
   "source": [
    "# Find all strings enclosed in double quotes\n",
    "para='During the meeting, Sarah said, \"We need to focus on customer satisfaction above all else.\" John quickly added, \"I agree, but we must also ensure that our product quality doesn\\'t suffer.\" As the conversation continued, Emily chimed in with, \"Innovation should be at the heart of everything we do.\" Everyone nodded in agreement, recognizing the importance of balancing both quality and innovation in their work.'\n",
    "pattern=re.compile(r\"\\b\\\"\\b\")\n",
    "print(pattern.findall(para))"
   ]
  },
  {
   "cell_type": "code",
   "execution_count": null,
   "id": "0e34e518",
   "metadata": {},
   "outputs": [],
   "source": [
    "# Replace all numbers in a string with #"
   ]
  },
  {
   "cell_type": "code",
   "execution_count": null,
   "id": "55249d4a",
   "metadata": {},
   "outputs": [],
   "source": [
    "# Extract domain names from email addresses"
   ]
  },
  {
   "cell_type": "code",
   "execution_count": null,
   "id": "e5812457",
   "metadata": {},
   "outputs": [],
   "source": [
    "# Find all time values in HH:MM format"
   ]
  },
  {
   "cell_type": "code",
   "execution_count": null,
   "id": "341be1ed",
   "metadata": {},
   "outputs": [],
   "source": [
    "# Extract all file extensions (e.g., .jpg, .pdf) from filenames"
   ]
  },
  {
   "cell_type": "code",
   "execution_count": null,
   "id": "ef160ee9",
   "metadata": {},
   "outputs": [],
   "source": [
    "# Check if a string starts with a capital letter and ends with a period"
   ]
  },
  {
   "cell_type": "code",
   "execution_count": null,
   "id": "b1460a9d",
   "metadata": {},
   "outputs": [],
   "source": [
    "# Match all numbers that are exactly 4 digits long"
   ]
  },
  {
   "cell_type": "code",
   "execution_count": null,
   "id": "310536ef",
   "metadata": {},
   "outputs": [],
   "source": [
    "# Extract text between parentheses"
   ]
  },
  {
   "cell_type": "code",
   "execution_count": null,
   "id": "c4019517",
   "metadata": {},
   "outputs": [],
   "source": [
    "# Split a paragraph into sentences using . as separator"
   ]
  },
  {
   "cell_type": "code",
   "execution_count": null,
   "id": "f5799f7a",
   "metadata": {},
   "outputs": [],
   "source": [
    "# Match all alphanumeric IDs (like EMP1234)"
   ]
  },
  {
   "cell_type": "code",
   "execution_count": null,
   "id": "3f636f39",
   "metadata": {},
   "outputs": [],
   "source": [
    "# Identify repeated words (like \"go go go\")"
   ]
  },
  {
   "cell_type": "code",
   "execution_count": null,
   "id": "1a04659d",
   "metadata": {},
   "outputs": [],
   "source": [
    "# Extract hashtags and mentions separately from a tweet"
   ]
  },
  {
   "cell_type": "code",
   "execution_count": null,
   "id": "1e15f2dc",
   "metadata": {},
   "outputs": [],
   "source": [
    "# Replace tabs with 4 spaces in a text"
   ]
  },
  {
   "cell_type": "code",
   "execution_count": null,
   "id": "8a62e7d3",
   "metadata": {},
   "outputs": [],
   "source": [
    "# Find IP addresses in a mixed string"
   ]
  },
  {
   "cell_type": "code",
   "execution_count": null,
   "id": "45ff425a",
   "metadata": {},
   "outputs": [],
   "source": [
    "# Extract country codes from international phone numbers like +91-1234567890"
   ]
  }
 ],
 "metadata": {
  "kernelspec": {
   "display_name": "Python 3",
   "language": "python",
   "name": "python3"
  },
  "language_info": {
   "codemirror_mode": {
    "name": "ipython",
    "version": 3
   },
   "file_extension": ".py",
   "mimetype": "text/x-python",
   "name": "python",
   "nbconvert_exporter": "python",
   "pygments_lexer": "ipython3",
   "version": "3.12.3"
  }
 },
 "nbformat": 4,
 "nbformat_minor": 5
}
