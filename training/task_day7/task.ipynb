{
 "cells": [
  {
   "cell_type": "code",
   "execution_count": 17,
   "id": "9a7e8b56",
   "metadata": {},
   "outputs": [
    {
     "name": "stdout",
     "output_type": "stream",
     "text": [
      "Python is awesome\n",
      "File handling is powerful\n",
      "Practice makes perfect\n",
      "\n"
     ]
    }
   ],
   "source": [
    "with open('data.txt','w') as w:\n",
    "    w.write('Python is awesome\\n')\n",
    "    w.write('File handling is powerful\\n')\n",
    "    w.write('Practice makes perfect\\n')\n",
    "\n",
    "with open('data.txt','r') as r:\n",
    "    print(r.read())"
   ]
  },
  {
   "cell_type": "code",
   "execution_count": 18,
   "id": "0bc6acc4",
   "metadata": {},
   "outputs": [
    {
     "name": "stdout",
     "output_type": "stream",
     "text": [
      "10\n"
     ]
    }
   ],
   "source": [
    "with open('data.txt','r') as r:\n",
    "    print(len(r.read().split()))\n",
    "    "
   ]
  },
  {
   "cell_type": "code",
   "execution_count": 19,
   "id": "f9a9897b",
   "metadata": {},
   "outputs": [
    {
     "name": "stdout",
     "output_type": "stream",
     "text": [
      "word = is\n",
      "\n",
      "Python is awesome\n",
      "\n",
      "File handling is powerful\n",
      "\n"
     ]
    }
   ],
   "source": [
    "with open('data.txt','r') as r:\n",
    "    list=r.readlines()\n",
    "    a=input()\n",
    "    print(f'word = {a}\\n')\n",
    "    for i in list:\n",
    "        if a in i:\n",
    "            print(i)\n"
   ]
  },
  {
   "cell_type": "code",
   "execution_count": 20,
   "id": "109293a6",
   "metadata": {},
   "outputs": [],
   "source": [
    "with open('data.txt','r') as r,open('copy.txt','w') as w:\n",
    "    list=r.read()\n",
    "    w.write(list)\n",
    "\n"
   ]
  },
  {
   "cell_type": "code",
   "execution_count": 21,
   "id": "035674a9",
   "metadata": {},
   "outputs": [],
   "source": [
    "with open('data.txt','a') as a:\n",
    "    a.write('new line is added\\n')"
   ]
  },
  {
   "cell_type": "code",
   "execution_count": 22,
   "id": "2f0723f9",
   "metadata": {},
   "outputs": [
    {
     "name": "stdout",
     "output_type": "stream",
     "text": [
      "\n",
      "emosewa si nohtyP\n",
      "\n",
      "lufrewop si gnildnah eliF\n",
      "\n",
      "tcefrep sekam ecitcarP\n",
      "\n",
      "dedda si enil wen\n"
     ]
    }
   ],
   "source": [
    "with open('data.txt','r') as r:\n",
    "    list=r.readlines()\n",
    "    for i in list:\n",
    "        print(i[::-1])"
   ]
  },
  {
   "cell_type": "code",
   "execution_count": null,
   "id": "39098807",
   "metadata": {},
   "outputs": [],
   "source": []
  }
 ],
 "metadata": {
  "kernelspec": {
   "display_name": "Python 3",
   "language": "python",
   "name": "python3"
  },
  "language_info": {
   "codemirror_mode": {
    "name": "ipython",
    "version": 3
   },
   "file_extension": ".py",
   "mimetype": "text/x-python",
   "name": "python",
   "nbconvert_exporter": "python",
   "pygments_lexer": "ipython3",
   "version": "3.12.3"
  }
 },
 "nbformat": 4,
 "nbformat_minor": 5
}
