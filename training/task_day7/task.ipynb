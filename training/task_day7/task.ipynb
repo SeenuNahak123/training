{
 "cells": [
  {
   "cell_type": "markdown",
   "id": "1de506bd",
   "metadata": {},
   "source": [
    "Text File"
   ]
  },
  {
   "cell_type": "code",
   "execution_count": 27,
   "id": "9a7e8b56",
   "metadata": {},
   "outputs": [
    {
     "name": "stdout",
     "output_type": "stream",
     "text": [
      "Python is awesome\n",
      "File handling is powerful\n",
      "Practice makes perfect\n",
      "\n"
     ]
    }
   ],
   "source": [
    "with open('data.txt','w') as w:\n",
    "    w.write('Python is awesome\\n')\n",
    "    w.write('File handling is powerful\\n')\n",
    "    w.write('Practice makes perfect\\n')\n",
    "\n",
    "with open('data.txt','r') as r:\n",
    "    print(r.read())"
   ]
  },
  {
   "cell_type": "code",
   "execution_count": 28,
   "id": "0bc6acc4",
   "metadata": {},
   "outputs": [
    {
     "name": "stdout",
     "output_type": "stream",
     "text": [
      "10\n"
     ]
    }
   ],
   "source": [
    "with open('data.txt','r') as r:\n",
    "    print(len(r.read().split()))\n",
    "    "
   ]
  },
  {
   "cell_type": "code",
   "execution_count": 29,
   "id": "f9a9897b",
   "metadata": {},
   "outputs": [
    {
     "ename": "KeyboardInterrupt",
     "evalue": "Interrupted by user",
     "output_type": "error",
     "traceback": [
      "\u001b[31m---------------------------------------------------------------------------\u001b[39m",
      "\u001b[31mKeyboardInterrupt\u001b[39m                         Traceback (most recent call last)",
      "\u001b[36mCell\u001b[39m\u001b[36m \u001b[39m\u001b[32mIn[29]\u001b[39m\u001b[32m, line 3\u001b[39m\n\u001b[32m      1\u001b[39m \u001b[38;5;28;01mwith\u001b[39;00m \u001b[38;5;28mopen\u001b[39m(\u001b[33m'\u001b[39m\u001b[33mdata.txt\u001b[39m\u001b[33m'\u001b[39m,\u001b[33m'\u001b[39m\u001b[33mr\u001b[39m\u001b[33m'\u001b[39m) \u001b[38;5;28;01mas\u001b[39;00m r:\n\u001b[32m      2\u001b[39m     \u001b[38;5;28mlist\u001b[39m=r.readlines()\n\u001b[32m----> \u001b[39m\u001b[32m3\u001b[39m     a=\u001b[38;5;28;43minput\u001b[39;49m\u001b[43m(\u001b[49m\u001b[43m)\u001b[49m\n\u001b[32m      4\u001b[39m     \u001b[38;5;28mprint\u001b[39m(\u001b[33mf\u001b[39m\u001b[33m'\u001b[39m\u001b[33mword = \u001b[39m\u001b[38;5;132;01m{\u001b[39;00ma\u001b[38;5;132;01m}\u001b[39;00m\u001b[38;5;130;01m\\n\u001b[39;00m\u001b[33m'\u001b[39m)\n\u001b[32m      5\u001b[39m     \u001b[38;5;28;01mfor\u001b[39;00m i \u001b[38;5;129;01min\u001b[39;00m \u001b[38;5;28mlist\u001b[39m:\n",
      "\u001b[36mFile \u001b[39m\u001b[32m~\\AppData\\Roaming\\Python\\Python312\\site-packages\\ipykernel\\kernelbase.py:1282\u001b[39m, in \u001b[36mKernel.raw_input\u001b[39m\u001b[34m(self, prompt)\u001b[39m\n\u001b[32m   1280\u001b[39m     msg = \u001b[33m\"\u001b[39m\u001b[33mraw_input was called, but this frontend does not support input requests.\u001b[39m\u001b[33m\"\u001b[39m\n\u001b[32m   1281\u001b[39m     \u001b[38;5;28;01mraise\u001b[39;00m StdinNotImplementedError(msg)\n\u001b[32m-> \u001b[39m\u001b[32m1282\u001b[39m \u001b[38;5;28;01mreturn\u001b[39;00m \u001b[38;5;28;43mself\u001b[39;49m\u001b[43m.\u001b[49m\u001b[43m_input_request\u001b[49m\u001b[43m(\u001b[49m\n\u001b[32m   1283\u001b[39m \u001b[43m    \u001b[49m\u001b[38;5;28;43mstr\u001b[39;49m\u001b[43m(\u001b[49m\u001b[43mprompt\u001b[49m\u001b[43m)\u001b[49m\u001b[43m,\u001b[49m\n\u001b[32m   1284\u001b[39m \u001b[43m    \u001b[49m\u001b[38;5;28;43mself\u001b[39;49m\u001b[43m.\u001b[49m\u001b[43m_parent_ident\u001b[49m\u001b[43m[\u001b[49m\u001b[33;43m\"\u001b[39;49m\u001b[33;43mshell\u001b[39;49m\u001b[33;43m\"\u001b[39;49m\u001b[43m]\u001b[49m\u001b[43m,\u001b[49m\n\u001b[32m   1285\u001b[39m \u001b[43m    \u001b[49m\u001b[38;5;28;43mself\u001b[39;49m\u001b[43m.\u001b[49m\u001b[43mget_parent\u001b[49m\u001b[43m(\u001b[49m\u001b[33;43m\"\u001b[39;49m\u001b[33;43mshell\u001b[39;49m\u001b[33;43m\"\u001b[39;49m\u001b[43m)\u001b[49m\u001b[43m,\u001b[49m\n\u001b[32m   1286\u001b[39m \u001b[43m    \u001b[49m\u001b[43mpassword\u001b[49m\u001b[43m=\u001b[49m\u001b[38;5;28;43;01mFalse\u001b[39;49;00m\u001b[43m,\u001b[49m\n\u001b[32m   1287\u001b[39m \u001b[43m\u001b[49m\u001b[43m)\u001b[49m\n",
      "\u001b[36mFile \u001b[39m\u001b[32m~\\AppData\\Roaming\\Python\\Python312\\site-packages\\ipykernel\\kernelbase.py:1325\u001b[39m, in \u001b[36mKernel._input_request\u001b[39m\u001b[34m(self, prompt, ident, parent, password)\u001b[39m\n\u001b[32m   1322\u001b[39m \u001b[38;5;28;01mexcept\u001b[39;00m \u001b[38;5;167;01mKeyboardInterrupt\u001b[39;00m:\n\u001b[32m   1323\u001b[39m     \u001b[38;5;66;03m# re-raise KeyboardInterrupt, to truncate traceback\u001b[39;00m\n\u001b[32m   1324\u001b[39m     msg = \u001b[33m\"\u001b[39m\u001b[33mInterrupted by user\u001b[39m\u001b[33m\"\u001b[39m\n\u001b[32m-> \u001b[39m\u001b[32m1325\u001b[39m     \u001b[38;5;28;01mraise\u001b[39;00m \u001b[38;5;167;01mKeyboardInterrupt\u001b[39;00m(msg) \u001b[38;5;28;01mfrom\u001b[39;00m\u001b[38;5;250m \u001b[39m\u001b[38;5;28;01mNone\u001b[39;00m\n\u001b[32m   1326\u001b[39m \u001b[38;5;28;01mexcept\u001b[39;00m \u001b[38;5;167;01mException\u001b[39;00m:\n\u001b[32m   1327\u001b[39m     \u001b[38;5;28mself\u001b[39m.log.warning(\u001b[33m\"\u001b[39m\u001b[33mInvalid Message:\u001b[39m\u001b[33m\"\u001b[39m, exc_info=\u001b[38;5;28;01mTrue\u001b[39;00m)\n",
      "\u001b[31mKeyboardInterrupt\u001b[39m: Interrupted by user"
     ]
    }
   ],
   "source": [
    "with open('data.txt','r') as r:\n",
    "    list=r.readlines()\n",
    "    a=input()\n",
    "    print(f'word = {a}\\n')\n",
    "    for i in list:\n",
    "        if a in i:\n",
    "            print(i)\n"
   ]
  },
  {
   "cell_type": "code",
   "execution_count": null,
   "id": "109293a6",
   "metadata": {},
   "outputs": [],
   "source": [
    "with open('data.txt','r') as r,open('copy.txt','w') as w:\n",
    "    list=r.read()\n",
    "    w.write(list)\n",
    "\n"
   ]
  },
  {
   "cell_type": "code",
   "execution_count": null,
   "id": "035674a9",
   "metadata": {},
   "outputs": [],
   "source": [
    "with open('data.txt','a') as a:\n",
    "    a.write('new line is added\\n')"
   ]
  },
  {
   "cell_type": "code",
   "execution_count": null,
   "id": "2f0723f9",
   "metadata": {},
   "outputs": [
    {
     "name": "stdout",
     "output_type": "stream",
     "text": [
      "\n",
      "emosewa si nohtyP\n",
      "\n",
      "lufrewop si gnildnah eliF\n",
      "\n",
      "tcefrep sekam ecitcarP\n",
      "\n",
      "dedda si enil wen\n"
     ]
    }
   ],
   "source": [
    "with open('data.txt','r') as r:\n",
    "    list=r.readlines()\n",
    "    for i in list:\n",
    "        print(i[::-1])"
   ]
  },
  {
   "cell_type": "code",
   "execution_count": null,
   "id": "39098807",
   "metadata": {},
   "outputs": [],
   "source": [
    "import random,string\n",
    "with open('random.txt','w') as w:\n",
    "    for i in range(100):\n",
    "        a=random.randrange(0,100)\n",
    "        w.write(f\"{a}\\n\")"
   ]
  },
  {
   "cell_type": "code",
   "execution_count": null,
   "id": "90748cd1",
   "metadata": {},
   "outputs": [
    {
     "name": "stdout",
     "output_type": "stream",
     "text": [
      "4651\n"
     ]
    }
   ],
   "source": [
    "from functools import reduce\n",
    "with open('random.txt','r') as r:\n",
    "    li=list(map(int,r.readlines()))\n",
    "print(reduce(lambda a,b:a+b,li))"
   ]
  },
  {
   "cell_type": "code",
   "execution_count": null,
   "id": "5c8232b9",
   "metadata": {},
   "outputs": [],
   "source": [
    "with open('data.txt','r') as r:\n",
    "    li=list(r.readlines())\n",
    "with open('data.txt','w') as w:\n",
    "    for i in  range(len(li)):\n",
    "        w.write(f\"{i+1}: {li[i]}\")\n",
    "        "
   ]
  },
  {
   "cell_type": "code",
   "execution_count": null,
   "id": "38cdcdb1",
   "metadata": {},
   "outputs": [
    {
     "name": "stdout",
     "output_type": "stream",
     "text": [
      "{'Python': 1, 'is': 2, 'awesome': 1, 'File': 1, 'handling': 1, 'powerful': 1, 'Practice': 1, 'makes': 1, 'perfect': 1}\n"
     ]
    }
   ],
   "source": [
    "with open('copy.txt','r') as r:\n",
    "    li=list(r.read().split())\n",
    "print({i:li.count(i) for i in li})"
   ]
  },
  {
   "cell_type": "code",
   "execution_count": null,
   "id": "9f454b5e",
   "metadata": {},
   "outputs": [
    {
     "name": "stdout",
     "output_type": "stream",
     "text": [
      "11\n",
      "hello abc\n",
      "hello xyz\n",
      "\n"
     ]
    }
   ],
   "source": [
    "f=open('demo1.txt','a+')  \n",
    "f.write('hello abc\\n')\n",
    "print(f.tell())\n",
    "f.write('hello xyz\\n')\n",
    "f.seek(0)\n",
    "print(f.read())\n",
    "f.close()"
   ]
  },
  {
   "cell_type": "markdown",
   "id": "f99c566f",
   "metadata": {},
   "source": [
    "JSON File"
   ]
  },
  {
   "cell_type": "code",
   "execution_count": 30,
   "id": "edeb2aa7",
   "metadata": {},
   "outputs": [],
   "source": [
    "import json"
   ]
  },
  {
   "cell_type": "code",
   "execution_count": 33,
   "id": "177725f8",
   "metadata": {},
   "outputs": [],
   "source": [
    "#  Write a Dictionary to a JSON File\n",
    "# Task:\n",
    "# Create a Python dictionary and write it to a file called data.json.\n",
    "\n",
    "import json\n",
    "\n",
    "a={\"Name\":\"Seenu\",\n",
    "   \"Age\": 24,\n",
    "   \"Job\":\"IT\"}\n",
    "\n",
    "with open('data.json','w') as w:\n",
    "    json.dump(a,w,indent=4)"
   ]
  },
  {
   "cell_type": "code",
   "execution_count": 39,
   "id": "30d8ef27",
   "metadata": {},
   "outputs": [
    {
     "name": "stdout",
     "output_type": "stream",
     "text": [
      "Name:Seenu\n",
      "Age:24\n",
      "Job:IT\n"
     ]
    }
   ],
   "source": [
    "# Read JSON Data from a File\n",
    "# Task:\n",
    "# Read the JSON data from data.json and print each key-value pair.\n",
    "\n",
    "\n",
    "with open('data.json','r') as r:\n",
    "    d=json.load(r)\n",
    "for i in d:\n",
    "    print(f\"{i}:{d[i]}\")"
   ]
  },
  {
   "cell_type": "code",
   "execution_count": 42,
   "id": "9b7b6539",
   "metadata": {},
   "outputs": [],
   "source": [
    "# Update JSON Data in a File\n",
    "# Task:\n",
    "# Add a new key \"location\": \"Bangalore\" to the existing JSON data and write it back to the same file.\n",
    "with open('data.json','r') as r:\n",
    "    d=json.load(r)\n",
    "d[\"location\"]=\"bangalore\"\n",
    "with open('data.json','w') as w:\n",
    "    json.dump(d,w,indent=4)"
   ]
  },
  {
   "cell_type": "code",
   "execution_count": 44,
   "id": "d2f793ca",
   "metadata": {},
   "outputs": [
    {
     "name": "stdout",
     "output_type": "stream",
     "text": [
      "{\"Name\": \"Seenu\", \"Age\": 24, \"Job\": \"IT\", \"location\": \"bangalore\"} <class 'str'>\n",
      "{'Name': 'Seenu', 'Age': 24, 'Job': 'IT', 'location': 'bangalore'} <class 'dict'>\n"
     ]
    }
   ],
   "source": [
    "# Convert JSON to Python Object and Back\n",
    "# Task:\n",
    "# Convert a JSON string into a Python dictionary and then back into a JSON string.\n",
    "with open('data.json','r') as r:\n",
    "    d=json.load(r)\n",
    "    \n",
    "j_obj=json.dumps(d)                 \n",
    "p_obj=json.loads(j_obj)             \n",
    "\n",
    "\n",
    "print(j_obj,type(j_obj))\n",
    "print(p_obj,type(p_obj))"
   ]
  },
  {
   "cell_type": "code",
   "execution_count": 7,
   "id": "b500e7a0",
   "metadata": {},
   "outputs": [
    {
     "name": "stdout",
     "output_type": "stream",
     "text": [
      "{'p1': {'Name': 'abc', 'School': 'AAA', 'Address': 'chennai', 'Age': 12, 'Phone': 123456789}, 'p2': {'Name': 'xyz', 'School': 'BBB', 'Address': 'Mumbai', 'Age': 12, 'Phone': 987654321}}\n"
     ]
    }
   ],
   "source": [
    "# Work with Nested JSON\n",
    "# Task:\n",
    "# Read a file with nested JSON\n",
    "# Write a nested JSON file\n",
    "import json\n",
    "d={'p1':{'Name':'abc',\n",
    "   'School':'AAA',\n",
    "   'Address':'chennai',\n",
    "   'Age':12,\n",
    "   'Phone':123456789},\n",
    "   'p2':{'Name':'xyz',\n",
    "   'School':'BBB',\n",
    "   'Address':'Mumbai',\n",
    "   'Age':12,\n",
    "   'Phone':987654321\n",
    "   }}\n",
    "\n",
    "with open('nest.json','w') as r:\n",
    "    json.dump(d,r,indent=4)\n",
    "with open('nest.json','r') as r:  \n",
    "    d=json.load(r) \n",
    "print(d)\n",
    "\n",
    "\n"
   ]
  },
  {
   "cell_type": "code",
   "execution_count": null,
   "id": "96f379b6",
   "metadata": {},
   "outputs": [],
   "source": [
    "# Merge Two JSON Files\n",
    "# Task:\n",
    "# Load two JSON files and merge their contents into a new file.\n",
    "\n",
    "with open('nest.json','r') as r:  \n",
    "    d1=json.load(r) \n",
    "with open('data.json','r') as r:  \n",
    "    d2=json.load(r) \n",
    "merged_data = {**d1, 'p3':{**d2}}\n",
    "\n",
    "with open('merge.json','w') as r:\n",
    "    json.dump(merged_data,r,indent=4)"
   ]
  },
  {
   "cell_type": "code",
   "execution_count": 20,
   "id": "36cce86f",
   "metadata": {},
   "outputs": [
    {
     "name": "stdout",
     "output_type": "stream",
     "text": [
      "{'p1': {'Name': 'abc', 'School': 'AAA', 'Address': 'chennai', 'Age': 12, 'Phone': 123456789}, 'p2': {'Name': 'xyz', 'School': 'BBB', 'Address': 'Mumbai', 'Age': 12, 'Phone': 987654321}, 'p3': {'Name': 'Seenu', 'Age': 24, 'Job': 'IT', 'location': 'bangalore'}}\n"
     ]
    }
   ],
   "source": [
    "# Count Entries(items) in a JSON Array\n",
    "with open('merge.json','r') as r:  \n",
    "    d2=json.load(r) \n",
    "print(d2)"
   ]
  },
  {
   "cell_type": "code",
   "execution_count": null,
   "id": "96aab0ab",
   "metadata": {},
   "outputs": [
    {
     "name": "stdout",
     "output_type": "stream",
     "text": [
      "{'Name': 'Seenu', 'Age': 24, 'Job': 'IT', 'location': 'bangalore'}\n"
     ]
    },
    {
     "ename": "TypeError",
     "evalue": "dict.popitem() takes no arguments (1 given)",
     "output_type": "error",
     "traceback": [
      "\u001b[31m---------------------------------------------------------------------------\u001b[39m",
      "\u001b[31mTypeError\u001b[39m                                 Traceback (most recent call last)",
      "\u001b[36mCell\u001b[39m\u001b[36m \u001b[39m\u001b[32mIn[21]\u001b[39m\u001b[32m, line 7\u001b[39m\n\u001b[32m      5\u001b[39m     d2=json.load(r) \n\u001b[32m      6\u001b[39m \u001b[38;5;28mprint\u001b[39m(d2)\n\u001b[32m----> \u001b[39m\u001b[32m7\u001b[39m \u001b[43md2\u001b[49m\u001b[43m.\u001b[49m\u001b[43mpopitem\u001b[49m\u001b[43m(\u001b[49m\u001b[33;43m'\u001b[39;49m\u001b[33;43mkey\u001b[39;49m\u001b[33;43m'\u001b[39;49m\u001b[43m)\u001b[49m\n",
      "\u001b[31mTypeError\u001b[39m: dict.popitem() takes no arguments (1 given)"
     ]
    }
   ],
   "source": [
    "# Remove a Key from JSON File\n",
    "# Task:\n",
    "# Remove the key \"age\" from the JSON file if it exists.\n",
    "with open('data.json','r') as r:  \n",
    "    d2=json.load(r) \n",
    "print(d2)"
   ]
  },
  {
   "cell_type": "code",
   "execution_count": null,
   "id": "856eb8d5",
   "metadata": {},
   "outputs": [],
   "source": [
    "# Flatten a Nested JSON\n",
    "# Task:\n",
    "# Write a function to flatten a nested dictionary. For example:\n",
    "\n",
    "# {\n",
    "#   \"user\": {\n",
    "#     \"name\": \"Alice\",\n",
    "#     \"address\": {\n",
    "#       \"city\": \"Mumbai\",\n",
    "#       \"pin\": 400001\n",
    "#     }\n",
    "#   }\n",
    "# }\n",
    "# Should become:\n",
    "\n",
    "# {\n",
    "#   \"user.name\": \"Alice\",\n",
    "#   \"user.address.city\": \"Mumbai\",\n",
    "#   \"user.address.pin\": 400001\n",
    "# }"
   ]
  },
  {
   "cell_type": "markdown",
   "id": "0054d90b",
   "metadata": {},
   "source": [
    "CSV"
   ]
  },
  {
   "cell_type": "code",
   "execution_count": null,
   "id": "371fe108",
   "metadata": {},
   "outputs": [],
   "source": [
    "# 1. Write a List of Dictionaries to CSV\n",
    "# Task:\n",
    "# Given:\n",
    "\n",
    "# users = [\n",
    "#     {\"name\": \"Alice\", \"age\": 25},\n",
    "#     {\"name\": \"Bob\", \"age\": 30},\n",
    "# ]\n",
    "# Write this to a CSV file with headers name and age."
   ]
  },
  {
   "cell_type": "code",
   "execution_count": null,
   "id": "f4c84943",
   "metadata": {},
   "outputs": [],
   "source": [
    "# 2. Read a CSV File and Print Each Row\n",
    "# Task:\n",
    "# Read the CSV created above and print each row in a readable format."
   ]
  },
  {
   "cell_type": "code",
   "execution_count": null,
   "id": "2d710161",
   "metadata": {},
   "outputs": [],
   "source": [
    "# 3. Filter Rows Based on a Condition\n",
    "# Task:\n",
    "# From a CSV file with student scores, filter and print only those who scored above 75."
   ]
  },
  {
   "cell_type": "code",
   "execution_count": null,
   "id": "f929d8fa",
   "metadata": {},
   "outputs": [],
   "source": [
    "# 4. Count Total Rows and Columns\n",
    "# Task:\n",
    "# Read a CSV and print:\n",
    "\n",
    "# Total number of rows (excluding header)\n",
    "# Total number of columns"
   ]
  },
  {
   "cell_type": "code",
   "execution_count": null,
   "id": "9bcd9a91",
   "metadata": {},
   "outputs": [],
   "source": [
    "# 5. Append a New Row to an Existing CSV File"
   ]
  },
  {
   "cell_type": "code",
   "execution_count": null,
   "id": "23b319a4",
   "metadata": {},
   "outputs": [],
   "source": [
    "# 6. Convert CSV to JSON"
   ]
  },
  {
   "cell_type": "code",
   "execution_count": null,
   "id": "862789d7",
   "metadata": {},
   "outputs": [],
   "source": [
    "# 7. Summarize Numeric Columns\n",
    "# Task:\n",
    "# Given a CSV file with sales data (e.g., price, quantity), calculate:\n",
    "# Total sales (price * quantity)\n",
    "# Average sale amount\n"
   ]
  },
  {
   "cell_type": "code",
   "execution_count": null,
   "id": "c1d0b43e",
   "metadata": {},
   "outputs": [],
   "source": [
    "# 8. Update a Specific Cell in CSV\n",
    "# Task:\n",
    "# Read a CSV file, change the value of a specific cell (e.g., Bob’s age to 35), and write it back."
   ]
  },
  {
   "cell_type": "code",
   "execution_count": null,
   "id": "04885b2c",
   "metadata": {},
   "outputs": [],
   "source": [
    "# 9. Sort CSV Rows\n",
    "# Task:\n",
    "# Sort a CSV file by a specific column (e.g., age or name) and write the sorted data to a new file."
   ]
  },
  {
   "cell_type": "code",
   "execution_count": null,
   "id": "aa0717cc",
   "metadata": {},
   "outputs": [],
   "source": [
    "# 10.Write List of Dicts to CSV Using DictWriter\n",
    "# Task:\n",
    "# Given:\n",
    "# data = [\n",
    "#     {\"product\": \"Pen\", \"price\": 10},\n",
    "#     {\"product\": \"Notebook\", \"price\": 40},\n",
    "# ]\n",
    "# Write this to a file called products.csv.\n"
   ]
  },
  {
   "cell_type": "markdown",
   "id": "a3dbbb1b",
   "metadata": {},
   "source": [
    "YAML"
   ]
  },
  {
   "cell_type": "code",
   "execution_count": null,
   "id": "fbc925ba",
   "metadata": {},
   "outputs": [],
   "source": [
    "# 1. Read and Print YAML Content\n",
    "\n",
    "import yaml\n",
    "with open('data.yaml','w') as w:\n",
    "    "
   ]
  },
  {
   "cell_type": "code",
   "execution_count": null,
   "id": "e964c860",
   "metadata": {},
   "outputs": [],
   "source": [
    "# 2. Modify and Write Back YAML Data\n",
    "# Task:\n",
    "# Update the data inside and write the changes back to the same file."
   ]
  },
  {
   "cell_type": "code",
   "execution_count": null,
   "id": "85f97dee",
   "metadata": {},
   "outputs": [],
   "source": [
    "# 3. Convert YAML to JSON\n",
    "# Task:\n",
    "# Read a YAML file and convert its contents to a JSON file."
   ]
  },
  {
   "cell_type": "code",
   "execution_count": null,
   "id": "0189fef1",
   "metadata": {},
   "outputs": [],
   "source": [
    "# 4. Merge Two YAML Files"
   ]
  }
 ],
 "metadata": {
  "kernelspec": {
   "display_name": "Python 3",
   "language": "python",
   "name": "python3"
  },
  "language_info": {
   "codemirror_mode": {
    "name": "ipython",
    "version": 3
   },
   "file_extension": ".py",
   "mimetype": "text/x-python",
   "name": "python",
   "nbconvert_exporter": "python",
   "pygments_lexer": "ipython3",
   "version": "3.12.3"
  }
 },
 "nbformat": 4,
 "nbformat_minor": 5
}
